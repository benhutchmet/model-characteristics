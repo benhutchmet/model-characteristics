{
 "cells": [
  {
   "cell_type": "code",
   "execution_count": 1,
   "metadata": {},
   "outputs": [],
   "source": [
    "# Import local modules\n",
    "import sys\n",
    "import os\n",
    "import glob\n",
    "\n",
    "# Import third-party modules\n",
    "import numpy as np\n",
    "import pandas as pd\n",
    "import matplotlib.pyplot as plt\n",
    "import seaborn as sns\n",
    "import scipy.stats as stats\n",
    "import xarray as xr"
   ]
  },
  {
   "cell_type": "code",
   "execution_count": 2,
   "metadata": {},
   "outputs": [],
   "source": [
    "# sys append path for dictionaries and functions\n",
    "sys.path.append(\"/home/users/benhutch/model-characteristics\")\n",
    "\n",
    "# Import dictionaries and functions\n",
    "import dictionaries as dic\n",
    "import functions as fnc"
   ]
  },
  {
   "cell_type": "code",
   "execution_count": 3,
   "metadata": {},
   "outputs": [],
   "source": [
    "# Test the get institution function\n",
    "institution = fnc.get_institution(dic.models[11], dic.base_JASMIN_dir_cmip, dic.test_variable)"
   ]
  },
  {
   "cell_type": "code",
   "execution_count": 4,
   "metadata": {},
   "outputs": [],
   "source": [
    "# Check whether the experiment exists for a given model\n",
    "# in this case, the experiment is 'historical'\n",
    "experiment = fnc.check_experiment(dic.models[11], dic.base_JASMIN_dir_cmip, experiment=\"historical\")"
   ]
  },
  {
   "cell_type": "code",
   "execution_count": 5,
   "metadata": {},
   "outputs": [],
   "source": [
    "# Test the runs function\n",
    "runs = fnc.get_runs(dic.models[11], dic.base_JASMIN_dir_cmip, experiment=\"historical\")"
   ]
  },
  {
   "cell_type": "code",
   "execution_count": 6,
   "metadata": {},
   "outputs": [],
   "source": [
    "# Test the total ensemble members function\n",
    "no_members = fnc.get_total_ensemble_members(dic.models[11], dic.base_JASMIN_dir_cmip, experiment=\"historical\")"
   ]
  },
  {
   "cell_type": "code",
   "execution_count": 7,
   "metadata": {},
   "outputs": [
    {
     "name": "stdout",
     "output_type": "stream",
     "text": [
      "12\n"
     ]
    }
   ],
   "source": [
    "# table id\n",
    "\n",
    "print(len(dic.models))\n",
    "table_id  = fnc.get_table_id(dic.models[11], dic.base_JASMIN_dir_cmip, dic.experiment_hist, dic.table_id)"
   ]
  },
  {
   "cell_type": "code",
   "execution_count": 8,
   "metadata": {},
   "outputs": [
    {
     "name": "stdout",
     "output_type": "stream",
     "text": [
      "Not all runs are available for the variable\n",
      "Number of runs available for the runs directory:  30\n",
      "Number of runs available for the variable:  1\n"
     ]
    }
   ],
   "source": [
    "# test the varaible functions\n",
    "index = len(dic.models) - 1\n",
    "\n",
    "variable, no_members, members_list = fnc.get_variable(dic.models[11], dic.base_JASMIN_dir_cmip, dic.experiment_hist, dic.table_id, dic.test_variable)"
   ]
  },
  {
   "cell_type": "code",
   "execution_count": 9,
   "metadata": {},
   "outputs": [
    {
     "name": "stdout",
     "output_type": "stream",
     "text": [
      "Path:  /badc/cmip6/data/CMIP6/CMIP/*/BCC-CSM2-MR/historical/*r*i*p*f*/Amon/psl/g?/files/d*/\n"
     ]
    }
   ],
   "source": [
    "# Test the new function for getting the list of files in the final directory\n",
    "files_list = fnc.get_files(dic.models[0], dic.base_JASMIN_dir_cmip, dic.experiment_hist, dic.table_id, dic.test_variable)"
   ]
  },
  {
   "cell_type": "code",
   "execution_count": 10,
   "metadata": {},
   "outputs": [
    {
     "name": "stdout",
     "output_type": "stream",
     "text": [
      "Path:  /badc/cmip6/data/CMIP6/CMIP/*/BCC-CSM2-MR/historical/*r*i*p*f*/Amon/psl/g?/files/d*/\n",
      "1850-2014\n"
     ]
    }
   ],
   "source": [
    "# test the get_years function\n",
    "years_range = fnc.get_years(dic.models[0], dic.base_JASMIN_dir_cmip, dic.experiment_hist, dic.table_id, dic.test_variable)\n",
    "print(years_range)"
   ]
  },
  {
   "cell_type": "code",
   "execution_count": 11,
   "metadata": {
    "scrolled": true
   },
   "outputs": [],
   "source": [
    "# # # fill in the dataframes with the model characteristics\n",
    "# # # using the fill_dataframe function from functions.py\n",
    "# df = fnc.fill_dataframe(dic.historical_models, dic.base_JASMIN_dir_cmip, dic.variables, dic.columns, dic.experiment_hist, dic.table_id)\n",
    "# df"
   ]
  },
  {
   "cell_type": "code",
   "execution_count": 12,
   "metadata": {},
   "outputs": [],
   "source": [
    "# psl_df = df[df['variable'] == 'psl']\n",
    "# psl_df\n"
   ]
  },
  {
   "cell_type": "code",
   "execution_count": 13,
   "metadata": {},
   "outputs": [
    {
     "name": "stdout",
     "output_type": "stream",
     "text": [
      "BCC\n",
      "MPI-M\n",
      "CCCma\n",
      "CMCC\n",
      "MOHC\n",
      "EC-Earth-Consortium\n",
      "Model not available\n",
      "None\n",
      "Model not available\n",
      "None\n",
      "MIROC\n",
      "IPSL\n",
      "Model not available\n",
      "None\n"
     ]
    }
   ],
   "source": [
    "# Now test again with DCPP-A data\n",
    "for i in range(index):\n",
    "    institution = fnc.get_institution(dic.models[i], dic.base_JASMIN_dir_dcpp, dic.test_variable)\n",
    "    print(institution)"
   ]
  },
  {
   "cell_type": "code",
   "execution_count": 14,
   "metadata": {},
   "outputs": [
    {
     "name": "stdout",
     "output_type": "stream",
     "text": [
      "dcppA-hindcast\n",
      "dcppA-hindcast\n",
      "dcppA-hindcast\n",
      "dcppA-hindcast\n",
      "dcppA-hindcast\n",
      "dcppA-hindcast\n",
      "None\n",
      "None\n",
      "dcppA-hindcast\n",
      "dcppA-hindcast\n",
      "None\n"
     ]
    }
   ],
   "source": [
    "# Check whether the experiment exists for dcppA-hindcast\n",
    "for i in range(index):\n",
    "    experiment = fnc.check_experiment(dic.models[i], dic.base_JASMIN_dir_dcpp, dic.experiment_dccp)\n",
    "    print(experiment)"
   ]
  },
  {
   "cell_type": "code",
   "execution_count": 15,
   "metadata": {},
   "outputs": [
    {
     "name": "stdout",
     "output_type": "stream",
     "text": [
      "runs:  8\n",
      "inits:  1\n",
      "physics:  1\n",
      "forcing:  1\n",
      "total_ensemble_members:  432\n",
      "runs:  10\n",
      "inits:  1\n",
      "physics:  1\n",
      "forcing:  1\n",
      "total_ensemble_members:  595\n",
      "runs:  40\n",
      "inits:  1\n",
      "physics:  1\n",
      "forcing:  1\n",
      "total_ensemble_members:  2400\n",
      "runs:  10\n",
      "inits:  1\n",
      "physics:  1\n",
      "forcing:  1\n",
      "total_ensemble_members:  600\n",
      "runs:  10\n",
      "inits:  1\n",
      "physics:  1\n",
      "forcing:  1\n",
      "total_ensemble_members:  590\n",
      "runs:  10\n",
      "inits:  3\n",
      "physics:  1\n",
      "forcing:  1\n",
      "total_ensemble_members:  934\n",
      "runs:  0\n",
      "inits:  0\n",
      "physics:  0\n",
      "forcing:  0\n",
      "total_ensemble_members:  0\n",
      "runs:  0\n",
      "inits:  0\n",
      "physics:  0\n",
      "forcing:  0\n",
      "total_ensemble_members:  0\n",
      "runs:  10\n",
      "inits:  1\n",
      "physics:  1\n",
      "forcing:  1\n",
      "total_ensemble_members:  620\n",
      "runs:  10\n",
      "inits:  1\n",
      "physics:  1\n",
      "forcing:  1\n",
      "total_ensemble_members:  570\n",
      "runs:  0\n",
      "inits:  0\n",
      "physics:  0\n",
      "forcing:  0\n",
      "total_ensemble_members:  0\n"
     ]
    }
   ],
   "source": [
    "# test the runs function with the updated syntax\n",
    "for i in range(index):\n",
    "    runs = fnc.get_runs(dic.models[i], dic.base_JASMIN_dir_dcpp, dic.experiment_dccp)\n",
    "    inits = fnc.get_inits(dic.models[i], dic.base_JASMIN_dir_dcpp, dic.experiment_dccp)\n",
    "    physics = fnc.get_physics(dic.models[i], dic.base_JASMIN_dir_dcpp, dic.experiment_dccp)\n",
    "    forcing = fnc.get_forcing(dic.models[i], dic.base_JASMIN_dir_dcpp, dic.experiment_dccp)\n",
    "    total_ensemble_members = fnc.get_total_ensemble_members(dic.models[i], dic.base_JASMIN_dir_dcpp, dic.experiment_dccp)\n",
    "\n",
    "    print(\"runs: \", runs)\n",
    "    print(\"inits: \", inits)\n",
    "    print(\"physics: \", physics)\n",
    "    print(\"forcing: \", forcing)\n",
    "    print(\"total_ensemble_members: \", total_ensemble_members)"
   ]
  },
  {
   "cell_type": "code",
   "execution_count": 16,
   "metadata": {},
   "outputs": [
    {
     "name": "stdout",
     "output_type": "stream",
     "text": [
      "BCC-CSM2-MR\n",
      "years_init_dirs:  ['s1961-r1i1p1f1', 's1961-r2i1p1f1', 's1961-r3i1p1f1', 's1961-r4i1p1f1', 's1961-r5i1p1f1', 's1961-r6i1p1f1', 's1961-r7i1p1f1', 's1961-r8i1p1f1', 's1962-r1i1p1f1', 's1962-r2i1p1f1', 's1962-r3i1p1f1', 's1962-r4i1p1f1', 's1962-r5i1p1f1', 's1962-r6i1p1f1', 's1962-r7i1p1f1', 's1962-r8i1p1f1', 's1963-r1i1p1f1', 's1963-r2i1p1f1', 's1963-r3i1p1f1', 's1963-r4i1p1f1', 's1963-r5i1p1f1', 's1963-r6i1p1f1', 's1963-r7i1p1f1', 's1963-r8i1p1f1', 's1964-r1i1p1f1', 's1964-r2i1p1f1', 's1964-r3i1p1f1', 's1964-r4i1p1f1', 's1964-r5i1p1f1', 's1964-r6i1p1f1', 's1964-r7i1p1f1', 's1964-r8i1p1f1', 's1965-r1i1p1f1', 's1965-r2i1p1f1', 's1965-r3i1p1f1', 's1965-r4i1p1f1', 's1965-r5i1p1f1', 's1965-r6i1p1f1', 's1965-r7i1p1f1', 's1965-r8i1p1f1', 's1966-r1i1p1f1', 's1966-r2i1p1f1', 's1966-r3i1p1f1', 's1966-r4i1p1f1', 's1966-r5i1p1f1', 's1966-r6i1p1f1', 's1966-r7i1p1f1', 's1966-r8i1p1f1', 's1967-r1i1p1f1', 's1967-r2i1p1f1', 's1967-r3i1p1f1', 's1967-r4i1p1f1', 's1967-r5i1p1f1', 's1967-r6i1p1f1', 's1967-r7i1p1f1', 's1967-r8i1p1f1', 's1968-r1i1p1f1', 's1968-r2i1p1f1', 's1968-r3i1p1f1', 's1968-r4i1p1f1', 's1968-r5i1p1f1', 's1968-r6i1p1f1', 's1968-r7i1p1f1', 's1968-r8i1p1f1', 's1969-r1i1p1f1', 's1969-r2i1p1f1', 's1969-r3i1p1f1', 's1969-r4i1p1f1', 's1969-r5i1p1f1', 's1969-r6i1p1f1', 's1969-r7i1p1f1', 's1969-r8i1p1f1', 's1970-r1i1p1f1', 's1970-r2i1p1f1', 's1970-r3i1p1f1', 's1970-r4i1p1f1', 's1970-r5i1p1f1', 's1970-r6i1p1f1', 's1970-r7i1p1f1', 's1970-r8i1p1f1', 's1971-r1i1p1f1', 's1971-r2i1p1f1', 's1971-r3i1p1f1', 's1971-r4i1p1f1', 's1971-r5i1p1f1', 's1971-r6i1p1f1', 's1971-r7i1p1f1', 's1971-r8i1p1f1', 's1972-r1i1p1f1', 's1972-r2i1p1f1', 's1972-r3i1p1f1', 's1972-r4i1p1f1', 's1972-r5i1p1f1', 's1972-r6i1p1f1', 's1972-r7i1p1f1', 's1972-r8i1p1f1', 's1973-r1i1p1f1', 's1973-r2i1p1f1', 's1973-r3i1p1f1', 's1973-r4i1p1f1', 's1973-r5i1p1f1', 's1973-r6i1p1f1', 's1973-r7i1p1f1', 's1973-r8i1p1f1', 's1974-r1i1p1f1', 's1974-r2i1p1f1', 's1974-r3i1p1f1', 's1974-r4i1p1f1', 's1974-r5i1p1f1', 's1974-r6i1p1f1', 's1974-r7i1p1f1', 's1974-r8i1p1f1', 's1975-r1i1p1f1', 's1975-r2i1p1f1', 's1975-r3i1p1f1', 's1975-r4i1p1f1', 's1975-r5i1p1f1', 's1975-r6i1p1f1', 's1975-r7i1p1f1', 's1975-r8i1p1f1', 's1976-r1i1p1f1', 's1976-r2i1p1f1', 's1976-r3i1p1f1', 's1976-r4i1p1f1', 's1976-r5i1p1f1', 's1976-r6i1p1f1', 's1976-r7i1p1f1', 's1976-r8i1p1f1', 's1977-r1i1p1f1', 's1977-r2i1p1f1', 's1977-r3i1p1f1', 's1977-r4i1p1f1', 's1977-r5i1p1f1', 's1977-r6i1p1f1', 's1977-r7i1p1f1', 's1977-r8i1p1f1', 's1978-r1i1p1f1', 's1978-r2i1p1f1', 's1978-r3i1p1f1', 's1978-r4i1p1f1', 's1978-r5i1p1f1', 's1978-r6i1p1f1', 's1978-r7i1p1f1', 's1978-r8i1p1f1', 's1979-r1i1p1f1', 's1979-r2i1p1f1', 's1979-r3i1p1f1', 's1979-r4i1p1f1', 's1979-r5i1p1f1', 's1979-r6i1p1f1', 's1979-r7i1p1f1', 's1979-r8i1p1f1', 's1980-r1i1p1f1', 's1980-r2i1p1f1', 's1980-r3i1p1f1', 's1980-r4i1p1f1', 's1980-r5i1p1f1', 's1980-r6i1p1f1', 's1980-r7i1p1f1', 's1980-r8i1p1f1', 's1981-r1i1p1f1', 's1981-r2i1p1f1', 's1981-r3i1p1f1', 's1981-r4i1p1f1', 's1981-r5i1p1f1', 's1981-r6i1p1f1', 's1981-r7i1p1f1', 's1981-r8i1p1f1', 's1982-r1i1p1f1', 's1982-r2i1p1f1', 's1982-r3i1p1f1', 's1982-r4i1p1f1', 's1982-r5i1p1f1', 's1982-r6i1p1f1', 's1982-r7i1p1f1', 's1982-r8i1p1f1', 's1983-r1i1p1f1', 's1983-r2i1p1f1', 's1983-r3i1p1f1', 's1983-r4i1p1f1', 's1983-r5i1p1f1', 's1983-r6i1p1f1', 's1983-r7i1p1f1', 's1983-r8i1p1f1', 's1984-r1i1p1f1', 's1984-r2i1p1f1', 's1984-r3i1p1f1', 's1984-r4i1p1f1', 's1984-r5i1p1f1', 's1984-r6i1p1f1', 's1984-r7i1p1f1', 's1984-r8i1p1f1', 's1985-r1i1p1f1', 's1985-r2i1p1f1', 's1985-r3i1p1f1', 's1985-r4i1p1f1', 's1985-r5i1p1f1', 's1985-r6i1p1f1', 's1985-r7i1p1f1', 's1985-r8i1p1f1', 's1986-r1i1p1f1', 's1986-r2i1p1f1', 's1986-r3i1p1f1', 's1986-r4i1p1f1', 's1986-r5i1p1f1', 's1986-r6i1p1f1', 's1986-r7i1p1f1', 's1986-r8i1p1f1', 's1987-r1i1p1f1', 's1987-r2i1p1f1', 's1987-r3i1p1f1', 's1987-r4i1p1f1', 's1987-r5i1p1f1', 's1987-r6i1p1f1', 's1987-r7i1p1f1', 's1987-r8i1p1f1', 's1988-r1i1p1f1', 's1988-r2i1p1f1', 's1988-r3i1p1f1', 's1988-r4i1p1f1', 's1988-r5i1p1f1', 's1988-r6i1p1f1', 's1988-r7i1p1f1', 's1988-r8i1p1f1', 's1989-r1i1p1f1', 's1989-r2i1p1f1', 's1989-r3i1p1f1', 's1989-r4i1p1f1', 's1989-r5i1p1f1', 's1989-r6i1p1f1', 's1989-r7i1p1f1', 's1989-r8i1p1f1', 's1990-r1i1p1f1', 's1990-r2i1p1f1', 's1990-r3i1p1f1', 's1990-r4i1p1f1', 's1990-r5i1p1f1', 's1990-r6i1p1f1', 's1990-r7i1p1f1', 's1990-r8i1p1f1', 's1991-r1i1p1f1', 's1991-r2i1p1f1', 's1991-r3i1p1f1', 's1991-r4i1p1f1', 's1991-r5i1p1f1', 's1991-r6i1p1f1', 's1991-r7i1p1f1', 's1991-r8i1p1f1', 's1992-r1i1p1f1', 's1992-r2i1p1f1', 's1992-r3i1p1f1', 's1992-r4i1p1f1', 's1992-r5i1p1f1', 's1992-r6i1p1f1', 's1992-r7i1p1f1', 's1992-r8i1p1f1', 's1993-r1i1p1f1', 's1993-r2i1p1f1', 's1993-r3i1p1f1', 's1993-r4i1p1f1', 's1993-r5i1p1f1', 's1993-r6i1p1f1', 's1993-r7i1p1f1', 's1993-r8i1p1f1', 's1994-r1i1p1f1', 's1994-r2i1p1f1', 's1994-r3i1p1f1', 's1994-r4i1p1f1', 's1994-r5i1p1f1', 's1994-r6i1p1f1', 's1994-r7i1p1f1', 's1994-r8i1p1f1', 's1995-r1i1p1f1', 's1995-r2i1p1f1', 's1995-r3i1p1f1', 's1995-r4i1p1f1', 's1995-r5i1p1f1', 's1995-r6i1p1f1', 's1995-r7i1p1f1', 's1995-r8i1p1f1', 's1996-r1i1p1f1', 's1996-r2i1p1f1', 's1996-r3i1p1f1', 's1996-r4i1p1f1', 's1996-r5i1p1f1', 's1996-r6i1p1f1', 's1996-r7i1p1f1', 's1996-r8i1p1f1', 's1997-r1i1p1f1', 's1997-r2i1p1f1', 's1997-r3i1p1f1', 's1997-r4i1p1f1', 's1997-r5i1p1f1', 's1997-r6i1p1f1', 's1997-r7i1p1f1', 's1997-r8i1p1f1', 's1998-r1i1p1f1', 's1998-r2i1p1f1', 's1998-r3i1p1f1', 's1998-r4i1p1f1', 's1998-r5i1p1f1', 's1998-r6i1p1f1', 's1998-r7i1p1f1', 's1998-r8i1p1f1', 's1999-r1i1p1f1', 's1999-r2i1p1f1', 's1999-r3i1p1f1', 's1999-r4i1p1f1', 's1999-r5i1p1f1', 's1999-r6i1p1f1', 's1999-r7i1p1f1', 's1999-r8i1p1f1', 's2000-r1i1p1f1', 's2000-r2i1p1f1', 's2000-r3i1p1f1', 's2000-r4i1p1f1', 's2000-r5i1p1f1', 's2000-r6i1p1f1', 's2000-r7i1p1f1', 's2000-r8i1p1f1', 's2001-r1i1p1f1', 's2001-r2i1p1f1', 's2001-r3i1p1f1', 's2001-r4i1p1f1', 's2001-r5i1p1f1', 's2001-r6i1p1f1', 's2001-r7i1p1f1', 's2001-r8i1p1f1', 's2002-r1i1p1f1', 's2002-r2i1p1f1', 's2002-r3i1p1f1', 's2002-r4i1p1f1', 's2002-r5i1p1f1', 's2002-r6i1p1f1', 's2002-r7i1p1f1', 's2002-r8i1p1f1', 's2003-r1i1p1f1', 's2003-r2i1p1f1', 's2003-r3i1p1f1', 's2003-r4i1p1f1', 's2003-r5i1p1f1', 's2003-r6i1p1f1', 's2003-r7i1p1f1', 's2003-r8i1p1f1', 's2004-r1i1p1f1', 's2004-r2i1p1f1', 's2004-r3i1p1f1', 's2004-r4i1p1f1', 's2004-r5i1p1f1', 's2004-r6i1p1f1', 's2004-r7i1p1f1', 's2004-r8i1p1f1', 's2005-r1i1p1f1', 's2005-r2i1p1f1', 's2005-r3i1p1f1', 's2005-r4i1p1f1', 's2005-r5i1p1f1', 's2005-r6i1p1f1', 's2005-r7i1p1f1', 's2005-r8i1p1f1', 's2006-r1i1p1f1', 's2006-r2i1p1f1', 's2006-r3i1p1f1', 's2006-r4i1p1f1', 's2006-r5i1p1f1', 's2006-r6i1p1f1', 's2006-r7i1p1f1', 's2006-r8i1p1f1', 's2007-r1i1p1f1', 's2007-r2i1p1f1', 's2007-r3i1p1f1', 's2007-r4i1p1f1', 's2007-r5i1p1f1', 's2007-r6i1p1f1', 's2007-r7i1p1f1', 's2007-r8i1p1f1', 's2008-r1i1p1f1', 's2008-r2i1p1f1', 's2008-r3i1p1f1', 's2008-r4i1p1f1', 's2008-r5i1p1f1', 's2008-r6i1p1f1', 's2008-r7i1p1f1', 's2008-r8i1p1f1', 's2009-r1i1p1f1', 's2009-r2i1p1f1', 's2009-r3i1p1f1', 's2009-r4i1p1f1', 's2009-r5i1p1f1', 's2009-r6i1p1f1', 's2009-r7i1p1f1', 's2009-r8i1p1f1', 's2010-r1i1p1f1', 's2010-r2i1p1f1', 's2010-r3i1p1f1', 's2010-r4i1p1f1', 's2010-r5i1p1f1', 's2010-r6i1p1f1', 's2010-r7i1p1f1', 's2010-r8i1p1f1', 's2011-r1i1p1f1', 's2011-r2i1p1f1', 's2011-r3i1p1f1', 's2011-r4i1p1f1', 's2011-r5i1p1f1', 's2011-r6i1p1f1', 's2011-r7i1p1f1', 's2011-r8i1p1f1', 's2012-r1i1p1f1', 's2012-r2i1p1f1', 's2012-r3i1p1f1', 's2012-r4i1p1f1', 's2012-r5i1p1f1', 's2012-r6i1p1f1', 's2012-r7i1p1f1', 's2012-r8i1p1f1', 's2013-r1i1p1f1', 's2013-r2i1p1f1', 's2013-r3i1p1f1', 's2013-r4i1p1f1', 's2013-r5i1p1f1', 's2013-r6i1p1f1', 's2013-r7i1p1f1', 's2013-r8i1p1f1', 's2014-r1i1p1f1', 's2014-r2i1p1f1', 's2014-r3i1p1f1', 's2014-r4i1p1f1', 's2014-r5i1p1f1', 's2014-r6i1p1f1', 's2014-r7i1p1f1', 's2014-r8i1p1f1']\n"
     ]
    },
    {
     "ename": "ValueError",
     "evalue": "invalid literal for int() with base 10: '1961-'",
     "output_type": "error",
     "traceback": [
      "\u001b[0;31m---------------------------------------------------------------------------\u001b[0m",
      "\u001b[0;31mValueError\u001b[0m                                Traceback (most recent call last)",
      "Input \u001b[0;32mIn [16]\u001b[0m, in \u001b[0;36m<cell line: 3>\u001b[0;34m()\u001b[0m\n\u001b[1;32m      3\u001b[0m \u001b[38;5;28;01mfor\u001b[39;00m model \u001b[38;5;129;01min\u001b[39;00m dic\u001b[38;5;241m.\u001b[39mmodels:\n\u001b[1;32m      4\u001b[0m     \u001b[38;5;28mprint\u001b[39m(model)\n\u001b[0;32m----> 5\u001b[0m     years_range \u001b[38;5;241m=\u001b[39m \u001b[43mfnc\u001b[49m\u001b[38;5;241;43m.\u001b[39;49m\u001b[43mget_years\u001b[49m\u001b[43m(\u001b[49m\u001b[43mmodel\u001b[49m\u001b[43m,\u001b[49m\u001b[43m \u001b[49m\u001b[43mdic\u001b[49m\u001b[38;5;241;43m.\u001b[39;49m\u001b[43mbase_JASMIN_dir_dcpp\u001b[49m\u001b[43m,\u001b[49m\u001b[43m \u001b[49m\u001b[43mdic\u001b[49m\u001b[38;5;241;43m.\u001b[39;49m\u001b[43mexperiment_dccp\u001b[49m\u001b[43m,\u001b[49m\u001b[43m \u001b[49m\u001b[43mdic\u001b[49m\u001b[38;5;241;43m.\u001b[39;49m\u001b[43mtable_id\u001b[49m\u001b[43m,\u001b[49m\u001b[43m \u001b[49m\u001b[43mdic\u001b[49m\u001b[38;5;241;43m.\u001b[39;49m\u001b[43mtest_variable\u001b[49m\u001b[43m)\u001b[49m\n\u001b[1;32m      6\u001b[0m     \u001b[38;5;28mprint\u001b[39m(years_range)\n",
      "File \u001b[0;32m~/model-characteristics/functions.py:274\u001b[0m, in \u001b[0;36mget_years\u001b[0;34m(model, base_path, experiment, table_id, variable)\u001b[0m\n\u001b[1;32m    271\u001b[0m years \u001b[38;5;241m=\u001b[39m [years_init_dirs\u001b[38;5;241m.\u001b[39msplit(\u001b[38;5;124m\"\u001b[39m\u001b[38;5;124ms\u001b[39m\u001b[38;5;124m\"\u001b[39m)[\u001b[38;5;241m1\u001b[39m]\u001b[38;5;241m.\u001b[39msplit(\u001b[38;5;124m\"\u001b[39m\u001b[38;5;124mr\u001b[39m\u001b[38;5;124m\"\u001b[39m)[\u001b[38;5;241m0\u001b[39m] \u001b[38;5;28;01mfor\u001b[39;00m years_init_dirs \u001b[38;5;129;01min\u001b[39;00m years_init_dirs]\n\u001b[1;32m    272\u001b[0m \u001b[38;5;66;03m# ensure that each element in the years list is an integer\u001b[39;00m\n\u001b[1;32m    273\u001b[0m \u001b[38;5;66;03m# currently 1960-\u001b[39;00m\n\u001b[0;32m--> 274\u001b[0m years \u001b[38;5;241m=\u001b[39m [\u001b[38;5;28mint\u001b[39m(years) \u001b[38;5;28;01mfor\u001b[39;00m years \u001b[38;5;129;01min\u001b[39;00m years]\n\u001b[1;32m    275\u001b[0m \u001b[38;5;28mprint\u001b[39m(\u001b[38;5;124m\"\u001b[39m\u001b[38;5;124myears: \u001b[39m\u001b[38;5;124m\"\u001b[39m, years)\n\u001b[1;32m    277\u001b[0m \u001b[38;5;66;03m# find the min and max years\u001b[39;00m\n",
      "File \u001b[0;32m~/model-characteristics/functions.py:274\u001b[0m, in \u001b[0;36m<listcomp>\u001b[0;34m(.0)\u001b[0m\n\u001b[1;32m    271\u001b[0m years \u001b[38;5;241m=\u001b[39m [years_init_dirs\u001b[38;5;241m.\u001b[39msplit(\u001b[38;5;124m\"\u001b[39m\u001b[38;5;124ms\u001b[39m\u001b[38;5;124m\"\u001b[39m)[\u001b[38;5;241m1\u001b[39m]\u001b[38;5;241m.\u001b[39msplit(\u001b[38;5;124m\"\u001b[39m\u001b[38;5;124mr\u001b[39m\u001b[38;5;124m\"\u001b[39m)[\u001b[38;5;241m0\u001b[39m] \u001b[38;5;28;01mfor\u001b[39;00m years_init_dirs \u001b[38;5;129;01min\u001b[39;00m years_init_dirs]\n\u001b[1;32m    272\u001b[0m \u001b[38;5;66;03m# ensure that each element in the years list is an integer\u001b[39;00m\n\u001b[1;32m    273\u001b[0m \u001b[38;5;66;03m# currently 1960-\u001b[39;00m\n\u001b[0;32m--> 274\u001b[0m years \u001b[38;5;241m=\u001b[39m [\u001b[38;5;28;43mint\u001b[39;49m\u001b[43m(\u001b[49m\u001b[43myears\u001b[49m\u001b[43m)\u001b[49m \u001b[38;5;28;01mfor\u001b[39;00m years \u001b[38;5;129;01min\u001b[39;00m years]\n\u001b[1;32m    275\u001b[0m \u001b[38;5;28mprint\u001b[39m(\u001b[38;5;124m\"\u001b[39m\u001b[38;5;124myears: \u001b[39m\u001b[38;5;124m\"\u001b[39m, years)\n\u001b[1;32m    277\u001b[0m \u001b[38;5;66;03m# find the min and max years\u001b[39;00m\n",
      "\u001b[0;31mValueError\u001b[0m: invalid literal for int() with base 10: '1961-'"
     ]
    }
   ],
   "source": [
    "# Test the years range function\n",
    "# for all the models\n",
    "for model in dic.models:\n",
    "    print(model)\n",
    "    years_range = fnc.get_years(model, dic.base_JASMIN_dir_dcpp, dic.experiment_dccp, dic.table_id, dic.test_variable)\n",
    "    print(years_range)"
   ]
  }
 ],
 "metadata": {
  "kernelspec": {
   "display_name": "bens-python-environment",
   "language": "python",
   "name": "bens-python-environment"
  },
  "language_info": {
   "codemirror_mode": {
    "name": "ipython",
    "version": 3
   },
   "file_extension": ".py",
   "mimetype": "text/x-python",
   "name": "python",
   "nbconvert_exporter": "python",
   "pygments_lexer": "ipython3",
   "version": "3.10.5"
  }
 },
 "nbformat": 4,
 "nbformat_minor": 4
}
