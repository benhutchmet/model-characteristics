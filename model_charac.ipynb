{
 "cells": [
  {
   "cell_type": "code",
   "execution_count": 1,
   "metadata": {},
   "outputs": [],
   "source": [
    "# Import local modules\n",
    "import sys\n",
    "import os\n",
    "import glob\n",
    "\n",
    "# Import third-party modules\n",
    "import numpy as np\n",
    "import pandas as pd\n",
    "import matplotlib.pyplot as plt\n",
    "import seaborn as sns\n",
    "import scipy.stats as stats\n",
    "import xarray as xr"
   ]
  },
  {
   "cell_type": "code",
   "execution_count": 2,
   "metadata": {},
   "outputs": [],
   "source": [
    "# sys append path for dictionaries and functions\n",
    "sys.path.append(\"/home/users/benhutch/model-characteristics\")\n",
    "\n",
    "# Import dictionaries and functions\n",
    "import dictionaries as dic\n",
    "import functions as fnc"
   ]
  },
  {
   "cell_type": "code",
   "execution_count": 3,
   "metadata": {},
   "outputs": [],
   "source": [
    "# Test the get institution function\n",
    "institution = fnc.get_institution(dic.models[11], dic.base_JASMIN_dir, dic.test_variable)"
   ]
  },
  {
   "cell_type": "code",
   "execution_count": 4,
   "metadata": {},
   "outputs": [],
   "source": [
    "# Check whether the experiment exists for a given model\n",
    "# in this case, the experiment is 'historical'\n",
    "experiment = fnc.check_experiment(dic.models[11], dic.base_JASMIN_dir, experiment=\"historical\")"
   ]
  },
  {
   "cell_type": "code",
   "execution_count": 5,
   "metadata": {},
   "outputs": [],
   "source": [
    "# Test the runs function\n",
    "runs = fnc.get_runs(dic.models[11], dic.base_JASMIN_dir, experiment=\"historical\")"
   ]
  },
  {
   "cell_type": "code",
   "execution_count": 6,
   "metadata": {},
   "outputs": [],
   "source": [
    "# Test the total ensemble members function\n",
    "no_members = fnc.get_total_ensemble_members(dic.models[11], dic.base_JASMIN_dir, experiment=\"historical\")"
   ]
  },
  {
   "cell_type": "code",
   "execution_count": 7,
   "metadata": {},
   "outputs": [
    {
     "name": "stdout",
     "output_type": "stream",
     "text": [
      "12\n"
     ]
    }
   ],
   "source": [
    "# table id\n",
    "\n",
    "print(len(dic.models))\n",
    "table_id  = fnc.get_table_id(dic.models[11], dic.base_JASMIN_dir, dic.experiment, dic.table_id)"
   ]
  },
  {
   "cell_type": "code",
   "execution_count": 8,
   "metadata": {},
   "outputs": [
    {
     "name": "stdout",
     "output_type": "stream",
     "text": [
      "Not all runs are available for the variable\n",
      "Number of runs available for the runs directory:  30\n",
      "Number of runs available for the variable:  1\n"
     ]
    }
   ],
   "source": [
    "# test the varaible functions\n",
    "index = len(dic.models) - 1\n",
    "\n",
    "variable, no_members, members_list = fnc.get_variable(dic.models[11], dic.base_JASMIN_dir, dic.experiment, dic.table_id, dic.test_variable)"
   ]
  },
  {
   "cell_type": "code",
   "execution_count": 9,
   "metadata": {},
   "outputs": [
    {
     "name": "stdout",
     "output_type": "stream",
     "text": [
      "Model:  BCC-CSM2-MR\n",
      "Variable:  psl\n",
      "Variable:  tas\n",
      "Variable:  tos\n",
      "Variable:  rsds\n",
      "Variable:  sfcWind\n"
     ]
    },
    {
     "data": {
      "text/html": [
       "<div>\n",
       "<style scoped>\n",
       "    .dataframe tbody tr th:only-of-type {\n",
       "        vertical-align: middle;\n",
       "    }\n",
       "\n",
       "    .dataframe tbody tr th {\n",
       "        vertical-align: top;\n",
       "    }\n",
       "\n",
       "    .dataframe thead th {\n",
       "        text-align: right;\n",
       "    }\n",
       "</style>\n",
       "<table border=\"1\" class=\"dataframe\">\n",
       "  <thead>\n",
       "    <tr style=\"text-align: right;\">\n",
       "      <th></th>\n",
       "      <th>institution</th>\n",
       "      <th>source</th>\n",
       "      <th>experiment</th>\n",
       "      <th>runs</th>\n",
       "      <th>inits</th>\n",
       "      <th>physics</th>\n",
       "      <th>forcing</th>\n",
       "      <th>total ensemble members</th>\n",
       "      <th>no_members</th>\n",
       "      <th>members_list</th>\n",
       "    </tr>\n",
       "  </thead>\n",
       "  <tbody>\n",
       "  </tbody>\n",
       "</table>\n",
       "</div>"
      ],
      "text/plain": [
       "Empty DataFrame\n",
       "Columns: [institution, source, experiment, runs, inits, physics, forcing, total ensemble members, no_members, members_list]\n",
       "Index: []"
      ]
     },
     "execution_count": 9,
     "metadata": {},
     "output_type": "execute_result"
    }
   ],
   "source": [
    "# fill in the dataframes with the model characteristics\n",
    "# using the fill_dataframe function from functions.py\n",
    "df = fnc.fill_dataframe(dic.test_model, dic.base_JASMIN_dir, dic.variables, dic.columns, dic.experiment, dic.table_id)\n",
    "df"
   ]
  },
  {
   "cell_type": "code",
   "execution_count": 10,
   "metadata": {},
   "outputs": [
    {
     "data": {
      "text/html": [
       "<div>\n",
       "<style scoped>\n",
       "    .dataframe tbody tr th:only-of-type {\n",
       "        vertical-align: middle;\n",
       "    }\n",
       "\n",
       "    .dataframe tbody tr th {\n",
       "        vertical-align: top;\n",
       "    }\n",
       "\n",
       "    .dataframe thead th {\n",
       "        text-align: right;\n",
       "    }\n",
       "</style>\n",
       "<table border=\"1\" class=\"dataframe\">\n",
       "  <thead>\n",
       "    <tr style=\"text-align: right;\">\n",
       "      <th></th>\n",
       "      <th>institution</th>\n",
       "      <th>source</th>\n",
       "      <th>experiment</th>\n",
       "      <th>runs</th>\n",
       "      <th>inits</th>\n",
       "      <th>physics</th>\n",
       "      <th>forcing</th>\n",
       "      <th>total ensemble members</th>\n",
       "      <th>no_members</th>\n",
       "      <th>members_list</th>\n",
       "    </tr>\n",
       "  </thead>\n",
       "  <tbody>\n",
       "  </tbody>\n",
       "</table>\n",
       "</div>"
      ],
      "text/plain": [
       "Empty DataFrame\n",
       "Columns: [institution, source, experiment, runs, inits, physics, forcing, total ensemble members, no_members, members_list]\n",
       "Index: []"
      ]
     },
     "execution_count": 10,
     "metadata": {},
     "output_type": "execute_result"
    }
   ],
   "source": [
    "df"
   ]
  }
 ],
 "metadata": {
  "kernelspec": {
   "display_name": "bens-python-environment",
   "language": "python",
   "name": "bens-python-environment"
  },
  "language_info": {
   "codemirror_mode": {
    "name": "ipython",
    "version": 3
   },
   "file_extension": ".py",
   "mimetype": "text/x-python",
   "name": "python",
   "nbconvert_exporter": "python",
   "pygments_lexer": "ipython3",
   "version": "3.10.5"
  }
 },
 "nbformat": 4,
 "nbformat_minor": 4
}
