{
 "cells": [
  {
   "cell_type": "code",
   "execution_count": 1,
   "metadata": {},
   "outputs": [],
   "source": [
    "# Import local modules\n",
    "import sys\n",
    "import os\n",
    "import glob\n",
    "\n",
    "# Import third-party modules\n",
    "import numpy as np\n",
    "import pandas as pd\n",
    "import matplotlib.pyplot as plt\n",
    "import seaborn as sns\n",
    "import scipy.stats as stats\n",
    "import xarray as xr"
   ]
  },
  {
   "cell_type": "code",
   "execution_count": 2,
   "metadata": {},
   "outputs": [],
   "source": [
    "# sys append path for dictionaries and functions\n",
    "sys.path.append(\"/home/users/benhutch/model-characteristics\")\n",
    "\n",
    "# Import dictionaries and functions\n",
    "import dictionaries as dic\n",
    "import functions as fnc"
   ]
  },
  {
   "cell_type": "code",
   "execution_count": 3,
   "metadata": {},
   "outputs": [],
   "source": [
    "# Test the get institution function\n",
    "institution = fnc.get_institution(dic.models[11], dic.base_JASMIN_dir, dic.test_variable)"
   ]
  },
  {
   "cell_type": "code",
   "execution_count": 4,
   "metadata": {},
   "outputs": [],
   "source": [
    "# Check whether the experiment exists for a given model\n",
    "# in this case, the experiment is 'historical'\n",
    "experiment = fnc.check_experiment(dic.models[11], dic.base_JASMIN_dir, experiment=\"historical\")"
   ]
  },
  {
   "cell_type": "code",
   "execution_count": 5,
   "metadata": {},
   "outputs": [],
   "source": [
    "# Test the runs function\n",
    "runs = fnc.get_runs(dic.models[11], dic.base_JASMIN_dir, experiment=\"historical\")"
   ]
  },
  {
   "cell_type": "code",
   "execution_count": 6,
   "metadata": {},
   "outputs": [],
   "source": [
    "# Test the total ensemble members function\n",
    "no_members = fnc.get_total_ensemble_members(dic.models[11], dic.base_JASMIN_dir, experiment=\"historical\")"
   ]
  },
  {
   "cell_type": "code",
   "execution_count": 7,
   "metadata": {},
   "outputs": [
    {
     "name": "stdout",
     "output_type": "stream",
     "text": [
      "12\n"
     ]
    }
   ],
   "source": [
    "# table id\n",
    "\n",
    "print(len(dic.models))\n",
    "table_id  = fnc.get_table_id(dic.models[11], dic.base_JASMIN_dir, dic.experiment, dic.table_id)"
   ]
  },
  {
   "cell_type": "code",
   "execution_count": 8,
   "metadata": {},
   "outputs": [
    {
     "name": "stdout",
     "output_type": "stream",
     "text": [
      "Not all runs are available for the variable\n",
      "Number of runs available for the runs directory:  30\n",
      "Number of runs available for the variable:  1\n"
     ]
    }
   ],
   "source": [
    "# test the varaible functions\n",
    "index = len(dic.models) - 1\n",
    "\n",
    "variable, no_members, members_list = fnc.get_variable(dic.models[11], dic.base_JASMIN_dir, dic.experiment, dic.table_id, dic.test_variable)"
   ]
  },
  {
   "cell_type": "code",
   "execution_count": 9,
   "metadata": {},
   "outputs": [
    {
     "name": "stdout",
     "output_type": "stream",
     "text": [
      "Path:  /badc/cmip6/data/CMIP6/CMIP/*/BCC-CSM2-MR/historical/r*i*p*f*/Amon/psl/g?/files/d*/\n",
      "Directories:  ['/badc/cmip6/data/CMIP6/CMIP/BCC/BCC-CSM2-MR/historical/r1i1p1f1/Amon/psl/gn/files/d20181126/', '/badc/cmip6/data/CMIP6/CMIP/BCC/BCC-CSM2-MR/historical/r2i1p1f1/Amon/psl/gn/files/d20181115/', '/badc/cmip6/data/CMIP6/CMIP/BCC/BCC-CSM2-MR/historical/r3i1p1f1/Amon/psl/gn/files/d20181119/']\n"
     ]
    },
    {
     "ename": "TypeError",
     "evalue": "can only concatenate list (not \"str\") to list",
     "output_type": "error",
     "traceback": [
      "\u001b[0;31m---------------------------------------------------------------------------\u001b[0m",
      "\u001b[0;31mTypeError\u001b[0m                                 Traceback (most recent call last)",
      "Input \u001b[0;32mIn [9]\u001b[0m, in \u001b[0;36m<cell line: 2>\u001b[0;34m()\u001b[0m\n\u001b[1;32m      1\u001b[0m \u001b[38;5;66;03m# Test the new function for getting the list of files in the final directory\u001b[39;00m\n\u001b[0;32m----> 2\u001b[0m files_list \u001b[38;5;241m=\u001b[39m \u001b[43mfnc\u001b[49m\u001b[38;5;241;43m.\u001b[39;49m\u001b[43mget_files\u001b[49m\u001b[43m(\u001b[49m\u001b[43mdic\u001b[49m\u001b[38;5;241;43m.\u001b[39;49m\u001b[43mmodels\u001b[49m\u001b[43m[\u001b[49m\u001b[38;5;241;43m0\u001b[39;49m\u001b[43m]\u001b[49m\u001b[43m,\u001b[49m\u001b[43m \u001b[49m\u001b[43mdic\u001b[49m\u001b[38;5;241;43m.\u001b[39;49m\u001b[43mbase_JASMIN_dir\u001b[49m\u001b[43m,\u001b[49m\u001b[43m \u001b[49m\u001b[43mdic\u001b[49m\u001b[38;5;241;43m.\u001b[39;49m\u001b[43mexperiment\u001b[49m\u001b[43m,\u001b[49m\u001b[43m \u001b[49m\u001b[43mdic\u001b[49m\u001b[38;5;241;43m.\u001b[39;49m\u001b[43mtable_id\u001b[49m\u001b[43m,\u001b[49m\u001b[43m \u001b[49m\u001b[43mdic\u001b[49m\u001b[38;5;241;43m.\u001b[39;49m\u001b[43mtest_variable\u001b[49m\u001b[43m)\u001b[49m\n",
      "File \u001b[0;32m~/model-characteristics/functions.py:316\u001b[0m, in \u001b[0;36mget_files\u001b[0;34m(model, base_path, experiment, table_id, variable)\u001b[0m\n\u001b[1;32m    313\u001b[0m \u001b[38;5;28mprint\u001b[39m(\u001b[38;5;124m\"\u001b[39m\u001b[38;5;124mDirectories: \u001b[39m\u001b[38;5;124m\"\u001b[39m, dirs)\n\u001b[1;32m    315\u001b[0m \u001b[38;5;66;03m# get a list of the files in the final directory\u001b[39;00m\n\u001b[0;32m--> 316\u001b[0m files_list \u001b[38;5;241m=\u001b[39m glob\u001b[38;5;241m.\u001b[39mglob(\u001b[43mdirs\u001b[49m\u001b[43m \u001b[49m\u001b[38;5;241;43m+\u001b[39;49m\u001b[43m \u001b[49m\u001b[38;5;124;43m\"\u001b[39;49m\u001b[38;5;124;43m*\u001b[39;49m\u001b[38;5;124;43m\"\u001b[39;49m)\n\u001b[1;32m    318\u001b[0m \u001b[38;5;66;03m# print the files in the final directory\u001b[39;00m\n\u001b[1;32m    319\u001b[0m \u001b[38;5;28mprint\u001b[39m(\u001b[38;5;124m\"\u001b[39m\u001b[38;5;124mFiles list: \u001b[39m\u001b[38;5;124m\"\u001b[39m, files_list)\n",
      "\u001b[0;31mTypeError\u001b[0m: can only concatenate list (not \"str\") to list"
     ]
    }
   ],
   "source": [
    "# Test the new function for getting the list of files in the final directory\n",
    "files_list = fnc.get_files(dic.models[0], dic.base_JASMIN_dir, dic.experiment, dic.table_id, dic.test_variable)"
   ]
  },
  {
   "cell_type": "code",
   "execution_count": null,
   "metadata": {},
   "outputs": [],
   "source": [
    "# # fill in the dataframes with the model characteristics\n",
    "# # using the fill_dataframe function from functions.py\n",
    "# df = fnc.fill_dataframe(dic.historical_models, dic.base_JASMIN_dir, dic.variables, dic.columns, dic.experiment, dic.table_id)\n",
    "# df"
   ]
  },
  {
   "cell_type": "code",
   "execution_count": null,
   "metadata": {},
   "outputs": [],
   "source": [
    "# psl_df = df[df['variable'] == 'tas']\n",
    "# psl_df\n"
   ]
  },
  {
   "cell_type": "code",
   "execution_count": null,
   "metadata": {},
   "outputs": [],
   "source": []
  }
 ],
 "metadata": {
  "kernelspec": {
   "display_name": "bens-python-environment",
   "language": "python",
   "name": "bens-python-environment"
  },
  "language_info": {
   "codemirror_mode": {
    "name": "ipython",
    "version": 3
   },
   "file_extension": ".py",
   "mimetype": "text/x-python",
   "name": "python",
   "nbconvert_exporter": "python",
   "pygments_lexer": "ipython3",
   "version": "3.10.5"
  }
 },
 "nbformat": 4,
 "nbformat_minor": 4
}
