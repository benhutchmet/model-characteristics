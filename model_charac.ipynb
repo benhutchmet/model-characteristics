{
 "cells": [
  {
   "cell_type": "code",
   "execution_count": 1,
   "metadata": {},
   "outputs": [],
   "source": [
    "# Import local modules\n",
    "import sys\n",
    "import os\n",
    "import glob\n",
    "\n",
    "# Import third-party modules\n",
    "import numpy as np\n",
    "import pandas as pd\n",
    "import matplotlib.pyplot as plt\n",
    "import seaborn as sns\n",
    "import scipy.stats as stats\n",
    "import xarray as xr"
   ]
  },
  {
   "cell_type": "code",
   "execution_count": 2,
   "metadata": {},
   "outputs": [],
   "source": [
    "# sys append path for dictionaries and functions\n",
    "sys.path.append(\"/home/users/benhutch/model-characteristics\")\n",
    "\n",
    "# Import dictionaries and functions\n",
    "import dictionaries as dic\n",
    "import functions as fnc"
   ]
  },
  {
   "cell_type": "code",
   "execution_count": 3,
   "metadata": {},
   "outputs": [],
   "source": [
    "# Test the get institution function\n",
    "institution = fnc.get_institution(dic.models[11], dic.base_JASMIN_dir_cmip, dic.test_variable)"
   ]
  },
  {
   "cell_type": "code",
   "execution_count": 4,
   "metadata": {},
   "outputs": [],
   "source": [
    "# Check whether the experiment exists for a given model\n",
    "# in this case, the experiment is 'historical'\n",
    "experiment = fnc.check_experiment(dic.models[11], dic.base_JASMIN_dir_cmip, experiment=\"historical\")"
   ]
  },
  {
   "cell_type": "code",
   "execution_count": 5,
   "metadata": {},
   "outputs": [],
   "source": [
    "# Test the runs function\n",
    "runs = fnc.get_runs(dic.models[11], dic.base_JASMIN_dir_cmip, experiment=\"historical\")"
   ]
  },
  {
   "cell_type": "code",
   "execution_count": 6,
   "metadata": {},
   "outputs": [],
   "source": [
    "# Test the total ensemble members function\n",
    "no_members = fnc.get_total_ensemble_members(dic.models[11], dic.base_JASMIN_dir_cmip, experiment=\"historical\")"
   ]
  },
  {
   "cell_type": "code",
   "execution_count": 7,
   "metadata": {},
   "outputs": [
    {
     "name": "stdout",
     "output_type": "stream",
     "text": [
      "12\n"
     ]
    }
   ],
   "source": [
    "# table id\n",
    "\n",
    "print(len(dic.models))\n",
    "table_id  = fnc.get_table_id(dic.models[11], dic.base_JASMIN_dir_cmip, dic.experiment_hist, dic.table_id)"
   ]
  },
  {
   "cell_type": "code",
   "execution_count": 8,
   "metadata": {},
   "outputs": [
    {
     "name": "stdout",
     "output_type": "stream",
     "text": [
      "Not all runs are available for the variable\n",
      "Number of runs available for the runs directory:  30\n",
      "Number of runs available for the variable:  1\n"
     ]
    }
   ],
   "source": [
    "# test the varaible functions\n",
    "index = len(dic.models) - 1\n",
    "\n",
    "variable, no_members, members_list = fnc.get_variable(dic.models[11], dic.base_JASMIN_dir_cmip, dic.experiment_hist, dic.table_id, dic.test_variable)"
   ]
  },
  {
   "cell_type": "code",
   "execution_count": 9,
   "metadata": {},
   "outputs": [
    {
     "name": "stdout",
     "output_type": "stream",
     "text": [
      "Path:  /badc/cmip6/data/CMIP6/CMIP/*/BCC-CSM2-MR/historical/*r*i*p*f*/Amon/psl/g?/files/d*/\n"
     ]
    }
   ],
   "source": [
    "# Test the new function for getting the list of files in the final directory\n",
    "files_list = fnc.get_files(dic.models[0], dic.base_JASMIN_dir_cmip, dic.experiment_hist, dic.table_id, dic.test_variable)"
   ]
  },
  {
   "cell_type": "code",
   "execution_count": 10,
   "metadata": {},
   "outputs": [
    {
     "name": "stdout",
     "output_type": "stream",
     "text": [
      "Path:  /badc/cmip6/data/CMIP6/CMIP/*/BCC-CSM2-MR/historical/*r*i*p*f*/Amon/psl/g?/files/d*/\n",
      "1850-2014\n"
     ]
    }
   ],
   "source": [
    "# test the get_years function\n",
    "years_range = fnc.get_years(dic.models[0], dic.base_JASMIN_dir_cmip, dic.experiment_hist, dic.table_id, dic.test_variable)\n",
    "print(years_range)"
   ]
  },
  {
   "cell_type": "code",
   "execution_count": 11,
   "metadata": {},
   "outputs": [
    {
     "name": "stdout",
     "output_type": "stream",
     "text": [
      "BCC\n",
      "MPI-M\n",
      "CCCma\n",
      "CMCC\n",
      "MOHC\n",
      "EC-Earth-Consortium\n",
      "Model not available\n",
      "None\n",
      "Model not available\n",
      "None\n",
      "MIROC\n",
      "IPSL\n",
      "Model not available\n",
      "None\n"
     ]
    }
   ],
   "source": [
    "# Now test again with DCPP-A data\n",
    "for i in range(index):\n",
    "    institution = fnc.get_institution(dic.models[i], dic.base_JASMIN_dir_dcpp, dic.test_variable)\n",
    "    print(institution)"
   ]
  },
  {
   "cell_type": "code",
   "execution_count": 12,
   "metadata": {},
   "outputs": [
    {
     "name": "stdout",
     "output_type": "stream",
     "text": [
      "dcppA-hindcast\n",
      "dcppA-hindcast\n",
      "dcppA-hindcast\n",
      "dcppA-hindcast\n",
      "dcppA-hindcast\n",
      "dcppA-hindcast\n",
      "None\n",
      "None\n",
      "dcppA-hindcast\n",
      "dcppA-hindcast\n",
      "None\n"
     ]
    }
   ],
   "source": [
    "# Check whether the experiment exists for dcppA-hindcast\n",
    "for i in range(index):\n",
    "    experiment = fnc.check_experiment(dic.models[i], dic.base_JASMIN_dir_dcpp, dic.experiment_dccp)\n",
    "    print(experiment)"
   ]
  },
  {
   "cell_type": "code",
   "execution_count": 13,
   "metadata": {},
   "outputs": [
    {
     "name": "stdout",
     "output_type": "stream",
     "text": [
      "runs:  8\n",
      "inits:  1\n",
      "physics:  1\n",
      "forcing:  1\n",
      "total_ensemble_members:  432\n",
      "runs:  10\n",
      "inits:  1\n",
      "physics:  1\n",
      "forcing:  1\n",
      "total_ensemble_members:  595\n",
      "runs:  40\n",
      "inits:  1\n",
      "physics:  1\n",
      "forcing:  1\n",
      "total_ensemble_members:  2400\n",
      "runs:  10\n",
      "inits:  1\n",
      "physics:  1\n",
      "forcing:  1\n",
      "total_ensemble_members:  600\n",
      "runs:  10\n",
      "inits:  1\n",
      "physics:  1\n",
      "forcing:  1\n",
      "total_ensemble_members:  590\n",
      "runs:  10\n",
      "inits:  3\n",
      "physics:  1\n",
      "forcing:  1\n",
      "total_ensemble_members:  934\n",
      "runs:  0\n",
      "inits:  0\n",
      "physics:  0\n",
      "forcing:  0\n",
      "total_ensemble_members:  0\n",
      "runs:  0\n",
      "inits:  0\n",
      "physics:  0\n",
      "forcing:  0\n",
      "total_ensemble_members:  0\n",
      "runs:  10\n",
      "inits:  1\n",
      "physics:  1\n",
      "forcing:  1\n",
      "total_ensemble_members:  620\n",
      "runs:  10\n",
      "inits:  1\n",
      "physics:  1\n",
      "forcing:  1\n",
      "total_ensemble_members:  570\n",
      "runs:  0\n",
      "inits:  0\n",
      "physics:  0\n",
      "forcing:  0\n",
      "total_ensemble_members:  0\n"
     ]
    }
   ],
   "source": [
    "# test the runs function with the updated syntax\n",
    "for i in range(index):\n",
    "    runs = fnc.get_runs(dic.models[i], dic.base_JASMIN_dir_dcpp, dic.experiment_dccp)\n",
    "    inits = fnc.get_inits(dic.models[i], dic.base_JASMIN_dir_dcpp, dic.experiment_dccp)\n",
    "    physics = fnc.get_physics(dic.models[i], dic.base_JASMIN_dir_dcpp, dic.experiment_dccp)\n",
    "    forcing = fnc.get_forcing(dic.models[i], dic.base_JASMIN_dir_dcpp, dic.experiment_dccp)\n",
    "    total_ensemble_members = fnc.get_total_ensemble_members(dic.models[i], dic.base_JASMIN_dir_dcpp, dic.experiment_dccp)\n",
    "\n",
    "    print(\"runs: \", runs)\n",
    "    print(\"inits: \", inits)\n",
    "    print(\"physics: \", physics)\n",
    "    print(\"forcing: \", forcing)\n",
    "    print(\"total_ensemble_members: \", total_ensemble_members)"
   ]
  },
  {
   "cell_type": "code",
   "execution_count": 14,
   "metadata": {},
   "outputs": [
    {
     "name": "stdout",
     "output_type": "stream",
     "text": [
      "BCC-CSM2-MR\n",
      "1961-2014\n",
      "MPI-ESM1-2-HR\n",
      "1960-2019\n",
      "CanESM5\n",
      "1960-2019\n",
      "CMCC-CM2-SR5\n",
      "1960-2019\n",
      "HadGEM3-GC31-MM\n",
      "1960-2018\n",
      "EC-Earth3\n",
      "1960-2018\n",
      "MPI-ESM1-2-LR\n",
      "No files available\n",
      "None\n",
      "FGOALS-f3-L\n",
      "No files available\n",
      "None\n",
      "MIROC6\n",
      "No files available\n",
      "None\n",
      "IPSL-CM6A-LR\n",
      "No files available\n",
      "None\n",
      "CESM1-1-CAM5-CMIP5\n",
      "No files available\n",
      "None\n",
      "NorCPM1\n",
      "No files available\n",
      "None\n"
     ]
    }
   ],
   "source": [
    "# Test the years range function\n",
    "# for all the models\n",
    "for model in dic.models:\n",
    "    print(model)\n",
    "    years_range = fnc.get_years(model, dic.base_JASMIN_dir_dcpp, dic.experiment_dccp, dic.table_id, dic.test_variable)\n",
    "    print(years_range)"
   ]
  },
  {
   "cell_type": "code",
   "execution_count": 15,
   "metadata": {},
   "outputs": [
    {
     "name": "stdout",
     "output_type": "stream",
     "text": [
      "Table_id:  Amon\n",
      "Experiment:  historical\n",
      "Model:  BCC-CSM2-MR\n",
      "Variable:  psl\n",
      "Path:  /badc/cmip6/data/CMIP6/CMIP/*/BCC-CSM2-MR/historical/*r*i*p*f*/Amon/psl/g?/files/d*/\n",
      "Path:  /badc/cmip6/data/CMIP6/CMIP/*/BCC-CSM2-MR/historical/*r*i*p*f*/Amon/psl/g?/files/d*/\n",
      "Variable:  tas\n",
      "Path:  /badc/cmip6/data/CMIP6/CMIP/*/BCC-CSM2-MR/historical/*r*i*p*f*/Amon/tas/g?/files/d*/\n",
      "Path:  /badc/cmip6/data/CMIP6/CMIP/*/BCC-CSM2-MR/historical/*r*i*p*f*/Amon/tas/g?/files/d*/\n",
      "Variable:  tos\n",
      "Path:  /badc/cmip6/data/CMIP6/CMIP/*/BCC-CSM2-MR/historical/*r*i*p*f*/Amon/tos/g?/files/d*/\n",
      "No files available\n",
      "Path:  /badc/cmip6/data/CMIP6/CMIP/*/BCC-CSM2-MR/historical/*r*i*p*f*/Amon/tos/g?/files/d*/\n",
      "No files available\n",
      "No files available\n",
      "Variable:  rsds\n"
     ]
    },
    {
     "name": "stderr",
     "output_type": "stream",
     "text": [
      "/home/users/benhutch/model-characteristics/functions.py:484: FutureWarning: The frame.append method is deprecated and will be removed from pandas in a future version. Use pandas.concat instead.\n",
      "  df = df.append(row_dict, ignore_index=True)\n",
      "/home/users/benhutch/model-characteristics/functions.py:484: FutureWarning: The frame.append method is deprecated and will be removed from pandas in a future version. Use pandas.concat instead.\n",
      "  df = df.append(row_dict, ignore_index=True)\n",
      "/home/users/benhutch/model-characteristics/functions.py:484: FutureWarning: The frame.append method is deprecated and will be removed from pandas in a future version. Use pandas.concat instead.\n",
      "  df = df.append(row_dict, ignore_index=True)\n",
      "/home/users/benhutch/model-characteristics/functions.py:484: FutureWarning: The frame.append method is deprecated and will be removed from pandas in a future version. Use pandas.concat instead.\n",
      "  df = df.append(row_dict, ignore_index=True)\n"
     ]
    },
    {
     "name": "stdout",
     "output_type": "stream",
     "text": [
      "Path:  /badc/cmip6/data/CMIP6/CMIP/*/BCC-CSM2-MR/historical/*r*i*p*f*/Amon/rsds/g?/files/d*/\n",
      "Path:  /badc/cmip6/data/CMIP6/CMIP/*/BCC-CSM2-MR/historical/*r*i*p*f*/Amon/rsds/g?/files/d*/\n",
      "Variable:  sfcWind\n",
      "Path:  /badc/cmip6/data/CMIP6/CMIP/*/BCC-CSM2-MR/historical/*r*i*p*f*/Amon/sfcWind/g?/files/d*/\n",
      "Path:  /badc/cmip6/data/CMIP6/CMIP/*/BCC-CSM2-MR/historical/*r*i*p*f*/Amon/sfcWind/g?/files/d*/\n",
      "Model:  MPI-ESM1-2-HR\n",
      "Variable:  psl\n",
      "Not all runs are available for the variable\n",
      "Number of runs available for the runs directory:  10\n",
      "Number of runs available for the variable:  1\n",
      "Not all runs are available for the variable\n",
      "Number of runs available for the runs directory:  10\n",
      "Number of runs available for the variable:  1\n"
     ]
    },
    {
     "name": "stderr",
     "output_type": "stream",
     "text": [
      "/home/users/benhutch/model-characteristics/functions.py:484: FutureWarning: The frame.append method is deprecated and will be removed from pandas in a future version. Use pandas.concat instead.\n",
      "  df = df.append(row_dict, ignore_index=True)\n",
      "/home/users/benhutch/model-characteristics/functions.py:484: FutureWarning: The frame.append method is deprecated and will be removed from pandas in a future version. Use pandas.concat instead.\n",
      "  df = df.append(row_dict, ignore_index=True)\n"
     ]
    },
    {
     "name": "stdout",
     "output_type": "stream",
     "text": [
      "Not all runs are available for the variable\n",
      "Number of runs available for the runs directory:  10\n",
      "Number of runs available for the variable:  1\n",
      "Path:  /badc/cmip6/data/CMIP6/CMIP/*/MPI-ESM1-2-HR/historical/*r*i*p*f*/Amon/psl/g?/files/d*/\n",
      "Path:  /badc/cmip6/data/CMIP6/CMIP/*/MPI-ESM1-2-HR/historical/*r*i*p*f*/Amon/psl/g?/files/d*/\n",
      "Variable:  tas\n",
      "Path:  /badc/cmip6/data/CMIP6/CMIP/*/MPI-ESM1-2-HR/historical/*r*i*p*f*/Amon/tas/g?/files/d*/\n",
      "Path:  /badc/cmip6/data/CMIP6/CMIP/*/MPI-ESM1-2-HR/historical/*r*i*p*f*/Amon/tas/g?/files/d*/\n",
      "Variable:  tos\n"
     ]
    },
    {
     "name": "stderr",
     "output_type": "stream",
     "text": [
      "/home/users/benhutch/model-characteristics/functions.py:484: FutureWarning: The frame.append method is deprecated and will be removed from pandas in a future version. Use pandas.concat instead.\n",
      "  df = df.append(row_dict, ignore_index=True)\n",
      "/home/users/benhutch/model-characteristics/functions.py:484: FutureWarning: The frame.append method is deprecated and will be removed from pandas in a future version. Use pandas.concat instead.\n",
      "  df = df.append(row_dict, ignore_index=True)\n",
      "/home/users/benhutch/model-characteristics/functions.py:484: FutureWarning: The frame.append method is deprecated and will be removed from pandas in a future version. Use pandas.concat instead.\n",
      "  df = df.append(row_dict, ignore_index=True)\n"
     ]
    },
    {
     "name": "stdout",
     "output_type": "stream",
     "text": [
      "Path:  /badc/cmip6/data/CMIP6/CMIP/*/MPI-ESM1-2-HR/historical/*r*i*p*f*/Amon/tos/g?/files/d*/\n",
      "No files available\n",
      "Path:  /badc/cmip6/data/CMIP6/CMIP/*/MPI-ESM1-2-HR/historical/*r*i*p*f*/Amon/tos/g?/files/d*/\n",
      "No files available\n",
      "No files available\n",
      "Variable:  rsds\n",
      "Not all runs are available for the variable\n",
      "Number of runs available for the runs directory:  10\n",
      "Number of runs available for the variable:  1\n",
      "Not all runs are available for the variable\n",
      "Number of runs available for the runs directory:  10\n",
      "Number of runs available for the variable:  1\n",
      "Not all runs are available for the variable\n",
      "Number of runs available for the runs directory:  10\n",
      "Number of runs available for the variable:  1\n",
      "Path:  /badc/cmip6/data/CMIP6/CMIP/*/MPI-ESM1-2-HR/historical/*r*i*p*f*/Amon/rsds/g?/files/d*/\n",
      "Path:  /badc/cmip6/data/CMIP6/CMIP/*/MPI-ESM1-2-HR/historical/*r*i*p*f*/Amon/rsds/g?/files/d*/\n",
      "Variable:  sfcWind\n",
      "Not all runs are available for the variable\n",
      "Number of runs available for the runs directory:  10\n",
      "Number of runs available for the variable:  1\n",
      "Not all runs are available for the variable\n",
      "Number of runs available for the runs directory:  10\n",
      "Number of runs available for the variable:  1\n",
      "Not all runs are available for the variable\n",
      "Number of runs available for the runs directory:  10\n",
      "Number of runs available for the variable:  1\n",
      "Path:  /badc/cmip6/data/CMIP6/CMIP/*/MPI-ESM1-2-HR/historical/*r*i*p*f*/Amon/sfcWind/g?/files/d*/\n",
      "Path:  /badc/cmip6/data/CMIP6/CMIP/*/MPI-ESM1-2-HR/historical/*r*i*p*f*/Amon/sfcWind/g?/files/d*/\n",
      "Model:  CanESM5\n",
      "Variable:  psl\n"
     ]
    },
    {
     "name": "stderr",
     "output_type": "stream",
     "text": [
      "/home/users/benhutch/model-characteristics/functions.py:484: FutureWarning: The frame.append method is deprecated and will be removed from pandas in a future version. Use pandas.concat instead.\n",
      "  df = df.append(row_dict, ignore_index=True)\n"
     ]
    },
    {
     "name": "stdout",
     "output_type": "stream",
     "text": [
      "Not all runs are available for the variable\n",
      "Number of runs available for the runs directory:  65\n",
      "Number of runs available for the variable:  35\n",
      "Not all runs are available for the variable\n",
      "Number of runs available for the runs directory:  65\n",
      "Number of runs available for the variable:  35\n",
      "Not all runs are available for the variable\n",
      "Number of runs available for the runs directory:  65\n",
      "Number of runs available for the variable:  35\n",
      "Path:  /badc/cmip6/data/CMIP6/CMIP/*/CanESM5/historical/*r*i*p*f*/Amon/psl/g?/files/d*/\n",
      "Path:  /badc/cmip6/data/CMIP6/CMIP/*/CanESM5/historical/*r*i*p*f*/Amon/psl/g?/files/d*/\n"
     ]
    },
    {
     "name": "stderr",
     "output_type": "stream",
     "text": [
      "/home/users/benhutch/model-characteristics/functions.py:484: FutureWarning: The frame.append method is deprecated and will be removed from pandas in a future version. Use pandas.concat instead.\n",
      "  df = df.append(row_dict, ignore_index=True)\n"
     ]
    },
    {
     "name": "stdout",
     "output_type": "stream",
     "text": [
      "Variable:  tas\n",
      "Path:  /badc/cmip6/data/CMIP6/CMIP/*/CanESM5/historical/*r*i*p*f*/Amon/tas/g?/files/d*/\n",
      "Path:  /badc/cmip6/data/CMIP6/CMIP/*/CanESM5/historical/*r*i*p*f*/Amon/tas/g?/files/d*/\n",
      "Variable:  tos\n",
      "Path:  /badc/cmip6/data/CMIP6/CMIP/*/CanESM5/historical/*r*i*p*f*/Amon/tos/g?/files/d*/\n",
      "No files available\n",
      "Path:  /badc/cmip6/data/CMIP6/CMIP/*/CanESM5/historical/*r*i*p*f*/Amon/tos/g?/files/d*/\n"
     ]
    },
    {
     "name": "stderr",
     "output_type": "stream",
     "text": [
      "/home/users/benhutch/model-characteristics/functions.py:484: FutureWarning: The frame.append method is deprecated and will be removed from pandas in a future version. Use pandas.concat instead.\n",
      "  df = df.append(row_dict, ignore_index=True)\n",
      "/home/users/benhutch/model-characteristics/functions.py:484: FutureWarning: The frame.append method is deprecated and will be removed from pandas in a future version. Use pandas.concat instead.\n",
      "  df = df.append(row_dict, ignore_index=True)\n"
     ]
    },
    {
     "name": "stdout",
     "output_type": "stream",
     "text": [
      "No files available\n",
      "No files available\n",
      "Variable:  rsds\n",
      "Not all runs are available for the variable\n",
      "Number of runs available for the runs directory:  65\n",
      "Number of runs available for the variable:  35\n",
      "Not all runs are available for the variable\n",
      "Number of runs available for the runs directory:  65\n",
      "Number of runs available for the variable:  35\n",
      "Not all runs are available for the variable\n",
      "Number of runs available for the runs directory:  65\n",
      "Number of runs available for the variable:  35\n",
      "Path:  /badc/cmip6/data/CMIP6/CMIP/*/CanESM5/historical/*r*i*p*f*/Amon/rsds/g?/files/d*/\n",
      "Path:  /badc/cmip6/data/CMIP6/CMIP/*/CanESM5/historical/*r*i*p*f*/Amon/rsds/g?/files/d*/\n",
      "Variable:  sfcWind\n",
      "Not all runs are available for the variable\n",
      "Number of runs available for the runs directory:  65\n",
      "Number of runs available for the variable:  1\n",
      "Not all runs are available for the variable\n",
      "Number of runs available for the runs directory:  65\n",
      "Number of runs available for the variable:  1\n",
      "Not all runs are available for the variable\n",
      "Number of runs available for the runs directory:  65\n",
      "Number of runs available for the variable:  1\n",
      "Path:  /badc/cmip6/data/CMIP6/CMIP/*/CanESM5/historical/*r*i*p*f*/Amon/sfcWind/g?/files/d*/\n",
      "Path:  /badc/cmip6/data/CMIP6/CMIP/*/CanESM5/historical/*r*i*p*f*/Amon/sfcWind/g?/files/d*/\n",
      "Model:  CMCC-CM2-SR5\n",
      "Variable:  psl\n"
     ]
    },
    {
     "name": "stderr",
     "output_type": "stream",
     "text": [
      "/home/users/benhutch/model-characteristics/functions.py:484: FutureWarning: The frame.append method is deprecated and will be removed from pandas in a future version. Use pandas.concat instead.\n",
      "  df = df.append(row_dict, ignore_index=True)\n",
      "/home/users/benhutch/model-characteristics/functions.py:484: FutureWarning: The frame.append method is deprecated and will be removed from pandas in a future version. Use pandas.concat instead.\n",
      "  df = df.append(row_dict, ignore_index=True)\n",
      "/home/users/benhutch/model-characteristics/functions.py:484: FutureWarning: The frame.append method is deprecated and will be removed from pandas in a future version. Use pandas.concat instead.\n",
      "  df = df.append(row_dict, ignore_index=True)\n"
     ]
    },
    {
     "name": "stdout",
     "output_type": "stream",
     "text": [
      "Path:  /badc/cmip6/data/CMIP6/CMIP/*/CMCC-CM2-SR5/historical/*r*i*p*f*/Amon/psl/g?/files/d*/\n",
      "Path:  /badc/cmip6/data/CMIP6/CMIP/*/CMCC-CM2-SR5/historical/*r*i*p*f*/Amon/psl/g?/files/d*/\n",
      "Variable:  tas\n",
      "Path:  /badc/cmip6/data/CMIP6/CMIP/*/CMCC-CM2-SR5/historical/*r*i*p*f*/Amon/tas/g?/files/d*/\n",
      "Path:  /badc/cmip6/data/CMIP6/CMIP/*/CMCC-CM2-SR5/historical/*r*i*p*f*/Amon/tas/g?/files/d*/\n",
      "Variable:  tos\n",
      "Path:  /badc/cmip6/data/CMIP6/CMIP/*/CMCC-CM2-SR5/historical/*r*i*p*f*/Amon/tos/g?/files/d*/\n",
      "No files available\n",
      "Path:  /badc/cmip6/data/CMIP6/CMIP/*/CMCC-CM2-SR5/historical/*r*i*p*f*/Amon/tos/g?/files/d*/\n",
      "No files available\n",
      "No files available\n",
      "Variable:  rsds\n",
      "Path:  /badc/cmip6/data/CMIP6/CMIP/*/CMCC-CM2-SR5/historical/*r*i*p*f*/Amon/rsds/g?/files/d*/\n",
      "Path:  /badc/cmip6/data/CMIP6/CMIP/*/CMCC-CM2-SR5/historical/*r*i*p*f*/Amon/rsds/g?/files/d*/\n",
      "Variable:  sfcWind\n"
     ]
    },
    {
     "name": "stderr",
     "output_type": "stream",
     "text": [
      "/home/users/benhutch/model-characteristics/functions.py:484: FutureWarning: The frame.append method is deprecated and will be removed from pandas in a future version. Use pandas.concat instead.\n",
      "  df = df.append(row_dict, ignore_index=True)\n",
      "/home/users/benhutch/model-characteristics/functions.py:484: FutureWarning: The frame.append method is deprecated and will be removed from pandas in a future version. Use pandas.concat instead.\n",
      "  df = df.append(row_dict, ignore_index=True)\n",
      "/home/users/benhutch/model-characteristics/functions.py:484: FutureWarning: The frame.append method is deprecated and will be removed from pandas in a future version. Use pandas.concat instead.\n",
      "  df = df.append(row_dict, ignore_index=True)\n",
      "/home/users/benhutch/model-characteristics/functions.py:484: FutureWarning: The frame.append method is deprecated and will be removed from pandas in a future version. Use pandas.concat instead.\n",
      "  df = df.append(row_dict, ignore_index=True)\n"
     ]
    },
    {
     "name": "stdout",
     "output_type": "stream",
     "text": [
      "Path:  /badc/cmip6/data/CMIP6/CMIP/*/CMCC-CM2-SR5/historical/*r*i*p*f*/Amon/sfcWind/g?/files/d*/\n",
      "Path:  /badc/cmip6/data/CMIP6/CMIP/*/CMCC-CM2-SR5/historical/*r*i*p*f*/Amon/sfcWind/g?/files/d*/\n",
      "Model:  HadGEM3-GC31-MM\n",
      "Variable:  psl\n",
      "Path:  /badc/cmip6/data/CMIP6/CMIP/*/HadGEM3-GC31-MM/historical/*r*i*p*f*/Amon/psl/g?/files/d*/\n",
      "Path:  /badc/cmip6/data/CMIP6/CMIP/*/HadGEM3-GC31-MM/historical/*r*i*p*f*/Amon/psl/g?/files/d*/\n",
      "Variable:  tas\n",
      "Path:  /badc/cmip6/data/CMIP6/CMIP/*/HadGEM3-GC31-MM/historical/*r*i*p*f*/Amon/tas/g?/files/d*/\n"
     ]
    },
    {
     "name": "stderr",
     "output_type": "stream",
     "text": [
      "/home/users/benhutch/model-characteristics/functions.py:484: FutureWarning: The frame.append method is deprecated and will be removed from pandas in a future version. Use pandas.concat instead.\n",
      "  df = df.append(row_dict, ignore_index=True)\n",
      "/home/users/benhutch/model-characteristics/functions.py:484: FutureWarning: The frame.append method is deprecated and will be removed from pandas in a future version. Use pandas.concat instead.\n",
      "  df = df.append(row_dict, ignore_index=True)\n"
     ]
    },
    {
     "name": "stdout",
     "output_type": "stream",
     "text": [
      "Path:  /badc/cmip6/data/CMIP6/CMIP/*/HadGEM3-GC31-MM/historical/*r*i*p*f*/Amon/tas/g?/files/d*/\n",
      "Variable:  tos\n",
      "Path:  /badc/cmip6/data/CMIP6/CMIP/*/HadGEM3-GC31-MM/historical/*r*i*p*f*/Amon/tos/g?/files/d*/\n",
      "No files available\n",
      "Path:  /badc/cmip6/data/CMIP6/CMIP/*/HadGEM3-GC31-MM/historical/*r*i*p*f*/Amon/tos/g?/files/d*/\n",
      "No files available\n",
      "No files available\n",
      "Variable:  rsds\n",
      "Path:  /badc/cmip6/data/CMIP6/CMIP/*/HadGEM3-GC31-MM/historical/*r*i*p*f*/Amon/rsds/g?/files/d*/\n",
      "Path:  /badc/cmip6/data/CMIP6/CMIP/*/HadGEM3-GC31-MM/historical/*r*i*p*f*/Amon/rsds/g?/files/d*/\n",
      "Variable:  sfcWind\n"
     ]
    },
    {
     "name": "stderr",
     "output_type": "stream",
     "text": [
      "/home/users/benhutch/model-characteristics/functions.py:484: FutureWarning: The frame.append method is deprecated and will be removed from pandas in a future version. Use pandas.concat instead.\n",
      "  df = df.append(row_dict, ignore_index=True)\n",
      "/home/users/benhutch/model-characteristics/functions.py:484: FutureWarning: The frame.append method is deprecated and will be removed from pandas in a future version. Use pandas.concat instead.\n",
      "  df = df.append(row_dict, ignore_index=True)\n"
     ]
    },
    {
     "name": "stdout",
     "output_type": "stream",
     "text": [
      "Path:  /badc/cmip6/data/CMIP6/CMIP/*/HadGEM3-GC31-MM/historical/*r*i*p*f*/Amon/sfcWind/g?/files/d*/\n",
      "Path:  /badc/cmip6/data/CMIP6/CMIP/*/HadGEM3-GC31-MM/historical/*r*i*p*f*/Amon/sfcWind/g?/files/d*/\n",
      "Model:  EC-Earth3\n",
      "Variable:  psl\n"
     ]
    },
    {
     "name": "stderr",
     "output_type": "stream",
     "text": [
      "/home/users/benhutch/model-characteristics/functions.py:484: FutureWarning: The frame.append method is deprecated and will be removed from pandas in a future version. Use pandas.concat instead.\n",
      "  df = df.append(row_dict, ignore_index=True)\n"
     ]
    },
    {
     "name": "stdout",
     "output_type": "stream",
     "text": [
      "Not all runs are available for the variable\n",
      "Number of runs available for the runs directory:  74\n",
      "Number of runs available for the variable:  53\n",
      "Not all runs are available for the variable\n",
      "Number of runs available for the runs directory:  74\n",
      "Number of runs available for the variable:  53\n",
      "Not all runs are available for the variable\n",
      "Number of runs available for the runs directory:  74\n",
      "Number of runs available for the variable:  53\n",
      "Path:  /badc/cmip6/data/CMIP6/CMIP/*/EC-Earth3/historical/*r*i*p*f*/Amon/psl/g?/files/d*/\n",
      "Path:  /badc/cmip6/data/CMIP6/CMIP/*/EC-Earth3/historical/*r*i*p*f*/Amon/psl/g?/files/d*/\n",
      "Variable:  tas\n"
     ]
    },
    {
     "name": "stderr",
     "output_type": "stream",
     "text": [
      "/home/users/benhutch/model-characteristics/functions.py:484: FutureWarning: The frame.append method is deprecated and will be removed from pandas in a future version. Use pandas.concat instead.\n",
      "  df = df.append(row_dict, ignore_index=True)\n"
     ]
    },
    {
     "name": "stdout",
     "output_type": "stream",
     "text": [
      "Path:  /badc/cmip6/data/CMIP6/CMIP/*/EC-Earth3/historical/*r*i*p*f*/Amon/tas/g?/files/d*/\n",
      "Path:  /badc/cmip6/data/CMIP6/CMIP/*/EC-Earth3/historical/*r*i*p*f*/Amon/tas/g?/files/d*/\n"
     ]
    },
    {
     "name": "stderr",
     "output_type": "stream",
     "text": [
      "/home/users/benhutch/model-characteristics/functions.py:484: FutureWarning: The frame.append method is deprecated and will be removed from pandas in a future version. Use pandas.concat instead.\n",
      "  df = df.append(row_dict, ignore_index=True)\n",
      "/home/users/benhutch/model-characteristics/functions.py:484: FutureWarning: The frame.append method is deprecated and will be removed from pandas in a future version. Use pandas.concat instead.\n",
      "  df = df.append(row_dict, ignore_index=True)\n"
     ]
    },
    {
     "name": "stdout",
     "output_type": "stream",
     "text": [
      "Variable:  tos\n",
      "Not all runs are available for the variable\n",
      "Number of runs available for the runs directory:  74\n",
      "Number of runs available for the variable:  1\n",
      "Not all runs are available for the variable\n",
      "Number of runs available for the runs directory:  74\n",
      "Number of runs available for the variable:  1\n",
      "Not all runs are available for the variable\n",
      "Number of runs available for the runs directory:  74\n",
      "Number of runs available for the variable:  1\n",
      "Path:  /badc/cmip6/data/CMIP6/CMIP/*/EC-Earth3/historical/*r*i*p*f*/Amon/tos/g?/files/d*/\n",
      "Path:  /badc/cmip6/data/CMIP6/CMIP/*/EC-Earth3/historical/*r*i*p*f*/Amon/tos/g?/files/d*/\n",
      "Variable:  rsds\n",
      "Not all runs are available for the variable\n",
      "Number of runs available for the runs directory:  74\n",
      "Number of runs available for the variable:  3\n",
      "Not all runs are available for the variable\n",
      "Number of runs available for the runs directory:  74\n",
      "Number of runs available for the variable:  3\n",
      "Not all runs are available for the variable\n",
      "Number of runs available for the runs directory:  74\n",
      "Number of runs available for the variable:  3\n",
      "Path:  /badc/cmip6/data/CMIP6/CMIP/*/EC-Earth3/historical/*r*i*p*f*/Amon/rsds/g?/files/d*/\n",
      "Path:  /badc/cmip6/data/CMIP6/CMIP/*/EC-Earth3/historical/*r*i*p*f*/Amon/rsds/g?/files/d*/\n",
      "Variable:  sfcWind\n",
      "Not all runs are available for the variable\n",
      "Number of runs available for the runs directory:  74\n",
      "Number of runs available for the variable:  1\n",
      "Not all runs are available for the variable\n",
      "Number of runs available for the runs directory:  74\n",
      "Number of runs available for the variable:  1\n"
     ]
    },
    {
     "name": "stderr",
     "output_type": "stream",
     "text": [
      "/home/users/benhutch/model-characteristics/functions.py:484: FutureWarning: The frame.append method is deprecated and will be removed from pandas in a future version. Use pandas.concat instead.\n",
      "  df = df.append(row_dict, ignore_index=True)\n",
      "/home/users/benhutch/model-characteristics/functions.py:484: FutureWarning: The frame.append method is deprecated and will be removed from pandas in a future version. Use pandas.concat instead.\n",
      "  df = df.append(row_dict, ignore_index=True)\n"
     ]
    },
    {
     "name": "stdout",
     "output_type": "stream",
     "text": [
      "Not all runs are available for the variable\n",
      "Number of runs available for the runs directory:  74\n",
      "Number of runs available for the variable:  1\n",
      "Path:  /badc/cmip6/data/CMIP6/CMIP/*/EC-Earth3/historical/*r*i*p*f*/Amon/sfcWind/g?/files/d*/\n",
      "Path:  /badc/cmip6/data/CMIP6/CMIP/*/EC-Earth3/historical/*r*i*p*f*/Amon/sfcWind/g?/files/d*/\n",
      "Model:  MPI-ESM1-2-LR\n",
      "Variable:  psl\n",
      "Not all runs are available for the variable\n",
      "Number of runs available for the runs directory:  30\n",
      "Number of runs available for the variable:  1\n",
      "Not all runs are available for the variable\n",
      "Number of runs available for the runs directory:  30\n",
      "Number of runs available for the variable:  1\n",
      "Not all runs are available for the variable\n",
      "Number of runs available for the runs directory:  30\n",
      "Number of runs available for the variable:  1\n",
      "Path:  /badc/cmip6/data/CMIP6/CMIP/*/MPI-ESM1-2-LR/historical/*r*i*p*f*/Amon/psl/g?/files/d*/\n",
      "Path:  /badc/cmip6/data/CMIP6/CMIP/*/MPI-ESM1-2-LR/historical/*r*i*p*f*/Amon/psl/g?/files/d*/\n",
      "Variable:  tas\n"
     ]
    },
    {
     "name": "stderr",
     "output_type": "stream",
     "text": [
      "/home/users/benhutch/model-characteristics/functions.py:484: FutureWarning: The frame.append method is deprecated and will be removed from pandas in a future version. Use pandas.concat instead.\n",
      "  df = df.append(row_dict, ignore_index=True)\n"
     ]
    },
    {
     "name": "stdout",
     "output_type": "stream",
     "text": [
      "Path:  /badc/cmip6/data/CMIP6/CMIP/*/MPI-ESM1-2-LR/historical/*r*i*p*f*/Amon/tas/g?/files/d*/\n",
      "Path:  /badc/cmip6/data/CMIP6/CMIP/*/MPI-ESM1-2-LR/historical/*r*i*p*f*/Amon/tas/g?/files/d*/\n",
      "Variable:  tos\n",
      "Path:  /badc/cmip6/data/CMIP6/CMIP/*/MPI-ESM1-2-LR/historical/*r*i*p*f*/Amon/tos/g?/files/d*/\n",
      "No files available\n",
      "Path:  /badc/cmip6/data/CMIP6/CMIP/*/MPI-ESM1-2-LR/historical/*r*i*p*f*/Amon/tos/g?/files/d*/\n",
      "No files available\n",
      "No files available\n"
     ]
    },
    {
     "name": "stderr",
     "output_type": "stream",
     "text": [
      "/home/users/benhutch/model-characteristics/functions.py:484: FutureWarning: The frame.append method is deprecated and will be removed from pandas in a future version. Use pandas.concat instead.\n",
      "  df = df.append(row_dict, ignore_index=True)\n",
      "/home/users/benhutch/model-characteristics/functions.py:484: FutureWarning: The frame.append method is deprecated and will be removed from pandas in a future version. Use pandas.concat instead.\n",
      "  df = df.append(row_dict, ignore_index=True)\n",
      "/home/users/benhutch/model-characteristics/functions.py:484: FutureWarning: The frame.append method is deprecated and will be removed from pandas in a future version. Use pandas.concat instead.\n",
      "  df = df.append(row_dict, ignore_index=True)\n"
     ]
    },
    {
     "name": "stdout",
     "output_type": "stream",
     "text": [
      "Variable:  rsds\n",
      "Not all runs are available for the variable\n",
      "Number of runs available for the runs directory:  30\n",
      "Number of runs available for the variable:  1\n",
      "Not all runs are available for the variable\n",
      "Number of runs available for the runs directory:  30\n",
      "Number of runs available for the variable:  1\n",
      "Not all runs are available for the variable\n",
      "Number of runs available for the runs directory:  30\n",
      "Number of runs available for the variable:  1\n",
      "Path:  /badc/cmip6/data/CMIP6/CMIP/*/MPI-ESM1-2-LR/historical/*r*i*p*f*/Amon/rsds/g?/files/d*/\n",
      "Path:  /badc/cmip6/data/CMIP6/CMIP/*/MPI-ESM1-2-LR/historical/*r*i*p*f*/Amon/rsds/g?/files/d*/\n",
      "Variable:  sfcWind\n",
      "Not all runs are available for the variable\n",
      "Number of runs available for the runs directory:  30\n",
      "Number of runs available for the variable:  1\n",
      "Not all runs are available for the variable\n",
      "Number of runs available for the runs directory:  30\n",
      "Number of runs available for the variable:  1\n",
      "Not all runs are available for the variable\n",
      "Number of runs available for the runs directory:  30\n",
      "Number of runs available for the variable:  1\n",
      "Path:  /badc/cmip6/data/CMIP6/CMIP/*/MPI-ESM1-2-LR/historical/*r*i*p*f*/Amon/sfcWind/g?/files/d*/\n",
      "Path:  /badc/cmip6/data/CMIP6/CMIP/*/MPI-ESM1-2-LR/historical/*r*i*p*f*/Amon/sfcWind/g?/files/d*/\n",
      "Model:  FGOALS-f3-L\n",
      "Variable:  psl\n"
     ]
    },
    {
     "name": "stderr",
     "output_type": "stream",
     "text": [
      "/home/users/benhutch/model-characteristics/functions.py:484: FutureWarning: The frame.append method is deprecated and will be removed from pandas in a future version. Use pandas.concat instead.\n",
      "  df = df.append(row_dict, ignore_index=True)\n",
      "/home/users/benhutch/model-characteristics/functions.py:484: FutureWarning: The frame.append method is deprecated and will be removed from pandas in a future version. Use pandas.concat instead.\n",
      "  df = df.append(row_dict, ignore_index=True)\n",
      "/home/users/benhutch/model-characteristics/functions.py:484: FutureWarning: The frame.append method is deprecated and will be removed from pandas in a future version. Use pandas.concat instead.\n",
      "  df = df.append(row_dict, ignore_index=True)\n",
      "/home/users/benhutch/model-characteristics/functions.py:484: FutureWarning: The frame.append method is deprecated and will be removed from pandas in a future version. Use pandas.concat instead.\n",
      "  df = df.append(row_dict, ignore_index=True)\n"
     ]
    },
    {
     "name": "stdout",
     "output_type": "stream",
     "text": [
      "Not all runs are available for the variable\n",
      "Number of runs available for the runs directory:  3\n",
      "Number of runs available for the variable:  1\n",
      "Not all runs are available for the variable\n",
      "Number of runs available for the runs directory:  3\n",
      "Number of runs available for the variable:  1\n",
      "Not all runs are available for the variable\n",
      "Number of runs available for the runs directory:  3\n",
      "Number of runs available for the variable:  1\n",
      "Path:  /badc/cmip6/data/CMIP6/CMIP/*/FGOALS-f3-L/historical/*r*i*p*f*/Amon/psl/g?/files/d*/\n",
      "Path:  /badc/cmip6/data/CMIP6/CMIP/*/FGOALS-f3-L/historical/*r*i*p*f*/Amon/psl/g?/files/d*/\n",
      "Variable:  tas\n",
      "Path:  /badc/cmip6/data/CMIP6/CMIP/*/FGOALS-f3-L/historical/*r*i*p*f*/Amon/tas/g?/files/d*/\n",
      "Path:  /badc/cmip6/data/CMIP6/CMIP/*/FGOALS-f3-L/historical/*r*i*p*f*/Amon/tas/g?/files/d*/\n",
      "Variable:  tos\n",
      "Path:  /badc/cmip6/data/CMIP6/CMIP/*/FGOALS-f3-L/historical/*r*i*p*f*/Amon/tos/g?/files/d*/\n",
      "No files available\n",
      "Path:  /badc/cmip6/data/CMIP6/CMIP/*/FGOALS-f3-L/historical/*r*i*p*f*/Amon/tos/g?/files/d*/\n",
      "No files available\n",
      "No files available\n",
      "Variable:  rsds\n",
      "Not all runs are available for the variable\n",
      "Number of runs available for the runs directory:  3\n",
      "Number of runs available for the variable:  1\n",
      "Not all runs are available for the variable\n",
      "Number of runs available for the runs directory:  3\n",
      "Number of runs available for the variable:  1\n",
      "Not all runs are available for the variable\n",
      "Number of runs available for the runs directory:  3\n",
      "Number of runs available for the variable:  1\n",
      "Path:  /badc/cmip6/data/CMIP6/CMIP/*/FGOALS-f3-L/historical/*r*i*p*f*/Amon/rsds/g?/files/d*/\n",
      "Path:  /badc/cmip6/data/CMIP6/CMIP/*/FGOALS-f3-L/historical/*r*i*p*f*/Amon/rsds/g?/files/d*/\n",
      "Variable:  sfcWind\n"
     ]
    },
    {
     "name": "stderr",
     "output_type": "stream",
     "text": [
      "/home/users/benhutch/model-characteristics/functions.py:484: FutureWarning: The frame.append method is deprecated and will be removed from pandas in a future version. Use pandas.concat instead.\n",
      "  df = df.append(row_dict, ignore_index=True)\n",
      "/home/users/benhutch/model-characteristics/functions.py:484: FutureWarning: The frame.append method is deprecated and will be removed from pandas in a future version. Use pandas.concat instead.\n",
      "  df = df.append(row_dict, ignore_index=True)\n"
     ]
    },
    {
     "name": "stdout",
     "output_type": "stream",
     "text": [
      "Not all runs are available for the variable\n",
      "Number of runs available for the runs directory:  3\n",
      "Number of runs available for the variable:  1\n",
      "Not all runs are available for the variable\n",
      "Number of runs available for the runs directory:  3\n",
      "Number of runs available for the variable:  1\n",
      "Not all runs are available for the variable\n",
      "Number of runs available for the runs directory:  3\n",
      "Number of runs available for the variable:  1\n",
      "Path:  /badc/cmip6/data/CMIP6/CMIP/*/FGOALS-f3-L/historical/*r*i*p*f*/Amon/sfcWind/g?/files/d*/\n",
      "Path:  /badc/cmip6/data/CMIP6/CMIP/*/FGOALS-f3-L/historical/*r*i*p*f*/Amon/sfcWind/g?/files/d*/\n",
      "Model:  MIROC6\n",
      "Variable:  psl\n",
      "Path:  /badc/cmip6/data/CMIP6/CMIP/*/MIROC6/historical/*r*i*p*f*/Amon/psl/g?/files/d*/\n",
      "Path:  /badc/cmip6/data/CMIP6/CMIP/*/MIROC6/historical/*r*i*p*f*/Amon/psl/g?/files/d*/\n",
      "Variable:  tas\n",
      "Path:  /badc/cmip6/data/CMIP6/CMIP/*/MIROC6/historical/*r*i*p*f*/Amon/tas/g?/files/d*/\n"
     ]
    },
    {
     "name": "stderr",
     "output_type": "stream",
     "text": [
      "/home/users/benhutch/model-characteristics/functions.py:484: FutureWarning: The frame.append method is deprecated and will be removed from pandas in a future version. Use pandas.concat instead.\n",
      "  df = df.append(row_dict, ignore_index=True)\n"
     ]
    },
    {
     "name": "stdout",
     "output_type": "stream",
     "text": [
      "Path:  /badc/cmip6/data/CMIP6/CMIP/*/MIROC6/historical/*r*i*p*f*/Amon/tas/g?/files/d*/\n",
      "Variable:  tos\n",
      "Path:  /badc/cmip6/data/CMIP6/CMIP/*/MIROC6/historical/*r*i*p*f*/Amon/tos/g?/files/d*/\n",
      "No files available\n",
      "Path:  /badc/cmip6/data/CMIP6/CMIP/*/MIROC6/historical/*r*i*p*f*/Amon/tos/g?/files/d*/\n",
      "No files available\n",
      "No files available\n",
      "Variable:  rsds\n"
     ]
    },
    {
     "name": "stderr",
     "output_type": "stream",
     "text": [
      "/home/users/benhutch/model-characteristics/functions.py:484: FutureWarning: The frame.append method is deprecated and will be removed from pandas in a future version. Use pandas.concat instead.\n",
      "  df = df.append(row_dict, ignore_index=True)\n",
      "/home/users/benhutch/model-characteristics/functions.py:484: FutureWarning: The frame.append method is deprecated and will be removed from pandas in a future version. Use pandas.concat instead.\n",
      "  df = df.append(row_dict, ignore_index=True)\n"
     ]
    },
    {
     "name": "stdout",
     "output_type": "stream",
     "text": [
      "Not all runs are available for the variable\n",
      "Number of runs available for the runs directory:  50\n",
      "Number of runs available for the variable:  10\n",
      "Not all runs are available for the variable\n",
      "Number of runs available for the runs directory:  50\n",
      "Number of runs available for the variable:  10\n",
      "Not all runs are available for the variable\n",
      "Number of runs available for the runs directory:  50\n",
      "Number of runs available for the variable:  10\n",
      "Path:  /badc/cmip6/data/CMIP6/CMIP/*/MIROC6/historical/*r*i*p*f*/Amon/rsds/g?/files/d*/\n",
      "Path:  /badc/cmip6/data/CMIP6/CMIP/*/MIROC6/historical/*r*i*p*f*/Amon/rsds/g?/files/d*/\n",
      "Variable:  sfcWind\n",
      "Not all runs are available for the variable\n",
      "Number of runs available for the runs directory:  50\n",
      "Number of runs available for the variable:  10\n",
      "Not all runs are available for the variable\n",
      "Number of runs available for the runs directory:  50\n",
      "Number of runs available for the variable:  10\n"
     ]
    },
    {
     "name": "stderr",
     "output_type": "stream",
     "text": [
      "/home/users/benhutch/model-characteristics/functions.py:484: FutureWarning: The frame.append method is deprecated and will be removed from pandas in a future version. Use pandas.concat instead.\n",
      "  df = df.append(row_dict, ignore_index=True)\n",
      "/home/users/benhutch/model-characteristics/functions.py:484: FutureWarning: The frame.append method is deprecated and will be removed from pandas in a future version. Use pandas.concat instead.\n",
      "  df = df.append(row_dict, ignore_index=True)\n"
     ]
    },
    {
     "name": "stdout",
     "output_type": "stream",
     "text": [
      "Not all runs are available for the variable\n",
      "Number of runs available for the runs directory:  50\n",
      "Number of runs available for the variable:  10\n",
      "Path:  /badc/cmip6/data/CMIP6/CMIP/*/MIROC6/historical/*r*i*p*f*/Amon/sfcWind/g?/files/d*/\n",
      "Path:  /badc/cmip6/data/CMIP6/CMIP/*/MIROC6/historical/*r*i*p*f*/Amon/sfcWind/g?/files/d*/\n",
      "Model:  IPSL-CM6A-LR\n",
      "Variable:  psl\n",
      "Not all runs are available for the variable\n",
      "Number of runs available for the runs directory:  32\n",
      "Number of runs available for the variable:  31\n",
      "Not all runs are available for the variable\n",
      "Number of runs available for the runs directory:  32\n",
      "Number of runs available for the variable:  31\n",
      "Not all runs are available for the variable\n",
      "Number of runs available for the runs directory:  32\n",
      "Number of runs available for the variable:  31\n",
      "Path:  /badc/cmip6/data/CMIP6/CMIP/*/IPSL-CM6A-LR/historical/*r*i*p*f*/Amon/psl/g?/files/d*/\n",
      "Path:  /badc/cmip6/data/CMIP6/CMIP/*/IPSL-CM6A-LR/historical/*r*i*p*f*/Amon/psl/g?/files/d*/\n",
      "Variable:  tas\n",
      "Path:  /badc/cmip6/data/CMIP6/CMIP/*/IPSL-CM6A-LR/historical/*r*i*p*f*/Amon/tas/g?/files/d*/\n",
      "Path:  /badc/cmip6/data/CMIP6/CMIP/*/IPSL-CM6A-LR/historical/*r*i*p*f*/Amon/tas/g?/files/d*/\n"
     ]
    },
    {
     "name": "stderr",
     "output_type": "stream",
     "text": [
      "/home/users/benhutch/model-characteristics/functions.py:484: FutureWarning: The frame.append method is deprecated and will be removed from pandas in a future version. Use pandas.concat instead.\n",
      "  df = df.append(row_dict, ignore_index=True)\n",
      "/home/users/benhutch/model-characteristics/functions.py:484: FutureWarning: The frame.append method is deprecated and will be removed from pandas in a future version. Use pandas.concat instead.\n",
      "  df = df.append(row_dict, ignore_index=True)\n"
     ]
    },
    {
     "name": "stdout",
     "output_type": "stream",
     "text": [
      "Variable:  tos\n",
      "Path:  /badc/cmip6/data/CMIP6/CMIP/*/IPSL-CM6A-LR/historical/*r*i*p*f*/Amon/tos/g?/files/d*/\n",
      "No files available\n",
      "Path:  /badc/cmip6/data/CMIP6/CMIP/*/IPSL-CM6A-LR/historical/*r*i*p*f*/Amon/tos/g?/files/d*/\n",
      "No files available\n",
      "No files available\n",
      "Variable:  rsds\n",
      "Not all runs are available for the variable\n",
      "Number of runs available for the runs directory:  32\n",
      "Number of runs available for the variable:  31\n",
      "Not all runs are available for the variable\n",
      "Number of runs available for the runs directory:  32\n",
      "Number of runs available for the variable:  31\n",
      "Not all runs are available for the variable\n",
      "Number of runs available for the runs directory:  32\n",
      "Number of runs available for the variable:  31\n",
      "Path:  /badc/cmip6/data/CMIP6/CMIP/*/IPSL-CM6A-LR/historical/*r*i*p*f*/Amon/rsds/g?/files/d*/\n"
     ]
    },
    {
     "name": "stderr",
     "output_type": "stream",
     "text": [
      "/home/users/benhutch/model-characteristics/functions.py:484: FutureWarning: The frame.append method is deprecated and will be removed from pandas in a future version. Use pandas.concat instead.\n",
      "  df = df.append(row_dict, ignore_index=True)\n",
      "/home/users/benhutch/model-characteristics/functions.py:484: FutureWarning: The frame.append method is deprecated and will be removed from pandas in a future version. Use pandas.concat instead.\n",
      "  df = df.append(row_dict, ignore_index=True)\n"
     ]
    },
    {
     "name": "stdout",
     "output_type": "stream",
     "text": [
      "Path:  /badc/cmip6/data/CMIP6/CMIP/*/IPSL-CM6A-LR/historical/*r*i*p*f*/Amon/rsds/g?/files/d*/\n",
      "Variable:  sfcWind\n",
      "Not all runs are available for the variable\n",
      "Number of runs available for the runs directory:  32\n",
      "Number of runs available for the variable:  31\n",
      "Not all runs are available for the variable\n",
      "Number of runs available for the runs directory:  32\n",
      "Number of runs available for the variable:  31\n",
      "Not all runs are available for the variable\n",
      "Number of runs available for the runs directory:  32\n",
      "Number of runs available for the variable:  31\n",
      "Path:  /badc/cmip6/data/CMIP6/CMIP/*/IPSL-CM6A-LR/historical/*r*i*p*f*/Amon/sfcWind/g?/files/d*/\n",
      "Path:  /badc/cmip6/data/CMIP6/CMIP/*/IPSL-CM6A-LR/historical/*r*i*p*f*/Amon/sfcWind/g?/files/d*/\n",
      "Model:  CESM1-1-CAM5-CMIP5\n",
      "Variable:  psl\n"
     ]
    },
    {
     "name": "stderr",
     "output_type": "stream",
     "text": [
      "/home/users/benhutch/model-characteristics/functions.py:484: FutureWarning: The frame.append method is deprecated and will be removed from pandas in a future version. Use pandas.concat instead.\n",
      "  df = df.append(row_dict, ignore_index=True)\n"
     ]
    },
    {
     "name": "stdout",
     "output_type": "stream",
     "text": [
      "Model not available\n",
      "Table_id not available for model:  CESM1-1-CAM5-CMIP5 and experiment:  historical\n"
     ]
    },
    {
     "ename": "IndexError",
     "evalue": "list index out of range",
     "output_type": "error",
     "traceback": [
      "\u001b[0;31m---------------------------------------------------------------------------\u001b[0m",
      "\u001b[0;31mIndexError\u001b[0m                                Traceback (most recent call last)",
      "Input \u001b[0;32mIn [15]\u001b[0m, in \u001b[0;36m<cell line: 2>\u001b[0;34m()\u001b[0m\n\u001b[1;32m      1\u001b[0m \u001b[38;5;66;03m# test the updated fill dataframe function\u001b[39;00m\n\u001b[0;32m----> 2\u001b[0m df \u001b[38;5;241m=\u001b[39m \u001b[43mfnc\u001b[49m\u001b[38;5;241;43m.\u001b[39;49m\u001b[43mfill_dataframe\u001b[49m\u001b[43m(\u001b[49m\u001b[43mdic\u001b[49m\u001b[38;5;241;43m.\u001b[39;49m\u001b[43mmodels\u001b[49m\u001b[43m,\u001b[49m\u001b[43m \u001b[49m\u001b[43mdic\u001b[49m\u001b[38;5;241;43m.\u001b[39;49m\u001b[43mvariables\u001b[49m\u001b[43m,\u001b[49m\u001b[43m \u001b[49m\u001b[43mdic\u001b[49m\u001b[38;5;241;43m.\u001b[39;49m\u001b[43mcolumns\u001b[49m\u001b[43m,\u001b[49m\u001b[43m \u001b[49m\u001b[43mdic\u001b[49m\u001b[38;5;241;43m.\u001b[39;49m\u001b[43mexperiments\u001b[49m\u001b[43m,\u001b[49m\u001b[43m \u001b[49m\u001b[43mdic\u001b[49m\u001b[38;5;241;43m.\u001b[39;49m\u001b[43mtable_ids\u001b[49m\u001b[43m)\u001b[49m\n\u001b[1;32m      3\u001b[0m df\n",
      "File \u001b[0;32m~/model-characteristics/functions.py:478\u001b[0m, in \u001b[0;36mfill_dataframe\u001b[0;34m(models, variables, columns, experiments, table_ids)\u001b[0m\n\u001b[1;32m    475\u001b[0m column_function \u001b[38;5;241m=\u001b[39m column_functions[column]\n\u001b[1;32m    477\u001b[0m \u001b[38;5;66;03m# call the function to get the value for the current model, variable, and column and experiment\u001b[39;00m\n\u001b[0;32m--> 478\u001b[0m value \u001b[38;5;241m=\u001b[39m \u001b[43mcolumn_function\u001b[49m\u001b[43m(\u001b[49m\u001b[43mtable_id\u001b[49m\u001b[43m,\u001b[49m\u001b[43m \u001b[49m\u001b[43mexperiment\u001b[49m\u001b[43m,\u001b[49m\u001b[43m \u001b[49m\u001b[43mmodel\u001b[49m\u001b[43m,\u001b[49m\u001b[43m \u001b[49m\u001b[43mbase_path\u001b[49m\u001b[43m,\u001b[49m\u001b[43m \u001b[49m\u001b[43mvariable\u001b[49m\u001b[43m)\u001b[49m\n\u001b[1;32m    480\u001b[0m \u001b[38;5;66;03m# add the column value to the dictionary\u001b[39;00m\n\u001b[1;32m    481\u001b[0m row_dict[column] \u001b[38;5;241m=\u001b[39m value\n",
      "File \u001b[0;32m~/model-characteristics/functions.py:425\u001b[0m, in \u001b[0;36mfill_dataframe.<locals>.<lambda>\u001b[0;34m(table_id, experiment, model, base_path, variable)\u001b[0m\n\u001b[1;32m    418\u001b[0m df \u001b[38;5;241m=\u001b[39m pd\u001b[38;5;241m.\u001b[39mDataFrame(columns\u001b[38;5;241m=\u001b[39mcolumns)\n\u001b[1;32m    420\u001b[0m \u001b[38;5;66;03m# create a dictionary to map column names to functions\u001b[39;00m\n\u001b[1;32m    421\u001b[0m column_functions \u001b[38;5;241m=\u001b[39m {\n\u001b[1;32m    422\u001b[0m     \u001b[38;5;124m\"\u001b[39m\u001b[38;5;124minstitution\u001b[39m\u001b[38;5;124m\"\u001b[39m: \u001b[38;5;28;01mlambda\u001b[39;00m table_id, experiment, model, base_path, variable: get_institution(model, base_path, variable),\n\u001b[1;32m    423\u001b[0m     \u001b[38;5;124m\"\u001b[39m\u001b[38;5;124msource\u001b[39m\u001b[38;5;124m\"\u001b[39m: \u001b[38;5;28;01mlambda\u001b[39;00m table_id, experiment, model, base_path, variable: model,\n\u001b[1;32m    424\u001b[0m     \u001b[38;5;124m\"\u001b[39m\u001b[38;5;124mexperiment\u001b[39m\u001b[38;5;124m\"\u001b[39m: \u001b[38;5;28;01mlambda\u001b[39;00m table_id, experiment, model, base_path, variable: experiment,\n\u001b[0;32m--> 425\u001b[0m     \u001b[38;5;124m\"\u001b[39m\u001b[38;5;124mtable_id\u001b[39m\u001b[38;5;124m\"\u001b[39m: \u001b[38;5;28;01mlambda\u001b[39;00m table_id, experiment, model, base_path, variable: \u001b[43mget_table_id\u001b[49m\u001b[43m(\u001b[49m\u001b[43mmodel\u001b[49m\u001b[43m,\u001b[49m\u001b[43m \u001b[49m\u001b[43mbase_path\u001b[49m\u001b[43m,\u001b[49m\u001b[43m \u001b[49m\u001b[43mexperiment\u001b[49m\u001b[38;5;241;43m=\u001b[39;49m\u001b[43mexperiment\u001b[49m\u001b[43m,\u001b[49m\u001b[43m \u001b[49m\u001b[43mtable_id\u001b[49m\u001b[38;5;241;43m=\u001b[39;49m\u001b[43mtable_id\u001b[49m\u001b[43m)\u001b[49m,\n\u001b[1;32m    426\u001b[0m     \u001b[38;5;124m\"\u001b[39m\u001b[38;5;124mruns\u001b[39m\u001b[38;5;124m\"\u001b[39m: \u001b[38;5;28;01mlambda\u001b[39;00m table_id, experiment, model, base_path, variable: get_runs(model, base_path, experiment\u001b[38;5;241m=\u001b[39mexperiment),\n\u001b[1;32m    427\u001b[0m     \u001b[38;5;124m\"\u001b[39m\u001b[38;5;124minits\u001b[39m\u001b[38;5;124m\"\u001b[39m: \u001b[38;5;28;01mlambda\u001b[39;00m table_id, experiment, model, base_path, variable: get_inits(model, base_path, experiment\u001b[38;5;241m=\u001b[39mexperiment),\n\u001b[1;32m    428\u001b[0m     \u001b[38;5;124m\"\u001b[39m\u001b[38;5;124mphysics\u001b[39m\u001b[38;5;124m\"\u001b[39m: \u001b[38;5;28;01mlambda\u001b[39;00m table_id, experiment, model, base_path, variable: get_physics(model, base_path, experiment\u001b[38;5;241m=\u001b[39mexperiment),\n\u001b[1;32m    429\u001b[0m     \u001b[38;5;124m\"\u001b[39m\u001b[38;5;124mforcing\u001b[39m\u001b[38;5;124m\"\u001b[39m: \u001b[38;5;28;01mlambda\u001b[39;00m table_id, experiment, model, base_path, variable: get_forcing(model, base_path, experiment\u001b[38;5;241m=\u001b[39mexperiment),\n\u001b[1;32m    430\u001b[0m     \u001b[38;5;124m\"\u001b[39m\u001b[38;5;124mtotal ensemble members\u001b[39m\u001b[38;5;124m\"\u001b[39m: \u001b[38;5;28;01mlambda\u001b[39;00m table_id, experiment, model, base_path, variable: get_total_ensemble_members(model, base_path, experiment\u001b[38;5;241m=\u001b[39mexperiment),\n\u001b[1;32m    431\u001b[0m     \u001b[38;5;124m\"\u001b[39m\u001b[38;5;124mno_members\u001b[39m\u001b[38;5;124m\"\u001b[39m: \u001b[38;5;28;01mlambda\u001b[39;00m table_id, experiment, model, base_path, variable: get_variable(model, base_path, experiment\u001b[38;5;241m=\u001b[39mexperiment, table_id\u001b[38;5;241m=\u001b[39mtable_id, variable\u001b[38;5;241m=\u001b[39mvariable)[\u001b[38;5;241m1\u001b[39m],\n\u001b[1;32m    432\u001b[0m     \u001b[38;5;124m\"\u001b[39m\u001b[38;5;124mmembers_list\u001b[39m\u001b[38;5;124m\"\u001b[39m: \u001b[38;5;28;01mlambda\u001b[39;00m table_id, experiment, model, base_path, variable: get_variable(model, base_path, experiment\u001b[38;5;241m=\u001b[39mexperiment, table_id\u001b[38;5;241m=\u001b[39mtable_id, variable\u001b[38;5;241m=\u001b[39mvariable)[\u001b[38;5;241m2\u001b[39m],\n\u001b[1;32m    433\u001b[0m     \u001b[38;5;124m\"\u001b[39m\u001b[38;5;124mvariable\u001b[39m\u001b[38;5;124m\"\u001b[39m: \u001b[38;5;28;01mlambda\u001b[39;00m table_id, experiment, model, base_path, variable: get_variable(model, base_path, experiment\u001b[38;5;241m=\u001b[39mexperiment, table_id\u001b[38;5;241m=\u001b[39mtable_id, variable\u001b[38;5;241m=\u001b[39mvariable)[\u001b[38;5;241m0\u001b[39m],\n\u001b[1;32m    434\u001b[0m     \u001b[38;5;124m\"\u001b[39m\u001b[38;5;124mmodel\u001b[39m\u001b[38;5;124m\"\u001b[39m: \u001b[38;5;28;01mlambda\u001b[39;00m table_id, experiment, model, base_path, variable: model,\n\u001b[1;32m    435\u001b[0m     \u001b[38;5;124m\"\u001b[39m\u001b[38;5;124mfiles_list\u001b[39m\u001b[38;5;124m\"\u001b[39m: \u001b[38;5;28;01mlambda\u001b[39;00m table_id, experiment, model, base_path, variable: get_files(model, base_path, experiment\u001b[38;5;241m=\u001b[39mexperiment, table_id\u001b[38;5;241m=\u001b[39mtable_id, variable\u001b[38;5;241m=\u001b[39mvariable),\n\u001b[1;32m    436\u001b[0m     \u001b[38;5;124m\"\u001b[39m\u001b[38;5;124myears_range\u001b[39m\u001b[38;5;124m\"\u001b[39m: \u001b[38;5;28;01mlambda\u001b[39;00m table_id, experiment, model, base_path, variable: get_years(model, base_path, experiment\u001b[38;5;241m=\u001b[39mexperiment, table_id\u001b[38;5;241m=\u001b[39mtable_id, variable\u001b[38;5;241m=\u001b[39mvariable)\n\u001b[1;32m    437\u001b[0m }\n\u001b[1;32m    440\u001b[0m \u001b[38;5;66;03m# iterate over the list of table ids\u001b[39;00m\n\u001b[1;32m    441\u001b[0m \u001b[38;5;28;01mfor\u001b[39;00m table_id \u001b[38;5;129;01min\u001b[39;00m table_ids:\n\u001b[1;32m    442\u001b[0m     \u001b[38;5;66;03m# Print the table_id which is being processed\u001b[39;00m\n",
      "File \u001b[0;32m~/model-characteristics/functions.py:235\u001b[0m, in \u001b[0;36mget_table_id\u001b[0;34m(model, base_path, experiment, table_id)\u001b[0m\n\u001b[1;32m    232\u001b[0m     first_table_id \u001b[38;5;241m=\u001b[39m table_id \u001b[38;5;241m+\u001b[39m \u001b[38;5;124m\"\u001b[39m\u001b[38;5;124m not available\u001b[39m\u001b[38;5;124m\"\u001b[39m\n\u001b[1;32m    234\u001b[0m \u001b[38;5;66;03m# Get the table_id from the path\u001b[39;00m\n\u001b[0;32m--> 235\u001b[0m first_table_id \u001b[38;5;241m=\u001b[39m \u001b[43mdirs\u001b[49m\u001b[43m[\u001b[49m\u001b[38;5;241;43m0\u001b[39;49m\u001b[43m]\u001b[49m\u001b[38;5;241m.\u001b[39msplit(\u001b[38;5;124m\"\u001b[39m\u001b[38;5;124m/\u001b[39m\u001b[38;5;124m\"\u001b[39m)[\u001b[38;5;241m-\u001b[39m\u001b[38;5;241m1\u001b[39m]\n\u001b[1;32m    237\u001b[0m \u001b[38;5;66;03m# #print the first table_id\u001b[39;00m\n\u001b[1;32m    238\u001b[0m \u001b[38;5;66;03m#print(\"First table_id: \", first_table_id)\u001b[39;00m\n\u001b[1;32m    239\u001b[0m \n\u001b[1;32m    240\u001b[0m \u001b[38;5;66;03m# Check that the table_id is the same for all ensemble members\u001b[39;00m\n\u001b[1;32m    241\u001b[0m \u001b[38;5;28;01mfor\u001b[39;00m d \u001b[38;5;129;01min\u001b[39;00m dirs:\n",
      "\u001b[0;31mIndexError\u001b[0m: list index out of range"
     ]
    }
   ],
   "source": [
    "# test the updated fill dataframe function\n",
    "df = fnc.fill_dataframe(dic.models, dic.variables, dic.columns, dic.experiments, dic.table_ids)\n",
    "df"
   ]
  },
  {
   "cell_type": "code",
   "execution_count": null,
   "metadata": {},
   "outputs": [],
   "source": [
    "df"
   ]
  },
  {
   "cell_type": "code",
   "execution_count": null,
   "metadata": {},
   "outputs": [],
   "source": [
    "# get df psl\n",
    "df_psl = df.loc[df['variable'] == 'psl']\n",
    "df_psl"
   ]
  }
 ],
 "metadata": {
  "kernelspec": {
   "display_name": "bens-python-environment",
   "language": "python",
   "name": "bens-python-environment"
  },
  "language_info": {
   "codemirror_mode": {
    "name": "ipython",
    "version": 3
   },
   "file_extension": ".py",
   "mimetype": "text/x-python",
   "name": "python",
   "nbconvert_exporter": "python",
   "pygments_lexer": "ipython3",
   "version": "3.10.5"
  }
 },
 "nbformat": 4,
 "nbformat_minor": 4
}
