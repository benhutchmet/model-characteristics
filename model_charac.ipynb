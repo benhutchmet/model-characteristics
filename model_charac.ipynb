{
 "cells": [
  {
   "cell_type": "code",
   "execution_count": 1,
   "metadata": {},
   "outputs": [],
   "source": [
    "# Import local modules\n",
    "import sys\n",
    "import os\n",
    "import glob\n",
    "\n",
    "# Import third-party modules\n",
    "import numpy as np\n",
    "import pandas as pd\n",
    "import matplotlib.pyplot as plt\n",
    "import seaborn as sns\n",
    "import scipy.stats as stats\n",
    "import xarray as xr"
   ]
  },
  {
   "cell_type": "code",
   "execution_count": 2,
   "metadata": {},
   "outputs": [],
   "source": [
    "# sys append path for dictionaries and functions\n",
    "sys.path.append(\"/home/users/benhutch/model-characteristics\")\n",
    "\n",
    "# Import dictionaries and functions\n",
    "import dictionaries as dic\n",
    "import functions as fnc"
   ]
  },
  {
   "cell_type": "code",
   "execution_count": 3,
   "metadata": {},
   "outputs": [],
   "source": [
    "# Test the get institution function\n",
    "institution = fnc.get_institution(dic.models[11], dic.base_JASMIN_dir_cmip, dic.test_variable)"
   ]
  },
  {
   "cell_type": "code",
   "execution_count": 4,
   "metadata": {},
   "outputs": [],
   "source": [
    "# Check whether the experiment exists for a given model\n",
    "# in this case, the experiment is 'historical'\n",
    "experiment = fnc.check_experiment(dic.models[11], dic.base_JASMIN_dir_cmip, experiment=\"historical\")"
   ]
  },
  {
   "cell_type": "code",
   "execution_count": 5,
   "metadata": {},
   "outputs": [],
   "source": [
    "# Test the runs function\n",
    "runs = fnc.get_runs(dic.models[11], dic.base_JASMIN_dir_cmip, experiment=\"historical\", variable=\"psl\")"
   ]
  },
  {
   "cell_type": "code",
   "execution_count": 6,
   "metadata": {},
   "outputs": [],
   "source": [
    "# Test the total ensemble members function\n",
    "no_members = fnc.get_total_ensemble_members(dic.models[11], dic.base_JASMIN_dir_cmip, experiment=\"historical\", variable=\"psl\")"
   ]
  },
  {
   "cell_type": "code",
   "execution_count": 7,
   "metadata": {},
   "outputs": [
    {
     "name": "stdout",
     "output_type": "stream",
     "text": [
      "12\n"
     ]
    }
   ],
   "source": [
    "# table id\n",
    "\n",
    "print(len(dic.models))\n",
    "table_id  = fnc.get_table_id(dic.models[11], dic.base_JASMIN_dir_cmip, dic.experiment_hist, dic.table_id, dic.test_variable)"
   ]
  },
  {
   "cell_type": "code",
   "execution_count": 8,
   "metadata": {},
   "outputs": [
    {
     "name": "stdout",
     "output_type": "stream",
     "text": [
      "Not all runs are available for the variable\n",
      "Number of runs available for the runs directory:  30\n",
      "Number of runs available for the variable:  1\n"
     ]
    }
   ],
   "source": [
    "# test the varaible functions\n",
    "index = len(dic.models) - 1\n",
    "\n",
    "variable, no_members, members_list = fnc.get_variable(dic.models[11], dic.base_JASMIN_dir_cmip, dic.experiment_hist, dic.table_id, dic.test_variable)"
   ]
  },
  {
   "cell_type": "code",
   "execution_count": 9,
   "metadata": {},
   "outputs": [],
   "source": [
    "# Test the new function for getting the list of files in the final directory\n",
    "files_list = fnc.get_files(dic.models[0], dic.base_JASMIN_dir_cmip, dic.experiment_hist, dic.table_id, dic.test_variable)"
   ]
  },
  {
   "cell_type": "code",
   "execution_count": 10,
   "metadata": {},
   "outputs": [
    {
     "name": "stdout",
     "output_type": "stream",
     "text": [
      "Looking for data on JASMIN badc path\n",
      "1850-2014\n"
     ]
    }
   ],
   "source": [
    "# test the get_years function\n",
    "years_range = fnc.get_years(dic.models[0], dic.base_JASMIN_dir_cmip, dic.experiment_hist, dic.table_id, dic.test_variable)\n",
    "print(years_range)"
   ]
  },
  {
   "cell_type": "code",
   "execution_count": 11,
   "metadata": {},
   "outputs": [
    {
     "name": "stdout",
     "output_type": "stream",
     "text": [
      "BCC\n",
      "MPI-M\n",
      "CCCma\n",
      "CMCC\n",
      "MOHC\n",
      "EC-Earth-Consortium\n",
      "Model not available\n",
      "None\n",
      "Model not available\n",
      "None\n",
      "MIROC\n",
      "IPSL\n",
      "Model not available\n",
      "None\n"
     ]
    }
   ],
   "source": [
    "# Now test again with DCPP-A data\n",
    "for i in range(index):\n",
    "    institution = fnc.get_institution(dic.models[i], dic.base_JASMIN_dir_dcpp, dic.test_variable)\n",
    "    print(institution)"
   ]
  },
  {
   "cell_type": "code",
   "execution_count": 12,
   "metadata": {},
   "outputs": [
    {
     "name": "stdout",
     "output_type": "stream",
     "text": [
      "dcppA-hindcast\n",
      "dcppA-hindcast\n",
      "dcppA-hindcast\n",
      "dcppA-hindcast\n",
      "dcppA-hindcast\n",
      "dcppA-hindcast\n",
      "None\n",
      "None\n",
      "dcppA-hindcast\n",
      "dcppA-hindcast\n",
      "None\n"
     ]
    }
   ],
   "source": [
    "# Check whether the experiment exists for dcppA-hindcast\n",
    "for i in range(index):\n",
    "    experiment = fnc.check_experiment(dic.models[i], dic.base_JASMIN_dir_dcpp, dic.experiment_dccp)\n",
    "    print(experiment)"
   ]
  },
  {
   "cell_type": "code",
   "execution_count": 13,
   "metadata": {},
   "outputs": [],
   "source": [
    "# # test the runs function with the updated syntax\n",
    "# for i in range(index):\n",
    "#     runs = fnc.get_runs(dic.models[i], dic.base_JASMIN_dir_dcpp, dic.experiment_dccp, dic.test_variable)\n",
    "#     inits = fnc.get_inits(dic.models[i], dic.base_JASMIN_dir_dcpp, dic.experiment_dccp, dic.test_variable)\n",
    "#     physics = fnc.get_physics(dic.models[i], dic.base_JASMIN_dir_dcpp, dic.experiment_dccp, dic.test_variable)\n",
    "#     forcing = fnc.get_forcing(dic.models[i], dic.base_JASMIN_dir_dcpp, dic.experiment_dccp, dic.test_variable)\n",
    "#     total_ensemble_members = fnc.get_total_ensemble_members(dic.models[i], dic.base_JASMIN_dir_dcpp, dic.experiment_dccp, dic.test_variable)\n",
    "\n",
    "#     print(\"runs: \", runs)\n",
    "#     print(\"inits: \", inits)\n",
    "#     print(\"physics: \", physics)\n",
    "#     print(\"forcing: \", forcing)\n",
    "#     print(\"total_ensemble_members: \", total_ensemble_members)"
   ]
  },
  {
   "cell_type": "code",
   "execution_count": 14,
   "metadata": {},
   "outputs": [],
   "source": [
    "# # Test the years range function\n",
    "# # for all the models\n",
    "# for model in dic.models:\n",
    "#     print(model)\n",
    "#     years_range = fnc.get_years(model, dic.base_JASMIN_dir_dcpp, dic.experiment_dccp, dic.table_id, dic.test_variable)\n",
    "#     print(years_range)"
   ]
  },
  {
   "cell_type": "code",
   "execution_count": 15,
   "metadata": {},
   "outputs": [],
   "source": [
    "# # test the get files function\n",
    "# for model in dic.models:\n",
    "#     print(model)\n",
    "#     files_list = fnc.get_files(model, dic.canari_dir, dic.experiment_hist, table_id=\"Amon\", variable=\"psl\")\n",
    "#     print(files_list)"
   ]
  },
  {
   "cell_type": "code",
   "execution_count": 16,
   "metadata": {},
   "outputs": [
    {
     "name": "stdout",
     "output_type": "stream",
     "text": [
      "['CanESM5']\n",
      "<class 'str'>\n",
      "<class 'str'>\n",
      "Number of empty files:  975\n",
      "975\n",
      "Number of empty files:  0\n",
      "0\n"
     ]
    }
   ],
   "source": [
    "# Test the empty files function\n",
    "# there are empty files for model CanESM5 and variable sfcWind\n",
    "print((dic.test_model_can))\n",
    "print(type(dic.canari_dir))\n",
    "print(type(dic.experiment_dccp))\n",
    "\n",
    "\n",
    "empty_files = fnc.get_empty_files(dic.models[2], dic.canari_dir, dic.experiment_dccp, table_id=\"Amon\", variable=\"sfcWind\")\n",
    "print(empty_files)\n",
    "\n",
    "# Test the get_files function\n",
    "# there are no empty files for model BCC-CSM2-MR and variable rsds\n",
    "files = fnc.get_empty_files(dic.models[0], dic.canari_dir, dic.experiment_dccp, table_id=\"Amon\", variable=\"rsds\")\n",
    "print(files)"
   ]
  },
  {
   "cell_type": "code",
   "execution_count": 17,
   "metadata": {
    "scrolled": true
   },
   "outputs": [],
   "source": [
    "# # test the updated fill dataframe function\n",
    "# df = fnc.fill_dataframe(dic.base_paths, dic.models, dic.variables, dic.columns, dic.experiments, dic.table_ids)\n"
   ]
  },
  {
   "cell_type": "code",
   "execution_count": 18,
   "metadata": {},
   "outputs": [],
   "source": [
    "# df.head()"
   ]
  },
  {
   "cell_type": "code",
   "execution_count": 19,
   "metadata": {},
   "outputs": [],
   "source": [
    "# # get df psl\n",
    "# df_psl = df.loc[(df['variable'] == 'sfcWind') & (df['experiment'] == 'dcppA-hindcast') & (df['table_id'] == 'Amon') & (df['no_members'] != 0)]\n",
    "# df_psl"
   ]
  }
 ],
 "metadata": {
  "kernelspec": {
   "display_name": "bens-python-environment",
   "language": "python",
   "name": "bens-python-environment"
  },
  "language_info": {
   "codemirror_mode": {
    "name": "ipython",
    "version": 3
   },
   "file_extension": ".py",
   "mimetype": "text/x-python",
   "name": "python",
   "nbconvert_exporter": "python",
   "pygments_lexer": "ipython3",
   "version": "3.10.5"
  }
 },
 "nbformat": 4,
 "nbformat_minor": 4
}
