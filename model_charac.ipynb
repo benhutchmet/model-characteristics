{
 "cells": [
  {
   "cell_type": "code",
   "execution_count": 1,
   "metadata": {},
   "outputs": [],
   "source": [
    "# Import local modules\n",
    "import sys\n",
    "import os\n",
    "import glob\n",
    "\n",
    "# Import third-party modules\n",
    "import numpy as np\n",
    "import pandas as pd\n",
    "import matplotlib.pyplot as plt\n",
    "import seaborn as sns\n",
    "import scipy.stats as stats\n",
    "import xarray as xr"
   ]
  },
  {
   "cell_type": "code",
   "execution_count": 2,
   "metadata": {},
   "outputs": [],
   "source": [
    "# sys append path for dictionaries and functions\n",
    "sys.path.append(\"/home/users/benhutch/model-characteristics\")\n",
    "\n",
    "# Import dictionaries and functions\n",
    "import dictionaries as dic\n",
    "import functions as fnc"
   ]
  },
  {
   "cell_type": "code",
   "execution_count": 3,
   "metadata": {},
   "outputs": [
    {
     "name": "stdout",
     "output_type": "stream",
     "text": [
      "Institution:  MIROC\n"
     ]
    }
   ],
   "source": [
    "# Test the get institution function\n",
    "institution = fnc.get_institution(dic.models[8], dic.base_JASMIN_dir)"
   ]
  },
  {
   "cell_type": "code",
   "execution_count": 4,
   "metadata": {},
   "outputs": [
    {
     "name": "stdout",
     "output_type": "stream",
     "text": [
      "Experiment:  historical\n"
     ]
    }
   ],
   "source": [
    "# Check whether the experiment exists for a given model\n",
    "# in this case, the experiment is 'historical'\n",
    "experiment = fnc.check_experiment(dic.models[8], dic.base_JASMIN_dir, experiment=\"historical\")"
   ]
  },
  {
   "cell_type": "code",
   "execution_count": 5,
   "metadata": {},
   "outputs": [
    {
     "name": "stdout",
     "output_type": "stream",
     "text": [
      "Directory:  ['/badc/cmip6/data/CMIP6/CMIP/MIROC/MIROC6/historical/r10i1p1f1', '/badc/cmip6/data/CMIP6/CMIP/MIROC/MIROC6/historical/r11i1p1f1', '/badc/cmip6/data/CMIP6/CMIP/MIROC/MIROC6/historical/r12i1p1f1', '/badc/cmip6/data/CMIP6/CMIP/MIROC/MIROC6/historical/r13i1p1f1', '/badc/cmip6/data/CMIP6/CMIP/MIROC/MIROC6/historical/r14i1p1f1', '/badc/cmip6/data/CMIP6/CMIP/MIROC/MIROC6/historical/r15i1p1f1', '/badc/cmip6/data/CMIP6/CMIP/MIROC/MIROC6/historical/r16i1p1f1', '/badc/cmip6/data/CMIP6/CMIP/MIROC/MIROC6/historical/r17i1p1f1', '/badc/cmip6/data/CMIP6/CMIP/MIROC/MIROC6/historical/r18i1p1f1', '/badc/cmip6/data/CMIP6/CMIP/MIROC/MIROC6/historical/r19i1p1f1', '/badc/cmip6/data/CMIP6/CMIP/MIROC/MIROC6/historical/r1i1p1f1', '/badc/cmip6/data/CMIP6/CMIP/MIROC/MIROC6/historical/r20i1p1f1', '/badc/cmip6/data/CMIP6/CMIP/MIROC/MIROC6/historical/r21i1p1f1', '/badc/cmip6/data/CMIP6/CMIP/MIROC/MIROC6/historical/r22i1p1f1', '/badc/cmip6/data/CMIP6/CMIP/MIROC/MIROC6/historical/r23i1p1f1', '/badc/cmip6/data/CMIP6/CMIP/MIROC/MIROC6/historical/r24i1p1f1', '/badc/cmip6/data/CMIP6/CMIP/MIROC/MIROC6/historical/r25i1p1f1', '/badc/cmip6/data/CMIP6/CMIP/MIROC/MIROC6/historical/r26i1p1f1', '/badc/cmip6/data/CMIP6/CMIP/MIROC/MIROC6/historical/r27i1p1f1', '/badc/cmip6/data/CMIP6/CMIP/MIROC/MIROC6/historical/r28i1p1f1', '/badc/cmip6/data/CMIP6/CMIP/MIROC/MIROC6/historical/r29i1p1f1', '/badc/cmip6/data/CMIP6/CMIP/MIROC/MIROC6/historical/r2i1p1f1', '/badc/cmip6/data/CMIP6/CMIP/MIROC/MIROC6/historical/r30i1p1f1', '/badc/cmip6/data/CMIP6/CMIP/MIROC/MIROC6/historical/r31i1p1f1', '/badc/cmip6/data/CMIP6/CMIP/MIROC/MIROC6/historical/r32i1p1f1', '/badc/cmip6/data/CMIP6/CMIP/MIROC/MIROC6/historical/r33i1p1f1', '/badc/cmip6/data/CMIP6/CMIP/MIROC/MIROC6/historical/r34i1p1f1', '/badc/cmip6/data/CMIP6/CMIP/MIROC/MIROC6/historical/r35i1p1f1', '/badc/cmip6/data/CMIP6/CMIP/MIROC/MIROC6/historical/r36i1p1f1', '/badc/cmip6/data/CMIP6/CMIP/MIROC/MIROC6/historical/r37i1p1f1', '/badc/cmip6/data/CMIP6/CMIP/MIROC/MIROC6/historical/r38i1p1f1', '/badc/cmip6/data/CMIP6/CMIP/MIROC/MIROC6/historical/r39i1p1f1', '/badc/cmip6/data/CMIP6/CMIP/MIROC/MIROC6/historical/r3i1p1f1', '/badc/cmip6/data/CMIP6/CMIP/MIROC/MIROC6/historical/r40i1p1f1', '/badc/cmip6/data/CMIP6/CMIP/MIROC/MIROC6/historical/r41i1p1f1', '/badc/cmip6/data/CMIP6/CMIP/MIROC/MIROC6/historical/r42i1p1f1', '/badc/cmip6/data/CMIP6/CMIP/MIROC/MIROC6/historical/r43i1p1f1', '/badc/cmip6/data/CMIP6/CMIP/MIROC/MIROC6/historical/r44i1p1f1', '/badc/cmip6/data/CMIP6/CMIP/MIROC/MIROC6/historical/r45i1p1f1', '/badc/cmip6/data/CMIP6/CMIP/MIROC/MIROC6/historical/r46i1p1f1', '/badc/cmip6/data/CMIP6/CMIP/MIROC/MIROC6/historical/r47i1p1f1', '/badc/cmip6/data/CMIP6/CMIP/MIROC/MIROC6/historical/r48i1p1f1', '/badc/cmip6/data/CMIP6/CMIP/MIROC/MIROC6/historical/r49i1p1f1', '/badc/cmip6/data/CMIP6/CMIP/MIROC/MIROC6/historical/r4i1p1f1', '/badc/cmip6/data/CMIP6/CMIP/MIROC/MIROC6/historical/r50i1p1f1', '/badc/cmip6/data/CMIP6/CMIP/MIROC/MIROC6/historical/r5i1p1f1', '/badc/cmip6/data/CMIP6/CMIP/MIROC/MIROC6/historical/r6i1p1f1', '/badc/cmip6/data/CMIP6/CMIP/MIROC/MIROC6/historical/r7i1p1f1', '/badc/cmip6/data/CMIP6/CMIP/MIROC/MIROC6/historical/r8i1p1f1', '/badc/cmip6/data/CMIP6/CMIP/MIROC/MIROC6/historical/r9i1p1f1']\n",
      "Final directories:  ['r10i1p1f1', 'r11i1p1f1', 'r12i1p1f1', 'r13i1p1f1', 'r14i1p1f1', 'r15i1p1f1', 'r16i1p1f1', 'r17i1p1f1', 'r18i1p1f1', 'r19i1p1f1', 'r1i1p1f1', 'r20i1p1f1', 'r21i1p1f1', 'r22i1p1f1', 'r23i1p1f1', 'r24i1p1f1', 'r25i1p1f1', 'r26i1p1f1', 'r27i1p1f1', 'r28i1p1f1', 'r29i1p1f1', 'r2i1p1f1', 'r30i1p1f1', 'r31i1p1f1', 'r32i1p1f1', 'r33i1p1f1', 'r34i1p1f1', 'r35i1p1f1', 'r36i1p1f1', 'r37i1p1f1', 'r38i1p1f1', 'r39i1p1f1', 'r3i1p1f1', 'r40i1p1f1', 'r41i1p1f1', 'r42i1p1f1', 'r43i1p1f1', 'r44i1p1f1', 'r45i1p1f1', 'r46i1p1f1', 'r47i1p1f1', 'r48i1p1f1', 'r49i1p1f1', 'r4i1p1f1', 'r50i1p1f1', 'r5i1p1f1', 'r6i1p1f1', 'r7i1p1f1', 'r8i1p1f1', 'r9i1p1f1']\n",
      "Number of runs:  50\n"
     ]
    }
   ],
   "source": [
    "# Test the runs function\n",
    "runs = fnc.get_runs(dic.models[8], dic.base_JASMIN_dir, experiment=\"historical\")"
   ]
  }
 ],
 "metadata": {
  "kernelspec": {
   "display_name": "bens-python-environment",
   "language": "python",
   "name": "bens-python-environment"
  },
  "language_info": {
   "codemirror_mode": {
    "name": "ipython",
    "version": 3
   },
   "file_extension": ".py",
   "mimetype": "text/x-python",
   "name": "python",
   "nbconvert_exporter": "python",
   "pygments_lexer": "ipython3",
   "version": "3.10.5"
  }
 },
 "nbformat": 4,
 "nbformat_minor": 4
}
