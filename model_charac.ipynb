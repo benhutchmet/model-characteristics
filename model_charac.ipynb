{
 "cells": [
  {
   "cell_type": "code",
   "execution_count": 1,
   "metadata": {},
   "outputs": [],
   "source": [
    "# Import local modules\n",
    "import sys\n",
    "import os\n",
    "import glob\n",
    "\n",
    "# Import third-party modules\n",
    "import numpy as np\n",
    "import pandas as pd\n",
    "import matplotlib.pyplot as plt\n",
    "import seaborn as sns\n",
    "import scipy.stats as stats\n",
    "import xarray as xr"
   ]
  },
  {
   "cell_type": "code",
   "execution_count": 2,
   "metadata": {},
   "outputs": [],
   "source": [
    "# sys append path for dictionaries and functions\n",
    "sys.path.append(\"/home/users/benhutch/model-characteristics\")\n",
    "\n",
    "# Import dictionaries and functions\n",
    "import dictionaries as dic\n",
    "import functions as fnc"
   ]
  },
  {
   "cell_type": "code",
   "execution_count": 3,
   "metadata": {},
   "outputs": [],
   "source": [
    "# Test the get institution function\n",
    "institution = fnc.get_institution(dic.models[11], dic.base_JASMIN_dir_cmip, dic.test_variable)"
   ]
  },
  {
   "cell_type": "code",
   "execution_count": 4,
   "metadata": {},
   "outputs": [],
   "source": [
    "# Check whether the experiment exists for a given model\n",
    "# in this case, the experiment is 'historical'\n",
    "experiment = fnc.check_experiment(dic.models[11], dic.base_JASMIN_dir_cmip, experiment=\"historical\")"
   ]
  },
  {
   "cell_type": "code",
   "execution_count": 5,
   "metadata": {},
   "outputs": [],
   "source": [
    "# Test the runs function\n",
    "runs = fnc.get_runs(dic.models[11], dic.base_JASMIN_dir_cmip, experiment=\"historical\")"
   ]
  },
  {
   "cell_type": "code",
   "execution_count": 6,
   "metadata": {},
   "outputs": [],
   "source": [
    "# Test the total ensemble members function\n",
    "no_members = fnc.get_total_ensemble_members(dic.models[11], dic.base_JASMIN_dir_cmip, experiment=\"historical\")"
   ]
  },
  {
   "cell_type": "code",
   "execution_count": 7,
   "metadata": {},
   "outputs": [
    {
     "name": "stdout",
     "output_type": "stream",
     "text": [
      "12\n"
     ]
    }
   ],
   "source": [
    "# table id\n",
    "\n",
    "print(len(dic.models))\n",
    "table_id  = fnc.get_table_id(dic.models[11], dic.base_JASMIN_dir_cmip, dic.experiment_hist, dic.table_id)"
   ]
  },
  {
   "cell_type": "code",
   "execution_count": 8,
   "metadata": {},
   "outputs": [
    {
     "name": "stdout",
     "output_type": "stream",
     "text": [
      "Not all runs are available for the variable\n",
      "Number of runs available for the runs directory:  30\n",
      "Number of runs available for the variable:  1\n"
     ]
    }
   ],
   "source": [
    "# test the varaible functions\n",
    "index = len(dic.models) - 1\n",
    "\n",
    "variable, no_members, members_list = fnc.get_variable(dic.models[11], dic.base_JASMIN_dir_cmip, dic.experiment_hist, dic.table_id, dic.test_variable)"
   ]
  },
  {
   "cell_type": "code",
   "execution_count": 9,
   "metadata": {},
   "outputs": [
    {
     "name": "stdout",
     "output_type": "stream",
     "text": [
      "Path:  /badc/cmip6/data/CMIP6/CMIP/*/BCC-CSM2-MR/historical/*r*i*p*f*/Amon/psl/g?/files/d*/\n"
     ]
    }
   ],
   "source": [
    "# Test the new function for getting the list of files in the final directory\n",
    "files_list = fnc.get_files(dic.models[0], dic.base_JASMIN_dir_cmip, dic.experiment_hist, dic.table_id, dic.test_variable)"
   ]
  },
  {
   "cell_type": "code",
   "execution_count": 10,
   "metadata": {},
   "outputs": [
    {
     "name": "stdout",
     "output_type": "stream",
     "text": [
      "Path:  /badc/cmip6/data/CMIP6/CMIP/*/BCC-CSM2-MR/historical/*r*i*p*f*/Amon/psl/g?/files/d*/\n",
      "1850-2014\n"
     ]
    }
   ],
   "source": [
    "# test the get_years function\n",
    "years_range = fnc.get_years(dic.models[0], dic.base_JASMIN_dir_cmip, dic.experiment_hist, dic.table_id, dic.test_variable)\n",
    "print(years_range)"
   ]
  },
  {
   "cell_type": "code",
   "execution_count": 11,
   "metadata": {},
   "outputs": [
    {
     "name": "stdout",
     "output_type": "stream",
     "text": [
      "BCC\n",
      "MPI-M\n",
      "CCCma\n",
      "CMCC\n",
      "MOHC\n",
      "EC-Earth-Consortium\n",
      "Model not available\n",
      "None\n",
      "Model not available\n",
      "None\n",
      "MIROC\n",
      "IPSL\n",
      "Model not available\n",
      "None\n"
     ]
    }
   ],
   "source": [
    "# Now test again with DCPP-A data\n",
    "for i in range(index):\n",
    "    institution = fnc.get_institution(dic.models[i], dic.base_JASMIN_dir_dcpp, dic.test_variable)\n",
    "    print(institution)"
   ]
  },
  {
   "cell_type": "code",
   "execution_count": 12,
   "metadata": {},
   "outputs": [
    {
     "name": "stdout",
     "output_type": "stream",
     "text": [
      "dcppA-hindcast\n",
      "dcppA-hindcast\n",
      "dcppA-hindcast\n",
      "dcppA-hindcast\n",
      "dcppA-hindcast\n",
      "dcppA-hindcast\n",
      "None\n",
      "None\n",
      "dcppA-hindcast\n",
      "dcppA-hindcast\n",
      "None\n"
     ]
    }
   ],
   "source": [
    "# Check whether the experiment exists for dcppA-hindcast\n",
    "for i in range(index):\n",
    "    experiment = fnc.check_experiment(dic.models[i], dic.base_JASMIN_dir_dcpp, dic.experiment_dccp)\n",
    "    print(experiment)"
   ]
  },
  {
   "cell_type": "code",
   "execution_count": 13,
   "metadata": {},
   "outputs": [
    {
     "name": "stdout",
     "output_type": "stream",
     "text": [
      "runs:  8\n",
      "inits:  1\n",
      "physics:  1\n",
      "forcing:  1\n",
      "total_ensemble_members:  432\n",
      "runs:  10\n",
      "inits:  1\n",
      "physics:  1\n",
      "forcing:  1\n",
      "total_ensemble_members:  595\n",
      "runs:  40\n",
      "inits:  1\n",
      "physics:  1\n",
      "forcing:  1\n",
      "total_ensemble_members:  2400\n",
      "runs:  10\n",
      "inits:  1\n",
      "physics:  1\n",
      "forcing:  1\n",
      "total_ensemble_members:  600\n",
      "runs:  10\n",
      "inits:  1\n",
      "physics:  1\n",
      "forcing:  1\n",
      "total_ensemble_members:  590\n",
      "runs:  10\n",
      "inits:  3\n",
      "physics:  1\n",
      "forcing:  1\n",
      "total_ensemble_members:  934\n",
      "runs:  0\n",
      "inits:  0\n",
      "physics:  0\n",
      "forcing:  0\n",
      "total_ensemble_members:  0\n",
      "runs:  0\n",
      "inits:  0\n",
      "physics:  0\n",
      "forcing:  0\n",
      "total_ensemble_members:  0\n",
      "runs:  10\n",
      "inits:  1\n",
      "physics:  1\n",
      "forcing:  1\n",
      "total_ensemble_members:  620\n",
      "runs:  10\n",
      "inits:  1\n",
      "physics:  1\n",
      "forcing:  1\n",
      "total_ensemble_members:  570\n",
      "runs:  0\n",
      "inits:  0\n",
      "physics:  0\n",
      "forcing:  0\n",
      "total_ensemble_members:  0\n"
     ]
    }
   ],
   "source": [
    "# test the runs function with the updated syntax\n",
    "for i in range(index):\n",
    "    runs = fnc.get_runs(dic.models[i], dic.base_JASMIN_dir_dcpp, dic.experiment_dccp)\n",
    "    inits = fnc.get_inits(dic.models[i], dic.base_JASMIN_dir_dcpp, dic.experiment_dccp)\n",
    "    physics = fnc.get_physics(dic.models[i], dic.base_JASMIN_dir_dcpp, dic.experiment_dccp)\n",
    "    forcing = fnc.get_forcing(dic.models[i], dic.base_JASMIN_dir_dcpp, dic.experiment_dccp)\n",
    "    total_ensemble_members = fnc.get_total_ensemble_members(dic.models[i], dic.base_JASMIN_dir_dcpp, dic.experiment_dccp)\n",
    "\n",
    "    print(\"runs: \", runs)\n",
    "    print(\"inits: \", inits)\n",
    "    print(\"physics: \", physics)\n",
    "    print(\"forcing: \", forcing)\n",
    "    print(\"total_ensemble_members: \", total_ensemble_members)"
   ]
  },
  {
   "cell_type": "code",
   "execution_count": 14,
   "metadata": {},
   "outputs": [
    {
     "name": "stdout",
     "output_type": "stream",
     "text": [
      "BCC-CSM2-MR\n",
      "1961-2014\n",
      "MPI-ESM1-2-HR\n",
      "1960-2019\n",
      "CanESM5\n",
      "1960-2019\n",
      "CMCC-CM2-SR5\n",
      "1960-2019\n",
      "HadGEM3-GC31-MM\n",
      "1960-2018\n",
      "EC-Earth3\n",
      "1960-2018\n",
      "MPI-ESM1-2-LR\n",
      "No files available\n",
      "None\n",
      "FGOALS-f3-L\n",
      "No files available\n",
      "None\n",
      "MIROC6\n",
      "No files available\n",
      "None\n",
      "IPSL-CM6A-LR\n",
      "No files available\n",
      "None\n",
      "CESM1-1-CAM5-CMIP5\n",
      "No files available\n",
      "None\n",
      "NorCPM1\n",
      "No files available\n",
      "None\n"
     ]
    }
   ],
   "source": [
    "# Test the years range function\n",
    "# for all the models\n",
    "for model in dic.models:\n",
    "    print(model)\n",
    "    years_range = fnc.get_years(model, dic.base_JASMIN_dir_dcpp, dic.experiment_dccp, dic.table_id, dic.test_variable)\n",
    "    print(years_range)"
   ]
  },
  {
   "cell_type": "code",
   "execution_count": 15,
   "metadata": {
    "collapsed": true,
    "jupyter": {
     "outputs_hidden": true
    }
   },
   "outputs": [
    {
     "name": "stdout",
     "output_type": "stream",
     "text": [
      "Table_id:  Amon\n",
      "Experiment:  historical\n",
      "Model:  BCC-CSM2-MR\n",
      "Variable:  psl\n",
      "Path:  /badc/cmip6/data/CMIP6/CMIP/*/BCC-CSM2-MR/historical/*r*i*p*f*/Amon/psl/g?/files/d*/\n",
      "Path:  /badc/cmip6/data/CMIP6/CMIP/*/BCC-CSM2-MR/historical/*r*i*p*f*/Amon/psl/g?/files/d*/\n",
      "Variable:  tas\n",
      "Path:  /badc/cmip6/data/CMIP6/CMIP/*/BCC-CSM2-MR/historical/*r*i*p*f*/Amon/tas/g?/files/d*/\n",
      "Path:  /badc/cmip6/data/CMIP6/CMIP/*/BCC-CSM2-MR/historical/*r*i*p*f*/Amon/tas/g?/files/d*/\n",
      "Variable:  tos\n"
     ]
    },
    {
     "name": "stderr",
     "output_type": "stream",
     "text": [
      "/home/users/benhutch/model-characteristics/functions.py:481: FutureWarning: The frame.append method is deprecated and will be removed from pandas in a future version. Use pandas.concat instead.\n",
      "  df = df.append(row_dict, ignore_index=True)\n",
      "/home/users/benhutch/model-characteristics/functions.py:481: FutureWarning: The frame.append method is deprecated and will be removed from pandas in a future version. Use pandas.concat instead.\n",
      "  df = df.append(row_dict, ignore_index=True)\n",
      "/home/users/benhutch/model-characteristics/functions.py:481: FutureWarning: The frame.append method is deprecated and will be removed from pandas in a future version. Use pandas.concat instead.\n",
      "  df = df.append(row_dict, ignore_index=True)\n"
     ]
    },
    {
     "name": "stdout",
     "output_type": "stream",
     "text": [
      "Path:  /badc/cmip6/data/CMIP6/CMIP/*/BCC-CSM2-MR/historical/*r*i*p*f*/Amon/tos/g?/files/d*/\n",
      "No files available\n",
      "Path:  /badc/cmip6/data/CMIP6/CMIP/*/BCC-CSM2-MR/historical/*r*i*p*f*/Amon/tos/g?/files/d*/\n",
      "No files available\n",
      "No files available\n",
      "Variable:  rsds\n",
      "Path:  /badc/cmip6/data/CMIP6/CMIP/*/BCC-CSM2-MR/historical/*r*i*p*f*/Amon/rsds/g?/files/d*/\n",
      "Path:  /badc/cmip6/data/CMIP6/CMIP/*/BCC-CSM2-MR/historical/*r*i*p*f*/Amon/rsds/g?/files/d*/\n",
      "Variable:  sfcWind\n",
      "Path:  /badc/cmip6/data/CMIP6/CMIP/*/BCC-CSM2-MR/historical/*r*i*p*f*/Amon/sfcWind/g?/files/d*/\n",
      "Path:  /badc/cmip6/data/CMIP6/CMIP/*/BCC-CSM2-MR/historical/*r*i*p*f*/Amon/sfcWind/g?/files/d*/\n",
      "Model:  MPI-ESM1-2-HR\n",
      "Variable:  psl\n"
     ]
    },
    {
     "name": "stderr",
     "output_type": "stream",
     "text": [
      "/home/users/benhutch/model-characteristics/functions.py:481: FutureWarning: The frame.append method is deprecated and will be removed from pandas in a future version. Use pandas.concat instead.\n",
      "  df = df.append(row_dict, ignore_index=True)\n",
      "/home/users/benhutch/model-characteristics/functions.py:481: FutureWarning: The frame.append method is deprecated and will be removed from pandas in a future version. Use pandas.concat instead.\n",
      "  df = df.append(row_dict, ignore_index=True)\n",
      "/home/users/benhutch/model-characteristics/functions.py:481: FutureWarning: The frame.append method is deprecated and will be removed from pandas in a future version. Use pandas.concat instead.\n",
      "  df = df.append(row_dict, ignore_index=True)\n"
     ]
    },
    {
     "name": "stdout",
     "output_type": "stream",
     "text": [
      "Not all runs are available for the variable\n",
      "Number of runs available for the runs directory:  10\n",
      "Number of runs available for the variable:  1\n",
      "Not all runs are available for the variable\n",
      "Number of runs available for the runs directory:  10\n",
      "Number of runs available for the variable:  1\n",
      "Not all runs are available for the variable\n",
      "Number of runs available for the runs directory:  10\n",
      "Number of runs available for the variable:  1\n",
      "Path:  /badc/cmip6/data/CMIP6/CMIP/*/MPI-ESM1-2-HR/historical/*r*i*p*f*/Amon/psl/g?/files/d*/\n",
      "Path:  /badc/cmip6/data/CMIP6/CMIP/*/MPI-ESM1-2-HR/historical/*r*i*p*f*/Amon/psl/g?/files/d*/\n",
      "Variable:  tas\n",
      "Path:  /badc/cmip6/data/CMIP6/CMIP/*/MPI-ESM1-2-HR/historical/*r*i*p*f*/Amon/tas/g?/files/d*/\n",
      "Path:  /badc/cmip6/data/CMIP6/CMIP/*/MPI-ESM1-2-HR/historical/*r*i*p*f*/Amon/tas/g?/files/d*/\n",
      "Variable:  tos\n",
      "Path:  /badc/cmip6/data/CMIP6/CMIP/*/MPI-ESM1-2-HR/historical/*r*i*p*f*/Amon/tos/g?/files/d*/\n",
      "No files available\n",
      "Path:  /badc/cmip6/data/CMIP6/CMIP/*/MPI-ESM1-2-HR/historical/*r*i*p*f*/Amon/tos/g?/files/d*/\n",
      "No files available\n",
      "No files available\n",
      "Variable:  rsds\n",
      "Not all runs are available for the variable\n",
      "Number of runs available for the runs directory:  10\n",
      "Number of runs available for the variable:  1\n",
      "Not all runs are available for the variable\n",
      "Number of runs available for the runs directory:  10\n",
      "Number of runs available for the variable:  1\n",
      "Not all runs are available for the variable\n",
      "Number of runs available for the runs directory:  10\n",
      "Number of runs available for the variable:  1\n",
      "Path:  /badc/cmip6/data/CMIP6/CMIP/*/MPI-ESM1-2-HR/historical/*r*i*p*f*/Amon/rsds/g?/files/d*/\n",
      "Path:  /badc/cmip6/data/CMIP6/CMIP/*/MPI-ESM1-2-HR/historical/*r*i*p*f*/Amon/rsds/g?/files/d*/\n",
      "Variable:  sfcWind\n",
      "Not all runs are available for the variable\n",
      "Number of runs available for the runs directory:  10\n",
      "Number of runs available for the variable:  1\n",
      "Not all runs are available for the variable\n",
      "Number of runs available for the runs directory:  10\n",
      "Number of runs available for the variable:  1\n",
      "Not all runs are available for the variable\n",
      "Number of runs available for the runs directory:  10\n",
      "Number of runs available for the variable:  1\n",
      "Path:  /badc/cmip6/data/CMIP6/CMIP/*/MPI-ESM1-2-HR/historical/*r*i*p*f*/Amon/sfcWind/g?/files/d*/\n"
     ]
    },
    {
     "name": "stderr",
     "output_type": "stream",
     "text": [
      "/home/users/benhutch/model-characteristics/functions.py:481: FutureWarning: The frame.append method is deprecated and will be removed from pandas in a future version. Use pandas.concat instead.\n",
      "  df = df.append(row_dict, ignore_index=True)\n",
      "/home/users/benhutch/model-characteristics/functions.py:481: FutureWarning: The frame.append method is deprecated and will be removed from pandas in a future version. Use pandas.concat instead.\n",
      "  df = df.append(row_dict, ignore_index=True)\n",
      "/home/users/benhutch/model-characteristics/functions.py:481: FutureWarning: The frame.append method is deprecated and will be removed from pandas in a future version. Use pandas.concat instead.\n",
      "  df = df.append(row_dict, ignore_index=True)\n",
      "/home/users/benhutch/model-characteristics/functions.py:481: FutureWarning: The frame.append method is deprecated and will be removed from pandas in a future version. Use pandas.concat instead.\n",
      "  df = df.append(row_dict, ignore_index=True)\n"
     ]
    },
    {
     "name": "stdout",
     "output_type": "stream",
     "text": [
      "Path:  /badc/cmip6/data/CMIP6/CMIP/*/MPI-ESM1-2-HR/historical/*r*i*p*f*/Amon/sfcWind/g?/files/d*/\n",
      "Model:  CanESM5\n",
      "Variable:  psl\n",
      "Not all runs are available for the variable\n",
      "Number of runs available for the runs directory:  65\n",
      "Number of runs available for the variable:  35\n",
      "Not all runs are available for the variable\n",
      "Number of runs available for the runs directory:  65\n",
      "Number of runs available for the variable:  35\n",
      "Not all runs are available for the variable\n",
      "Number of runs available for the runs directory:  65\n",
      "Number of runs available for the variable:  35\n",
      "Path:  /badc/cmip6/data/CMIP6/CMIP/*/CanESM5/historical/*r*i*p*f*/Amon/psl/g?/files/d*/\n",
      "Path:  /badc/cmip6/data/CMIP6/CMIP/*/CanESM5/historical/*r*i*p*f*/Amon/psl/g?/files/d*/\n"
     ]
    },
    {
     "name": "stderr",
     "output_type": "stream",
     "text": [
      "/home/users/benhutch/model-characteristics/functions.py:481: FutureWarning: The frame.append method is deprecated and will be removed from pandas in a future version. Use pandas.concat instead.\n",
      "  df = df.append(row_dict, ignore_index=True)\n"
     ]
    },
    {
     "name": "stdout",
     "output_type": "stream",
     "text": [
      "Variable:  tas\n",
      "Path:  /badc/cmip6/data/CMIP6/CMIP/*/CanESM5/historical/*r*i*p*f*/Amon/tas/g?/files/d*/\n",
      "Path:  /badc/cmip6/data/CMIP6/CMIP/*/CanESM5/historical/*r*i*p*f*/Amon/tas/g?/files/d*/\n",
      "Variable:  tos\n"
     ]
    },
    {
     "name": "stderr",
     "output_type": "stream",
     "text": [
      "/home/users/benhutch/model-characteristics/functions.py:481: FutureWarning: The frame.append method is deprecated and will be removed from pandas in a future version. Use pandas.concat instead.\n",
      "  df = df.append(row_dict, ignore_index=True)\n",
      "/home/users/benhutch/model-characteristics/functions.py:481: FutureWarning: The frame.append method is deprecated and will be removed from pandas in a future version. Use pandas.concat instead.\n",
      "  df = df.append(row_dict, ignore_index=True)\n"
     ]
    },
    {
     "name": "stdout",
     "output_type": "stream",
     "text": [
      "Path:  /badc/cmip6/data/CMIP6/CMIP/*/CanESM5/historical/*r*i*p*f*/Amon/tos/g?/files/d*/\n",
      "No files available\n",
      "Path:  /badc/cmip6/data/CMIP6/CMIP/*/CanESM5/historical/*r*i*p*f*/Amon/tos/g?/files/d*/\n",
      "No files available\n",
      "No files available\n",
      "Variable:  rsds\n",
      "Not all runs are available for the variable\n",
      "Number of runs available for the runs directory:  65\n",
      "Number of runs available for the variable:  35\n",
      "Not all runs are available for the variable\n",
      "Number of runs available for the runs directory:  65\n",
      "Number of runs available for the variable:  35\n",
      "Not all runs are available for the variable\n",
      "Number of runs available for the runs directory:  65\n",
      "Number of runs available for the variable:  35\n",
      "Path:  /badc/cmip6/data/CMIP6/CMIP/*/CanESM5/historical/*r*i*p*f*/Amon/rsds/g?/files/d*/\n",
      "Path:  /badc/cmip6/data/CMIP6/CMIP/*/CanESM5/historical/*r*i*p*f*/Amon/rsds/g?/files/d*/\n",
      "Variable:  sfcWind\n",
      "Not all runs are available for the variable\n",
      "Number of runs available for the runs directory:  65\n",
      "Number of runs available for the variable:  1\n",
      "Not all runs are available for the variable\n",
      "Number of runs available for the runs directory:  65\n",
      "Number of runs available for the variable:  1\n",
      "Not all runs are available for the variable\n",
      "Number of runs available for the runs directory:  65\n",
      "Number of runs available for the variable:  1\n",
      "Path:  /badc/cmip6/data/CMIP6/CMIP/*/CanESM5/historical/*r*i*p*f*/Amon/sfcWind/g?/files/d*/\n",
      "Path:  /badc/cmip6/data/CMIP6/CMIP/*/CanESM5/historical/*r*i*p*f*/Amon/sfcWind/g?/files/d*/\n"
     ]
    },
    {
     "name": "stderr",
     "output_type": "stream",
     "text": [
      "/home/users/benhutch/model-characteristics/functions.py:481: FutureWarning: The frame.append method is deprecated and will be removed from pandas in a future version. Use pandas.concat instead.\n",
      "  df = df.append(row_dict, ignore_index=True)\n",
      "/home/users/benhutch/model-characteristics/functions.py:481: FutureWarning: The frame.append method is deprecated and will be removed from pandas in a future version. Use pandas.concat instead.\n",
      "  df = df.append(row_dict, ignore_index=True)\n"
     ]
    },
    {
     "name": "stdout",
     "output_type": "stream",
     "text": [
      "Model:  CMCC-CM2-SR5\n",
      "Variable:  psl\n",
      "Path:  /badc/cmip6/data/CMIP6/CMIP/*/CMCC-CM2-SR5/historical/*r*i*p*f*/Amon/psl/g?/files/d*/\n",
      "Path:  /badc/cmip6/data/CMIP6/CMIP/*/CMCC-CM2-SR5/historical/*r*i*p*f*/Amon/psl/g?/files/d*/\n",
      "Variable:  tas\n",
      "Path:  /badc/cmip6/data/CMIP6/CMIP/*/CMCC-CM2-SR5/historical/*r*i*p*f*/Amon/tas/g?/files/d*/\n"
     ]
    },
    {
     "name": "stderr",
     "output_type": "stream",
     "text": [
      "/home/users/benhutch/model-characteristics/functions.py:481: FutureWarning: The frame.append method is deprecated and will be removed from pandas in a future version. Use pandas.concat instead.\n",
      "  df = df.append(row_dict, ignore_index=True)\n",
      "/home/users/benhutch/model-characteristics/functions.py:481: FutureWarning: The frame.append method is deprecated and will be removed from pandas in a future version. Use pandas.concat instead.\n",
      "  df = df.append(row_dict, ignore_index=True)\n"
     ]
    },
    {
     "name": "stdout",
     "output_type": "stream",
     "text": [
      "Path:  /badc/cmip6/data/CMIP6/CMIP/*/CMCC-CM2-SR5/historical/*r*i*p*f*/Amon/tas/g?/files/d*/\n",
      "Variable:  tos\n",
      "Path:  /badc/cmip6/data/CMIP6/CMIP/*/CMCC-CM2-SR5/historical/*r*i*p*f*/Amon/tos/g?/files/d*/\n",
      "No files available\n",
      "Path:  /badc/cmip6/data/CMIP6/CMIP/*/CMCC-CM2-SR5/historical/*r*i*p*f*/Amon/tos/g?/files/d*/\n",
      "No files available\n",
      "No files available\n",
      "Variable:  rsds\n",
      "Path:  /badc/cmip6/data/CMIP6/CMIP/*/CMCC-CM2-SR5/historical/*r*i*p*f*/Amon/rsds/g?/files/d*/\n",
      "Path:  /badc/cmip6/data/CMIP6/CMIP/*/CMCC-CM2-SR5/historical/*r*i*p*f*/Amon/rsds/g?/files/d*/\n",
      "Variable:  sfcWind\n",
      "Path:  /badc/cmip6/data/CMIP6/CMIP/*/CMCC-CM2-SR5/historical/*r*i*p*f*/Amon/sfcWind/g?/files/d*/\n",
      "Path:  /badc/cmip6/data/CMIP6/CMIP/*/CMCC-CM2-SR5/historical/*r*i*p*f*/Amon/sfcWind/g?/files/d*/\n",
      "Model:  HadGEM3-GC31-MM\n",
      "Variable:  psl\n"
     ]
    },
    {
     "name": "stderr",
     "output_type": "stream",
     "text": [
      "/home/users/benhutch/model-characteristics/functions.py:481: FutureWarning: The frame.append method is deprecated and will be removed from pandas in a future version. Use pandas.concat instead.\n",
      "  df = df.append(row_dict, ignore_index=True)\n",
      "/home/users/benhutch/model-characteristics/functions.py:481: FutureWarning: The frame.append method is deprecated and will be removed from pandas in a future version. Use pandas.concat instead.\n",
      "  df = df.append(row_dict, ignore_index=True)\n",
      "/home/users/benhutch/model-characteristics/functions.py:481: FutureWarning: The frame.append method is deprecated and will be removed from pandas in a future version. Use pandas.concat instead.\n",
      "  df = df.append(row_dict, ignore_index=True)\n"
     ]
    },
    {
     "name": "stdout",
     "output_type": "stream",
     "text": [
      "Path:  /badc/cmip6/data/CMIP6/CMIP/*/HadGEM3-GC31-MM/historical/*r*i*p*f*/Amon/psl/g?/files/d*/\n",
      "Path:  /badc/cmip6/data/CMIP6/CMIP/*/HadGEM3-GC31-MM/historical/*r*i*p*f*/Amon/psl/g?/files/d*/\n",
      "Variable:  tas\n",
      "Path:  /badc/cmip6/data/CMIP6/CMIP/*/HadGEM3-GC31-MM/historical/*r*i*p*f*/Amon/tas/g?/files/d*/\n",
      "Path:  /badc/cmip6/data/CMIP6/CMIP/*/HadGEM3-GC31-MM/historical/*r*i*p*f*/Amon/tas/g?/files/d*/\n",
      "Variable:  tos\n"
     ]
    },
    {
     "name": "stderr",
     "output_type": "stream",
     "text": [
      "/home/users/benhutch/model-characteristics/functions.py:481: FutureWarning: The frame.append method is deprecated and will be removed from pandas in a future version. Use pandas.concat instead.\n",
      "  df = df.append(row_dict, ignore_index=True)\n",
      "/home/users/benhutch/model-characteristics/functions.py:481: FutureWarning: The frame.append method is deprecated and will be removed from pandas in a future version. Use pandas.concat instead.\n",
      "  df = df.append(row_dict, ignore_index=True)\n",
      "/home/users/benhutch/model-characteristics/functions.py:481: FutureWarning: The frame.append method is deprecated and will be removed from pandas in a future version. Use pandas.concat instead.\n",
      "  df = df.append(row_dict, ignore_index=True)\n"
     ]
    },
    {
     "name": "stdout",
     "output_type": "stream",
     "text": [
      "Path:  /badc/cmip6/data/CMIP6/CMIP/*/HadGEM3-GC31-MM/historical/*r*i*p*f*/Amon/tos/g?/files/d*/\n",
      "No files available\n",
      "Path:  /badc/cmip6/data/CMIP6/CMIP/*/HadGEM3-GC31-MM/historical/*r*i*p*f*/Amon/tos/g?/files/d*/\n",
      "No files available\n",
      "No files available\n",
      "Variable:  rsds\n",
      "Path:  /badc/cmip6/data/CMIP6/CMIP/*/HadGEM3-GC31-MM/historical/*r*i*p*f*/Amon/rsds/g?/files/d*/\n",
      "Path:  /badc/cmip6/data/CMIP6/CMIP/*/HadGEM3-GC31-MM/historical/*r*i*p*f*/Amon/rsds/g?/files/d*/\n",
      "Variable:  sfcWind\n",
      "Path:  /badc/cmip6/data/CMIP6/CMIP/*/HadGEM3-GC31-MM/historical/*r*i*p*f*/Amon/sfcWind/g?/files/d*/\n",
      "Path:  /badc/cmip6/data/CMIP6/CMIP/*/HadGEM3-GC31-MM/historical/*r*i*p*f*/Amon/sfcWind/g?/files/d*/\n",
      "Model:  EC-Earth3\n",
      "Variable:  psl\n"
     ]
    },
    {
     "name": "stderr",
     "output_type": "stream",
     "text": [
      "/home/users/benhutch/model-characteristics/functions.py:481: FutureWarning: The frame.append method is deprecated and will be removed from pandas in a future version. Use pandas.concat instead.\n",
      "  df = df.append(row_dict, ignore_index=True)\n",
      "/home/users/benhutch/model-characteristics/functions.py:481: FutureWarning: The frame.append method is deprecated and will be removed from pandas in a future version. Use pandas.concat instead.\n",
      "  df = df.append(row_dict, ignore_index=True)\n"
     ]
    },
    {
     "name": "stdout",
     "output_type": "stream",
     "text": [
      "Not all runs are available for the variable\n",
      "Number of runs available for the runs directory:  74\n",
      "Number of runs available for the variable:  53\n",
      "Not all runs are available for the variable\n",
      "Number of runs available for the runs directory:  74\n",
      "Number of runs available for the variable:  53\n",
      "Not all runs are available for the variable\n",
      "Number of runs available for the runs directory:  74\n",
      "Number of runs available for the variable:  53\n",
      "Path:  /badc/cmip6/data/CMIP6/CMIP/*/EC-Earth3/historical/*r*i*p*f*/Amon/psl/g?/files/d*/\n",
      "Path:  /badc/cmip6/data/CMIP6/CMIP/*/EC-Earth3/historical/*r*i*p*f*/Amon/psl/g?/files/d*/\n",
      "Variable:  tas\n"
     ]
    },
    {
     "name": "stderr",
     "output_type": "stream",
     "text": [
      "/home/users/benhutch/model-characteristics/functions.py:481: FutureWarning: The frame.append method is deprecated and will be removed from pandas in a future version. Use pandas.concat instead.\n",
      "  df = df.append(row_dict, ignore_index=True)\n"
     ]
    },
    {
     "name": "stdout",
     "output_type": "stream",
     "text": [
      "Path:  /badc/cmip6/data/CMIP6/CMIP/*/EC-Earth3/historical/*r*i*p*f*/Amon/tas/g?/files/d*/\n",
      "Path:  /badc/cmip6/data/CMIP6/CMIP/*/EC-Earth3/historical/*r*i*p*f*/Amon/tas/g?/files/d*/\n"
     ]
    },
    {
     "name": "stderr",
     "output_type": "stream",
     "text": [
      "/home/users/benhutch/model-characteristics/functions.py:481: FutureWarning: The frame.append method is deprecated and will be removed from pandas in a future version. Use pandas.concat instead.\n",
      "  df = df.append(row_dict, ignore_index=True)\n",
      "/home/users/benhutch/model-characteristics/functions.py:481: FutureWarning: The frame.append method is deprecated and will be removed from pandas in a future version. Use pandas.concat instead.\n",
      "  df = df.append(row_dict, ignore_index=True)\n"
     ]
    },
    {
     "name": "stdout",
     "output_type": "stream",
     "text": [
      "Variable:  tos\n",
      "Not all runs are available for the variable\n",
      "Number of runs available for the runs directory:  74\n",
      "Number of runs available for the variable:  1\n",
      "Not all runs are available for the variable\n",
      "Number of runs available for the runs directory:  74\n",
      "Number of runs available for the variable:  1\n",
      "Not all runs are available for the variable\n",
      "Number of runs available for the runs directory:  74\n",
      "Number of runs available for the variable:  1\n",
      "Path:  /badc/cmip6/data/CMIP6/CMIP/*/EC-Earth3/historical/*r*i*p*f*/Amon/tos/g?/files/d*/\n",
      "Path:  /badc/cmip6/data/CMIP6/CMIP/*/EC-Earth3/historical/*r*i*p*f*/Amon/tos/g?/files/d*/\n",
      "Variable:  rsds\n",
      "Not all runs are available for the variable\n",
      "Number of runs available for the runs directory:  74\n",
      "Number of runs available for the variable:  3\n",
      "Not all runs are available for the variable\n",
      "Number of runs available for the runs directory:  74\n",
      "Number of runs available for the variable:  3\n",
      "Not all runs are available for the variable\n",
      "Number of runs available for the runs directory:  74\n",
      "Number of runs available for the variable:  3\n",
      "Path:  /badc/cmip6/data/CMIP6/CMIP/*/EC-Earth3/historical/*r*i*p*f*/Amon/rsds/g?/files/d*/\n",
      "Path:  /badc/cmip6/data/CMIP6/CMIP/*/EC-Earth3/historical/*r*i*p*f*/Amon/rsds/g?/files/d*/\n",
      "Variable:  sfcWind\n",
      "Not all runs are available for the variable\n",
      "Number of runs available for the runs directory:  74\n",
      "Number of runs available for the variable:  1\n",
      "Not all runs are available for the variable\n",
      "Number of runs available for the runs directory:  74\n",
      "Number of runs available for the variable:  1\n",
      "Not all runs are available for the variable\n",
      "Number of runs available for the runs directory:  74\n",
      "Number of runs available for the variable:  1\n",
      "Path:  /badc/cmip6/data/CMIP6/CMIP/*/EC-Earth3/historical/*r*i*p*f*/Amon/sfcWind/g?/files/d*/\n"
     ]
    },
    {
     "name": "stderr",
     "output_type": "stream",
     "text": [
      "/home/users/benhutch/model-characteristics/functions.py:481: FutureWarning: The frame.append method is deprecated and will be removed from pandas in a future version. Use pandas.concat instead.\n",
      "  df = df.append(row_dict, ignore_index=True)\n",
      "/home/users/benhutch/model-characteristics/functions.py:481: FutureWarning: The frame.append method is deprecated and will be removed from pandas in a future version. Use pandas.concat instead.\n",
      "  df = df.append(row_dict, ignore_index=True)\n"
     ]
    },
    {
     "name": "stdout",
     "output_type": "stream",
     "text": [
      "Path:  /badc/cmip6/data/CMIP6/CMIP/*/EC-Earth3/historical/*r*i*p*f*/Amon/sfcWind/g?/files/d*/\n",
      "Model:  MPI-ESM1-2-LR\n",
      "Variable:  psl\n",
      "Not all runs are available for the variable\n",
      "Number of runs available for the runs directory:  30\n",
      "Number of runs available for the variable:  1\n",
      "Not all runs are available for the variable\n",
      "Number of runs available for the runs directory:  30\n",
      "Number of runs available for the variable:  1\n",
      "Not all runs are available for the variable\n",
      "Number of runs available for the runs directory:  30\n",
      "Number of runs available for the variable:  1\n",
      "Path:  /badc/cmip6/data/CMIP6/CMIP/*/MPI-ESM1-2-LR/historical/*r*i*p*f*/Amon/psl/g?/files/d*/\n",
      "Path:  /badc/cmip6/data/CMIP6/CMIP/*/MPI-ESM1-2-LR/historical/*r*i*p*f*/Amon/psl/g?/files/d*/\n",
      "Variable:  tas\n",
      "Path:  /badc/cmip6/data/CMIP6/CMIP/*/MPI-ESM1-2-LR/historical/*r*i*p*f*/Amon/tas/g?/files/d*/\n"
     ]
    },
    {
     "name": "stderr",
     "output_type": "stream",
     "text": [
      "/home/users/benhutch/model-characteristics/functions.py:481: FutureWarning: The frame.append method is deprecated and will be removed from pandas in a future version. Use pandas.concat instead.\n",
      "  df = df.append(row_dict, ignore_index=True)\n"
     ]
    },
    {
     "name": "stdout",
     "output_type": "stream",
     "text": [
      "Path:  /badc/cmip6/data/CMIP6/CMIP/*/MPI-ESM1-2-LR/historical/*r*i*p*f*/Amon/tas/g?/files/d*/\n",
      "Variable:  tos\n",
      "Path:  /badc/cmip6/data/CMIP6/CMIP/*/MPI-ESM1-2-LR/historical/*r*i*p*f*/Amon/tos/g?/files/d*/\n",
      "No files available\n",
      "Path:  /badc/cmip6/data/CMIP6/CMIP/*/MPI-ESM1-2-LR/historical/*r*i*p*f*/Amon/tos/g?/files/d*/\n",
      "No files available\n",
      "No files available\n",
      "Variable:  rsds\n",
      "Not all runs are available for the variable\n",
      "Number of runs available for the runs directory:  30\n",
      "Number of runs available for the variable:  1\n",
      "Not all runs are available for the variable\n",
      "Number of runs available for the runs directory:  30\n",
      "Number of runs available for the variable:  1\n"
     ]
    },
    {
     "name": "stderr",
     "output_type": "stream",
     "text": [
      "/home/users/benhutch/model-characteristics/functions.py:481: FutureWarning: The frame.append method is deprecated and will be removed from pandas in a future version. Use pandas.concat instead.\n",
      "  df = df.append(row_dict, ignore_index=True)\n",
      "/home/users/benhutch/model-characteristics/functions.py:481: FutureWarning: The frame.append method is deprecated and will be removed from pandas in a future version. Use pandas.concat instead.\n",
      "  df = df.append(row_dict, ignore_index=True)\n",
      "/home/users/benhutch/model-characteristics/functions.py:481: FutureWarning: The frame.append method is deprecated and will be removed from pandas in a future version. Use pandas.concat instead.\n",
      "  df = df.append(row_dict, ignore_index=True)\n"
     ]
    },
    {
     "name": "stdout",
     "output_type": "stream",
     "text": [
      "Not all runs are available for the variable\n",
      "Number of runs available for the runs directory:  30\n",
      "Number of runs available for the variable:  1\n",
      "Path:  /badc/cmip6/data/CMIP6/CMIP/*/MPI-ESM1-2-LR/historical/*r*i*p*f*/Amon/rsds/g?/files/d*/\n",
      "Path:  /badc/cmip6/data/CMIP6/CMIP/*/MPI-ESM1-2-LR/historical/*r*i*p*f*/Amon/rsds/g?/files/d*/\n",
      "Variable:  sfcWind\n",
      "Not all runs are available for the variable\n",
      "Number of runs available for the runs directory:  30\n",
      "Number of runs available for the variable:  1\n",
      "Not all runs are available for the variable\n",
      "Number of runs available for the runs directory:  30\n",
      "Number of runs available for the variable:  1\n",
      "Not all runs are available for the variable\n",
      "Number of runs available for the runs directory:  30\n",
      "Number of runs available for the variable:  1\n",
      "Path:  /badc/cmip6/data/CMIP6/CMIP/*/MPI-ESM1-2-LR/historical/*r*i*p*f*/Amon/sfcWind/g?/files/d*/\n",
      "Path:  /badc/cmip6/data/CMIP6/CMIP/*/MPI-ESM1-2-LR/historical/*r*i*p*f*/Amon/sfcWind/g?/files/d*/\n",
      "Model:  FGOALS-f3-L\n",
      "Variable:  psl\n",
      "Not all runs are available for the variable\n",
      "Number of runs available for the runs directory:  3\n",
      "Number of runs available for the variable:  1\n",
      "Not all runs are available for the variable\n",
      "Number of runs available for the runs directory:  3\n",
      "Number of runs available for the variable:  1\n"
     ]
    },
    {
     "name": "stderr",
     "output_type": "stream",
     "text": [
      "/home/users/benhutch/model-characteristics/functions.py:481: FutureWarning: The frame.append method is deprecated and will be removed from pandas in a future version. Use pandas.concat instead.\n",
      "  df = df.append(row_dict, ignore_index=True)\n",
      "/home/users/benhutch/model-characteristics/functions.py:481: FutureWarning: The frame.append method is deprecated and will be removed from pandas in a future version. Use pandas.concat instead.\n",
      "  df = df.append(row_dict, ignore_index=True)\n",
      "/home/users/benhutch/model-characteristics/functions.py:481: FutureWarning: The frame.append method is deprecated and will be removed from pandas in a future version. Use pandas.concat instead.\n",
      "  df = df.append(row_dict, ignore_index=True)\n"
     ]
    },
    {
     "name": "stdout",
     "output_type": "stream",
     "text": [
      "Not all runs are available for the variable\n",
      "Number of runs available for the runs directory:  3\n",
      "Number of runs available for the variable:  1\n",
      "Path:  /badc/cmip6/data/CMIP6/CMIP/*/FGOALS-f3-L/historical/*r*i*p*f*/Amon/psl/g?/files/d*/\n",
      "Path:  /badc/cmip6/data/CMIP6/CMIP/*/FGOALS-f3-L/historical/*r*i*p*f*/Amon/psl/g?/files/d*/\n",
      "Variable:  tas\n",
      "Path:  /badc/cmip6/data/CMIP6/CMIP/*/FGOALS-f3-L/historical/*r*i*p*f*/Amon/tas/g?/files/d*/\n",
      "Path:  /badc/cmip6/data/CMIP6/CMIP/*/FGOALS-f3-L/historical/*r*i*p*f*/Amon/tas/g?/files/d*/\n",
      "Variable:  tos\n",
      "Path:  /badc/cmip6/data/CMIP6/CMIP/*/FGOALS-f3-L/historical/*r*i*p*f*/Amon/tos/g?/files/d*/\n",
      "No files available\n",
      "Path:  /badc/cmip6/data/CMIP6/CMIP/*/FGOALS-f3-L/historical/*r*i*p*f*/Amon/tos/g?/files/d*/\n",
      "No files available\n",
      "No files available\n",
      "Variable:  rsds\n",
      "Not all runs are available for the variable\n",
      "Number of runs available for the runs directory:  3\n",
      "Number of runs available for the variable:  1\n",
      "Not all runs are available for the variable\n",
      "Number of runs available for the runs directory:  3\n",
      "Number of runs available for the variable:  1\n",
      "Not all runs are available for the variable\n",
      "Number of runs available for the runs directory:  3\n",
      "Number of runs available for the variable:  1\n",
      "Path:  /badc/cmip6/data/CMIP6/CMIP/*/FGOALS-f3-L/historical/*r*i*p*f*/Amon/rsds/g?/files/d*/\n"
     ]
    },
    {
     "name": "stderr",
     "output_type": "stream",
     "text": [
      "/home/users/benhutch/model-characteristics/functions.py:481: FutureWarning: The frame.append method is deprecated and will be removed from pandas in a future version. Use pandas.concat instead.\n",
      "  df = df.append(row_dict, ignore_index=True)\n",
      "/home/users/benhutch/model-characteristics/functions.py:481: FutureWarning: The frame.append method is deprecated and will be removed from pandas in a future version. Use pandas.concat instead.\n",
      "  df = df.append(row_dict, ignore_index=True)\n",
      "/home/users/benhutch/model-characteristics/functions.py:481: FutureWarning: The frame.append method is deprecated and will be removed from pandas in a future version. Use pandas.concat instead.\n",
      "  df = df.append(row_dict, ignore_index=True)\n"
     ]
    },
    {
     "name": "stdout",
     "output_type": "stream",
     "text": [
      "Path:  /badc/cmip6/data/CMIP6/CMIP/*/FGOALS-f3-L/historical/*r*i*p*f*/Amon/rsds/g?/files/d*/\n",
      "Variable:  sfcWind\n",
      "Not all runs are available for the variable\n",
      "Number of runs available for the runs directory:  3\n",
      "Number of runs available for the variable:  1\n",
      "Not all runs are available for the variable\n",
      "Number of runs available for the runs directory:  3\n",
      "Number of runs available for the variable:  1\n",
      "Not all runs are available for the variable\n",
      "Number of runs available for the runs directory:  3\n",
      "Number of runs available for the variable:  1\n",
      "Path:  /badc/cmip6/data/CMIP6/CMIP/*/FGOALS-f3-L/historical/*r*i*p*f*/Amon/sfcWind/g?/files/d*/\n",
      "Path:  /badc/cmip6/data/CMIP6/CMIP/*/FGOALS-f3-L/historical/*r*i*p*f*/Amon/sfcWind/g?/files/d*/\n",
      "Model:  MIROC6\n",
      "Variable:  psl\n",
      "Path:  /badc/cmip6/data/CMIP6/CMIP/*/MIROC6/historical/*r*i*p*f*/Amon/psl/g?/files/d*/\n",
      "Path:  /badc/cmip6/data/CMIP6/CMIP/*/MIROC6/historical/*r*i*p*f*/Amon/psl/g?/files/d*/\n"
     ]
    },
    {
     "name": "stderr",
     "output_type": "stream",
     "text": [
      "/home/users/benhutch/model-characteristics/functions.py:481: FutureWarning: The frame.append method is deprecated and will be removed from pandas in a future version. Use pandas.concat instead.\n",
      "  df = df.append(row_dict, ignore_index=True)\n"
     ]
    },
    {
     "name": "stdout",
     "output_type": "stream",
     "text": [
      "Variable:  tas\n",
      "Path:  /badc/cmip6/data/CMIP6/CMIP/*/MIROC6/historical/*r*i*p*f*/Amon/tas/g?/files/d*/\n",
      "Path:  /badc/cmip6/data/CMIP6/CMIP/*/MIROC6/historical/*r*i*p*f*/Amon/tas/g?/files/d*/\n",
      "Variable:  tos\n",
      "Path:  /badc/cmip6/data/CMIP6/CMIP/*/MIROC6/historical/*r*i*p*f*/Amon/tos/g?/files/d*/\n"
     ]
    },
    {
     "name": "stderr",
     "output_type": "stream",
     "text": [
      "/home/users/benhutch/model-characteristics/functions.py:481: FutureWarning: The frame.append method is deprecated and will be removed from pandas in a future version. Use pandas.concat instead.\n",
      "  df = df.append(row_dict, ignore_index=True)\n",
      "/home/users/benhutch/model-characteristics/functions.py:481: FutureWarning: The frame.append method is deprecated and will be removed from pandas in a future version. Use pandas.concat instead.\n",
      "  df = df.append(row_dict, ignore_index=True)\n"
     ]
    },
    {
     "name": "stdout",
     "output_type": "stream",
     "text": [
      "No files available\n",
      "Path:  /badc/cmip6/data/CMIP6/CMIP/*/MIROC6/historical/*r*i*p*f*/Amon/tos/g?/files/d*/\n",
      "No files available\n",
      "No files available\n",
      "Variable:  rsds\n",
      "Not all runs are available for the variable\n",
      "Number of runs available for the runs directory:  50\n",
      "Number of runs available for the variable:  10\n",
      "Not all runs are available for the variable\n",
      "Number of runs available for the runs directory:  50\n",
      "Number of runs available for the variable:  10\n",
      "Not all runs are available for the variable\n",
      "Number of runs available for the runs directory:  50\n",
      "Number of runs available for the variable:  10\n",
      "Path:  /badc/cmip6/data/CMIP6/CMIP/*/MIROC6/historical/*r*i*p*f*/Amon/rsds/g?/files/d*/\n",
      "Path:  /badc/cmip6/data/CMIP6/CMIP/*/MIROC6/historical/*r*i*p*f*/Amon/rsds/g?/files/d*/\n",
      "Variable:  sfcWind\n",
      "Not all runs are available for the variable\n",
      "Number of runs available for the runs directory:  50\n",
      "Number of runs available for the variable:  10\n",
      "Not all runs are available for the variable\n",
      "Number of runs available for the runs directory:  50\n",
      "Number of runs available for the variable:  10\n",
      "Not all runs are available for the variable\n",
      "Number of runs available for the runs directory:  50\n",
      "Number of runs available for the variable:  10\n",
      "Path:  /badc/cmip6/data/CMIP6/CMIP/*/MIROC6/historical/*r*i*p*f*/Amon/sfcWind/g?/files/d*/\n",
      "Path:  /badc/cmip6/data/CMIP6/CMIP/*/MIROC6/historical/*r*i*p*f*/Amon/sfcWind/g?/files/d*/\n"
     ]
    },
    {
     "name": "stderr",
     "output_type": "stream",
     "text": [
      "/home/users/benhutch/model-characteristics/functions.py:481: FutureWarning: The frame.append method is deprecated and will be removed from pandas in a future version. Use pandas.concat instead.\n",
      "  df = df.append(row_dict, ignore_index=True)\n",
      "/home/users/benhutch/model-characteristics/functions.py:481: FutureWarning: The frame.append method is deprecated and will be removed from pandas in a future version. Use pandas.concat instead.\n",
      "  df = df.append(row_dict, ignore_index=True)\n"
     ]
    },
    {
     "name": "stdout",
     "output_type": "stream",
     "text": [
      "Model:  IPSL-CM6A-LR\n",
      "Variable:  psl\n",
      "Not all runs are available for the variable\n",
      "Number of runs available for the runs directory:  32\n",
      "Number of runs available for the variable:  31\n",
      "Not all runs are available for the variable\n",
      "Number of runs available for the runs directory:  32\n",
      "Number of runs available for the variable:  31\n",
      "Not all runs are available for the variable\n",
      "Number of runs available for the runs directory:  32\n",
      "Number of runs available for the variable:  31\n",
      "Path:  /badc/cmip6/data/CMIP6/CMIP/*/IPSL-CM6A-LR/historical/*r*i*p*f*/Amon/psl/g?/files/d*/\n",
      "Path:  /badc/cmip6/data/CMIP6/CMIP/*/IPSL-CM6A-LR/historical/*r*i*p*f*/Amon/psl/g?/files/d*/\n",
      "Variable:  tas\n"
     ]
    },
    {
     "name": "stderr",
     "output_type": "stream",
     "text": [
      "/home/users/benhutch/model-characteristics/functions.py:481: FutureWarning: The frame.append method is deprecated and will be removed from pandas in a future version. Use pandas.concat instead.\n",
      "  df = df.append(row_dict, ignore_index=True)\n",
      "/home/users/benhutch/model-characteristics/functions.py:481: FutureWarning: The frame.append method is deprecated and will be removed from pandas in a future version. Use pandas.concat instead.\n",
      "  df = df.append(row_dict, ignore_index=True)\n"
     ]
    },
    {
     "name": "stdout",
     "output_type": "stream",
     "text": [
      "Path:  /badc/cmip6/data/CMIP6/CMIP/*/IPSL-CM6A-LR/historical/*r*i*p*f*/Amon/tas/g?/files/d*/\n",
      "Path:  /badc/cmip6/data/CMIP6/CMIP/*/IPSL-CM6A-LR/historical/*r*i*p*f*/Amon/tas/g?/files/d*/\n",
      "Variable:  tos\n",
      "Path:  /badc/cmip6/data/CMIP6/CMIP/*/IPSL-CM6A-LR/historical/*r*i*p*f*/Amon/tos/g?/files/d*/\n",
      "No files available\n",
      "Path:  /badc/cmip6/data/CMIP6/CMIP/*/IPSL-CM6A-LR/historical/*r*i*p*f*/Amon/tos/g?/files/d*/\n",
      "No files available\n",
      "No files available\n",
      "Variable:  rsds\n",
      "Not all runs are available for the variable\n",
      "Number of runs available for the runs directory:  32\n",
      "Number of runs available for the variable:  31\n",
      "Not all runs are available for the variable\n",
      "Number of runs available for the runs directory:  32\n",
      "Number of runs available for the variable:  31\n",
      "Not all runs are available for the variable\n",
      "Number of runs available for the runs directory:  32\n",
      "Number of runs available for the variable:  31\n",
      "Path:  /badc/cmip6/data/CMIP6/CMIP/*/IPSL-CM6A-LR/historical/*r*i*p*f*/Amon/rsds/g?/files/d*/\n",
      "Path:  /badc/cmip6/data/CMIP6/CMIP/*/IPSL-CM6A-LR/historical/*r*i*p*f*/Amon/rsds/g?/files/d*/\n",
      "Variable:  sfcWind\n",
      "Not all runs are available for the variable\n",
      "Number of runs available for the runs directory:  32\n",
      "Number of runs available for the variable:  31\n"
     ]
    },
    {
     "name": "stderr",
     "output_type": "stream",
     "text": [
      "/home/users/benhutch/model-characteristics/functions.py:481: FutureWarning: The frame.append method is deprecated and will be removed from pandas in a future version. Use pandas.concat instead.\n",
      "  df = df.append(row_dict, ignore_index=True)\n",
      "/home/users/benhutch/model-characteristics/functions.py:481: FutureWarning: The frame.append method is deprecated and will be removed from pandas in a future version. Use pandas.concat instead.\n",
      "  df = df.append(row_dict, ignore_index=True)\n"
     ]
    },
    {
     "name": "stdout",
     "output_type": "stream",
     "text": [
      "Not all runs are available for the variable\n",
      "Number of runs available for the runs directory:  32\n",
      "Number of runs available for the variable:  31\n",
      "Not all runs are available for the variable\n",
      "Number of runs available for the runs directory:  32\n",
      "Number of runs available for the variable:  31\n",
      "Path:  /badc/cmip6/data/CMIP6/CMIP/*/IPSL-CM6A-LR/historical/*r*i*p*f*/Amon/sfcWind/g?/files/d*/\n",
      "Path:  /badc/cmip6/data/CMIP6/CMIP/*/IPSL-CM6A-LR/historical/*r*i*p*f*/Amon/sfcWind/g?/files/d*/\n",
      "Model:  CESM1-1-CAM5-CMIP5\n",
      "Variable:  psl\n",
      "Model not available\n",
      "Path:  /badc/cmip6/data/CMIP6/CMIP/*/CESM1-1-CAM5-CMIP5/historical/*r*i*p*f*/Amon/psl/g?/files/d*/\n",
      "No files available\n",
      "Path:  /badc/cmip6/data/CMIP6/CMIP/*/CESM1-1-CAM5-CMIP5/historical/*r*i*p*f*/Amon/psl/g?/files/d*/\n",
      "No files available\n",
      "No files available\n",
      "Variable:  tas\n",
      "Model not available\n"
     ]
    },
    {
     "name": "stderr",
     "output_type": "stream",
     "text": [
      "/home/users/benhutch/model-characteristics/functions.py:481: FutureWarning: The frame.append method is deprecated and will be removed from pandas in a future version. Use pandas.concat instead.\n",
      "  df = df.append(row_dict, ignore_index=True)\n",
      "/home/users/benhutch/model-characteristics/functions.py:481: FutureWarning: The frame.append method is deprecated and will be removed from pandas in a future version. Use pandas.concat instead.\n",
      "  df = df.append(row_dict, ignore_index=True)\n",
      "/home/users/benhutch/model-characteristics/functions.py:481: FutureWarning: The frame.append method is deprecated and will be removed from pandas in a future version. Use pandas.concat instead.\n",
      "  df = df.append(row_dict, ignore_index=True)\n",
      "/home/users/benhutch/model-characteristics/functions.py:481: FutureWarning: The frame.append method is deprecated and will be removed from pandas in a future version. Use pandas.concat instead.\n",
      "  df = df.append(row_dict, ignore_index=True)\n",
      "/home/users/benhutch/model-characteristics/functions.py:481: FutureWarning: The frame.append method is deprecated and will be removed from pandas in a future version. Use pandas.concat instead.\n",
      "  df = df.append(row_dict, ignore_index=True)\n"
     ]
    },
    {
     "name": "stdout",
     "output_type": "stream",
     "text": [
      "Path:  /badc/cmip6/data/CMIP6/CMIP/*/CESM1-1-CAM5-CMIP5/historical/*r*i*p*f*/Amon/tas/g?/files/d*/\n",
      "No files available\n",
      "Path:  /badc/cmip6/data/CMIP6/CMIP/*/CESM1-1-CAM5-CMIP5/historical/*r*i*p*f*/Amon/tas/g?/files/d*/\n",
      "No files available\n",
      "No files available\n",
      "Variable:  tos\n",
      "Model not available\n",
      "Path:  /badc/cmip6/data/CMIP6/CMIP/*/CESM1-1-CAM5-CMIP5/historical/*r*i*p*f*/Amon/tos/g?/files/d*/\n",
      "No files available\n",
      "Path:  /badc/cmip6/data/CMIP6/CMIP/*/CESM1-1-CAM5-CMIP5/historical/*r*i*p*f*/Amon/tos/g?/files/d*/\n",
      "No files available\n",
      "No files available\n",
      "Variable:  rsds\n",
      "Model not available\n",
      "Path:  /badc/cmip6/data/CMIP6/CMIP/*/CESM1-1-CAM5-CMIP5/historical/*r*i*p*f*/Amon/rsds/g?/files/d*/\n",
      "No files available\n",
      "Path:  /badc/cmip6/data/CMIP6/CMIP/*/CESM1-1-CAM5-CMIP5/historical/*r*i*p*f*/Amon/rsds/g?/files/d*/\n",
      "No files available\n",
      "No files available\n",
      "Variable:  sfcWind\n",
      "Model not available\n",
      "Path:  /badc/cmip6/data/CMIP6/CMIP/*/CESM1-1-CAM5-CMIP5/historical/*r*i*p*f*/Amon/sfcWind/g?/files/d*/\n",
      "No files available\n",
      "Path:  /badc/cmip6/data/CMIP6/CMIP/*/CESM1-1-CAM5-CMIP5/historical/*r*i*p*f*/Amon/sfcWind/g?/files/d*/\n",
      "No files available\n",
      "No files available\n",
      "Model:  NorCPM1\n",
      "Variable:  psl\n"
     ]
    },
    {
     "name": "stderr",
     "output_type": "stream",
     "text": [
      "/home/users/benhutch/model-characteristics/functions.py:481: FutureWarning: The frame.append method is deprecated and will be removed from pandas in a future version. Use pandas.concat instead.\n",
      "  df = df.append(row_dict, ignore_index=True)\n",
      "/home/users/benhutch/model-characteristics/functions.py:481: FutureWarning: The frame.append method is deprecated and will be removed from pandas in a future version. Use pandas.concat instead.\n",
      "  df = df.append(row_dict, ignore_index=True)\n"
     ]
    },
    {
     "name": "stdout",
     "output_type": "stream",
     "text": [
      "Not all runs are available for the variable\n",
      "Number of runs available for the runs directory:  30\n",
      "Number of runs available for the variable:  1\n",
      "Not all runs are available for the variable\n",
      "Number of runs available for the runs directory:  30\n",
      "Number of runs available for the variable:  1\n",
      "Not all runs are available for the variable\n",
      "Number of runs available for the runs directory:  30\n",
      "Number of runs available for the variable:  1\n",
      "Path:  /badc/cmip6/data/CMIP6/CMIP/*/NorCPM1/historical/*r*i*p*f*/Amon/psl/g?/files/d*/\n",
      "Path:  /badc/cmip6/data/CMIP6/CMIP/*/NorCPM1/historical/*r*i*p*f*/Amon/psl/g?/files/d*/\n",
      "Variable:  tas\n",
      "Path:  /badc/cmip6/data/CMIP6/CMIP/*/NorCPM1/historical/*r*i*p*f*/Amon/tas/g?/files/d*/\n",
      "Path:  /badc/cmip6/data/CMIP6/CMIP/*/NorCPM1/historical/*r*i*p*f*/Amon/tas/g?/files/d*/\n",
      "Variable:  tos\n",
      "Path:  /badc/cmip6/data/CMIP6/CMIP/*/NorCPM1/historical/*r*i*p*f*/Amon/tos/g?/files/d*/\n",
      "No files available\n",
      "Path:  /badc/cmip6/data/CMIP6/CMIP/*/NorCPM1/historical/*r*i*p*f*/Amon/tos/g?/files/d*/\n",
      "No files available\n",
      "No files available\n",
      "Variable:  rsds\n",
      "Not all runs are available for the variable\n",
      "Number of runs available for the runs directory:  30\n",
      "Number of runs available for the variable:  1\n",
      "Not all runs are available for the variable\n",
      "Number of runs available for the runs directory:  30\n",
      "Number of runs available for the variable:  1\n",
      "Not all runs are available for the variable\n",
      "Number of runs available for the runs directory:  30\n",
      "Number of runs available for the variable:  1\n",
      "Path:  /badc/cmip6/data/CMIP6/CMIP/*/NorCPM1/historical/*r*i*p*f*/Amon/rsds/g?/files/d*/\n"
     ]
    },
    {
     "name": "stderr",
     "output_type": "stream",
     "text": [
      "/home/users/benhutch/model-characteristics/functions.py:481: FutureWarning: The frame.append method is deprecated and will be removed from pandas in a future version. Use pandas.concat instead.\n",
      "  df = df.append(row_dict, ignore_index=True)\n",
      "/home/users/benhutch/model-characteristics/functions.py:481: FutureWarning: The frame.append method is deprecated and will be removed from pandas in a future version. Use pandas.concat instead.\n",
      "  df = df.append(row_dict, ignore_index=True)\n"
     ]
    },
    {
     "name": "stdout",
     "output_type": "stream",
     "text": [
      "Path:  /badc/cmip6/data/CMIP6/CMIP/*/NorCPM1/historical/*r*i*p*f*/Amon/rsds/g?/files/d*/\n",
      "Variable:  sfcWind\n",
      "Path:  /badc/cmip6/data/CMIP6/CMIP/*/NorCPM1/historical/*r*i*p*f*/Amon/sfcWind/g?/files/d*/\n",
      "No files available\n",
      "Path:  /badc/cmip6/data/CMIP6/CMIP/*/NorCPM1/historical/*r*i*p*f*/Amon/sfcWind/g?/files/d*/\n",
      "No files available\n",
      "No files available\n",
      "Experiment:  dcppA-hindcast\n",
      "Model:  BCC-CSM2-MR\n",
      "Variable:  psl\n"
     ]
    },
    {
     "name": "stderr",
     "output_type": "stream",
     "text": [
      "/home/users/benhutch/model-characteristics/functions.py:481: FutureWarning: The frame.append method is deprecated and will be removed from pandas in a future version. Use pandas.concat instead.\n",
      "  df = df.append(row_dict, ignore_index=True)\n",
      "/home/users/benhutch/model-characteristics/functions.py:481: FutureWarning: The frame.append method is deprecated and will be removed from pandas in a future version. Use pandas.concat instead.\n",
      "  df = df.append(row_dict, ignore_index=True)\n"
     ]
    },
    {
     "name": "stdout",
     "output_type": "stream",
     "text": [
      "Not all runs are available for the variable\n",
      "Number of runs available for the runs directory:  0\n",
      "Number of runs available for the variable:  432\n",
      "Not all runs are available for the variable\n",
      "Number of runs available for the runs directory:  0\n",
      "Number of runs available for the variable:  432\n",
      "Not all runs are available for the variable\n",
      "Number of runs available for the runs directory:  0\n",
      "Number of runs available for the variable:  432\n",
      "Path:  /badc/cmip6/data/CMIP6/DCPP/*/BCC-CSM2-MR/dcppA-hindcast/*r*i*p*f*/Amon/psl/g?/files/d*/\n"
     ]
    },
    {
     "name": "stderr",
     "output_type": "stream",
     "text": [
      "/home/users/benhutch/model-characteristics/functions.py:481: FutureWarning: The frame.append method is deprecated and will be removed from pandas in a future version. Use pandas.concat instead.\n",
      "  df = df.append(row_dict, ignore_index=True)\n"
     ]
    },
    {
     "name": "stdout",
     "output_type": "stream",
     "text": [
      "Variable:  tas\n",
      "Not all runs are available for the variable\n",
      "Number of runs available for the runs directory:  0\n",
      "Number of runs available for the variable:  432\n",
      "Not all runs are available for the variable\n",
      "Number of runs available for the runs directory:  0\n",
      "Number of runs available for the variable:  432\n",
      "Not all runs are available for the variable\n",
      "Number of runs available for the runs directory:  0\n",
      "Number of runs available for the variable:  432\n",
      "Path:  /badc/cmip6/data/CMIP6/DCPP/*/BCC-CSM2-MR/dcppA-hindcast/*r*i*p*f*/Amon/tas/g?/files/d*/\n"
     ]
    },
    {
     "name": "stderr",
     "output_type": "stream",
     "text": [
      "/home/users/benhutch/model-characteristics/functions.py:481: FutureWarning: The frame.append method is deprecated and will be removed from pandas in a future version. Use pandas.concat instead.\n",
      "  df = df.append(row_dict, ignore_index=True)\n"
     ]
    },
    {
     "name": "stdout",
     "output_type": "stream",
     "text": [
      "Variable:  tos\n",
      "Path:  /badc/cmip6/data/CMIP6/DCPP/*/BCC-CSM2-MR/dcppA-hindcast/*r*i*p*f*/Amon/tos/g?/files/d*/\n",
      "No files available\n",
      "No files available\n",
      "Variable:  rsds\n"
     ]
    },
    {
     "name": "stderr",
     "output_type": "stream",
     "text": [
      "/home/users/benhutch/model-characteristics/functions.py:481: FutureWarning: The frame.append method is deprecated and will be removed from pandas in a future version. Use pandas.concat instead.\n",
      "  df = df.append(row_dict, ignore_index=True)\n"
     ]
    },
    {
     "name": "stdout",
     "output_type": "stream",
     "text": [
      "Not all runs are available for the variable\n",
      "Number of runs available for the runs directory:  0\n",
      "Number of runs available for the variable:  231\n",
      "Not all runs are available for the variable\n",
      "Number of runs available for the runs directory:  0\n",
      "Number of runs available for the variable:  231\n",
      "Not all runs are available for the variable\n",
      "Number of runs available for the runs directory:  0\n",
      "Number of runs available for the variable:  231\n",
      "Path:  /badc/cmip6/data/CMIP6/DCPP/*/BCC-CSM2-MR/dcppA-hindcast/*r*i*p*f*/Amon/rsds/g?/files/d*/\n"
     ]
    },
    {
     "name": "stderr",
     "output_type": "stream",
     "text": [
      "/home/users/benhutch/model-characteristics/functions.py:481: FutureWarning: The frame.append method is deprecated and will be removed from pandas in a future version. Use pandas.concat instead.\n",
      "  df = df.append(row_dict, ignore_index=True)\n"
     ]
    },
    {
     "name": "stdout",
     "output_type": "stream",
     "text": [
      "Variable:  sfcWind\n",
      "Path:  /badc/cmip6/data/CMIP6/DCPP/*/BCC-CSM2-MR/dcppA-hindcast/*r*i*p*f*/Amon/sfcWind/g?/files/d*/\n",
      "No files available\n",
      "No files available\n",
      "Model:  MPI-ESM1-2-HR\n",
      "Variable:  psl\n"
     ]
    },
    {
     "name": "stderr",
     "output_type": "stream",
     "text": [
      "/home/users/benhutch/model-characteristics/functions.py:481: FutureWarning: The frame.append method is deprecated and will be removed from pandas in a future version. Use pandas.concat instead.\n",
      "  df = df.append(row_dict, ignore_index=True)\n"
     ]
    },
    {
     "name": "stdout",
     "output_type": "stream",
     "text": [
      "Not all runs are available for the variable\n",
      "Number of runs available for the runs directory:  0\n",
      "Number of runs available for the variable:  595\n",
      "Not all runs are available for the variable\n",
      "Number of runs available for the runs directory:  0\n",
      "Number of runs available for the variable:  595\n",
      "Not all runs are available for the variable\n",
      "Number of runs available for the runs directory:  0\n",
      "Number of runs available for the variable:  595\n",
      "Path:  /badc/cmip6/data/CMIP6/DCPP/*/MPI-ESM1-2-HR/dcppA-hindcast/*r*i*p*f*/Amon/psl/g?/files/d*/\n"
     ]
    },
    {
     "name": "stderr",
     "output_type": "stream",
     "text": [
      "/home/users/benhutch/model-characteristics/functions.py:481: FutureWarning: The frame.append method is deprecated and will be removed from pandas in a future version. Use pandas.concat instead.\n",
      "  df = df.append(row_dict, ignore_index=True)\n"
     ]
    },
    {
     "name": "stdout",
     "output_type": "stream",
     "text": [
      "Variable:  tas\n",
      "Not all runs are available for the variable\n",
      "Number of runs available for the runs directory:  0\n",
      "Number of runs available for the variable:  595\n",
      "Not all runs are available for the variable\n",
      "Number of runs available for the runs directory:  0\n",
      "Number of runs available for the variable:  595\n",
      "Not all runs are available for the variable\n",
      "Number of runs available for the runs directory:  0\n",
      "Number of runs available for the variable:  595\n",
      "Path:  /badc/cmip6/data/CMIP6/DCPP/*/MPI-ESM1-2-HR/dcppA-hindcast/*r*i*p*f*/Amon/tas/g?/files/d*/\n"
     ]
    },
    {
     "name": "stderr",
     "output_type": "stream",
     "text": [
      "/home/users/benhutch/model-characteristics/functions.py:481: FutureWarning: The frame.append method is deprecated and will be removed from pandas in a future version. Use pandas.concat instead.\n",
      "  df = df.append(row_dict, ignore_index=True)\n"
     ]
    },
    {
     "name": "stdout",
     "output_type": "stream",
     "text": [
      "Variable:  tos\n",
      "Path:  /badc/cmip6/data/CMIP6/DCPP/*/MPI-ESM1-2-HR/dcppA-hindcast/*r*i*p*f*/Amon/tos/g?/files/d*/\n",
      "No files available\n",
      "No files available\n",
      "Variable:  rsds\n"
     ]
    },
    {
     "name": "stderr",
     "output_type": "stream",
     "text": [
      "/home/users/benhutch/model-characteristics/functions.py:481: FutureWarning: The frame.append method is deprecated and will be removed from pandas in a future version. Use pandas.concat instead.\n",
      "  df = df.append(row_dict, ignore_index=True)\n"
     ]
    },
    {
     "name": "stdout",
     "output_type": "stream",
     "text": [
      "Not all runs are available for the variable\n",
      "Number of runs available for the runs directory:  0\n",
      "Number of runs available for the variable:  595\n",
      "Not all runs are available for the variable\n",
      "Number of runs available for the runs directory:  0\n",
      "Number of runs available for the variable:  595\n",
      "Not all runs are available for the variable\n",
      "Number of runs available for the runs directory:  0\n",
      "Number of runs available for the variable:  595\n",
      "Path:  /badc/cmip6/data/CMIP6/DCPP/*/MPI-ESM1-2-HR/dcppA-hindcast/*r*i*p*f*/Amon/rsds/g?/files/d*/\n"
     ]
    },
    {
     "name": "stderr",
     "output_type": "stream",
     "text": [
      "/home/users/benhutch/model-characteristics/functions.py:481: FutureWarning: The frame.append method is deprecated and will be removed from pandas in a future version. Use pandas.concat instead.\n",
      "  df = df.append(row_dict, ignore_index=True)\n"
     ]
    },
    {
     "name": "stdout",
     "output_type": "stream",
     "text": [
      "Variable:  sfcWind\n",
      "Path:  /badc/cmip6/data/CMIP6/DCPP/*/MPI-ESM1-2-HR/dcppA-hindcast/*r*i*p*f*/Amon/sfcWind/g?/files/d*/\n",
      "No files available\n",
      "No files available\n",
      "Model:  CanESM5\n",
      "Variable:  psl\n"
     ]
    },
    {
     "name": "stderr",
     "output_type": "stream",
     "text": [
      "/home/users/benhutch/model-characteristics/functions.py:481: FutureWarning: The frame.append method is deprecated and will be removed from pandas in a future version. Use pandas.concat instead.\n",
      "  df = df.append(row_dict, ignore_index=True)\n"
     ]
    },
    {
     "name": "stdout",
     "output_type": "stream",
     "text": [
      "Not all runs are available for the variable\n",
      "Number of runs available for the runs directory:  0\n",
      "Number of runs available for the variable:  1248\n",
      "Not all runs are available for the variable\n",
      "Number of runs available for the runs directory:  0\n",
      "Number of runs available for the variable:  1248\n",
      "Not all runs are available for the variable\n",
      "Number of runs available for the runs directory:  0\n",
      "Number of runs available for the variable:  1248\n",
      "Path:  /badc/cmip6/data/CMIP6/DCPP/*/CanESM5/dcppA-hindcast/*r*i*p*f*/Amon/psl/g?/files/d*/\n"
     ]
    },
    {
     "name": "stderr",
     "output_type": "stream",
     "text": [
      "/home/users/benhutch/model-characteristics/functions.py:481: FutureWarning: The frame.append method is deprecated and will be removed from pandas in a future version. Use pandas.concat instead.\n",
      "  df = df.append(row_dict, ignore_index=True)\n"
     ]
    },
    {
     "name": "stdout",
     "output_type": "stream",
     "text": [
      "Variable:  tas\n",
      "Not all runs are available for the variable\n",
      "Number of runs available for the runs directory:  0\n",
      "Number of runs available for the variable:  2370\n",
      "Not all runs are available for the variable\n",
      "Number of runs available for the runs directory:  0\n",
      "Number of runs available for the variable:  2370\n",
      "Not all runs are available for the variable\n",
      "Number of runs available for the runs directory:  0\n",
      "Number of runs available for the variable:  2370\n",
      "Path:  /badc/cmip6/data/CMIP6/DCPP/*/CanESM5/dcppA-hindcast/*r*i*p*f*/Amon/tas/g?/files/d*/\n"
     ]
    },
    {
     "name": "stderr",
     "output_type": "stream",
     "text": [
      "/home/users/benhutch/model-characteristics/functions.py:481: FutureWarning: The frame.append method is deprecated and will be removed from pandas in a future version. Use pandas.concat instead.\n",
      "  df = df.append(row_dict, ignore_index=True)\n"
     ]
    },
    {
     "name": "stdout",
     "output_type": "stream",
     "text": [
      "Variable:  tos\n",
      "Path:  /badc/cmip6/data/CMIP6/DCPP/*/CanESM5/dcppA-hindcast/*r*i*p*f*/Amon/tos/g?/files/d*/\n",
      "No files available\n",
      "No files available\n",
      "Variable:  rsds\n"
     ]
    },
    {
     "name": "stderr",
     "output_type": "stream",
     "text": [
      "/home/users/benhutch/model-characteristics/functions.py:481: FutureWarning: The frame.append method is deprecated and will be removed from pandas in a future version. Use pandas.concat instead.\n",
      "  df = df.append(row_dict, ignore_index=True)\n"
     ]
    },
    {
     "name": "stdout",
     "output_type": "stream",
     "text": [
      "Not all runs are available for the variable\n",
      "Number of runs available for the runs directory:  0\n",
      "Number of runs available for the variable:  1260\n",
      "Not all runs are available for the variable\n",
      "Number of runs available for the runs directory:  0\n",
      "Number of runs available for the variable:  1260\n",
      "Not all runs are available for the variable\n",
      "Number of runs available for the runs directory:  0\n",
      "Number of runs available for the variable:  1260\n",
      "Path:  /badc/cmip6/data/CMIP6/DCPP/*/CanESM5/dcppA-hindcast/*r*i*p*f*/Amon/rsds/g?/files/d*/\n"
     ]
    },
    {
     "name": "stderr",
     "output_type": "stream",
     "text": [
      "/home/users/benhutch/model-characteristics/functions.py:481: FutureWarning: The frame.append method is deprecated and will be removed from pandas in a future version. Use pandas.concat instead.\n",
      "  df = df.append(row_dict, ignore_index=True)\n"
     ]
    },
    {
     "name": "stdout",
     "output_type": "stream",
     "text": [
      "Variable:  sfcWind\n",
      "Path:  /badc/cmip6/data/CMIP6/DCPP/*/CanESM5/dcppA-hindcast/*r*i*p*f*/Amon/sfcWind/g?/files/d*/\n",
      "No files available\n",
      "No files available\n",
      "Model:  CMCC-CM2-SR5\n",
      "Variable:  psl\n"
     ]
    },
    {
     "name": "stderr",
     "output_type": "stream",
     "text": [
      "/home/users/benhutch/model-characteristics/functions.py:481: FutureWarning: The frame.append method is deprecated and will be removed from pandas in a future version. Use pandas.concat instead.\n",
      "  df = df.append(row_dict, ignore_index=True)\n"
     ]
    },
    {
     "name": "stdout",
     "output_type": "stream",
     "text": [
      "Not all runs are available for the variable\n",
      "Number of runs available for the runs directory:  0\n",
      "Number of runs available for the variable:  600\n",
      "Not all runs are available for the variable\n",
      "Number of runs available for the runs directory:  0\n",
      "Number of runs available for the variable:  600\n",
      "Not all runs are available for the variable\n",
      "Number of runs available for the runs directory:  0\n",
      "Number of runs available for the variable:  600\n",
      "Path:  /badc/cmip6/data/CMIP6/DCPP/*/CMCC-CM2-SR5/dcppA-hindcast/*r*i*p*f*/Amon/psl/g?/files/d*/\n"
     ]
    },
    {
     "name": "stderr",
     "output_type": "stream",
     "text": [
      "/home/users/benhutch/model-characteristics/functions.py:481: FutureWarning: The frame.append method is deprecated and will be removed from pandas in a future version. Use pandas.concat instead.\n",
      "  df = df.append(row_dict, ignore_index=True)\n"
     ]
    },
    {
     "name": "stdout",
     "output_type": "stream",
     "text": [
      "Variable:  tas\n",
      "Not all runs are available for the variable\n",
      "Number of runs available for the runs directory:  0\n",
      "Number of runs available for the variable:  600\n",
      "Not all runs are available for the variable\n",
      "Number of runs available for the runs directory:  0\n",
      "Number of runs available for the variable:  600\n",
      "Not all runs are available for the variable\n",
      "Number of runs available for the runs directory:  0\n",
      "Number of runs available for the variable:  600\n",
      "Path:  /badc/cmip6/data/CMIP6/DCPP/*/CMCC-CM2-SR5/dcppA-hindcast/*r*i*p*f*/Amon/tas/g?/files/d*/\n"
     ]
    },
    {
     "name": "stderr",
     "output_type": "stream",
     "text": [
      "/home/users/benhutch/model-characteristics/functions.py:481: FutureWarning: The frame.append method is deprecated and will be removed from pandas in a future version. Use pandas.concat instead.\n",
      "  df = df.append(row_dict, ignore_index=True)\n"
     ]
    },
    {
     "name": "stdout",
     "output_type": "stream",
     "text": [
      "Variable:  tos\n",
      "Path:  /badc/cmip6/data/CMIP6/DCPP/*/CMCC-CM2-SR5/dcppA-hindcast/*r*i*p*f*/Amon/tos/g?/files/d*/\n",
      "No files available\n",
      "No files available\n",
      "Variable:  rsds\n"
     ]
    },
    {
     "name": "stderr",
     "output_type": "stream",
     "text": [
      "/home/users/benhutch/model-characteristics/functions.py:481: FutureWarning: The frame.append method is deprecated and will be removed from pandas in a future version. Use pandas.concat instead.\n",
      "  df = df.append(row_dict, ignore_index=True)\n"
     ]
    },
    {
     "name": "stdout",
     "output_type": "stream",
     "text": [
      "Not all runs are available for the variable\n",
      "Number of runs available for the runs directory:  0\n",
      "Number of runs available for the variable:  320\n",
      "Not all runs are available for the variable\n",
      "Number of runs available for the runs directory:  0\n",
      "Number of runs available for the variable:  320\n",
      "Not all runs are available for the variable\n",
      "Number of runs available for the runs directory:  0\n",
      "Number of runs available for the variable:  320\n",
      "Path:  /badc/cmip6/data/CMIP6/DCPP/*/CMCC-CM2-SR5/dcppA-hindcast/*r*i*p*f*/Amon/rsds/g?/files/d*/\n"
     ]
    },
    {
     "name": "stderr",
     "output_type": "stream",
     "text": [
      "/home/users/benhutch/model-characteristics/functions.py:481: FutureWarning: The frame.append method is deprecated and will be removed from pandas in a future version. Use pandas.concat instead.\n",
      "  df = df.append(row_dict, ignore_index=True)\n"
     ]
    },
    {
     "name": "stdout",
     "output_type": "stream",
     "text": [
      "Variable:  sfcWind\n",
      "Path:  /badc/cmip6/data/CMIP6/DCPP/*/CMCC-CM2-SR5/dcppA-hindcast/*r*i*p*f*/Amon/sfcWind/g?/files/d*/\n",
      "No files available\n",
      "No files available\n",
      "Model:  HadGEM3-GC31-MM\n",
      "Variable:  psl\n"
     ]
    },
    {
     "name": "stderr",
     "output_type": "stream",
     "text": [
      "/home/users/benhutch/model-characteristics/functions.py:481: FutureWarning: The frame.append method is deprecated and will be removed from pandas in a future version. Use pandas.concat instead.\n",
      "  df = df.append(row_dict, ignore_index=True)\n"
     ]
    },
    {
     "name": "stdout",
     "output_type": "stream",
     "text": [
      "Not all runs are available for the variable\n",
      "Number of runs available for the runs directory:  0\n",
      "Number of runs available for the variable:  590\n",
      "Not all runs are available for the variable\n",
      "Number of runs available for the runs directory:  0\n",
      "Number of runs available for the variable:  590\n",
      "Not all runs are available for the variable\n",
      "Number of runs available for the runs directory:  0\n",
      "Number of runs available for the variable:  590\n",
      "Path:  /badc/cmip6/data/CMIP6/DCPP/*/HadGEM3-GC31-MM/dcppA-hindcast/*r*i*p*f*/Amon/psl/g?/files/d*/\n"
     ]
    },
    {
     "name": "stderr",
     "output_type": "stream",
     "text": [
      "/home/users/benhutch/model-characteristics/functions.py:481: FutureWarning: The frame.append method is deprecated and will be removed from pandas in a future version. Use pandas.concat instead.\n",
      "  df = df.append(row_dict, ignore_index=True)\n"
     ]
    },
    {
     "name": "stdout",
     "output_type": "stream",
     "text": [
      "Variable:  tas\n",
      "Not all runs are available for the variable\n",
      "Number of runs available for the runs directory:  0\n",
      "Number of runs available for the variable:  590\n",
      "Not all runs are available for the variable\n",
      "Number of runs available for the runs directory:  0\n",
      "Number of runs available for the variable:  590\n",
      "Not all runs are available for the variable\n",
      "Number of runs available for the runs directory:  0\n",
      "Number of runs available for the variable:  590\n",
      "Path:  /badc/cmip6/data/CMIP6/DCPP/*/HadGEM3-GC31-MM/dcppA-hindcast/*r*i*p*f*/Amon/tas/g?/files/d*/\n"
     ]
    },
    {
     "name": "stderr",
     "output_type": "stream",
     "text": [
      "/home/users/benhutch/model-characteristics/functions.py:481: FutureWarning: The frame.append method is deprecated and will be removed from pandas in a future version. Use pandas.concat instead.\n",
      "  df = df.append(row_dict, ignore_index=True)\n"
     ]
    },
    {
     "name": "stdout",
     "output_type": "stream",
     "text": [
      "Variable:  tos\n",
      "Path:  /badc/cmip6/data/CMIP6/DCPP/*/HadGEM3-GC31-MM/dcppA-hindcast/*r*i*p*f*/Amon/tos/g?/files/d*/\n",
      "No files available\n",
      "No files available\n",
      "Variable:  rsds\n"
     ]
    },
    {
     "name": "stderr",
     "output_type": "stream",
     "text": [
      "/home/users/benhutch/model-characteristics/functions.py:481: FutureWarning: The frame.append method is deprecated and will be removed from pandas in a future version. Use pandas.concat instead.\n",
      "  df = df.append(row_dict, ignore_index=True)\n"
     ]
    },
    {
     "name": "stdout",
     "output_type": "stream",
     "text": [
      "Not all runs are available for the variable\n",
      "Number of runs available for the runs directory:  0\n",
      "Number of runs available for the variable:  590\n",
      "Not all runs are available for the variable\n",
      "Number of runs available for the runs directory:  0\n",
      "Number of runs available for the variable:  590\n",
      "Not all runs are available for the variable\n",
      "Number of runs available for the runs directory:  0\n",
      "Number of runs available for the variable:  590\n",
      "Path:  /badc/cmip6/data/CMIP6/DCPP/*/HadGEM3-GC31-MM/dcppA-hindcast/*r*i*p*f*/Amon/rsds/g?/files/d*/\n"
     ]
    },
    {
     "name": "stderr",
     "output_type": "stream",
     "text": [
      "/home/users/benhutch/model-characteristics/functions.py:481: FutureWarning: The frame.append method is deprecated and will be removed from pandas in a future version. Use pandas.concat instead.\n",
      "  df = df.append(row_dict, ignore_index=True)\n"
     ]
    },
    {
     "name": "stdout",
     "output_type": "stream",
     "text": [
      "Variable:  sfcWind\n",
      "Not all runs are available for the variable\n",
      "Number of runs available for the runs directory:  0\n",
      "Number of runs available for the variable:  590\n",
      "Not all runs are available for the variable\n",
      "Number of runs available for the runs directory:  0\n",
      "Number of runs available for the variable:  590\n",
      "Not all runs are available for the variable\n",
      "Number of runs available for the runs directory:  0\n",
      "Number of runs available for the variable:  590\n",
      "Path:  /badc/cmip6/data/CMIP6/DCPP/*/HadGEM3-GC31-MM/dcppA-hindcast/*r*i*p*f*/Amon/sfcWind/g?/files/d*/\n"
     ]
    },
    {
     "name": "stderr",
     "output_type": "stream",
     "text": [
      "/home/users/benhutch/model-characteristics/functions.py:481: FutureWarning: The frame.append method is deprecated and will be removed from pandas in a future version. Use pandas.concat instead.\n",
      "  df = df.append(row_dict, ignore_index=True)\n"
     ]
    },
    {
     "name": "stdout",
     "output_type": "stream",
     "text": [
      "Model:  EC-Earth3\n",
      "Variable:  psl\n",
      "Not all runs are available for the variable\n",
      "Number of runs available for the runs directory:  0\n",
      "Number of runs available for the variable:  880\n",
      "Not all runs are available for the variable\n",
      "Number of runs available for the runs directory:  0\n",
      "Number of runs available for the variable:  880\n",
      "Not all runs are available for the variable\n",
      "Number of runs available for the runs directory:  0\n",
      "Number of runs available for the variable:  880\n",
      "Path:  /badc/cmip6/data/CMIP6/DCPP/*/EC-Earth3/dcppA-hindcast/*r*i*p*f*/Amon/psl/g?/files/d*/\n"
     ]
    },
    {
     "name": "stderr",
     "output_type": "stream",
     "text": [
      "/home/users/benhutch/model-characteristics/functions.py:481: FutureWarning: The frame.append method is deprecated and will be removed from pandas in a future version. Use pandas.concat instead.\n",
      "  df = df.append(row_dict, ignore_index=True)\n"
     ]
    },
    {
     "name": "stdout",
     "output_type": "stream",
     "text": [
      "Variable:  tas\n",
      "Not all runs are available for the variable\n",
      "Number of runs available for the runs directory:  0\n",
      "Number of runs available for the variable:  934\n",
      "Not all runs are available for the variable\n",
      "Number of runs available for the runs directory:  0\n",
      "Number of runs available for the variable:  934\n",
      "Not all runs are available for the variable\n",
      "Number of runs available for the runs directory:  0\n",
      "Number of runs available for the variable:  934\n",
      "Path:  /badc/cmip6/data/CMIP6/DCPP/*/EC-Earth3/dcppA-hindcast/*r*i*p*f*/Amon/tas/g?/files/d*/\n"
     ]
    },
    {
     "name": "stderr",
     "output_type": "stream",
     "text": [
      "/home/users/benhutch/model-characteristics/functions.py:481: FutureWarning: The frame.append method is deprecated and will be removed from pandas in a future version. Use pandas.concat instead.\n",
      "  df = df.append(row_dict, ignore_index=True)\n"
     ]
    },
    {
     "name": "stdout",
     "output_type": "stream",
     "text": [
      "Variable:  tos\n",
      "Path:  /badc/cmip6/data/CMIP6/DCPP/*/EC-Earth3/dcppA-hindcast/*r*i*p*f*/Amon/tos/g?/files/d*/\n",
      "No files available\n",
      "No files available\n",
      "Variable:  rsds\n"
     ]
    },
    {
     "name": "stderr",
     "output_type": "stream",
     "text": [
      "/home/users/benhutch/model-characteristics/functions.py:481: FutureWarning: The frame.append method is deprecated and will be removed from pandas in a future version. Use pandas.concat instead.\n",
      "  df = df.append(row_dict, ignore_index=True)\n"
     ]
    },
    {
     "name": "stdout",
     "output_type": "stream",
     "text": [
      "Not all runs are available for the variable\n",
      "Number of runs available for the runs directory:  0\n",
      "Number of runs available for the variable:  934\n",
      "Not all runs are available for the variable\n",
      "Number of runs available for the runs directory:  0\n",
      "Number of runs available for the variable:  934\n",
      "Not all runs are available for the variable\n",
      "Number of runs available for the runs directory:  0\n",
      "Number of runs available for the variable:  934\n",
      "Path:  /badc/cmip6/data/CMIP6/DCPP/*/EC-Earth3/dcppA-hindcast/*r*i*p*f*/Amon/rsds/g?/files/d*/\n"
     ]
    },
    {
     "name": "stderr",
     "output_type": "stream",
     "text": [
      "/home/users/benhutch/model-characteristics/functions.py:481: FutureWarning: The frame.append method is deprecated and will be removed from pandas in a future version. Use pandas.concat instead.\n",
      "  df = df.append(row_dict, ignore_index=True)\n"
     ]
    },
    {
     "name": "stdout",
     "output_type": "stream",
     "text": [
      "Variable:  sfcWind\n",
      "Path:  /badc/cmip6/data/CMIP6/DCPP/*/EC-Earth3/dcppA-hindcast/*r*i*p*f*/Amon/sfcWind/g?/files/d*/\n",
      "No files available\n",
      "No files available\n",
      "Model:  MPI-ESM1-2-LR\n",
      "Variable:  psl\n",
      "Model not available\n",
      "Path:  /badc/cmip6/data/CMIP6/DCPP/*/MPI-ESM1-2-LR/dcppA-hindcast/*r*i*p*f*/Amon/psl/g?/files/d*/\n",
      "No files available\n",
      "No files available\n",
      "Variable:  tas\n",
      "Model not available\n",
      "Path:  /badc/cmip6/data/CMIP6/DCPP/*/MPI-ESM1-2-LR/dcppA-hindcast/*r*i*p*f*/Amon/tas/g?/files/d*/\n",
      "No files available\n",
      "No files available\n",
      "Variable:  tos\n",
      "Model not available\n",
      "Path:  /badc/cmip6/data/CMIP6/DCPP/*/MPI-ESM1-2-LR/dcppA-hindcast/*r*i*p*f*/Amon/tos/g?/files/d*/\n",
      "No files available\n",
      "No files available\n",
      "Variable:  rsds\n",
      "Model not available\n",
      "Path:  /badc/cmip6/data/CMIP6/DCPP/*/MPI-ESM1-2-LR/dcppA-hindcast/*r*i*p*f*/Amon/rsds/g?/files/d*/\n",
      "No files available\n",
      "No files available\n",
      "Variable:  sfcWind\n",
      "Model not available\n",
      "Path:  /badc/cmip6/data/CMIP6/DCPP/*/MPI-ESM1-2-LR/dcppA-hindcast/*r*i*p*f*/Amon/sfcWind/g?/files/d*/\n",
      "No files available\n",
      "No files available\n",
      "Model:  FGOALS-f3-L\n",
      "Variable:  psl\n",
      "Model not available\n",
      "Path:  /badc/cmip6/data/CMIP6/DCPP/*/FGOALS-f3-L/dcppA-hindcast/*r*i*p*f*/Amon/psl/g?/files/d*/\n",
      "No files available\n",
      "No files available\n",
      "Variable:  tas\n",
      "Model not available\n",
      "Path:  /badc/cmip6/data/CMIP6/DCPP/*/FGOALS-f3-L/dcppA-hindcast/*r*i*p*f*/Amon/tas/g?/files/d*/\n",
      "No files available\n",
      "No files available\n",
      "Variable:  tos\n",
      "Model not available\n",
      "Path:  /badc/cmip6/data/CMIP6/DCPP/*/FGOALS-f3-L/dcppA-hindcast/*r*i*p*f*/Amon/tos/g?/files/d*/\n",
      "No files available\n",
      "No files available\n",
      "Variable:  rsds\n",
      "Model not available\n",
      "Path:  /badc/cmip6/data/CMIP6/DCPP/*/FGOALS-f3-L/dcppA-hindcast/*r*i*p*f*/Amon/rsds/g?/files/d*/\n",
      "No files available\n",
      "No files available\n",
      "Variable:  sfcWind\n"
     ]
    },
    {
     "name": "stderr",
     "output_type": "stream",
     "text": [
      "/home/users/benhutch/model-characteristics/functions.py:481: FutureWarning: The frame.append method is deprecated and will be removed from pandas in a future version. Use pandas.concat instead.\n",
      "  df = df.append(row_dict, ignore_index=True)\n",
      "/home/users/benhutch/model-characteristics/functions.py:481: FutureWarning: The frame.append method is deprecated and will be removed from pandas in a future version. Use pandas.concat instead.\n",
      "  df = df.append(row_dict, ignore_index=True)\n",
      "/home/users/benhutch/model-characteristics/functions.py:481: FutureWarning: The frame.append method is deprecated and will be removed from pandas in a future version. Use pandas.concat instead.\n",
      "  df = df.append(row_dict, ignore_index=True)\n",
      "/home/users/benhutch/model-characteristics/functions.py:481: FutureWarning: The frame.append method is deprecated and will be removed from pandas in a future version. Use pandas.concat instead.\n",
      "  df = df.append(row_dict, ignore_index=True)\n",
      "/home/users/benhutch/model-characteristics/functions.py:481: FutureWarning: The frame.append method is deprecated and will be removed from pandas in a future version. Use pandas.concat instead.\n",
      "  df = df.append(row_dict, ignore_index=True)\n",
      "/home/users/benhutch/model-characteristics/functions.py:481: FutureWarning: The frame.append method is deprecated and will be removed from pandas in a future version. Use pandas.concat instead.\n",
      "  df = df.append(row_dict, ignore_index=True)\n",
      "/home/users/benhutch/model-characteristics/functions.py:481: FutureWarning: The frame.append method is deprecated and will be removed from pandas in a future version. Use pandas.concat instead.\n",
      "  df = df.append(row_dict, ignore_index=True)\n",
      "/home/users/benhutch/model-characteristics/functions.py:481: FutureWarning: The frame.append method is deprecated and will be removed from pandas in a future version. Use pandas.concat instead.\n",
      "  df = df.append(row_dict, ignore_index=True)\n",
      "/home/users/benhutch/model-characteristics/functions.py:481: FutureWarning: The frame.append method is deprecated and will be removed from pandas in a future version. Use pandas.concat instead.\n",
      "  df = df.append(row_dict, ignore_index=True)\n",
      "/home/users/benhutch/model-characteristics/functions.py:481: FutureWarning: The frame.append method is deprecated and will be removed from pandas in a future version. Use pandas.concat instead.\n",
      "  df = df.append(row_dict, ignore_index=True)\n"
     ]
    },
    {
     "name": "stdout",
     "output_type": "stream",
     "text": [
      "Model not available\n",
      "Path:  /badc/cmip6/data/CMIP6/DCPP/*/FGOALS-f3-L/dcppA-hindcast/*r*i*p*f*/Amon/sfcWind/g?/files/d*/\n",
      "No files available\n",
      "No files available\n",
      "Model:  MIROC6\n",
      "Variable:  psl\n"
     ]
    },
    {
     "name": "stderr",
     "output_type": "stream",
     "text": [
      "/home/users/benhutch/model-characteristics/functions.py:481: FutureWarning: The frame.append method is deprecated and will be removed from pandas in a future version. Use pandas.concat instead.\n",
      "  df = df.append(row_dict, ignore_index=True)\n"
     ]
    },
    {
     "name": "stdout",
     "output_type": "stream",
     "text": [
      "Path:  /badc/cmip6/data/CMIP6/DCPP/*/MIROC6/dcppA-hindcast/*r*i*p*f*/Amon/psl/g?/files/d*/\n",
      "No files available\n",
      "No files available\n"
     ]
    },
    {
     "name": "stderr",
     "output_type": "stream",
     "text": [
      "/home/users/benhutch/model-characteristics/functions.py:481: FutureWarning: The frame.append method is deprecated and will be removed from pandas in a future version. Use pandas.concat instead.\n",
      "  df = df.append(row_dict, ignore_index=True)\n"
     ]
    },
    {
     "name": "stdout",
     "output_type": "stream",
     "text": [
      "Variable:  tas\n",
      "Not all runs are available for the variable\n",
      "Number of runs available for the runs directory:  0\n",
      "Number of runs available for the variable:  620\n",
      "Not all runs are available for the variable\n",
      "Number of runs available for the runs directory:  0\n",
      "Number of runs available for the variable:  620\n",
      "Not all runs are available for the variable\n",
      "Number of runs available for the runs directory:  0\n",
      "Number of runs available for the variable:  620\n",
      "Path:  /badc/cmip6/data/CMIP6/DCPP/*/MIROC6/dcppA-hindcast/*r*i*p*f*/Amon/tas/g?/files/d*/\n"
     ]
    },
    {
     "name": "stderr",
     "output_type": "stream",
     "text": [
      "/home/users/benhutch/model-characteristics/functions.py:481: FutureWarning: The frame.append method is deprecated and will be removed from pandas in a future version. Use pandas.concat instead.\n",
      "  df = df.append(row_dict, ignore_index=True)\n"
     ]
    },
    {
     "name": "stdout",
     "output_type": "stream",
     "text": [
      "Variable:  tos\n",
      "Path:  /badc/cmip6/data/CMIP6/DCPP/*/MIROC6/dcppA-hindcast/*r*i*p*f*/Amon/tos/g?/files/d*/\n",
      "No files available\n",
      "No files available\n",
      "Variable:  rsds\n"
     ]
    },
    {
     "name": "stderr",
     "output_type": "stream",
     "text": [
      "/home/users/benhutch/model-characteristics/functions.py:481: FutureWarning: The frame.append method is deprecated and will be removed from pandas in a future version. Use pandas.concat instead.\n",
      "  df = df.append(row_dict, ignore_index=True)\n"
     ]
    },
    {
     "name": "stdout",
     "output_type": "stream",
     "text": [
      "Not all runs are available for the variable\n",
      "Number of runs available for the runs directory:  0\n",
      "Number of runs available for the variable:  620\n",
      "Not all runs are available for the variable\n",
      "Number of runs available for the runs directory:  0\n",
      "Number of runs available for the variable:  620\n",
      "Not all runs are available for the variable\n",
      "Number of runs available for the runs directory:  0\n",
      "Number of runs available for the variable:  620\n",
      "Path:  /badc/cmip6/data/CMIP6/DCPP/*/MIROC6/dcppA-hindcast/*r*i*p*f*/Amon/rsds/g?/files/d*/\n"
     ]
    },
    {
     "name": "stderr",
     "output_type": "stream",
     "text": [
      "/home/users/benhutch/model-characteristics/functions.py:481: FutureWarning: The frame.append method is deprecated and will be removed from pandas in a future version. Use pandas.concat instead.\n",
      "  df = df.append(row_dict, ignore_index=True)\n"
     ]
    },
    {
     "name": "stdout",
     "output_type": "stream",
     "text": [
      "Variable:  sfcWind\n",
      "Path:  /badc/cmip6/data/CMIP6/DCPP/*/MIROC6/dcppA-hindcast/*r*i*p*f*/Amon/sfcWind/g?/files/d*/\n",
      "No files available\n",
      "No files available\n",
      "Model:  IPSL-CM6A-LR\n",
      "Variable:  psl\n"
     ]
    },
    {
     "name": "stderr",
     "output_type": "stream",
     "text": [
      "/home/users/benhutch/model-characteristics/functions.py:481: FutureWarning: The frame.append method is deprecated and will be removed from pandas in a future version. Use pandas.concat instead.\n",
      "  df = df.append(row_dict, ignore_index=True)\n"
     ]
    },
    {
     "name": "stdout",
     "output_type": "stream",
     "text": [
      "Path:  /badc/cmip6/data/CMIP6/DCPP/*/IPSL-CM6A-LR/dcppA-hindcast/*r*i*p*f*/Amon/psl/g?/files/d*/\n",
      "No files available\n",
      "No files available\n",
      "Variable:  tas\n"
     ]
    },
    {
     "name": "stderr",
     "output_type": "stream",
     "text": [
      "/home/users/benhutch/model-characteristics/functions.py:481: FutureWarning: The frame.append method is deprecated and will be removed from pandas in a future version. Use pandas.concat instead.\n",
      "  df = df.append(row_dict, ignore_index=True)\n"
     ]
    },
    {
     "name": "stdout",
     "output_type": "stream",
     "text": [
      "Not all runs are available for the variable\n",
      "Number of runs available for the runs directory:  0\n",
      "Number of runs available for the variable:  570\n",
      "Not all runs are available for the variable\n",
      "Number of runs available for the runs directory:  0\n",
      "Number of runs available for the variable:  570\n",
      "Not all runs are available for the variable\n",
      "Number of runs available for the runs directory:  0\n",
      "Number of runs available for the variable:  570\n",
      "Path:  /badc/cmip6/data/CMIP6/DCPP/*/IPSL-CM6A-LR/dcppA-hindcast/*r*i*p*f*/Amon/tas/g?/files/d*/\n"
     ]
    },
    {
     "name": "stderr",
     "output_type": "stream",
     "text": [
      "/home/users/benhutch/model-characteristics/functions.py:481: FutureWarning: The frame.append method is deprecated and will be removed from pandas in a future version. Use pandas.concat instead.\n",
      "  df = df.append(row_dict, ignore_index=True)\n"
     ]
    },
    {
     "name": "stdout",
     "output_type": "stream",
     "text": [
      "Variable:  tos\n",
      "Path:  /badc/cmip6/data/CMIP6/DCPP/*/IPSL-CM6A-LR/dcppA-hindcast/*r*i*p*f*/Amon/tos/g?/files/d*/\n",
      "No files available\n",
      "No files available\n",
      "Variable:  rsds\n"
     ]
    },
    {
     "name": "stderr",
     "output_type": "stream",
     "text": [
      "/home/users/benhutch/model-characteristics/functions.py:481: FutureWarning: The frame.append method is deprecated and will be removed from pandas in a future version. Use pandas.concat instead.\n",
      "  df = df.append(row_dict, ignore_index=True)\n"
     ]
    },
    {
     "name": "stdout",
     "output_type": "stream",
     "text": [
      "Not all runs are available for the variable\n",
      "Number of runs available for the runs directory:  0\n",
      "Number of runs available for the variable:  570\n",
      "Not all runs are available for the variable\n",
      "Number of runs available for the runs directory:  0\n",
      "Number of runs available for the variable:  570\n",
      "Not all runs are available for the variable\n",
      "Number of runs available for the runs directory:  0\n",
      "Number of runs available for the variable:  570\n",
      "Path:  /badc/cmip6/data/CMIP6/DCPP/*/IPSL-CM6A-LR/dcppA-hindcast/*r*i*p*f*/Amon/rsds/g?/files/d*/\n"
     ]
    },
    {
     "name": "stderr",
     "output_type": "stream",
     "text": [
      "/home/users/benhutch/model-characteristics/functions.py:481: FutureWarning: The frame.append method is deprecated and will be removed from pandas in a future version. Use pandas.concat instead.\n",
      "  df = df.append(row_dict, ignore_index=True)\n"
     ]
    },
    {
     "name": "stdout",
     "output_type": "stream",
     "text": [
      "Variable:  sfcWind\n",
      "Path:  /badc/cmip6/data/CMIP6/DCPP/*/IPSL-CM6A-LR/dcppA-hindcast/*r*i*p*f*/Amon/sfcWind/g?/files/d*/\n",
      "No files available\n",
      "No files available\n",
      "Model:  CESM1-1-CAM5-CMIP5\n",
      "Variable:  psl\n",
      "Model not available\n",
      "Path:  /badc/cmip6/data/CMIP6/DCPP/*/CESM1-1-CAM5-CMIP5/dcppA-hindcast/*r*i*p*f*/Amon/psl/g?/files/d*/\n",
      "No files available\n",
      "No files available\n",
      "Variable:  tas\n",
      "Model not available\n",
      "Path:  /badc/cmip6/data/CMIP6/DCPP/*/CESM1-1-CAM5-CMIP5/dcppA-hindcast/*r*i*p*f*/Amon/tas/g?/files/d*/\n",
      "No files available\n",
      "No files available\n",
      "Variable:  tos\n",
      "Model not available\n",
      "Path:  /badc/cmip6/data/CMIP6/DCPP/*/CESM1-1-CAM5-CMIP5/dcppA-hindcast/*r*i*p*f*/Amon/tos/g?/files/d*/\n",
      "No files available\n",
      "No files available\n",
      "Variable:  rsds\n",
      "Model not available\n",
      "Path:  /badc/cmip6/data/CMIP6/DCPP/*/CESM1-1-CAM5-CMIP5/dcppA-hindcast/*r*i*p*f*/Amon/rsds/g?/files/d*/\n",
      "No files available\n",
      "No files available\n",
      "Variable:  sfcWind\n",
      "Model not available\n",
      "Path:  /badc/cmip6/data/CMIP6/DCPP/*/CESM1-1-CAM5-CMIP5/dcppA-hindcast/*r*i*p*f*/Amon/sfcWind/g?/files/d*/\n",
      "No files available\n",
      "No files available\n",
      "Model:  NorCPM1\n",
      "Variable:  psl\n"
     ]
    },
    {
     "name": "stderr",
     "output_type": "stream",
     "text": [
      "/home/users/benhutch/model-characteristics/functions.py:481: FutureWarning: The frame.append method is deprecated and will be removed from pandas in a future version. Use pandas.concat instead.\n",
      "  df = df.append(row_dict, ignore_index=True)\n",
      "/home/users/benhutch/model-characteristics/functions.py:481: FutureWarning: The frame.append method is deprecated and will be removed from pandas in a future version. Use pandas.concat instead.\n",
      "  df = df.append(row_dict, ignore_index=True)\n",
      "/home/users/benhutch/model-characteristics/functions.py:481: FutureWarning: The frame.append method is deprecated and will be removed from pandas in a future version. Use pandas.concat instead.\n",
      "  df = df.append(row_dict, ignore_index=True)\n",
      "/home/users/benhutch/model-characteristics/functions.py:481: FutureWarning: The frame.append method is deprecated and will be removed from pandas in a future version. Use pandas.concat instead.\n",
      "  df = df.append(row_dict, ignore_index=True)\n",
      "/home/users/benhutch/model-characteristics/functions.py:481: FutureWarning: The frame.append method is deprecated and will be removed from pandas in a future version. Use pandas.concat instead.\n",
      "  df = df.append(row_dict, ignore_index=True)\n",
      "/home/users/benhutch/model-characteristics/functions.py:481: FutureWarning: The frame.append method is deprecated and will be removed from pandas in a future version. Use pandas.concat instead.\n",
      "  df = df.append(row_dict, ignore_index=True)\n"
     ]
    },
    {
     "name": "stdout",
     "output_type": "stream",
     "text": [
      "Path:  /badc/cmip6/data/CMIP6/DCPP/*/NorCPM1/dcppA-hindcast/*r*i*p*f*/Amon/psl/g?/files/d*/\n",
      "No files available\n",
      "No files available\n",
      "Variable:  tas\n"
     ]
    },
    {
     "name": "stderr",
     "output_type": "stream",
     "text": [
      "/home/users/benhutch/model-characteristics/functions.py:481: FutureWarning: The frame.append method is deprecated and will be removed from pandas in a future version. Use pandas.concat instead.\n",
      "  df = df.append(row_dict, ignore_index=True)\n"
     ]
    },
    {
     "name": "stdout",
     "output_type": "stream",
     "text": [
      "Not all runs are available for the variable\n",
      "Number of runs available for the runs directory:  0\n",
      "Number of runs available for the variable:  1180\n",
      "Not all runs are available for the variable\n",
      "Number of runs available for the runs directory:  0\n",
      "Number of runs available for the variable:  1180\n",
      "Not all runs are available for the variable\n",
      "Number of runs available for the runs directory:  0\n",
      "Number of runs available for the variable:  1180\n",
      "Path:  /badc/cmip6/data/CMIP6/DCPP/*/NorCPM1/dcppA-hindcast/*r*i*p*f*/Amon/tas/g?/files/d*/\n"
     ]
    },
    {
     "name": "stderr",
     "output_type": "stream",
     "text": [
      "/home/users/benhutch/model-characteristics/functions.py:481: FutureWarning: The frame.append method is deprecated and will be removed from pandas in a future version. Use pandas.concat instead.\n",
      "  df = df.append(row_dict, ignore_index=True)\n"
     ]
    },
    {
     "name": "stdout",
     "output_type": "stream",
     "text": [
      "Variable:  tos\n",
      "Path:  /badc/cmip6/data/CMIP6/DCPP/*/NorCPM1/dcppA-hindcast/*r*i*p*f*/Amon/tos/g?/files/d*/\n",
      "No files available\n",
      "No files available\n",
      "Variable:  rsds\n"
     ]
    },
    {
     "name": "stderr",
     "output_type": "stream",
     "text": [
      "/home/users/benhutch/model-characteristics/functions.py:481: FutureWarning: The frame.append method is deprecated and will be removed from pandas in a future version. Use pandas.concat instead.\n",
      "  df = df.append(row_dict, ignore_index=True)\n"
     ]
    },
    {
     "name": "stdout",
     "output_type": "stream",
     "text": [
      "Not all runs are available for the variable\n",
      "Number of runs available for the runs directory:  0\n",
      "Number of runs available for the variable:  1180\n",
      "Not all runs are available for the variable\n",
      "Number of runs available for the runs directory:  0\n",
      "Number of runs available for the variable:  1180\n",
      "Not all runs are available for the variable\n",
      "Number of runs available for the runs directory:  0\n",
      "Number of runs available for the variable:  1180\n",
      "Path:  /badc/cmip6/data/CMIP6/DCPP/*/NorCPM1/dcppA-hindcast/*r*i*p*f*/Amon/rsds/g?/files/d*/\n"
     ]
    },
    {
     "name": "stderr",
     "output_type": "stream",
     "text": [
      "/home/users/benhutch/model-characteristics/functions.py:481: FutureWarning: The frame.append method is deprecated and will be removed from pandas in a future version. Use pandas.concat instead.\n",
      "  df = df.append(row_dict, ignore_index=True)\n"
     ]
    },
    {
     "name": "stdout",
     "output_type": "stream",
     "text": [
      "Variable:  sfcWind\n",
      "Path:  /badc/cmip6/data/CMIP6/DCPP/*/NorCPM1/dcppA-hindcast/*r*i*p*f*/Amon/sfcWind/g?/files/d*/\n",
      "No files available\n",
      "No files available\n",
      "Table_id:  day\n",
      "Experiment:  historical\n",
      "Model:  BCC-CSM2-MR\n",
      "Variable:  psl\n",
      "Path:  /badc/cmip6/data/CMIP6/CMIP/*/BCC-CSM2-MR/historical/*r*i*p*f*/day/psl/g?/files/d*/\n",
      "Path:  /badc/cmip6/data/CMIP6/CMIP/*/BCC-CSM2-MR/historical/*r*i*p*f*/day/psl/g?/files/d*/\n",
      "Variable:  tas\n",
      "Path:  /badc/cmip6/data/CMIP6/CMIP/*/BCC-CSM2-MR/historical/*r*i*p*f*/day/tas/g?/files/d*/\n",
      "Path:  /badc/cmip6/data/CMIP6/CMIP/*/BCC-CSM2-MR/historical/*r*i*p*f*/day/tas/g?/files/d*/\n",
      "Variable:  tos\n",
      "Path:  /badc/cmip6/data/CMIP6/CMIP/*/BCC-CSM2-MR/historical/*r*i*p*f*/day/tos/g?/files/d*/\n",
      "No files available\n",
      "Path:  /badc/cmip6/data/CMIP6/CMIP/*/BCC-CSM2-MR/historical/*r*i*p*f*/day/tos/g?/files/d*/\n",
      "No files available\n",
      "No files available\n",
      "Variable:  rsds\n"
     ]
    },
    {
     "name": "stderr",
     "output_type": "stream",
     "text": [
      "/home/users/benhutch/model-characteristics/functions.py:481: FutureWarning: The frame.append method is deprecated and will be removed from pandas in a future version. Use pandas.concat instead.\n",
      "  df = df.append(row_dict, ignore_index=True)\n",
      "/home/users/benhutch/model-characteristics/functions.py:481: FutureWarning: The frame.append method is deprecated and will be removed from pandas in a future version. Use pandas.concat instead.\n",
      "  df = df.append(row_dict, ignore_index=True)\n",
      "/home/users/benhutch/model-characteristics/functions.py:481: FutureWarning: The frame.append method is deprecated and will be removed from pandas in a future version. Use pandas.concat instead.\n",
      "  df = df.append(row_dict, ignore_index=True)\n",
      "/home/users/benhutch/model-characteristics/functions.py:481: FutureWarning: The frame.append method is deprecated and will be removed from pandas in a future version. Use pandas.concat instead.\n",
      "  df = df.append(row_dict, ignore_index=True)\n"
     ]
    },
    {
     "name": "stdout",
     "output_type": "stream",
     "text": [
      "Not all runs are available for the variable\n",
      "Number of runs available for the runs directory:  3\n",
      "Number of runs available for the variable:  1\n",
      "Not all runs are available for the variable\n",
      "Number of runs available for the runs directory:  3\n",
      "Number of runs available for the variable:  1\n",
      "Not all runs are available for the variable\n",
      "Number of runs available for the runs directory:  3\n",
      "Number of runs available for the variable:  1\n",
      "Path:  /badc/cmip6/data/CMIP6/CMIP/*/BCC-CSM2-MR/historical/*r*i*p*f*/day/rsds/g?/files/d*/\n",
      "Path:  /badc/cmip6/data/CMIP6/CMIP/*/BCC-CSM2-MR/historical/*r*i*p*f*/day/rsds/g?/files/d*/\n",
      "Variable:  sfcWind\n",
      "Not all runs are available for the variable\n",
      "Number of runs available for the runs directory:  3\n",
      "Number of runs available for the variable:  2\n",
      "Not all runs are available for the variable\n",
      "Number of runs available for the runs directory:  3\n",
      "Number of runs available for the variable:  2\n",
      "Not all runs are available for the variable\n",
      "Number of runs available for the runs directory:  3\n",
      "Number of runs available for the variable:  2\n",
      "Path:  /badc/cmip6/data/CMIP6/CMIP/*/BCC-CSM2-MR/historical/*r*i*p*f*/day/sfcWind/g?/files/d*/\n",
      "Path:  /badc/cmip6/data/CMIP6/CMIP/*/BCC-CSM2-MR/historical/*r*i*p*f*/day/sfcWind/g?/files/d*/\n",
      "Model:  MPI-ESM1-2-HR\n",
      "Variable:  psl\n",
      "Not all runs are available for the variable\n",
      "Number of runs available for the runs directory:  10\n",
      "Number of runs available for the variable:  1\n",
      "Not all runs are available for the variable\n",
      "Number of runs available for the runs directory:  10\n",
      "Number of runs available for the variable:  1\n",
      "Not all runs are available for the variable\n",
      "Number of runs available for the runs directory:  10\n",
      "Number of runs available for the variable:  1\n",
      "Path:  /badc/cmip6/data/CMIP6/CMIP/*/MPI-ESM1-2-HR/historical/*r*i*p*f*/day/psl/g?/files/d*/\n",
      "Path:  /badc/cmip6/data/CMIP6/CMIP/*/MPI-ESM1-2-HR/historical/*r*i*p*f*/day/psl/g?/files/d*/\n",
      "Variable:  tas\n"
     ]
    },
    {
     "name": "stderr",
     "output_type": "stream",
     "text": [
      "/home/users/benhutch/model-characteristics/functions.py:481: FutureWarning: The frame.append method is deprecated and will be removed from pandas in a future version. Use pandas.concat instead.\n",
      "  df = df.append(row_dict, ignore_index=True)\n",
      "/home/users/benhutch/model-characteristics/functions.py:481: FutureWarning: The frame.append method is deprecated and will be removed from pandas in a future version. Use pandas.concat instead.\n",
      "  df = df.append(row_dict, ignore_index=True)\n",
      "/home/users/benhutch/model-characteristics/functions.py:481: FutureWarning: The frame.append method is deprecated and will be removed from pandas in a future version. Use pandas.concat instead.\n",
      "  df = df.append(row_dict, ignore_index=True)\n"
     ]
    },
    {
     "name": "stdout",
     "output_type": "stream",
     "text": [
      "Path:  /badc/cmip6/data/CMIP6/CMIP/*/MPI-ESM1-2-HR/historical/*r*i*p*f*/day/tas/g?/files/d*/\n",
      "Path:  /badc/cmip6/data/CMIP6/CMIP/*/MPI-ESM1-2-HR/historical/*r*i*p*f*/day/tas/g?/files/d*/\n",
      "Variable:  tos\n",
      "Path:  /badc/cmip6/data/CMIP6/CMIP/*/MPI-ESM1-2-HR/historical/*r*i*p*f*/day/tos/g?/files/d*/\n",
      "No files available\n",
      "Path:  /badc/cmip6/data/CMIP6/CMIP/*/MPI-ESM1-2-HR/historical/*r*i*p*f*/day/tos/g?/files/d*/\n",
      "No files available\n",
      "No files available\n",
      "Variable:  rsds\n",
      "Not all runs are available for the variable\n",
      "Number of runs available for the runs directory:  10\n",
      "Number of runs available for the variable:  1\n",
      "Not all runs are available for the variable\n",
      "Number of runs available for the runs directory:  10\n",
      "Number of runs available for the variable:  1\n"
     ]
    },
    {
     "name": "stderr",
     "output_type": "stream",
     "text": [
      "/home/users/benhutch/model-characteristics/functions.py:481: FutureWarning: The frame.append method is deprecated and will be removed from pandas in a future version. Use pandas.concat instead.\n",
      "  df = df.append(row_dict, ignore_index=True)\n",
      "/home/users/benhutch/model-characteristics/functions.py:481: FutureWarning: The frame.append method is deprecated and will be removed from pandas in a future version. Use pandas.concat instead.\n",
      "  df = df.append(row_dict, ignore_index=True)\n",
      "/home/users/benhutch/model-characteristics/functions.py:481: FutureWarning: The frame.append method is deprecated and will be removed from pandas in a future version. Use pandas.concat instead.\n",
      "  df = df.append(row_dict, ignore_index=True)\n"
     ]
    },
    {
     "name": "stdout",
     "output_type": "stream",
     "text": [
      "Not all runs are available for the variable\n",
      "Number of runs available for the runs directory:  10\n",
      "Number of runs available for the variable:  1\n",
      "Path:  /badc/cmip6/data/CMIP6/CMIP/*/MPI-ESM1-2-HR/historical/*r*i*p*f*/day/rsds/g?/files/d*/\n",
      "Path:  /badc/cmip6/data/CMIP6/CMIP/*/MPI-ESM1-2-HR/historical/*r*i*p*f*/day/rsds/g?/files/d*/\n",
      "Variable:  sfcWind\n",
      "Not all runs are available for the variable\n",
      "Number of runs available for the runs directory:  10\n",
      "Number of runs available for the variable:  1\n",
      "Not all runs are available for the variable\n",
      "Number of runs available for the runs directory:  10\n",
      "Number of runs available for the variable:  1\n",
      "Not all runs are available for the variable\n",
      "Number of runs available for the runs directory:  10\n",
      "Number of runs available for the variable:  1\n",
      "Path:  /badc/cmip6/data/CMIP6/CMIP/*/MPI-ESM1-2-HR/historical/*r*i*p*f*/day/sfcWind/g?/files/d*/\n",
      "Path:  /badc/cmip6/data/CMIP6/CMIP/*/MPI-ESM1-2-HR/historical/*r*i*p*f*/day/sfcWind/g?/files/d*/\n",
      "Model:  CanESM5\n",
      "Variable:  psl\n",
      "Not all runs are available for the variable\n",
      "Number of runs available for the runs directory:  65\n",
      "Number of runs available for the variable:  9\n"
     ]
    },
    {
     "name": "stderr",
     "output_type": "stream",
     "text": [
      "/home/users/benhutch/model-characteristics/functions.py:481: FutureWarning: The frame.append method is deprecated and will be removed from pandas in a future version. Use pandas.concat instead.\n",
      "  df = df.append(row_dict, ignore_index=True)\n",
      "/home/users/benhutch/model-characteristics/functions.py:481: FutureWarning: The frame.append method is deprecated and will be removed from pandas in a future version. Use pandas.concat instead.\n",
      "  df = df.append(row_dict, ignore_index=True)\n"
     ]
    },
    {
     "name": "stdout",
     "output_type": "stream",
     "text": [
      "Not all runs are available for the variable\n",
      "Number of runs available for the runs directory:  65\n",
      "Number of runs available for the variable:  9\n",
      "Not all runs are available for the variable\n",
      "Number of runs available for the runs directory:  65\n",
      "Number of runs available for the variable:  9\n",
      "Path:  /badc/cmip6/data/CMIP6/CMIP/*/CanESM5/historical/*r*i*p*f*/day/psl/g?/files/d*/\n",
      "Path:  /badc/cmip6/data/CMIP6/CMIP/*/CanESM5/historical/*r*i*p*f*/day/psl/g?/files/d*/\n",
      "Variable:  tas\n",
      "Not all runs are available for the variable\n",
      "Number of runs available for the runs directory:  65\n",
      "Number of runs available for the variable:  50\n",
      "Not all runs are available for the variable\n",
      "Number of runs available for the runs directory:  65\n",
      "Number of runs available for the variable:  50\n",
      "Not all runs are available for the variable\n",
      "Number of runs available for the runs directory:  65\n",
      "Number of runs available for the variable:  50\n",
      "Path:  /badc/cmip6/data/CMIP6/CMIP/*/CanESM5/historical/*r*i*p*f*/day/tas/g?/files/d*/\n",
      "Path:  /badc/cmip6/data/CMIP6/CMIP/*/CanESM5/historical/*r*i*p*f*/day/tas/g?/files/d*/\n",
      "Variable:  tos\n",
      "Path:  /badc/cmip6/data/CMIP6/CMIP/*/CanESM5/historical/*r*i*p*f*/day/tos/g?/files/d*/\n",
      "No files available\n",
      "Path:  /badc/cmip6/data/CMIP6/CMIP/*/CanESM5/historical/*r*i*p*f*/day/tos/g?/files/d*/\n",
      "No files available\n",
      "No files available\n",
      "Variable:  rsds\n"
     ]
    },
    {
     "name": "stderr",
     "output_type": "stream",
     "text": [
      "/home/users/benhutch/model-characteristics/functions.py:481: FutureWarning: The frame.append method is deprecated and will be removed from pandas in a future version. Use pandas.concat instead.\n",
      "  df = df.append(row_dict, ignore_index=True)\n",
      "/home/users/benhutch/model-characteristics/functions.py:481: FutureWarning: The frame.append method is deprecated and will be removed from pandas in a future version. Use pandas.concat instead.\n",
      "  df = df.append(row_dict, ignore_index=True)\n"
     ]
    },
    {
     "name": "stdout",
     "output_type": "stream",
     "text": [
      "Not all runs are available for the variable\n",
      "Number of runs available for the runs directory:  65\n",
      "Number of runs available for the variable:  2\n",
      "Not all runs are available for the variable\n",
      "Number of runs available for the runs directory:  65\n",
      "Number of runs available for the variable:  2\n",
      "Not all runs are available for the variable\n",
      "Number of runs available for the runs directory:  65\n",
      "Number of runs available for the variable:  2\n",
      "Path:  /badc/cmip6/data/CMIP6/CMIP/*/CanESM5/historical/*r*i*p*f*/day/rsds/g?/files/d*/\n",
      "Path:  /badc/cmip6/data/CMIP6/CMIP/*/CanESM5/historical/*r*i*p*f*/day/rsds/g?/files/d*/\n",
      "Variable:  sfcWind\n",
      "Not all runs are available for the variable\n",
      "Number of runs available for the runs directory:  65\n",
      "Number of runs available for the variable:  1\n",
      "Not all runs are available for the variable\n",
      "Number of runs available for the runs directory:  65\n",
      "Number of runs available for the variable:  1\n",
      "Not all runs are available for the variable\n",
      "Number of runs available for the runs directory:  65\n",
      "Number of runs available for the variable:  1\n",
      "Path:  /badc/cmip6/data/CMIP6/CMIP/*/CanESM5/historical/*r*i*p*f*/day/sfcWind/g?/files/d*/\n",
      "Path:  /badc/cmip6/data/CMIP6/CMIP/*/CanESM5/historical/*r*i*p*f*/day/sfcWind/g?/files/d*/\n"
     ]
    },
    {
     "name": "stderr",
     "output_type": "stream",
     "text": [
      "/home/users/benhutch/model-characteristics/functions.py:481: FutureWarning: The frame.append method is deprecated and will be removed from pandas in a future version. Use pandas.concat instead.\n",
      "  df = df.append(row_dict, ignore_index=True)\n",
      "/home/users/benhutch/model-characteristics/functions.py:481: FutureWarning: The frame.append method is deprecated and will be removed from pandas in a future version. Use pandas.concat instead.\n",
      "  df = df.append(row_dict, ignore_index=True)\n"
     ]
    },
    {
     "name": "stdout",
     "output_type": "stream",
     "text": [
      "Model:  CMCC-CM2-SR5\n",
      "Variable:  psl\n",
      "Path:  /badc/cmip6/data/CMIP6/CMIP/*/CMCC-CM2-SR5/historical/*r*i*p*f*/day/psl/g?/files/d*/\n",
      "Path:  /badc/cmip6/data/CMIP6/CMIP/*/CMCC-CM2-SR5/historical/*r*i*p*f*/day/psl/g?/files/d*/\n",
      "Variable:  tas\n",
      "Path:  /badc/cmip6/data/CMIP6/CMIP/*/CMCC-CM2-SR5/historical/*r*i*p*f*/day/tas/g?/files/d*/\n"
     ]
    },
    {
     "name": "stderr",
     "output_type": "stream",
     "text": [
      "/home/users/benhutch/model-characteristics/functions.py:481: FutureWarning: The frame.append method is deprecated and will be removed from pandas in a future version. Use pandas.concat instead.\n",
      "  df = df.append(row_dict, ignore_index=True)\n",
      "/home/users/benhutch/model-characteristics/functions.py:481: FutureWarning: The frame.append method is deprecated and will be removed from pandas in a future version. Use pandas.concat instead.\n",
      "  df = df.append(row_dict, ignore_index=True)\n"
     ]
    },
    {
     "name": "stdout",
     "output_type": "stream",
     "text": [
      "Path:  /badc/cmip6/data/CMIP6/CMIP/*/CMCC-CM2-SR5/historical/*r*i*p*f*/day/tas/g?/files/d*/\n",
      "Variable:  tos\n",
      "Path:  /badc/cmip6/data/CMIP6/CMIP/*/CMCC-CM2-SR5/historical/*r*i*p*f*/day/tos/g?/files/d*/\n",
      "No files available\n",
      "Path:  /badc/cmip6/data/CMIP6/CMIP/*/CMCC-CM2-SR5/historical/*r*i*p*f*/day/tos/g?/files/d*/\n",
      "No files available\n",
      "No files available\n",
      "Variable:  rsds\n",
      "Path:  /badc/cmip6/data/CMIP6/CMIP/*/CMCC-CM2-SR5/historical/*r*i*p*f*/day/rsds/g?/files/d*/\n",
      "Path:  /badc/cmip6/data/CMIP6/CMIP/*/CMCC-CM2-SR5/historical/*r*i*p*f*/day/rsds/g?/files/d*/\n",
      "Variable:  sfcWind\n"
     ]
    },
    {
     "name": "stderr",
     "output_type": "stream",
     "text": [
      "/home/users/benhutch/model-characteristics/functions.py:481: FutureWarning: The frame.append method is deprecated and will be removed from pandas in a future version. Use pandas.concat instead.\n",
      "  df = df.append(row_dict, ignore_index=True)\n",
      "/home/users/benhutch/model-characteristics/functions.py:481: FutureWarning: The frame.append method is deprecated and will be removed from pandas in a future version. Use pandas.concat instead.\n",
      "  df = df.append(row_dict, ignore_index=True)\n",
      "/home/users/benhutch/model-characteristics/functions.py:481: FutureWarning: The frame.append method is deprecated and will be removed from pandas in a future version. Use pandas.concat instead.\n",
      "  df = df.append(row_dict, ignore_index=True)\n"
     ]
    },
    {
     "name": "stdout",
     "output_type": "stream",
     "text": [
      "Path:  /badc/cmip6/data/CMIP6/CMIP/*/CMCC-CM2-SR5/historical/*r*i*p*f*/day/sfcWind/g?/files/d*/\n",
      "Path:  /badc/cmip6/data/CMIP6/CMIP/*/CMCC-CM2-SR5/historical/*r*i*p*f*/day/sfcWind/g?/files/d*/\n",
      "Model:  HadGEM3-GC31-MM\n",
      "Variable:  psl\n",
      "Path:  /badc/cmip6/data/CMIP6/CMIP/*/HadGEM3-GC31-MM/historical/*r*i*p*f*/day/psl/g?/files/d*/\n",
      "Path:  /badc/cmip6/data/CMIP6/CMIP/*/HadGEM3-GC31-MM/historical/*r*i*p*f*/day/psl/g?/files/d*/\n",
      "Variable:  tas\n",
      "Path:  /badc/cmip6/data/CMIP6/CMIP/*/HadGEM3-GC31-MM/historical/*r*i*p*f*/day/tas/g?/files/d*/\n"
     ]
    },
    {
     "name": "stderr",
     "output_type": "stream",
     "text": [
      "/home/users/benhutch/model-characteristics/functions.py:481: FutureWarning: The frame.append method is deprecated and will be removed from pandas in a future version. Use pandas.concat instead.\n",
      "  df = df.append(row_dict, ignore_index=True)\n",
      "/home/users/benhutch/model-characteristics/functions.py:481: FutureWarning: The frame.append method is deprecated and will be removed from pandas in a future version. Use pandas.concat instead.\n",
      "  df = df.append(row_dict, ignore_index=True)\n",
      "/home/users/benhutch/model-characteristics/functions.py:481: FutureWarning: The frame.append method is deprecated and will be removed from pandas in a future version. Use pandas.concat instead.\n",
      "  df = df.append(row_dict, ignore_index=True)\n",
      "/home/users/benhutch/model-characteristics/functions.py:481: FutureWarning: The frame.append method is deprecated and will be removed from pandas in a future version. Use pandas.concat instead.\n",
      "  df = df.append(row_dict, ignore_index=True)\n"
     ]
    },
    {
     "name": "stdout",
     "output_type": "stream",
     "text": [
      "Path:  /badc/cmip6/data/CMIP6/CMIP/*/HadGEM3-GC31-MM/historical/*r*i*p*f*/day/tas/g?/files/d*/\n",
      "Variable:  tos\n",
      "Path:  /badc/cmip6/data/CMIP6/CMIP/*/HadGEM3-GC31-MM/historical/*r*i*p*f*/day/tos/g?/files/d*/\n",
      "No files available\n",
      "Path:  /badc/cmip6/data/CMIP6/CMIP/*/HadGEM3-GC31-MM/historical/*r*i*p*f*/day/tos/g?/files/d*/\n",
      "No files available\n",
      "No files available\n",
      "Variable:  rsds\n",
      "Path:  /badc/cmip6/data/CMIP6/CMIP/*/HadGEM3-GC31-MM/historical/*r*i*p*f*/day/rsds/g?/files/d*/\n",
      "Path:  /badc/cmip6/data/CMIP6/CMIP/*/HadGEM3-GC31-MM/historical/*r*i*p*f*/day/rsds/g?/files/d*/\n",
      "Variable:  sfcWind\n",
      "Path:  /badc/cmip6/data/CMIP6/CMIP/*/HadGEM3-GC31-MM/historical/*r*i*p*f*/day/sfcWind/g?/files/d*/\n",
      "Path:  /badc/cmip6/data/CMIP6/CMIP/*/HadGEM3-GC31-MM/historical/*r*i*p*f*/day/sfcWind/g?/files/d*/\n"
     ]
    },
    {
     "name": "stderr",
     "output_type": "stream",
     "text": [
      "/home/users/benhutch/model-characteristics/functions.py:481: FutureWarning: The frame.append method is deprecated and will be removed from pandas in a future version. Use pandas.concat instead.\n",
      "  df = df.append(row_dict, ignore_index=True)\n"
     ]
    },
    {
     "name": "stdout",
     "output_type": "stream",
     "text": [
      "Model:  EC-Earth3\n",
      "Variable:  psl\n",
      "Not all runs are available for the variable\n",
      "Number of runs available for the runs directory:  74\n",
      "Number of runs available for the variable:  2\n",
      "Not all runs are available for the variable\n",
      "Number of runs available for the runs directory:  74\n",
      "Number of runs available for the variable:  2\n",
      "Not all runs are available for the variable\n",
      "Number of runs available for the runs directory:  74\n",
      "Number of runs available for the variable:  2\n",
      "Path:  /badc/cmip6/data/CMIP6/CMIP/*/EC-Earth3/historical/*r*i*p*f*/day/psl/g?/files/d*/\n",
      "Path:  /badc/cmip6/data/CMIP6/CMIP/*/EC-Earth3/historical/*r*i*p*f*/day/psl/g?/files/d*/\n",
      "Variable:  tas\n"
     ]
    },
    {
     "name": "stderr",
     "output_type": "stream",
     "text": [
      "/home/users/benhutch/model-characteristics/functions.py:481: FutureWarning: The frame.append method is deprecated and will be removed from pandas in a future version. Use pandas.concat instead.\n",
      "  df = df.append(row_dict, ignore_index=True)\n"
     ]
    },
    {
     "name": "stdout",
     "output_type": "stream",
     "text": [
      "Not all runs are available for the variable\n",
      "Number of runs available for the runs directory:  74\n",
      "Number of runs available for the variable:  22\n",
      "Not all runs are available for the variable\n",
      "Number of runs available for the runs directory:  74\n",
      "Number of runs available for the variable:  22\n",
      "Not all runs are available for the variable\n",
      "Number of runs available for the runs directory:  74\n",
      "Number of runs available for the variable:  22\n",
      "Path:  /badc/cmip6/data/CMIP6/CMIP/*/EC-Earth3/historical/*r*i*p*f*/day/tas/g?/files/d*/\n",
      "Path:  /badc/cmip6/data/CMIP6/CMIP/*/EC-Earth3/historical/*r*i*p*f*/day/tas/g?/files/d*/\n"
     ]
    },
    {
     "name": "stderr",
     "output_type": "stream",
     "text": [
      "/home/users/benhutch/model-characteristics/functions.py:481: FutureWarning: The frame.append method is deprecated and will be removed from pandas in a future version. Use pandas.concat instead.\n",
      "  df = df.append(row_dict, ignore_index=True)\n",
      "/home/users/benhutch/model-characteristics/functions.py:481: FutureWarning: The frame.append method is deprecated and will be removed from pandas in a future version. Use pandas.concat instead.\n",
      "  df = df.append(row_dict, ignore_index=True)\n"
     ]
    },
    {
     "name": "stdout",
     "output_type": "stream",
     "text": [
      "Variable:  tos\n",
      "Path:  /badc/cmip6/data/CMIP6/CMIP/*/EC-Earth3/historical/*r*i*p*f*/day/tos/g?/files/d*/\n",
      "No files available\n",
      "Path:  /badc/cmip6/data/CMIP6/CMIP/*/EC-Earth3/historical/*r*i*p*f*/day/tos/g?/files/d*/\n",
      "No files available\n",
      "No files available\n",
      "Variable:  rsds\n",
      "Not all runs are available for the variable\n",
      "Number of runs available for the runs directory:  74\n",
      "Number of runs available for the variable:  2\n",
      "Not all runs are available for the variable\n",
      "Number of runs available for the runs directory:  74\n",
      "Number of runs available for the variable:  2\n",
      "Not all runs are available for the variable\n",
      "Number of runs available for the runs directory:  74\n",
      "Number of runs available for the variable:  2\n",
      "Path:  /badc/cmip6/data/CMIP6/CMIP/*/EC-Earth3/historical/*r*i*p*f*/day/rsds/g?/files/d*/\n",
      "Path:  /badc/cmip6/data/CMIP6/CMIP/*/EC-Earth3/historical/*r*i*p*f*/day/rsds/g?/files/d*/\n",
      "Variable:  sfcWind\n"
     ]
    },
    {
     "name": "stderr",
     "output_type": "stream",
     "text": [
      "/home/users/benhutch/model-characteristics/functions.py:481: FutureWarning: The frame.append method is deprecated and will be removed from pandas in a future version. Use pandas.concat instead.\n",
      "  df = df.append(row_dict, ignore_index=True)\n"
     ]
    },
    {
     "name": "stdout",
     "output_type": "stream",
     "text": [
      "Not all runs are available for the variable\n",
      "Number of runs available for the runs directory:  74\n",
      "Number of runs available for the variable:  1\n",
      "Not all runs are available for the variable\n",
      "Number of runs available for the runs directory:  74\n",
      "Number of runs available for the variable:  1\n",
      "Not all runs are available for the variable\n",
      "Number of runs available for the runs directory:  74\n",
      "Number of runs available for the variable:  1\n",
      "Path:  /badc/cmip6/data/CMIP6/CMIP/*/EC-Earth3/historical/*r*i*p*f*/day/sfcWind/g?/files/d*/\n",
      "Path:  /badc/cmip6/data/CMIP6/CMIP/*/EC-Earth3/historical/*r*i*p*f*/day/sfcWind/g?/files/d*/\n",
      "Model:  MPI-ESM1-2-LR\n",
      "Variable:  psl\n",
      "Not all runs are available for the variable\n",
      "Number of runs available for the runs directory:  30\n",
      "Number of runs available for the variable:  1\n",
      "Not all runs are available for the variable\n",
      "Number of runs available for the runs directory:  30\n",
      "Number of runs available for the variable:  1\n",
      "Not all runs are available for the variable\n",
      "Number of runs available for the runs directory:  30\n",
      "Number of runs available for the variable:  1\n",
      "Path:  /badc/cmip6/data/CMIP6/CMIP/*/MPI-ESM1-2-LR/historical/*r*i*p*f*/day/psl/g?/files/d*/\n",
      "Path:  /badc/cmip6/data/CMIP6/CMIP/*/MPI-ESM1-2-LR/historical/*r*i*p*f*/day/psl/g?/files/d*/\n",
      "Variable:  tas\n"
     ]
    },
    {
     "name": "stderr",
     "output_type": "stream",
     "text": [
      "/home/users/benhutch/model-characteristics/functions.py:481: FutureWarning: The frame.append method is deprecated and will be removed from pandas in a future version. Use pandas.concat instead.\n",
      "  df = df.append(row_dict, ignore_index=True)\n",
      "/home/users/benhutch/model-characteristics/functions.py:481: FutureWarning: The frame.append method is deprecated and will be removed from pandas in a future version. Use pandas.concat instead.\n",
      "  df = df.append(row_dict, ignore_index=True)\n"
     ]
    },
    {
     "name": "stdout",
     "output_type": "stream",
     "text": [
      "Not all runs are available for the variable\n",
      "Number of runs available for the runs directory:  30\n",
      "Number of runs available for the variable:  10\n",
      "Not all runs are available for the variable\n",
      "Number of runs available for the runs directory:  30\n",
      "Number of runs available for the variable:  10\n",
      "Not all runs are available for the variable\n",
      "Number of runs available for the runs directory:  30\n",
      "Number of runs available for the variable:  10\n",
      "Path:  /badc/cmip6/data/CMIP6/CMIP/*/MPI-ESM1-2-LR/historical/*r*i*p*f*/day/tas/g?/files/d*/\n",
      "Path:  /badc/cmip6/data/CMIP6/CMIP/*/MPI-ESM1-2-LR/historical/*r*i*p*f*/day/tas/g?/files/d*/\n",
      "Variable:  tos\n",
      "Path:  /badc/cmip6/data/CMIP6/CMIP/*/MPI-ESM1-2-LR/historical/*r*i*p*f*/day/tos/g?/files/d*/\n",
      "No files available\n",
      "Path:  /badc/cmip6/data/CMIP6/CMIP/*/MPI-ESM1-2-LR/historical/*r*i*p*f*/day/tos/g?/files/d*/\n",
      "No files available\n",
      "No files available\n",
      "Variable:  rsds\n",
      "Not all runs are available for the variable\n",
      "Number of runs available for the runs directory:  30\n",
      "Number of runs available for the variable:  1\n",
      "Not all runs are available for the variable\n",
      "Number of runs available for the runs directory:  30\n",
      "Number of runs available for the variable:  1\n",
      "Not all runs are available for the variable\n",
      "Number of runs available for the runs directory:  30\n",
      "Number of runs available for the variable:  1\n",
      "Path:  /badc/cmip6/data/CMIP6/CMIP/*/MPI-ESM1-2-LR/historical/*r*i*p*f*/day/rsds/g?/files/d*/\n"
     ]
    },
    {
     "name": "stderr",
     "output_type": "stream",
     "text": [
      "/home/users/benhutch/model-characteristics/functions.py:481: FutureWarning: The frame.append method is deprecated and will be removed from pandas in a future version. Use pandas.concat instead.\n",
      "  df = df.append(row_dict, ignore_index=True)\n",
      "/home/users/benhutch/model-characteristics/functions.py:481: FutureWarning: The frame.append method is deprecated and will be removed from pandas in a future version. Use pandas.concat instead.\n",
      "  df = df.append(row_dict, ignore_index=True)\n",
      "/home/users/benhutch/model-characteristics/functions.py:481: FutureWarning: The frame.append method is deprecated and will be removed from pandas in a future version. Use pandas.concat instead.\n",
      "  df = df.append(row_dict, ignore_index=True)\n"
     ]
    },
    {
     "name": "stdout",
     "output_type": "stream",
     "text": [
      "Path:  /badc/cmip6/data/CMIP6/CMIP/*/MPI-ESM1-2-LR/historical/*r*i*p*f*/day/rsds/g?/files/d*/\n",
      "Variable:  sfcWind\n",
      "Not all runs are available for the variable\n",
      "Number of runs available for the runs directory:  30\n",
      "Number of runs available for the variable:  1\n",
      "Not all runs are available for the variable\n",
      "Number of runs available for the runs directory:  30\n",
      "Number of runs available for the variable:  1\n",
      "Not all runs are available for the variable\n",
      "Number of runs available for the runs directory:  30\n",
      "Number of runs available for the variable:  1\n",
      "Path:  /badc/cmip6/data/CMIP6/CMIP/*/MPI-ESM1-2-LR/historical/*r*i*p*f*/day/sfcWind/g?/files/d*/\n",
      "Path:  /badc/cmip6/data/CMIP6/CMIP/*/MPI-ESM1-2-LR/historical/*r*i*p*f*/day/sfcWind/g?/files/d*/\n",
      "Model:  FGOALS-f3-L\n",
      "Variable:  psl\n",
      "Not all runs are available for the variable\n",
      "Number of runs available for the runs directory:  3\n",
      "Number of runs available for the variable:  1\n",
      "Not all runs are available for the variable\n",
      "Number of runs available for the runs directory:  3\n",
      "Number of runs available for the variable:  1\n",
      "Not all runs are available for the variable\n",
      "Number of runs available for the runs directory:  3\n",
      "Number of runs available for the variable:  1\n",
      "Path:  /badc/cmip6/data/CMIP6/CMIP/*/FGOALS-f3-L/historical/*r*i*p*f*/day/psl/g?/files/d*/\n",
      "Path:  /badc/cmip6/data/CMIP6/CMIP/*/FGOALS-f3-L/historical/*r*i*p*f*/day/psl/g?/files/d*/\n",
      "Variable:  tas\n"
     ]
    },
    {
     "name": "stderr",
     "output_type": "stream",
     "text": [
      "/home/users/benhutch/model-characteristics/functions.py:481: FutureWarning: The frame.append method is deprecated and will be removed from pandas in a future version. Use pandas.concat instead.\n",
      "  df = df.append(row_dict, ignore_index=True)\n",
      "/home/users/benhutch/model-characteristics/functions.py:481: FutureWarning: The frame.append method is deprecated and will be removed from pandas in a future version. Use pandas.concat instead.\n",
      "  df = df.append(row_dict, ignore_index=True)\n",
      "/home/users/benhutch/model-characteristics/functions.py:481: FutureWarning: The frame.append method is deprecated and will be removed from pandas in a future version. Use pandas.concat instead.\n",
      "  df = df.append(row_dict, ignore_index=True)\n",
      "/home/users/benhutch/model-characteristics/functions.py:481: FutureWarning: The frame.append method is deprecated and will be removed from pandas in a future version. Use pandas.concat instead.\n",
      "  df = df.append(row_dict, ignore_index=True)\n"
     ]
    },
    {
     "name": "stdout",
     "output_type": "stream",
     "text": [
      "Path:  /badc/cmip6/data/CMIP6/CMIP/*/FGOALS-f3-L/historical/*r*i*p*f*/day/tas/g?/files/d*/\n",
      "Path:  /badc/cmip6/data/CMIP6/CMIP/*/FGOALS-f3-L/historical/*r*i*p*f*/day/tas/g?/files/d*/\n",
      "Variable:  tos\n",
      "Path:  /badc/cmip6/data/CMIP6/CMIP/*/FGOALS-f3-L/historical/*r*i*p*f*/day/tos/g?/files/d*/\n",
      "No files available\n",
      "Path:  /badc/cmip6/data/CMIP6/CMIP/*/FGOALS-f3-L/historical/*r*i*p*f*/day/tos/g?/files/d*/\n",
      "No files available\n",
      "No files available\n",
      "Variable:  rsds\n",
      "Not all runs are available for the variable\n",
      "Number of runs available for the runs directory:  3\n",
      "Number of runs available for the variable:  1\n",
      "Not all runs are available for the variable\n",
      "Number of runs available for the runs directory:  3\n",
      "Number of runs available for the variable:  1\n",
      "Not all runs are available for the variable\n",
      "Number of runs available for the runs directory:  3\n",
      "Number of runs available for the variable:  1\n",
      "Path:  /badc/cmip6/data/CMIP6/CMIP/*/FGOALS-f3-L/historical/*r*i*p*f*/day/rsds/g?/files/d*/\n",
      "Path:  /badc/cmip6/data/CMIP6/CMIP/*/FGOALS-f3-L/historical/*r*i*p*f*/day/rsds/g?/files/d*/\n",
      "Variable:  sfcWind\n",
      "Not all runs are available for the variable\n",
      "Number of runs available for the runs directory:  3\n",
      "Number of runs available for the variable:  1\n",
      "Not all runs are available for the variable\n",
      "Number of runs available for the runs directory:  3\n",
      "Number of runs available for the variable:  1\n",
      "Not all runs are available for the variable\n",
      "Number of runs available for the runs directory:  3\n",
      "Number of runs available for the variable:  1\n",
      "Path:  /badc/cmip6/data/CMIP6/CMIP/*/FGOALS-f3-L/historical/*r*i*p*f*/day/sfcWind/g?/files/d*/\n",
      "Path:  /badc/cmip6/data/CMIP6/CMIP/*/FGOALS-f3-L/historical/*r*i*p*f*/day/sfcWind/g?/files/d*/\n",
      "Model:  MIROC6\n",
      "Variable:  psl\n"
     ]
    },
    {
     "name": "stderr",
     "output_type": "stream",
     "text": [
      "/home/users/benhutch/model-characteristics/functions.py:481: FutureWarning: The frame.append method is deprecated and will be removed from pandas in a future version. Use pandas.concat instead.\n",
      "  df = df.append(row_dict, ignore_index=True)\n",
      "/home/users/benhutch/model-characteristics/functions.py:481: FutureWarning: The frame.append method is deprecated and will be removed from pandas in a future version. Use pandas.concat instead.\n",
      "  df = df.append(row_dict, ignore_index=True)\n",
      "/home/users/benhutch/model-characteristics/functions.py:481: FutureWarning: The frame.append method is deprecated and will be removed from pandas in a future version. Use pandas.concat instead.\n",
      "  df = df.append(row_dict, ignore_index=True)\n"
     ]
    },
    {
     "name": "stdout",
     "output_type": "stream",
     "text": [
      "Not all runs are available for the variable\n",
      "Number of runs available for the runs directory:  50\n",
      "Number of runs available for the variable:  1\n",
      "Not all runs are available for the variable\n",
      "Number of runs available for the runs directory:  50\n",
      "Number of runs available for the variable:  1\n",
      "Not all runs are available for the variable\n",
      "Number of runs available for the runs directory:  50\n",
      "Number of runs available for the variable:  1\n",
      "Path:  /badc/cmip6/data/CMIP6/CMIP/*/MIROC6/historical/*r*i*p*f*/day/psl/g?/files/d*/\n",
      "Path:  /badc/cmip6/data/CMIP6/CMIP/*/MIROC6/historical/*r*i*p*f*/day/psl/g?/files/d*/\n",
      "Variable:  tas\n",
      "Not all runs are available for the variable\n",
      "Number of runs available for the runs directory:  50\n",
      "Number of runs available for the variable:  10\n",
      "Not all runs are available for the variable\n",
      "Number of runs available for the runs directory:  50\n",
      "Number of runs available for the variable:  10\n",
      "Not all runs are available for the variable\n",
      "Number of runs available for the runs directory:  50\n",
      "Number of runs available for the variable:  10\n",
      "Path:  /badc/cmip6/data/CMIP6/CMIP/*/MIROC6/historical/*r*i*p*f*/day/tas/g?/files/d*/\n",
      "Path:  /badc/cmip6/data/CMIP6/CMIP/*/MIROC6/historical/*r*i*p*f*/day/tas/g?/files/d*/\n",
      "Variable:  tos\n"
     ]
    },
    {
     "name": "stderr",
     "output_type": "stream",
     "text": [
      "/home/users/benhutch/model-characteristics/functions.py:481: FutureWarning: The frame.append method is deprecated and will be removed from pandas in a future version. Use pandas.concat instead.\n",
      "  df = df.append(row_dict, ignore_index=True)\n",
      "/home/users/benhutch/model-characteristics/functions.py:481: FutureWarning: The frame.append method is deprecated and will be removed from pandas in a future version. Use pandas.concat instead.\n",
      "  df = df.append(row_dict, ignore_index=True)\n",
      "/home/users/benhutch/model-characteristics/functions.py:481: FutureWarning: The frame.append method is deprecated and will be removed from pandas in a future version. Use pandas.concat instead.\n",
      "  df = df.append(row_dict, ignore_index=True)\n"
     ]
    },
    {
     "name": "stdout",
     "output_type": "stream",
     "text": [
      "Path:  /badc/cmip6/data/CMIP6/CMIP/*/MIROC6/historical/*r*i*p*f*/day/tos/g?/files/d*/\n",
      "No files available\n",
      "Path:  /badc/cmip6/data/CMIP6/CMIP/*/MIROC6/historical/*r*i*p*f*/day/tos/g?/files/d*/\n",
      "No files available\n",
      "No files available\n",
      "Variable:  rsds\n",
      "Not all runs are available for the variable\n",
      "Number of runs available for the runs directory:  50\n",
      "Number of runs available for the variable:  1\n",
      "Not all runs are available for the variable\n",
      "Number of runs available for the runs directory:  50\n",
      "Number of runs available for the variable:  1\n",
      "Not all runs are available for the variable\n",
      "Number of runs available for the runs directory:  50\n",
      "Number of runs available for the variable:  1\n",
      "Path:  /badc/cmip6/data/CMIP6/CMIP/*/MIROC6/historical/*r*i*p*f*/day/rsds/g?/files/d*/\n",
      "Path:  /badc/cmip6/data/CMIP6/CMIP/*/MIROC6/historical/*r*i*p*f*/day/rsds/g?/files/d*/\n",
      "Variable:  sfcWind\n",
      "Not all runs are available for the variable\n",
      "Number of runs available for the runs directory:  50\n",
      "Number of runs available for the variable:  1\n",
      "Not all runs are available for the variable\n",
      "Number of runs available for the runs directory:  50\n",
      "Number of runs available for the variable:  1\n",
      "Not all runs are available for the variable\n",
      "Number of runs available for the runs directory:  50\n",
      "Number of runs available for the variable:  1\n",
      "Path:  /badc/cmip6/data/CMIP6/CMIP/*/MIROC6/historical/*r*i*p*f*/day/sfcWind/g?/files/d*/\n",
      "Path:  /badc/cmip6/data/CMIP6/CMIP/*/MIROC6/historical/*r*i*p*f*/day/sfcWind/g?/files/d*/\n",
      "Model:  IPSL-CM6A-LR\n",
      "Variable:  psl\n",
      "Not all runs are available for the variable\n",
      "Number of runs available for the runs directory:  32\n",
      "Number of runs available for the variable:  31\n",
      "Not all runs are available for the variable\n",
      "Number of runs available for the runs directory:  32\n",
      "Number of runs available for the variable:  31\n",
      "Not all runs are available for the variable\n",
      "Number of runs available for the runs directory:  32\n",
      "Number of runs available for the variable:  31\n",
      "Path:  /badc/cmip6/data/CMIP6/CMIP/*/IPSL-CM6A-LR/historical/*r*i*p*f*/day/psl/g?/files/d*/\n"
     ]
    },
    {
     "name": "stderr",
     "output_type": "stream",
     "text": [
      "/home/users/benhutch/model-characteristics/functions.py:481: FutureWarning: The frame.append method is deprecated and will be removed from pandas in a future version. Use pandas.concat instead.\n",
      "  df = df.append(row_dict, ignore_index=True)\n"
     ]
    },
    {
     "name": "stdout",
     "output_type": "stream",
     "text": [
      "Path:  /badc/cmip6/data/CMIP6/CMIP/*/IPSL-CM6A-LR/historical/*r*i*p*f*/day/psl/g?/files/d*/\n",
      "Variable:  tas\n",
      "Path:  /badc/cmip6/data/CMIP6/CMIP/*/IPSL-CM6A-LR/historical/*r*i*p*f*/day/tas/g?/files/d*/\n",
      "Path:  /badc/cmip6/data/CMIP6/CMIP/*/IPSL-CM6A-LR/historical/*r*i*p*f*/day/tas/g?/files/d*/\n"
     ]
    },
    {
     "name": "stderr",
     "output_type": "stream",
     "text": [
      "/home/users/benhutch/model-characteristics/functions.py:481: FutureWarning: The frame.append method is deprecated and will be removed from pandas in a future version. Use pandas.concat instead.\n",
      "  df = df.append(row_dict, ignore_index=True)\n",
      "/home/users/benhutch/model-characteristics/functions.py:481: FutureWarning: The frame.append method is deprecated and will be removed from pandas in a future version. Use pandas.concat instead.\n",
      "  df = df.append(row_dict, ignore_index=True)\n",
      "/home/users/benhutch/model-characteristics/functions.py:481: FutureWarning: The frame.append method is deprecated and will be removed from pandas in a future version. Use pandas.concat instead.\n",
      "  df = df.append(row_dict, ignore_index=True)\n"
     ]
    },
    {
     "name": "stdout",
     "output_type": "stream",
     "text": [
      "Variable:  tos\n",
      "Path:  /badc/cmip6/data/CMIP6/CMIP/*/IPSL-CM6A-LR/historical/*r*i*p*f*/day/tos/g?/files/d*/\n",
      "No files available\n",
      "Path:  /badc/cmip6/data/CMIP6/CMIP/*/IPSL-CM6A-LR/historical/*r*i*p*f*/day/tos/g?/files/d*/\n",
      "No files available\n",
      "No files available\n",
      "Variable:  rsds\n",
      "Not all runs are available for the variable\n",
      "Number of runs available for the runs directory:  32\n",
      "Number of runs available for the variable:  31\n",
      "Not all runs are available for the variable\n",
      "Number of runs available for the runs directory:  32\n",
      "Number of runs available for the variable:  31\n",
      "Not all runs are available for the variable\n",
      "Number of runs available for the runs directory:  32\n",
      "Number of runs available for the variable:  31\n",
      "Path:  /badc/cmip6/data/CMIP6/CMIP/*/IPSL-CM6A-LR/historical/*r*i*p*f*/day/rsds/g?/files/d*/\n",
      "Path:  /badc/cmip6/data/CMIP6/CMIP/*/IPSL-CM6A-LR/historical/*r*i*p*f*/day/rsds/g?/files/d*/\n",
      "Variable:  sfcWind\n",
      "Not all runs are available for the variable\n",
      "Number of runs available for the runs directory:  32\n",
      "Number of runs available for the variable:  1\n",
      "Not all runs are available for the variable\n",
      "Number of runs available for the runs directory:  32\n",
      "Number of runs available for the variable:  1\n",
      "Not all runs are available for the variable\n",
      "Number of runs available for the runs directory:  32\n",
      "Number of runs available for the variable:  1\n",
      "Path:  /badc/cmip6/data/CMIP6/CMIP/*/IPSL-CM6A-LR/historical/*r*i*p*f*/day/sfcWind/g?/files/d*/\n",
      "Path:  /badc/cmip6/data/CMIP6/CMIP/*/IPSL-CM6A-LR/historical/*r*i*p*f*/day/sfcWind/g?/files/d*/\n",
      "Model:  CESM1-1-CAM5-CMIP5\n",
      "Variable:  psl\n",
      "Model not available\n",
      "Path:  /badc/cmip6/data/CMIP6/CMIP/*/CESM1-1-CAM5-CMIP5/historical/*r*i*p*f*/day/psl/g?/files/d*/\n",
      "No files available\n",
      "Path:  /badc/cmip6/data/CMIP6/CMIP/*/CESM1-1-CAM5-CMIP5/historical/*r*i*p*f*/day/psl/g?/files/d*/\n",
      "No files available\n",
      "No files available\n",
      "Variable:  tas\n",
      "Model not available\n"
     ]
    },
    {
     "name": "stderr",
     "output_type": "stream",
     "text": [
      "/home/users/benhutch/model-characteristics/functions.py:481: FutureWarning: The frame.append method is deprecated and will be removed from pandas in a future version. Use pandas.concat instead.\n",
      "  df = df.append(row_dict, ignore_index=True)\n",
      "/home/users/benhutch/model-characteristics/functions.py:481: FutureWarning: The frame.append method is deprecated and will be removed from pandas in a future version. Use pandas.concat instead.\n",
      "  df = df.append(row_dict, ignore_index=True)\n",
      "/home/users/benhutch/model-characteristics/functions.py:481: FutureWarning: The frame.append method is deprecated and will be removed from pandas in a future version. Use pandas.concat instead.\n",
      "  df = df.append(row_dict, ignore_index=True)\n"
     ]
    },
    {
     "name": "stdout",
     "output_type": "stream",
     "text": [
      "Path:  /badc/cmip6/data/CMIP6/CMIP/*/CESM1-1-CAM5-CMIP5/historical/*r*i*p*f*/day/tas/g?/files/d*/\n",
      "No files available\n",
      "Path:  /badc/cmip6/data/CMIP6/CMIP/*/CESM1-1-CAM5-CMIP5/historical/*r*i*p*f*/day/tas/g?/files/d*/\n",
      "No files available\n",
      "No files available\n",
      "Variable:  tos\n",
      "Model not available\n",
      "Path:  /badc/cmip6/data/CMIP6/CMIP/*/CESM1-1-CAM5-CMIP5/historical/*r*i*p*f*/day/tos/g?/files/d*/\n",
      "No files available\n",
      "Path:  /badc/cmip6/data/CMIP6/CMIP/*/CESM1-1-CAM5-CMIP5/historical/*r*i*p*f*/day/tos/g?/files/d*/\n",
      "No files available\n",
      "No files available\n",
      "Variable:  rsds\n",
      "Model not available\n",
      "Path:  /badc/cmip6/data/CMIP6/CMIP/*/CESM1-1-CAM5-CMIP5/historical/*r*i*p*f*/day/rsds/g?/files/d*/\n",
      "No files available\n",
      "Path:  /badc/cmip6/data/CMIP6/CMIP/*/CESM1-1-CAM5-CMIP5/historical/*r*i*p*f*/day/rsds/g?/files/d*/\n",
      "No files available\n",
      "No files available\n",
      "Variable:  sfcWind\n",
      "Model not available\n",
      "Path:  /badc/cmip6/data/CMIP6/CMIP/*/CESM1-1-CAM5-CMIP5/historical/*r*i*p*f*/day/sfcWind/g?/files/d*/\n",
      "No files available\n",
      "Path:  /badc/cmip6/data/CMIP6/CMIP/*/CESM1-1-CAM5-CMIP5/historical/*r*i*p*f*/day/sfcWind/g?/files/d*/\n",
      "No files available\n",
      "No files available\n",
      "Model:  NorCPM1\n",
      "Variable:  psl\n"
     ]
    },
    {
     "name": "stderr",
     "output_type": "stream",
     "text": [
      "/home/users/benhutch/model-characteristics/functions.py:481: FutureWarning: The frame.append method is deprecated and will be removed from pandas in a future version. Use pandas.concat instead.\n",
      "  df = df.append(row_dict, ignore_index=True)\n",
      "/home/users/benhutch/model-characteristics/functions.py:481: FutureWarning: The frame.append method is deprecated and will be removed from pandas in a future version. Use pandas.concat instead.\n",
      "  df = df.append(row_dict, ignore_index=True)\n",
      "/home/users/benhutch/model-characteristics/functions.py:481: FutureWarning: The frame.append method is deprecated and will be removed from pandas in a future version. Use pandas.concat instead.\n",
      "  df = df.append(row_dict, ignore_index=True)\n",
      "/home/users/benhutch/model-characteristics/functions.py:481: FutureWarning: The frame.append method is deprecated and will be removed from pandas in a future version. Use pandas.concat instead.\n",
      "  df = df.append(row_dict, ignore_index=True)\n"
     ]
    },
    {
     "name": "stdout",
     "output_type": "stream",
     "text": [
      "Not all runs are available for the variable\n",
      "Number of runs available for the runs directory:  30\n",
      "Number of runs available for the variable:  1\n",
      "Not all runs are available for the variable\n",
      "Number of runs available for the runs directory:  30\n",
      "Number of runs available for the variable:  1\n",
      "Not all runs are available for the variable\n",
      "Number of runs available for the runs directory:  30\n",
      "Number of runs available for the variable:  1\n",
      "Path:  /badc/cmip6/data/CMIP6/CMIP/*/NorCPM1/historical/*r*i*p*f*/day/psl/g?/files/d*/\n",
      "Path:  /badc/cmip6/data/CMIP6/CMIP/*/NorCPM1/historical/*r*i*p*f*/day/psl/g?/files/d*/\n",
      "Variable:  tas\n"
     ]
    },
    {
     "name": "stderr",
     "output_type": "stream",
     "text": [
      "/home/users/benhutch/model-characteristics/functions.py:481: FutureWarning: The frame.append method is deprecated and will be removed from pandas in a future version. Use pandas.concat instead.\n",
      "  df = df.append(row_dict, ignore_index=True)\n"
     ]
    },
    {
     "name": "stdout",
     "output_type": "stream",
     "text": [
      "Path:  /badc/cmip6/data/CMIP6/CMIP/*/NorCPM1/historical/*r*i*p*f*/day/tas/g?/files/d*/\n",
      "Path:  /badc/cmip6/data/CMIP6/CMIP/*/NorCPM1/historical/*r*i*p*f*/day/tas/g?/files/d*/\n",
      "Variable:  tos\n"
     ]
    },
    {
     "name": "stderr",
     "output_type": "stream",
     "text": [
      "/home/users/benhutch/model-characteristics/functions.py:481: FutureWarning: The frame.append method is deprecated and will be removed from pandas in a future version. Use pandas.concat instead.\n",
      "  df = df.append(row_dict, ignore_index=True)\n",
      "/home/users/benhutch/model-characteristics/functions.py:481: FutureWarning: The frame.append method is deprecated and will be removed from pandas in a future version. Use pandas.concat instead.\n",
      "  df = df.append(row_dict, ignore_index=True)\n",
      "/home/users/benhutch/model-characteristics/functions.py:481: FutureWarning: The frame.append method is deprecated and will be removed from pandas in a future version. Use pandas.concat instead.\n",
      "  df = df.append(row_dict, ignore_index=True)\n"
     ]
    },
    {
     "name": "stdout",
     "output_type": "stream",
     "text": [
      "Path:  /badc/cmip6/data/CMIP6/CMIP/*/NorCPM1/historical/*r*i*p*f*/day/tos/g?/files/d*/\n",
      "No files available\n",
      "Path:  /badc/cmip6/data/CMIP6/CMIP/*/NorCPM1/historical/*r*i*p*f*/day/tos/g?/files/d*/\n",
      "No files available\n",
      "No files available\n",
      "Variable:  rsds\n",
      "Not all runs are available for the variable\n",
      "Number of runs available for the runs directory:  30\n",
      "Number of runs available for the variable:  1\n",
      "Not all runs are available for the variable\n",
      "Number of runs available for the runs directory:  30\n",
      "Number of runs available for the variable:  1\n",
      "Not all runs are available for the variable\n",
      "Number of runs available for the runs directory:  30\n",
      "Number of runs available for the variable:  1\n",
      "Path:  /badc/cmip6/data/CMIP6/CMIP/*/NorCPM1/historical/*r*i*p*f*/day/rsds/g?/files/d*/\n",
      "Path:  /badc/cmip6/data/CMIP6/CMIP/*/NorCPM1/historical/*r*i*p*f*/day/rsds/g?/files/d*/\n",
      "Variable:  sfcWind\n",
      "Not all runs are available for the variable\n",
      "Number of runs available for the runs directory:  30\n",
      "Number of runs available for the variable:  1\n",
      "Not all runs are available for the variable\n",
      "Number of runs available for the runs directory:  30\n",
      "Number of runs available for the variable:  1\n",
      "Not all runs are available for the variable\n",
      "Number of runs available for the runs directory:  30\n",
      "Number of runs available for the variable:  1\n",
      "Path:  /badc/cmip6/data/CMIP6/CMIP/*/NorCPM1/historical/*r*i*p*f*/day/sfcWind/g?/files/d*/\n",
      "Path:  /badc/cmip6/data/CMIP6/CMIP/*/NorCPM1/historical/*r*i*p*f*/day/sfcWind/g?/files/d*/\n",
      "Experiment:  dcppA-hindcast\n",
      "Model:  BCC-CSM2-MR\n",
      "Variable:  psl\n"
     ]
    },
    {
     "name": "stderr",
     "output_type": "stream",
     "text": [
      "/home/users/benhutch/model-characteristics/functions.py:481: FutureWarning: The frame.append method is deprecated and will be removed from pandas in a future version. Use pandas.concat instead.\n",
      "  df = df.append(row_dict, ignore_index=True)\n"
     ]
    },
    {
     "name": "stdout",
     "output_type": "stream",
     "text": [
      "Not all runs are available for the variable\n",
      "Number of runs available for the runs directory:  0\n",
      "Number of runs available for the variable:  432\n",
      "Not all runs are available for the variable\n",
      "Number of runs available for the runs directory:  0\n",
      "Number of runs available for the variable:  432\n",
      "Not all runs are available for the variable\n",
      "Number of runs available for the runs directory:  0\n",
      "Number of runs available for the variable:  432\n",
      "Path:  /badc/cmip6/data/CMIP6/DCPP/*/BCC-CSM2-MR/dcppA-hindcast/*r*i*p*f*/day/psl/g?/files/d*/\n"
     ]
    },
    {
     "name": "stderr",
     "output_type": "stream",
     "text": [
      "/home/users/benhutch/model-characteristics/functions.py:481: FutureWarning: The frame.append method is deprecated and will be removed from pandas in a future version. Use pandas.concat instead.\n",
      "  df = df.append(row_dict, ignore_index=True)\n"
     ]
    },
    {
     "name": "stdout",
     "output_type": "stream",
     "text": [
      "Variable:  tas\n",
      "Not all runs are available for the variable\n",
      "Number of runs available for the runs directory:  0\n",
      "Number of runs available for the variable:  432\n",
      "Not all runs are available for the variable\n",
      "Number of runs available for the runs directory:  0\n",
      "Number of runs available for the variable:  432\n",
      "Not all runs are available for the variable\n",
      "Number of runs available for the runs directory:  0\n",
      "Number of runs available for the variable:  432\n",
      "Path:  /badc/cmip6/data/CMIP6/DCPP/*/BCC-CSM2-MR/dcppA-hindcast/*r*i*p*f*/day/tas/g?/files/d*/\n"
     ]
    },
    {
     "name": "stderr",
     "output_type": "stream",
     "text": [
      "/home/users/benhutch/model-characteristics/functions.py:481: FutureWarning: The frame.append method is deprecated and will be removed from pandas in a future version. Use pandas.concat instead.\n",
      "  df = df.append(row_dict, ignore_index=True)\n"
     ]
    },
    {
     "name": "stdout",
     "output_type": "stream",
     "text": [
      "Variable:  tos\n",
      "Path:  /badc/cmip6/data/CMIP6/DCPP/*/BCC-CSM2-MR/dcppA-hindcast/*r*i*p*f*/day/tos/g?/files/d*/\n",
      "No files available\n",
      "No files available\n",
      "Variable:  rsds\n"
     ]
    },
    {
     "name": "stderr",
     "output_type": "stream",
     "text": [
      "/home/users/benhutch/model-characteristics/functions.py:481: FutureWarning: The frame.append method is deprecated and will be removed from pandas in a future version. Use pandas.concat instead.\n",
      "  df = df.append(row_dict, ignore_index=True)\n"
     ]
    },
    {
     "name": "stdout",
     "output_type": "stream",
     "text": [
      "Path:  /badc/cmip6/data/CMIP6/DCPP/*/BCC-CSM2-MR/dcppA-hindcast/*r*i*p*f*/day/rsds/g?/files/d*/\n",
      "No files available\n",
      "No files available\n",
      "Variable:  sfcWind\n"
     ]
    },
    {
     "name": "stderr",
     "output_type": "stream",
     "text": [
      "/home/users/benhutch/model-characteristics/functions.py:481: FutureWarning: The frame.append method is deprecated and will be removed from pandas in a future version. Use pandas.concat instead.\n",
      "  df = df.append(row_dict, ignore_index=True)\n"
     ]
    },
    {
     "name": "stdout",
     "output_type": "stream",
     "text": [
      "Path:  /badc/cmip6/data/CMIP6/DCPP/*/BCC-CSM2-MR/dcppA-hindcast/*r*i*p*f*/day/sfcWind/g?/files/d*/\n",
      "No files available\n",
      "No files available\n",
      "Model:  MPI-ESM1-2-HR\n",
      "Variable:  psl\n"
     ]
    },
    {
     "name": "stderr",
     "output_type": "stream",
     "text": [
      "/home/users/benhutch/model-characteristics/functions.py:481: FutureWarning: The frame.append method is deprecated and will be removed from pandas in a future version. Use pandas.concat instead.\n",
      "  df = df.append(row_dict, ignore_index=True)\n"
     ]
    },
    {
     "name": "stdout",
     "output_type": "stream",
     "text": [
      "Not all runs are available for the variable\n",
      "Number of runs available for the runs directory:  0\n",
      "Number of runs available for the variable:  595\n",
      "Not all runs are available for the variable\n",
      "Number of runs available for the runs directory:  0\n",
      "Number of runs available for the variable:  595\n",
      "Not all runs are available for the variable\n",
      "Number of runs available for the runs directory:  0\n",
      "Number of runs available for the variable:  595\n",
      "Path:  /badc/cmip6/data/CMIP6/DCPP/*/MPI-ESM1-2-HR/dcppA-hindcast/*r*i*p*f*/day/psl/g?/files/d*/\n"
     ]
    },
    {
     "name": "stderr",
     "output_type": "stream",
     "text": [
      "/home/users/benhutch/model-characteristics/functions.py:481: FutureWarning: The frame.append method is deprecated and will be removed from pandas in a future version. Use pandas.concat instead.\n",
      "  df = df.append(row_dict, ignore_index=True)\n"
     ]
    },
    {
     "name": "stdout",
     "output_type": "stream",
     "text": [
      "Variable:  tas\n",
      "Not all runs are available for the variable\n",
      "Number of runs available for the runs directory:  0\n",
      "Number of runs available for the variable:  595\n",
      "Not all runs are available for the variable\n",
      "Number of runs available for the runs directory:  0\n",
      "Number of runs available for the variable:  595\n",
      "Not all runs are available for the variable\n",
      "Number of runs available for the runs directory:  0\n",
      "Number of runs available for the variable:  595\n",
      "Path:  /badc/cmip6/data/CMIP6/DCPP/*/MPI-ESM1-2-HR/dcppA-hindcast/*r*i*p*f*/day/tas/g?/files/d*/\n"
     ]
    },
    {
     "name": "stderr",
     "output_type": "stream",
     "text": [
      "/home/users/benhutch/model-characteristics/functions.py:481: FutureWarning: The frame.append method is deprecated and will be removed from pandas in a future version. Use pandas.concat instead.\n",
      "  df = df.append(row_dict, ignore_index=True)\n"
     ]
    },
    {
     "name": "stdout",
     "output_type": "stream",
     "text": [
      "Variable:  tos\n",
      "Path:  /badc/cmip6/data/CMIP6/DCPP/*/MPI-ESM1-2-HR/dcppA-hindcast/*r*i*p*f*/day/tos/g?/files/d*/\n",
      "No files available\n",
      "No files available\n",
      "Variable:  rsds\n"
     ]
    },
    {
     "name": "stderr",
     "output_type": "stream",
     "text": [
      "/home/users/benhutch/model-characteristics/functions.py:481: FutureWarning: The frame.append method is deprecated and will be removed from pandas in a future version. Use pandas.concat instead.\n",
      "  df = df.append(row_dict, ignore_index=True)\n"
     ]
    },
    {
     "name": "stdout",
     "output_type": "stream",
     "text": [
      "Path:  /badc/cmip6/data/CMIP6/DCPP/*/MPI-ESM1-2-HR/dcppA-hindcast/*r*i*p*f*/day/rsds/g?/files/d*/\n",
      "No files available\n",
      "No files available\n",
      "Variable:  sfcWind\n"
     ]
    },
    {
     "name": "stderr",
     "output_type": "stream",
     "text": [
      "/home/users/benhutch/model-characteristics/functions.py:481: FutureWarning: The frame.append method is deprecated and will be removed from pandas in a future version. Use pandas.concat instead.\n",
      "  df = df.append(row_dict, ignore_index=True)\n"
     ]
    },
    {
     "name": "stdout",
     "output_type": "stream",
     "text": [
      "Path:  /badc/cmip6/data/CMIP6/DCPP/*/MPI-ESM1-2-HR/dcppA-hindcast/*r*i*p*f*/day/sfcWind/g?/files/d*/\n",
      "No files available\n",
      "No files available\n",
      "Model:  CanESM5\n",
      "Variable:  psl\n"
     ]
    },
    {
     "name": "stderr",
     "output_type": "stream",
     "text": [
      "/home/users/benhutch/model-characteristics/functions.py:481: FutureWarning: The frame.append method is deprecated and will be removed from pandas in a future version. Use pandas.concat instead.\n",
      "  df = df.append(row_dict, ignore_index=True)\n"
     ]
    },
    {
     "name": "stdout",
     "output_type": "stream",
     "text": [
      "Path:  /badc/cmip6/data/CMIP6/DCPP/*/CanESM5/dcppA-hindcast/*r*i*p*f*/day/psl/g?/files/d*/\n",
      "No files available\n",
      "No files available\n",
      "Variable:  tas\n"
     ]
    },
    {
     "name": "stderr",
     "output_type": "stream",
     "text": [
      "/home/users/benhutch/model-characteristics/functions.py:481: FutureWarning: The frame.append method is deprecated and will be removed from pandas in a future version. Use pandas.concat instead.\n",
      "  df = df.append(row_dict, ignore_index=True)\n"
     ]
    },
    {
     "name": "stdout",
     "output_type": "stream",
     "text": [
      "Path:  /badc/cmip6/data/CMIP6/DCPP/*/CanESM5/dcppA-hindcast/*r*i*p*f*/day/tas/g?/files/d*/\n",
      "No files available\n",
      "No files available\n",
      "Variable:  tos\n"
     ]
    },
    {
     "name": "stderr",
     "output_type": "stream",
     "text": [
      "/home/users/benhutch/model-characteristics/functions.py:481: FutureWarning: The frame.append method is deprecated and will be removed from pandas in a future version. Use pandas.concat instead.\n",
      "  df = df.append(row_dict, ignore_index=True)\n"
     ]
    },
    {
     "name": "stdout",
     "output_type": "stream",
     "text": [
      "Path:  /badc/cmip6/data/CMIP6/DCPP/*/CanESM5/dcppA-hindcast/*r*i*p*f*/day/tos/g?/files/d*/\n",
      "No files available\n",
      "No files available\n",
      "Variable:  rsds\n"
     ]
    },
    {
     "name": "stderr",
     "output_type": "stream",
     "text": [
      "/home/users/benhutch/model-characteristics/functions.py:481: FutureWarning: The frame.append method is deprecated and will be removed from pandas in a future version. Use pandas.concat instead.\n",
      "  df = df.append(row_dict, ignore_index=True)\n"
     ]
    },
    {
     "name": "stdout",
     "output_type": "stream",
     "text": [
      "Path:  /badc/cmip6/data/CMIP6/DCPP/*/CanESM5/dcppA-hindcast/*r*i*p*f*/day/rsds/g?/files/d*/\n",
      "No files available\n",
      "No files available\n",
      "Variable:  sfcWind\n"
     ]
    },
    {
     "name": "stderr",
     "output_type": "stream",
     "text": [
      "/home/users/benhutch/model-characteristics/functions.py:481: FutureWarning: The frame.append method is deprecated and will be removed from pandas in a future version. Use pandas.concat instead.\n",
      "  df = df.append(row_dict, ignore_index=True)\n"
     ]
    },
    {
     "name": "stdout",
     "output_type": "stream",
     "text": [
      "Path:  /badc/cmip6/data/CMIP6/DCPP/*/CanESM5/dcppA-hindcast/*r*i*p*f*/day/sfcWind/g?/files/d*/\n",
      "No files available\n",
      "No files available\n",
      "Model:  CMCC-CM2-SR5\n",
      "Variable:  psl\n"
     ]
    },
    {
     "name": "stderr",
     "output_type": "stream",
     "text": [
      "/home/users/benhutch/model-characteristics/functions.py:481: FutureWarning: The frame.append method is deprecated and will be removed from pandas in a future version. Use pandas.concat instead.\n",
      "  df = df.append(row_dict, ignore_index=True)\n"
     ]
    },
    {
     "name": "stdout",
     "output_type": "stream",
     "text": [
      "Not all runs are available for the variable\n",
      "Number of runs available for the runs directory:  0\n",
      "Number of runs available for the variable:  600\n",
      "Not all runs are available for the variable\n",
      "Number of runs available for the runs directory:  0\n",
      "Number of runs available for the variable:  600\n",
      "Not all runs are available for the variable\n",
      "Number of runs available for the runs directory:  0\n",
      "Number of runs available for the variable:  600\n",
      "Path:  /badc/cmip6/data/CMIP6/DCPP/*/CMCC-CM2-SR5/dcppA-hindcast/*r*i*p*f*/day/psl/g?/files/d*/\n"
     ]
    },
    {
     "name": "stderr",
     "output_type": "stream",
     "text": [
      "/home/users/benhutch/model-characteristics/functions.py:481: FutureWarning: The frame.append method is deprecated and will be removed from pandas in a future version. Use pandas.concat instead.\n",
      "  df = df.append(row_dict, ignore_index=True)\n"
     ]
    },
    {
     "name": "stdout",
     "output_type": "stream",
     "text": [
      "Variable:  tas\n",
      "Not all runs are available for the variable\n",
      "Number of runs available for the runs directory:  0\n",
      "Number of runs available for the variable:  600\n",
      "Not all runs are available for the variable\n",
      "Number of runs available for the runs directory:  0\n",
      "Number of runs available for the variable:  600\n",
      "Not all runs are available for the variable\n",
      "Number of runs available for the runs directory:  0\n",
      "Number of runs available for the variable:  600\n",
      "Path:  /badc/cmip6/data/CMIP6/DCPP/*/CMCC-CM2-SR5/dcppA-hindcast/*r*i*p*f*/day/tas/g?/files/d*/\n"
     ]
    },
    {
     "name": "stderr",
     "output_type": "stream",
     "text": [
      "/home/users/benhutch/model-characteristics/functions.py:481: FutureWarning: The frame.append method is deprecated and will be removed from pandas in a future version. Use pandas.concat instead.\n",
      "  df = df.append(row_dict, ignore_index=True)\n"
     ]
    },
    {
     "name": "stdout",
     "output_type": "stream",
     "text": [
      "Variable:  tos\n",
      "Path:  /badc/cmip6/data/CMIP6/DCPP/*/CMCC-CM2-SR5/dcppA-hindcast/*r*i*p*f*/day/tos/g?/files/d*/\n",
      "No files available\n",
      "No files available\n",
      "Variable:  rsds\n"
     ]
    },
    {
     "name": "stderr",
     "output_type": "stream",
     "text": [
      "/home/users/benhutch/model-characteristics/functions.py:481: FutureWarning: The frame.append method is deprecated and will be removed from pandas in a future version. Use pandas.concat instead.\n",
      "  df = df.append(row_dict, ignore_index=True)\n"
     ]
    },
    {
     "name": "stdout",
     "output_type": "stream",
     "text": [
      "Path:  /badc/cmip6/data/CMIP6/DCPP/*/CMCC-CM2-SR5/dcppA-hindcast/*r*i*p*f*/day/rsds/g?/files/d*/\n",
      "No files available\n",
      "No files available\n",
      "Variable:  sfcWind\n"
     ]
    },
    {
     "name": "stderr",
     "output_type": "stream",
     "text": [
      "/home/users/benhutch/model-characteristics/functions.py:481: FutureWarning: The frame.append method is deprecated and will be removed from pandas in a future version. Use pandas.concat instead.\n",
      "  df = df.append(row_dict, ignore_index=True)\n"
     ]
    },
    {
     "name": "stdout",
     "output_type": "stream",
     "text": [
      "Path:  /badc/cmip6/data/CMIP6/DCPP/*/CMCC-CM2-SR5/dcppA-hindcast/*r*i*p*f*/day/sfcWind/g?/files/d*/\n",
      "No files available\n",
      "No files available\n",
      "Model:  HadGEM3-GC31-MM\n",
      "Variable:  psl\n"
     ]
    },
    {
     "name": "stderr",
     "output_type": "stream",
     "text": [
      "/home/users/benhutch/model-characteristics/functions.py:481: FutureWarning: The frame.append method is deprecated and will be removed from pandas in a future version. Use pandas.concat instead.\n",
      "  df = df.append(row_dict, ignore_index=True)\n"
     ]
    },
    {
     "name": "stdout",
     "output_type": "stream",
     "text": [
      "Not all runs are available for the variable\n",
      "Number of runs available for the runs directory:  0\n",
      "Number of runs available for the variable:  590\n",
      "Not all runs are available for the variable\n",
      "Number of runs available for the runs directory:  0\n",
      "Number of runs available for the variable:  590\n",
      "Not all runs are available for the variable\n",
      "Number of runs available for the runs directory:  0\n",
      "Number of runs available for the variable:  590\n",
      "Path:  /badc/cmip6/data/CMIP6/DCPP/*/HadGEM3-GC31-MM/dcppA-hindcast/*r*i*p*f*/day/psl/g?/files/d*/\n"
     ]
    },
    {
     "name": "stderr",
     "output_type": "stream",
     "text": [
      "/home/users/benhutch/model-characteristics/functions.py:481: FutureWarning: The frame.append method is deprecated and will be removed from pandas in a future version. Use pandas.concat instead.\n",
      "  df = df.append(row_dict, ignore_index=True)\n"
     ]
    },
    {
     "name": "stdout",
     "output_type": "stream",
     "text": [
      "Variable:  tas\n",
      "Not all runs are available for the variable\n",
      "Number of runs available for the runs directory:  0\n",
      "Number of runs available for the variable:  590\n",
      "Not all runs are available for the variable\n",
      "Number of runs available for the runs directory:  0\n",
      "Number of runs available for the variable:  590\n",
      "Not all runs are available for the variable\n",
      "Number of runs available for the runs directory:  0\n",
      "Number of runs available for the variable:  590\n",
      "Path:  /badc/cmip6/data/CMIP6/DCPP/*/HadGEM3-GC31-MM/dcppA-hindcast/*r*i*p*f*/day/tas/g?/files/d*/\n"
     ]
    },
    {
     "name": "stderr",
     "output_type": "stream",
     "text": [
      "/home/users/benhutch/model-characteristics/functions.py:481: FutureWarning: The frame.append method is deprecated and will be removed from pandas in a future version. Use pandas.concat instead.\n",
      "  df = df.append(row_dict, ignore_index=True)\n"
     ]
    },
    {
     "name": "stdout",
     "output_type": "stream",
     "text": [
      "Variable:  tos\n",
      "Path:  /badc/cmip6/data/CMIP6/DCPP/*/HadGEM3-GC31-MM/dcppA-hindcast/*r*i*p*f*/day/tos/g?/files/d*/\n",
      "No files available\n",
      "No files available\n",
      "Variable:  rsds\n"
     ]
    },
    {
     "name": "stderr",
     "output_type": "stream",
     "text": [
      "/home/users/benhutch/model-characteristics/functions.py:481: FutureWarning: The frame.append method is deprecated and will be removed from pandas in a future version. Use pandas.concat instead.\n",
      "  df = df.append(row_dict, ignore_index=True)\n"
     ]
    },
    {
     "name": "stdout",
     "output_type": "stream",
     "text": [
      "Not all runs are available for the variable\n",
      "Number of runs available for the runs directory:  0\n",
      "Number of runs available for the variable:  590\n",
      "Not all runs are available for the variable\n",
      "Number of runs available for the runs directory:  0\n",
      "Number of runs available for the variable:  590\n",
      "Not all runs are available for the variable\n",
      "Number of runs available for the runs directory:  0\n",
      "Number of runs available for the variable:  590\n",
      "Path:  /badc/cmip6/data/CMIP6/DCPP/*/HadGEM3-GC31-MM/dcppA-hindcast/*r*i*p*f*/day/rsds/g?/files/d*/\n"
     ]
    },
    {
     "name": "stderr",
     "output_type": "stream",
     "text": [
      "/home/users/benhutch/model-characteristics/functions.py:481: FutureWarning: The frame.append method is deprecated and will be removed from pandas in a future version. Use pandas.concat instead.\n",
      "  df = df.append(row_dict, ignore_index=True)\n"
     ]
    },
    {
     "name": "stdout",
     "output_type": "stream",
     "text": [
      "Variable:  sfcWind\n",
      "Not all runs are available for the variable\n",
      "Number of runs available for the runs directory:  0\n",
      "Number of runs available for the variable:  590\n",
      "Not all runs are available for the variable\n",
      "Number of runs available for the runs directory:  0\n",
      "Number of runs available for the variable:  590\n",
      "Not all runs are available for the variable\n",
      "Number of runs available for the runs directory:  0\n",
      "Number of runs available for the variable:  590\n",
      "Path:  /badc/cmip6/data/CMIP6/DCPP/*/HadGEM3-GC31-MM/dcppA-hindcast/*r*i*p*f*/day/sfcWind/g?/files/d*/\n"
     ]
    },
    {
     "name": "stderr",
     "output_type": "stream",
     "text": [
      "/home/users/benhutch/model-characteristics/functions.py:481: FutureWarning: The frame.append method is deprecated and will be removed from pandas in a future version. Use pandas.concat instead.\n",
      "  df = df.append(row_dict, ignore_index=True)\n"
     ]
    },
    {
     "name": "stdout",
     "output_type": "stream",
     "text": [
      "Model:  EC-Earth3\n",
      "Variable:  psl\n",
      "Not all runs are available for the variable\n",
      "Number of runs available for the runs directory:  0\n",
      "Number of runs available for the variable:  880\n",
      "Not all runs are available for the variable\n",
      "Number of runs available for the runs directory:  0\n",
      "Number of runs available for the variable:  880\n",
      "Not all runs are available for the variable\n",
      "Number of runs available for the runs directory:  0\n",
      "Number of runs available for the variable:  880\n",
      "Path:  /badc/cmip6/data/CMIP6/DCPP/*/EC-Earth3/dcppA-hindcast/*r*i*p*f*/day/psl/g?/files/d*/\n"
     ]
    },
    {
     "name": "stderr",
     "output_type": "stream",
     "text": [
      "/home/users/benhutch/model-characteristics/functions.py:481: FutureWarning: The frame.append method is deprecated and will be removed from pandas in a future version. Use pandas.concat instead.\n",
      "  df = df.append(row_dict, ignore_index=True)\n"
     ]
    },
    {
     "name": "stdout",
     "output_type": "stream",
     "text": [
      "Variable:  tas\n",
      "Not all runs are available for the variable\n",
      "Number of runs available for the runs directory:  0\n",
      "Number of runs available for the variable:  880\n",
      "Not all runs are available for the variable\n",
      "Number of runs available for the runs directory:  0\n",
      "Number of runs available for the variable:  880\n",
      "Not all runs are available for the variable\n",
      "Number of runs available for the runs directory:  0\n",
      "Number of runs available for the variable:  880\n",
      "Path:  /badc/cmip6/data/CMIP6/DCPP/*/EC-Earth3/dcppA-hindcast/*r*i*p*f*/day/tas/g?/files/d*/\n"
     ]
    },
    {
     "name": "stderr",
     "output_type": "stream",
     "text": [
      "/home/users/benhutch/model-characteristics/functions.py:481: FutureWarning: The frame.append method is deprecated and will be removed from pandas in a future version. Use pandas.concat instead.\n",
      "  df = df.append(row_dict, ignore_index=True)\n"
     ]
    },
    {
     "name": "stdout",
     "output_type": "stream",
     "text": [
      "Variable:  tos\n",
      "Path:  /badc/cmip6/data/CMIP6/DCPP/*/EC-Earth3/dcppA-hindcast/*r*i*p*f*/day/tos/g?/files/d*/\n",
      "No files available\n",
      "No files available\n",
      "Variable:  rsds\n"
     ]
    },
    {
     "name": "stderr",
     "output_type": "stream",
     "text": [
      "/home/users/benhutch/model-characteristics/functions.py:481: FutureWarning: The frame.append method is deprecated and will be removed from pandas in a future version. Use pandas.concat instead.\n",
      "  df = df.append(row_dict, ignore_index=True)\n"
     ]
    },
    {
     "name": "stdout",
     "output_type": "stream",
     "text": [
      "Path:  /badc/cmip6/data/CMIP6/DCPP/*/EC-Earth3/dcppA-hindcast/*r*i*p*f*/day/rsds/g?/files/d*/\n",
      "No files available\n",
      "No files available\n",
      "Variable:  sfcWind\n"
     ]
    },
    {
     "name": "stderr",
     "output_type": "stream",
     "text": [
      "/home/users/benhutch/model-characteristics/functions.py:481: FutureWarning: The frame.append method is deprecated and will be removed from pandas in a future version. Use pandas.concat instead.\n",
      "  df = df.append(row_dict, ignore_index=True)\n"
     ]
    },
    {
     "name": "stdout",
     "output_type": "stream",
     "text": [
      "Path:  /badc/cmip6/data/CMIP6/DCPP/*/EC-Earth3/dcppA-hindcast/*r*i*p*f*/day/sfcWind/g?/files/d*/\n",
      "No files available\n",
      "No files available\n",
      "Model:  MPI-ESM1-2-LR\n",
      "Variable:  psl\n",
      "Model not available\n",
      "Path:  /badc/cmip6/data/CMIP6/DCPP/*/MPI-ESM1-2-LR/dcppA-hindcast/*r*i*p*f*/day/psl/g?/files/d*/\n",
      "No files available\n",
      "No files available\n",
      "Variable:  tas\n",
      "Model not available\n",
      "Path:  /badc/cmip6/data/CMIP6/DCPP/*/MPI-ESM1-2-LR/dcppA-hindcast/*r*i*p*f*/day/tas/g?/files/d*/\n",
      "No files available\n",
      "No files available\n",
      "Variable:  tos\n",
      "Model not available\n",
      "Path:  /badc/cmip6/data/CMIP6/DCPP/*/MPI-ESM1-2-LR/dcppA-hindcast/*r*i*p*f*/day/tos/g?/files/d*/\n",
      "No files available\n",
      "No files available\n",
      "Variable:  rsds\n",
      "Model not available\n",
      "Path:  /badc/cmip6/data/CMIP6/DCPP/*/MPI-ESM1-2-LR/dcppA-hindcast/*r*i*p*f*/day/rsds/g?/files/d*/\n",
      "No files available\n",
      "No files available\n",
      "Variable:  sfcWind\n",
      "Model not available\n",
      "Path:  /badc/cmip6/data/CMIP6/DCPP/*/MPI-ESM1-2-LR/dcppA-hindcast/*r*i*p*f*/day/sfcWind/g?/files/d*/\n",
      "No files available\n",
      "No files available\n",
      "Model:  FGOALS-f3-L\n",
      "Variable:  psl\n",
      "Model not available\n",
      "Path:  /badc/cmip6/data/CMIP6/DCPP/*/FGOALS-f3-L/dcppA-hindcast/*r*i*p*f*/day/psl/g?/files/d*/\n",
      "No files available\n",
      "No files available\n",
      "Variable:  tas\n",
      "Model not available\n",
      "Path:  /badc/cmip6/data/CMIP6/DCPP/*/FGOALS-f3-L/dcppA-hindcast/*r*i*p*f*/day/tas/g?/files/d*/\n",
      "No files available\n",
      "No files available\n",
      "Variable:  tos\n",
      "Model not available\n",
      "Path:  /badc/cmip6/data/CMIP6/DCPP/*/FGOALS-f3-L/dcppA-hindcast/*r*i*p*f*/day/tos/g?/files/d*/\n",
      "No files available\n",
      "No files available\n",
      "Variable:  rsds\n",
      "Model not available\n",
      "Path:  /badc/cmip6/data/CMIP6/DCPP/*/FGOALS-f3-L/dcppA-hindcast/*r*i*p*f*/day/rsds/g?/files/d*/\n",
      "No files available\n",
      "No files available\n",
      "Variable:  sfcWind\n",
      "Model not available\n",
      "Path:  /badc/cmip6/data/CMIP6/DCPP/*/FGOALS-f3-L/dcppA-hindcast/*r*i*p*f*/day/sfcWind/g?/files/d*/\n",
      "No files available\n",
      "No files available\n",
      "Model:  MIROC6\n",
      "Variable:  psl\n"
     ]
    },
    {
     "name": "stderr",
     "output_type": "stream",
     "text": [
      "/home/users/benhutch/model-characteristics/functions.py:481: FutureWarning: The frame.append method is deprecated and will be removed from pandas in a future version. Use pandas.concat instead.\n",
      "  df = df.append(row_dict, ignore_index=True)\n",
      "/home/users/benhutch/model-characteristics/functions.py:481: FutureWarning: The frame.append method is deprecated and will be removed from pandas in a future version. Use pandas.concat instead.\n",
      "  df = df.append(row_dict, ignore_index=True)\n",
      "/home/users/benhutch/model-characteristics/functions.py:481: FutureWarning: The frame.append method is deprecated and will be removed from pandas in a future version. Use pandas.concat instead.\n",
      "  df = df.append(row_dict, ignore_index=True)\n",
      "/home/users/benhutch/model-characteristics/functions.py:481: FutureWarning: The frame.append method is deprecated and will be removed from pandas in a future version. Use pandas.concat instead.\n",
      "  df = df.append(row_dict, ignore_index=True)\n",
      "/home/users/benhutch/model-characteristics/functions.py:481: FutureWarning: The frame.append method is deprecated and will be removed from pandas in a future version. Use pandas.concat instead.\n",
      "  df = df.append(row_dict, ignore_index=True)\n",
      "/home/users/benhutch/model-characteristics/functions.py:481: FutureWarning: The frame.append method is deprecated and will be removed from pandas in a future version. Use pandas.concat instead.\n",
      "  df = df.append(row_dict, ignore_index=True)\n",
      "/home/users/benhutch/model-characteristics/functions.py:481: FutureWarning: The frame.append method is deprecated and will be removed from pandas in a future version. Use pandas.concat instead.\n",
      "  df = df.append(row_dict, ignore_index=True)\n",
      "/home/users/benhutch/model-characteristics/functions.py:481: FutureWarning: The frame.append method is deprecated and will be removed from pandas in a future version. Use pandas.concat instead.\n",
      "  df = df.append(row_dict, ignore_index=True)\n",
      "/home/users/benhutch/model-characteristics/functions.py:481: FutureWarning: The frame.append method is deprecated and will be removed from pandas in a future version. Use pandas.concat instead.\n",
      "  df = df.append(row_dict, ignore_index=True)\n",
      "/home/users/benhutch/model-characteristics/functions.py:481: FutureWarning: The frame.append method is deprecated and will be removed from pandas in a future version. Use pandas.concat instead.\n",
      "  df = df.append(row_dict, ignore_index=True)\n",
      "/home/users/benhutch/model-characteristics/functions.py:481: FutureWarning: The frame.append method is deprecated and will be removed from pandas in a future version. Use pandas.concat instead.\n",
      "  df = df.append(row_dict, ignore_index=True)\n"
     ]
    },
    {
     "name": "stdout",
     "output_type": "stream",
     "text": [
      "Path:  /badc/cmip6/data/CMIP6/DCPP/*/MIROC6/dcppA-hindcast/*r*i*p*f*/day/psl/g?/files/d*/\n",
      "No files available\n",
      "No files available\n",
      "Variable:  tas\n"
     ]
    },
    {
     "name": "stderr",
     "output_type": "stream",
     "text": [
      "/home/users/benhutch/model-characteristics/functions.py:481: FutureWarning: The frame.append method is deprecated and will be removed from pandas in a future version. Use pandas.concat instead.\n",
      "  df = df.append(row_dict, ignore_index=True)\n"
     ]
    },
    {
     "name": "stdout",
     "output_type": "stream",
     "text": [
      "Path:  /badc/cmip6/data/CMIP6/DCPP/*/MIROC6/dcppA-hindcast/*r*i*p*f*/day/tas/g?/files/d*/\n",
      "No files available\n",
      "No files available\n"
     ]
    },
    {
     "name": "stderr",
     "output_type": "stream",
     "text": [
      "/home/users/benhutch/model-characteristics/functions.py:481: FutureWarning: The frame.append method is deprecated and will be removed from pandas in a future version. Use pandas.concat instead.\n",
      "  df = df.append(row_dict, ignore_index=True)\n"
     ]
    },
    {
     "name": "stdout",
     "output_type": "stream",
     "text": [
      "Variable:  tos\n",
      "Path:  /badc/cmip6/data/CMIP6/DCPP/*/MIROC6/dcppA-hindcast/*r*i*p*f*/day/tos/g?/files/d*/\n",
      "No files available\n",
      "No files available\n",
      "Variable:  rsds\n"
     ]
    },
    {
     "name": "stderr",
     "output_type": "stream",
     "text": [
      "/home/users/benhutch/model-characteristics/functions.py:481: FutureWarning: The frame.append method is deprecated and will be removed from pandas in a future version. Use pandas.concat instead.\n",
      "  df = df.append(row_dict, ignore_index=True)\n"
     ]
    },
    {
     "name": "stdout",
     "output_type": "stream",
     "text": [
      "Path:  /badc/cmip6/data/CMIP6/DCPP/*/MIROC6/dcppA-hindcast/*r*i*p*f*/day/rsds/g?/files/d*/\n",
      "No files available\n",
      "No files available\n",
      "Variable:  sfcWind\n"
     ]
    },
    {
     "name": "stderr",
     "output_type": "stream",
     "text": [
      "/home/users/benhutch/model-characteristics/functions.py:481: FutureWarning: The frame.append method is deprecated and will be removed from pandas in a future version. Use pandas.concat instead.\n",
      "  df = df.append(row_dict, ignore_index=True)\n"
     ]
    },
    {
     "name": "stdout",
     "output_type": "stream",
     "text": [
      "Path:  /badc/cmip6/data/CMIP6/DCPP/*/MIROC6/dcppA-hindcast/*r*i*p*f*/day/sfcWind/g?/files/d*/\n",
      "No files available\n",
      "No files available\n",
      "Model:  IPSL-CM6A-LR\n",
      "Variable:  psl\n"
     ]
    },
    {
     "name": "stderr",
     "output_type": "stream",
     "text": [
      "/home/users/benhutch/model-characteristics/functions.py:481: FutureWarning: The frame.append method is deprecated and will be removed from pandas in a future version. Use pandas.concat instead.\n",
      "  df = df.append(row_dict, ignore_index=True)\n"
     ]
    },
    {
     "name": "stdout",
     "output_type": "stream",
     "text": [
      "Path:  /badc/cmip6/data/CMIP6/DCPP/*/IPSL-CM6A-LR/dcppA-hindcast/*r*i*p*f*/day/psl/g?/files/d*/\n",
      "No files available\n",
      "No files available\n",
      "Variable:  tas\n"
     ]
    },
    {
     "name": "stderr",
     "output_type": "stream",
     "text": [
      "/home/users/benhutch/model-characteristics/functions.py:481: FutureWarning: The frame.append method is deprecated and will be removed from pandas in a future version. Use pandas.concat instead.\n",
      "  df = df.append(row_dict, ignore_index=True)\n"
     ]
    },
    {
     "name": "stdout",
     "output_type": "stream",
     "text": [
      "Path:  /badc/cmip6/data/CMIP6/DCPP/*/IPSL-CM6A-LR/dcppA-hindcast/*r*i*p*f*/day/tas/g?/files/d*/\n",
      "No files available\n",
      "No files available\n",
      "Variable:  tos\n"
     ]
    },
    {
     "name": "stderr",
     "output_type": "stream",
     "text": [
      "/home/users/benhutch/model-characteristics/functions.py:481: FutureWarning: The frame.append method is deprecated and will be removed from pandas in a future version. Use pandas.concat instead.\n",
      "  df = df.append(row_dict, ignore_index=True)\n"
     ]
    },
    {
     "name": "stdout",
     "output_type": "stream",
     "text": [
      "Path:  /badc/cmip6/data/CMIP6/DCPP/*/IPSL-CM6A-LR/dcppA-hindcast/*r*i*p*f*/day/tos/g?/files/d*/\n",
      "No files available\n",
      "No files available\n",
      "Variable:  rsds\n"
     ]
    },
    {
     "name": "stderr",
     "output_type": "stream",
     "text": [
      "/home/users/benhutch/model-characteristics/functions.py:481: FutureWarning: The frame.append method is deprecated and will be removed from pandas in a future version. Use pandas.concat instead.\n",
      "  df = df.append(row_dict, ignore_index=True)\n"
     ]
    },
    {
     "name": "stdout",
     "output_type": "stream",
     "text": [
      "Path:  /badc/cmip6/data/CMIP6/DCPP/*/IPSL-CM6A-LR/dcppA-hindcast/*r*i*p*f*/day/rsds/g?/files/d*/\n",
      "No files available\n",
      "No files available\n",
      "Variable:  sfcWind\n"
     ]
    },
    {
     "name": "stderr",
     "output_type": "stream",
     "text": [
      "/home/users/benhutch/model-characteristics/functions.py:481: FutureWarning: The frame.append method is deprecated and will be removed from pandas in a future version. Use pandas.concat instead.\n",
      "  df = df.append(row_dict, ignore_index=True)\n"
     ]
    },
    {
     "name": "stdout",
     "output_type": "stream",
     "text": [
      "Path:  /badc/cmip6/data/CMIP6/DCPP/*/IPSL-CM6A-LR/dcppA-hindcast/*r*i*p*f*/day/sfcWind/g?/files/d*/\n",
      "No files available\n",
      "No files available\n",
      "Model:  CESM1-1-CAM5-CMIP5\n",
      "Variable:  psl\n",
      "Model not available\n",
      "Path:  /badc/cmip6/data/CMIP6/DCPP/*/CESM1-1-CAM5-CMIP5/dcppA-hindcast/*r*i*p*f*/day/psl/g?/files/d*/\n",
      "No files available\n",
      "No files available\n",
      "Variable:  tas\n",
      "Model not available\n",
      "Path:  /badc/cmip6/data/CMIP6/DCPP/*/CESM1-1-CAM5-CMIP5/dcppA-hindcast/*r*i*p*f*/day/tas/g?/files/d*/\n",
      "No files available\n",
      "No files available\n",
      "Variable:  tos\n",
      "Model not available\n",
      "Path:  /badc/cmip6/data/CMIP6/DCPP/*/CESM1-1-CAM5-CMIP5/dcppA-hindcast/*r*i*p*f*/day/tos/g?/files/d*/\n",
      "No files available\n",
      "No files available\n",
      "Variable:  rsds\n",
      "Model not available\n",
      "Path:  /badc/cmip6/data/CMIP6/DCPP/*/CESM1-1-CAM5-CMIP5/dcppA-hindcast/*r*i*p*f*/day/rsds/g?/files/d*/\n",
      "No files available\n",
      "No files available\n",
      "Variable:  sfcWind\n",
      "Model not available\n",
      "Path:  /badc/cmip6/data/CMIP6/DCPP/*/CESM1-1-CAM5-CMIP5/dcppA-hindcast/*r*i*p*f*/day/sfcWind/g?/files/d*/\n",
      "No files available\n",
      "No files available\n",
      "Model:  NorCPM1\n",
      "Variable:  psl\n"
     ]
    },
    {
     "name": "stderr",
     "output_type": "stream",
     "text": [
      "/home/users/benhutch/model-characteristics/functions.py:481: FutureWarning: The frame.append method is deprecated and will be removed from pandas in a future version. Use pandas.concat instead.\n",
      "  df = df.append(row_dict, ignore_index=True)\n",
      "/home/users/benhutch/model-characteristics/functions.py:481: FutureWarning: The frame.append method is deprecated and will be removed from pandas in a future version. Use pandas.concat instead.\n",
      "  df = df.append(row_dict, ignore_index=True)\n",
      "/home/users/benhutch/model-characteristics/functions.py:481: FutureWarning: The frame.append method is deprecated and will be removed from pandas in a future version. Use pandas.concat instead.\n",
      "  df = df.append(row_dict, ignore_index=True)\n",
      "/home/users/benhutch/model-characteristics/functions.py:481: FutureWarning: The frame.append method is deprecated and will be removed from pandas in a future version. Use pandas.concat instead.\n",
      "  df = df.append(row_dict, ignore_index=True)\n",
      "/home/users/benhutch/model-characteristics/functions.py:481: FutureWarning: The frame.append method is deprecated and will be removed from pandas in a future version. Use pandas.concat instead.\n",
      "  df = df.append(row_dict, ignore_index=True)\n",
      "/home/users/benhutch/model-characteristics/functions.py:481: FutureWarning: The frame.append method is deprecated and will be removed from pandas in a future version. Use pandas.concat instead.\n",
      "  df = df.append(row_dict, ignore_index=True)\n"
     ]
    },
    {
     "name": "stdout",
     "output_type": "stream",
     "text": [
      "Path:  /badc/cmip6/data/CMIP6/DCPP/*/NorCPM1/dcppA-hindcast/*r*i*p*f*/day/psl/g?/files/d*/\n",
      "No files available\n",
      "No files available\n",
      "Variable:  tas\n"
     ]
    },
    {
     "name": "stderr",
     "output_type": "stream",
     "text": [
      "/home/users/benhutch/model-characteristics/functions.py:481: FutureWarning: The frame.append method is deprecated and will be removed from pandas in a future version. Use pandas.concat instead.\n",
      "  df = df.append(row_dict, ignore_index=True)\n"
     ]
    },
    {
     "name": "stdout",
     "output_type": "stream",
     "text": [
      "Path:  /badc/cmip6/data/CMIP6/DCPP/*/NorCPM1/dcppA-hindcast/*r*i*p*f*/day/tas/g?/files/d*/\n",
      "No files available\n",
      "No files available\n",
      "Variable:  tos\n"
     ]
    },
    {
     "name": "stderr",
     "output_type": "stream",
     "text": [
      "/home/users/benhutch/model-characteristics/functions.py:481: FutureWarning: The frame.append method is deprecated and will be removed from pandas in a future version. Use pandas.concat instead.\n",
      "  df = df.append(row_dict, ignore_index=True)\n"
     ]
    },
    {
     "name": "stdout",
     "output_type": "stream",
     "text": [
      "Path:  /badc/cmip6/data/CMIP6/DCPP/*/NorCPM1/dcppA-hindcast/*r*i*p*f*/day/tos/g?/files/d*/\n",
      "No files available\n",
      "No files available\n",
      "Variable:  rsds\n"
     ]
    },
    {
     "name": "stderr",
     "output_type": "stream",
     "text": [
      "/home/users/benhutch/model-characteristics/functions.py:481: FutureWarning: The frame.append method is deprecated and will be removed from pandas in a future version. Use pandas.concat instead.\n",
      "  df = df.append(row_dict, ignore_index=True)\n"
     ]
    },
    {
     "name": "stdout",
     "output_type": "stream",
     "text": [
      "Path:  /badc/cmip6/data/CMIP6/DCPP/*/NorCPM1/dcppA-hindcast/*r*i*p*f*/day/rsds/g?/files/d*/\n",
      "No files available\n",
      "No files available\n",
      "Variable:  sfcWind\n"
     ]
    },
    {
     "name": "stderr",
     "output_type": "stream",
     "text": [
      "/home/users/benhutch/model-characteristics/functions.py:481: FutureWarning: The frame.append method is deprecated and will be removed from pandas in a future version. Use pandas.concat instead.\n",
      "  df = df.append(row_dict, ignore_index=True)\n"
     ]
    },
    {
     "name": "stdout",
     "output_type": "stream",
     "text": [
      "Path:  /badc/cmip6/data/CMIP6/DCPP/*/NorCPM1/dcppA-hindcast/*r*i*p*f*/day/sfcWind/g?/files/d*/\n",
      "No files available\n",
      "No files available\n",
      "Table_id:  6hr\n",
      "Experiment:  historical\n",
      "Model:  BCC-CSM2-MR\n",
      "Variable:  psl\n",
      "Path:  /badc/cmip6/data/CMIP6/CMIP/*/BCC-CSM2-MR/historical/*r*i*p*f*/6hr/psl/g?/files/d*/\n",
      "No files available\n",
      "Path:  /badc/cmip6/data/CMIP6/CMIP/*/BCC-CSM2-MR/historical/*r*i*p*f*/6hr/psl/g?/files/d*/\n",
      "No files available\n",
      "No files available\n",
      "Variable:  tas\n",
      "Path:  /badc/cmip6/data/CMIP6/CMIP/*/BCC-CSM2-MR/historical/*r*i*p*f*/6hr/tas/g?/files/d*/\n",
      "No files available\n",
      "Path:  /badc/cmip6/data/CMIP6/CMIP/*/BCC-CSM2-MR/historical/*r*i*p*f*/6hr/tas/g?/files/d*/\n",
      "No files available\n",
      "No files available\n",
      "Variable:  tos\n",
      "Path:  /badc/cmip6/data/CMIP6/CMIP/*/BCC-CSM2-MR/historical/*r*i*p*f*/6hr/tos/g?/files/d*/\n",
      "No files available\n",
      "Path:  /badc/cmip6/data/CMIP6/CMIP/*/BCC-CSM2-MR/historical/*r*i*p*f*/6hr/tos/g?/files/d*/\n",
      "No files available\n",
      "No files available\n",
      "Variable:  rsds\n",
      "Path:  /badc/cmip6/data/CMIP6/CMIP/*/BCC-CSM2-MR/historical/*r*i*p*f*/6hr/rsds/g?/files/d*/\n",
      "No files available\n",
      "Path:  /badc/cmip6/data/CMIP6/CMIP/*/BCC-CSM2-MR/historical/*r*i*p*f*/6hr/rsds/g?/files/d*/\n"
     ]
    },
    {
     "name": "stderr",
     "output_type": "stream",
     "text": [
      "/home/users/benhutch/model-characteristics/functions.py:481: FutureWarning: The frame.append method is deprecated and will be removed from pandas in a future version. Use pandas.concat instead.\n",
      "  df = df.append(row_dict, ignore_index=True)\n",
      "/home/users/benhutch/model-characteristics/functions.py:481: FutureWarning: The frame.append method is deprecated and will be removed from pandas in a future version. Use pandas.concat instead.\n",
      "  df = df.append(row_dict, ignore_index=True)\n",
      "/home/users/benhutch/model-characteristics/functions.py:481: FutureWarning: The frame.append method is deprecated and will be removed from pandas in a future version. Use pandas.concat instead.\n",
      "  df = df.append(row_dict, ignore_index=True)\n",
      "/home/users/benhutch/model-characteristics/functions.py:481: FutureWarning: The frame.append method is deprecated and will be removed from pandas in a future version. Use pandas.concat instead.\n",
      "  df = df.append(row_dict, ignore_index=True)\n"
     ]
    },
    {
     "name": "stdout",
     "output_type": "stream",
     "text": [
      "No files available\n",
      "No files available\n",
      "Variable:  sfcWind\n",
      "Path:  /badc/cmip6/data/CMIP6/CMIP/*/BCC-CSM2-MR/historical/*r*i*p*f*/6hr/sfcWind/g?/files/d*/\n",
      "No files available\n",
      "Path:  /badc/cmip6/data/CMIP6/CMIP/*/BCC-CSM2-MR/historical/*r*i*p*f*/6hr/sfcWind/g?/files/d*/\n",
      "No files available\n",
      "No files available\n",
      "Model:  MPI-ESM1-2-HR\n",
      "Variable:  psl\n",
      "Path:  /badc/cmip6/data/CMIP6/CMIP/*/MPI-ESM1-2-HR/historical/*r*i*p*f*/6hr/psl/g?/files/d*/\n",
      "No files available\n",
      "Path:  /badc/cmip6/data/CMIP6/CMIP/*/MPI-ESM1-2-HR/historical/*r*i*p*f*/6hr/psl/g?/files/d*/\n",
      "No files available\n",
      "No files available\n",
      "Variable:  tas\n",
      "Path:  /badc/cmip6/data/CMIP6/CMIP/*/MPI-ESM1-2-HR/historical/*r*i*p*f*/6hr/tas/g?/files/d*/\n",
      "No files available\n",
      "Path:  /badc/cmip6/data/CMIP6/CMIP/*/MPI-ESM1-2-HR/historical/*r*i*p*f*/6hr/tas/g?/files/d*/\n",
      "No files available\n",
      "No files available\n",
      "Variable:  tos\n",
      "Path:  /badc/cmip6/data/CMIP6/CMIP/*/MPI-ESM1-2-HR/historical/*r*i*p*f*/6hr/tos/g?/files/d*/\n",
      "No files available\n",
      "Path:  /badc/cmip6/data/CMIP6/CMIP/*/MPI-ESM1-2-HR/historical/*r*i*p*f*/6hr/tos/g?/files/d*/\n",
      "No files available\n",
      "No files available\n",
      "Variable:  rsds\n"
     ]
    },
    {
     "name": "stderr",
     "output_type": "stream",
     "text": [
      "/home/users/benhutch/model-characteristics/functions.py:481: FutureWarning: The frame.append method is deprecated and will be removed from pandas in a future version. Use pandas.concat instead.\n",
      "  df = df.append(row_dict, ignore_index=True)\n",
      "/home/users/benhutch/model-characteristics/functions.py:481: FutureWarning: The frame.append method is deprecated and will be removed from pandas in a future version. Use pandas.concat instead.\n",
      "  df = df.append(row_dict, ignore_index=True)\n",
      "/home/users/benhutch/model-characteristics/functions.py:481: FutureWarning: The frame.append method is deprecated and will be removed from pandas in a future version. Use pandas.concat instead.\n",
      "  df = df.append(row_dict, ignore_index=True)\n",
      "/home/users/benhutch/model-characteristics/functions.py:481: FutureWarning: The frame.append method is deprecated and will be removed from pandas in a future version. Use pandas.concat instead.\n",
      "  df = df.append(row_dict, ignore_index=True)\n",
      "/home/users/benhutch/model-characteristics/functions.py:481: FutureWarning: The frame.append method is deprecated and will be removed from pandas in a future version. Use pandas.concat instead.\n",
      "  df = df.append(row_dict, ignore_index=True)\n"
     ]
    },
    {
     "name": "stdout",
     "output_type": "stream",
     "text": [
      "Path:  /badc/cmip6/data/CMIP6/CMIP/*/MPI-ESM1-2-HR/historical/*r*i*p*f*/6hr/rsds/g?/files/d*/\n",
      "No files available\n",
      "Path:  /badc/cmip6/data/CMIP6/CMIP/*/MPI-ESM1-2-HR/historical/*r*i*p*f*/6hr/rsds/g?/files/d*/\n",
      "No files available\n",
      "No files available\n",
      "Variable:  sfcWind\n",
      "Path:  /badc/cmip6/data/CMIP6/CMIP/*/MPI-ESM1-2-HR/historical/*r*i*p*f*/6hr/sfcWind/g?/files/d*/\n",
      "No files available\n",
      "Path:  /badc/cmip6/data/CMIP6/CMIP/*/MPI-ESM1-2-HR/historical/*r*i*p*f*/6hr/sfcWind/g?/files/d*/\n",
      "No files available\n",
      "No files available\n",
      "Model:  CanESM5\n",
      "Variable:  psl\n",
      "Path:  /badc/cmip6/data/CMIP6/CMIP/*/CanESM5/historical/*r*i*p*f*/6hr/psl/g?/files/d*/\n",
      "No files available\n",
      "Path:  /badc/cmip6/data/CMIP6/CMIP/*/CanESM5/historical/*r*i*p*f*/6hr/psl/g?/files/d*/\n",
      "No files available\n",
      "No files available\n",
      "Variable:  tas\n",
      "Path:  /badc/cmip6/data/CMIP6/CMIP/*/CanESM5/historical/*r*i*p*f*/6hr/tas/g?/files/d*/\n",
      "No files available\n",
      "Path:  /badc/cmip6/data/CMIP6/CMIP/*/CanESM5/historical/*r*i*p*f*/6hr/tas/g?/files/d*/\n",
      "No files available\n",
      "No files available\n",
      "Variable:  tos\n"
     ]
    },
    {
     "name": "stderr",
     "output_type": "stream",
     "text": [
      "/home/users/benhutch/model-characteristics/functions.py:481: FutureWarning: The frame.append method is deprecated and will be removed from pandas in a future version. Use pandas.concat instead.\n",
      "  df = df.append(row_dict, ignore_index=True)\n",
      "/home/users/benhutch/model-characteristics/functions.py:481: FutureWarning: The frame.append method is deprecated and will be removed from pandas in a future version. Use pandas.concat instead.\n",
      "  df = df.append(row_dict, ignore_index=True)\n",
      "/home/users/benhutch/model-characteristics/functions.py:481: FutureWarning: The frame.append method is deprecated and will be removed from pandas in a future version. Use pandas.concat instead.\n",
      "  df = df.append(row_dict, ignore_index=True)\n",
      "/home/users/benhutch/model-characteristics/functions.py:481: FutureWarning: The frame.append method is deprecated and will be removed from pandas in a future version. Use pandas.concat instead.\n",
      "  df = df.append(row_dict, ignore_index=True)\n"
     ]
    },
    {
     "name": "stdout",
     "output_type": "stream",
     "text": [
      "Path:  /badc/cmip6/data/CMIP6/CMIP/*/CanESM5/historical/*r*i*p*f*/6hr/tos/g?/files/d*/\n",
      "No files available\n",
      "Path:  /badc/cmip6/data/CMIP6/CMIP/*/CanESM5/historical/*r*i*p*f*/6hr/tos/g?/files/d*/\n",
      "No files available\n",
      "No files available\n",
      "Variable:  rsds\n",
      "Path:  /badc/cmip6/data/CMIP6/CMIP/*/CanESM5/historical/*r*i*p*f*/6hr/rsds/g?/files/d*/\n",
      "No files available\n",
      "Path:  /badc/cmip6/data/CMIP6/CMIP/*/CanESM5/historical/*r*i*p*f*/6hr/rsds/g?/files/d*/\n",
      "No files available\n",
      "No files available\n",
      "Variable:  sfcWind\n",
      "Path:  /badc/cmip6/data/CMIP6/CMIP/*/CanESM5/historical/*r*i*p*f*/6hr/sfcWind/g?/files/d*/\n",
      "No files available\n",
      "Path:  /badc/cmip6/data/CMIP6/CMIP/*/CanESM5/historical/*r*i*p*f*/6hr/sfcWind/g?/files/d*/\n"
     ]
    },
    {
     "name": "stderr",
     "output_type": "stream",
     "text": [
      "/home/users/benhutch/model-characteristics/functions.py:481: FutureWarning: The frame.append method is deprecated and will be removed from pandas in a future version. Use pandas.concat instead.\n",
      "  df = df.append(row_dict, ignore_index=True)\n",
      "/home/users/benhutch/model-characteristics/functions.py:481: FutureWarning: The frame.append method is deprecated and will be removed from pandas in a future version. Use pandas.concat instead.\n",
      "  df = df.append(row_dict, ignore_index=True)\n",
      "/home/users/benhutch/model-characteristics/functions.py:481: FutureWarning: The frame.append method is deprecated and will be removed from pandas in a future version. Use pandas.concat instead.\n",
      "  df = df.append(row_dict, ignore_index=True)\n"
     ]
    },
    {
     "name": "stdout",
     "output_type": "stream",
     "text": [
      "No files available\n",
      "No files available\n",
      "Model:  CMCC-CM2-SR5\n",
      "Variable:  psl\n",
      "Path:  /badc/cmip6/data/CMIP6/CMIP/*/CMCC-CM2-SR5/historical/*r*i*p*f*/6hr/psl/g?/files/d*/\n",
      "No files available\n",
      "Path:  /badc/cmip6/data/CMIP6/CMIP/*/CMCC-CM2-SR5/historical/*r*i*p*f*/6hr/psl/g?/files/d*/\n",
      "No files available\n",
      "No files available\n",
      "Variable:  tas\n",
      "Path:  /badc/cmip6/data/CMIP6/CMIP/*/CMCC-CM2-SR5/historical/*r*i*p*f*/6hr/tas/g?/files/d*/\n",
      "No files available\n",
      "Path:  /badc/cmip6/data/CMIP6/CMIP/*/CMCC-CM2-SR5/historical/*r*i*p*f*/6hr/tas/g?/files/d*/\n",
      "No files available\n",
      "No files available\n",
      "Variable:  tos\n",
      "Path:  /badc/cmip6/data/CMIP6/CMIP/*/CMCC-CM2-SR5/historical/*r*i*p*f*/6hr/tos/g?/files/d*/\n",
      "No files available\n",
      "Path:  /badc/cmip6/data/CMIP6/CMIP/*/CMCC-CM2-SR5/historical/*r*i*p*f*/6hr/tos/g?/files/d*/\n",
      "No files available\n",
      "No files available\n",
      "Variable:  rsds\n",
      "Path:  /badc/cmip6/data/CMIP6/CMIP/*/CMCC-CM2-SR5/historical/*r*i*p*f*/6hr/rsds/g?/files/d*/\n",
      "No files available\n",
      "Path:  /badc/cmip6/data/CMIP6/CMIP/*/CMCC-CM2-SR5/historical/*r*i*p*f*/6hr/rsds/g?/files/d*/\n",
      "No files available\n",
      "No files available\n"
     ]
    },
    {
     "name": "stderr",
     "output_type": "stream",
     "text": [
      "/home/users/benhutch/model-characteristics/functions.py:481: FutureWarning: The frame.append method is deprecated and will be removed from pandas in a future version. Use pandas.concat instead.\n",
      "  df = df.append(row_dict, ignore_index=True)\n",
      "/home/users/benhutch/model-characteristics/functions.py:481: FutureWarning: The frame.append method is deprecated and will be removed from pandas in a future version. Use pandas.concat instead.\n",
      "  df = df.append(row_dict, ignore_index=True)\n",
      "/home/users/benhutch/model-characteristics/functions.py:481: FutureWarning: The frame.append method is deprecated and will be removed from pandas in a future version. Use pandas.concat instead.\n",
      "  df = df.append(row_dict, ignore_index=True)\n",
      "/home/users/benhutch/model-characteristics/functions.py:481: FutureWarning: The frame.append method is deprecated and will be removed from pandas in a future version. Use pandas.concat instead.\n",
      "  df = df.append(row_dict, ignore_index=True)\n",
      "/home/users/benhutch/model-characteristics/functions.py:481: FutureWarning: The frame.append method is deprecated and will be removed from pandas in a future version. Use pandas.concat instead.\n",
      "  df = df.append(row_dict, ignore_index=True)\n"
     ]
    },
    {
     "name": "stdout",
     "output_type": "stream",
     "text": [
      "Variable:  sfcWind\n",
      "Path:  /badc/cmip6/data/CMIP6/CMIP/*/CMCC-CM2-SR5/historical/*r*i*p*f*/6hr/sfcWind/g?/files/d*/\n",
      "No files available\n",
      "Path:  /badc/cmip6/data/CMIP6/CMIP/*/CMCC-CM2-SR5/historical/*r*i*p*f*/6hr/sfcWind/g?/files/d*/\n",
      "No files available\n",
      "No files available\n",
      "Model:  HadGEM3-GC31-MM\n",
      "Variable:  psl\n",
      "Path:  /badc/cmip6/data/CMIP6/CMIP/*/HadGEM3-GC31-MM/historical/*r*i*p*f*/6hr/psl/g?/files/d*/\n",
      "No files available\n",
      "Path:  /badc/cmip6/data/CMIP6/CMIP/*/HadGEM3-GC31-MM/historical/*r*i*p*f*/6hr/psl/g?/files/d*/\n",
      "No files available\n",
      "No files available\n",
      "Variable:  tas\n",
      "Path:  /badc/cmip6/data/CMIP6/CMIP/*/HadGEM3-GC31-MM/historical/*r*i*p*f*/6hr/tas/g?/files/d*/\n",
      "No files available\n",
      "Path:  /badc/cmip6/data/CMIP6/CMIP/*/HadGEM3-GC31-MM/historical/*r*i*p*f*/6hr/tas/g?/files/d*/\n",
      "No files available\n",
      "No files available\n",
      "Variable:  tos\n",
      "Path:  /badc/cmip6/data/CMIP6/CMIP/*/HadGEM3-GC31-MM/historical/*r*i*p*f*/6hr/tos/g?/files/d*/\n",
      "No files available\n",
      "Path:  /badc/cmip6/data/CMIP6/CMIP/*/HadGEM3-GC31-MM/historical/*r*i*p*f*/6hr/tos/g?/files/d*/\n"
     ]
    },
    {
     "name": "stderr",
     "output_type": "stream",
     "text": [
      "/home/users/benhutch/model-characteristics/functions.py:481: FutureWarning: The frame.append method is deprecated and will be removed from pandas in a future version. Use pandas.concat instead.\n",
      "  df = df.append(row_dict, ignore_index=True)\n",
      "/home/users/benhutch/model-characteristics/functions.py:481: FutureWarning: The frame.append method is deprecated and will be removed from pandas in a future version. Use pandas.concat instead.\n",
      "  df = df.append(row_dict, ignore_index=True)\n"
     ]
    },
    {
     "name": "stdout",
     "output_type": "stream",
     "text": [
      "No files available\n",
      "No files available\n",
      "Variable:  rsds\n",
      "Path:  /badc/cmip6/data/CMIP6/CMIP/*/HadGEM3-GC31-MM/historical/*r*i*p*f*/6hr/rsds/g?/files/d*/\n",
      "No files available\n",
      "Path:  /badc/cmip6/data/CMIP6/CMIP/*/HadGEM3-GC31-MM/historical/*r*i*p*f*/6hr/rsds/g?/files/d*/\n",
      "No files available\n",
      "No files available\n",
      "Variable:  sfcWind\n",
      "Path:  /badc/cmip6/data/CMIP6/CMIP/*/HadGEM3-GC31-MM/historical/*r*i*p*f*/6hr/sfcWind/g?/files/d*/\n",
      "No files available\n",
      "Path:  /badc/cmip6/data/CMIP6/CMIP/*/HadGEM3-GC31-MM/historical/*r*i*p*f*/6hr/sfcWind/g?/files/d*/\n",
      "No files available\n",
      "No files available\n",
      "Model:  EC-Earth3\n",
      "Variable:  psl\n",
      "Path:  /badc/cmip6/data/CMIP6/CMIP/*/EC-Earth3/historical/*r*i*p*f*/6hr/psl/g?/files/d*/\n",
      "No files available\n",
      "Path:  /badc/cmip6/data/CMIP6/CMIP/*/EC-Earth3/historical/*r*i*p*f*/6hr/psl/g?/files/d*/\n"
     ]
    },
    {
     "name": "stderr",
     "output_type": "stream",
     "text": [
      "/home/users/benhutch/model-characteristics/functions.py:481: FutureWarning: The frame.append method is deprecated and will be removed from pandas in a future version. Use pandas.concat instead.\n",
      "  df = df.append(row_dict, ignore_index=True)\n",
      "/home/users/benhutch/model-characteristics/functions.py:481: FutureWarning: The frame.append method is deprecated and will be removed from pandas in a future version. Use pandas.concat instead.\n",
      "  df = df.append(row_dict, ignore_index=True)\n",
      "/home/users/benhutch/model-characteristics/functions.py:481: FutureWarning: The frame.append method is deprecated and will be removed from pandas in a future version. Use pandas.concat instead.\n",
      "  df = df.append(row_dict, ignore_index=True)\n"
     ]
    },
    {
     "name": "stdout",
     "output_type": "stream",
     "text": [
      "No files available\n",
      "No files available\n",
      "Variable:  tas\n",
      "Path:  /badc/cmip6/data/CMIP6/CMIP/*/EC-Earth3/historical/*r*i*p*f*/6hr/tas/g?/files/d*/\n",
      "No files available\n",
      "Path:  /badc/cmip6/data/CMIP6/CMIP/*/EC-Earth3/historical/*r*i*p*f*/6hr/tas/g?/files/d*/\n",
      "No files available\n",
      "No files available\n",
      "Variable:  tos\n",
      "Path:  /badc/cmip6/data/CMIP6/CMIP/*/EC-Earth3/historical/*r*i*p*f*/6hr/tos/g?/files/d*/\n",
      "No files available\n",
      "Path:  /badc/cmip6/data/CMIP6/CMIP/*/EC-Earth3/historical/*r*i*p*f*/6hr/tos/g?/files/d*/\n",
      "No files available\n",
      "No files available\n",
      "Variable:  rsds\n"
     ]
    },
    {
     "name": "stderr",
     "output_type": "stream",
     "text": [
      "/home/users/benhutch/model-characteristics/functions.py:481: FutureWarning: The frame.append method is deprecated and will be removed from pandas in a future version. Use pandas.concat instead.\n",
      "  df = df.append(row_dict, ignore_index=True)\n",
      "/home/users/benhutch/model-characteristics/functions.py:481: FutureWarning: The frame.append method is deprecated and will be removed from pandas in a future version. Use pandas.concat instead.\n",
      "  df = df.append(row_dict, ignore_index=True)\n",
      "/home/users/benhutch/model-characteristics/functions.py:481: FutureWarning: The frame.append method is deprecated and will be removed from pandas in a future version. Use pandas.concat instead.\n",
      "  df = df.append(row_dict, ignore_index=True)\n"
     ]
    },
    {
     "name": "stdout",
     "output_type": "stream",
     "text": [
      "Path:  /badc/cmip6/data/CMIP6/CMIP/*/EC-Earth3/historical/*r*i*p*f*/6hr/rsds/g?/files/d*/\n",
      "No files available\n",
      "Path:  /badc/cmip6/data/CMIP6/CMIP/*/EC-Earth3/historical/*r*i*p*f*/6hr/rsds/g?/files/d*/\n",
      "No files available\n",
      "No files available\n",
      "Variable:  sfcWind\n",
      "Path:  /badc/cmip6/data/CMIP6/CMIP/*/EC-Earth3/historical/*r*i*p*f*/6hr/sfcWind/g?/files/d*/\n",
      "No files available\n",
      "Path:  /badc/cmip6/data/CMIP6/CMIP/*/EC-Earth3/historical/*r*i*p*f*/6hr/sfcWind/g?/files/d*/\n",
      "No files available\n",
      "No files available\n",
      "Model:  MPI-ESM1-2-LR\n",
      "Variable:  psl\n",
      "Path:  /badc/cmip6/data/CMIP6/CMIP/*/MPI-ESM1-2-LR/historical/*r*i*p*f*/6hr/psl/g?/files/d*/\n",
      "No files available\n",
      "Path:  /badc/cmip6/data/CMIP6/CMIP/*/MPI-ESM1-2-LR/historical/*r*i*p*f*/6hr/psl/g?/files/d*/\n",
      "No files available\n",
      "No files available\n",
      "Variable:  tas\n"
     ]
    },
    {
     "name": "stderr",
     "output_type": "stream",
     "text": [
      "/home/users/benhutch/model-characteristics/functions.py:481: FutureWarning: The frame.append method is deprecated and will be removed from pandas in a future version. Use pandas.concat instead.\n",
      "  df = df.append(row_dict, ignore_index=True)\n",
      "/home/users/benhutch/model-characteristics/functions.py:481: FutureWarning: The frame.append method is deprecated and will be removed from pandas in a future version. Use pandas.concat instead.\n",
      "  df = df.append(row_dict, ignore_index=True)\n",
      "/home/users/benhutch/model-characteristics/functions.py:481: FutureWarning: The frame.append method is deprecated and will be removed from pandas in a future version. Use pandas.concat instead.\n",
      "  df = df.append(row_dict, ignore_index=True)\n"
     ]
    },
    {
     "name": "stdout",
     "output_type": "stream",
     "text": [
      "Path:  /badc/cmip6/data/CMIP6/CMIP/*/MPI-ESM1-2-LR/historical/*r*i*p*f*/6hr/tas/g?/files/d*/\n",
      "No files available\n",
      "Path:  /badc/cmip6/data/CMIP6/CMIP/*/MPI-ESM1-2-LR/historical/*r*i*p*f*/6hr/tas/g?/files/d*/\n",
      "No files available\n",
      "No files available\n",
      "Variable:  tos\n",
      "Path:  /badc/cmip6/data/CMIP6/CMIP/*/MPI-ESM1-2-LR/historical/*r*i*p*f*/6hr/tos/g?/files/d*/\n",
      "No files available\n",
      "Path:  /badc/cmip6/data/CMIP6/CMIP/*/MPI-ESM1-2-LR/historical/*r*i*p*f*/6hr/tos/g?/files/d*/\n",
      "No files available\n",
      "No files available\n",
      "Variable:  rsds\n",
      "Path:  /badc/cmip6/data/CMIP6/CMIP/*/MPI-ESM1-2-LR/historical/*r*i*p*f*/6hr/rsds/g?/files/d*/\n",
      "No files available\n",
      "Path:  /badc/cmip6/data/CMIP6/CMIP/*/MPI-ESM1-2-LR/historical/*r*i*p*f*/6hr/rsds/g?/files/d*/\n",
      "No files available\n",
      "No files available\n",
      "Variable:  sfcWind\n",
      "Path:  /badc/cmip6/data/CMIP6/CMIP/*/MPI-ESM1-2-LR/historical/*r*i*p*f*/6hr/sfcWind/g?/files/d*/\n",
      "No files available\n",
      "Path:  /badc/cmip6/data/CMIP6/CMIP/*/MPI-ESM1-2-LR/historical/*r*i*p*f*/6hr/sfcWind/g?/files/d*/\n"
     ]
    },
    {
     "name": "stderr",
     "output_type": "stream",
     "text": [
      "/home/users/benhutch/model-characteristics/functions.py:481: FutureWarning: The frame.append method is deprecated and will be removed from pandas in a future version. Use pandas.concat instead.\n",
      "  df = df.append(row_dict, ignore_index=True)\n",
      "/home/users/benhutch/model-characteristics/functions.py:481: FutureWarning: The frame.append method is deprecated and will be removed from pandas in a future version. Use pandas.concat instead.\n",
      "  df = df.append(row_dict, ignore_index=True)\n",
      "/home/users/benhutch/model-characteristics/functions.py:481: FutureWarning: The frame.append method is deprecated and will be removed from pandas in a future version. Use pandas.concat instead.\n",
      "  df = df.append(row_dict, ignore_index=True)\n",
      "/home/users/benhutch/model-characteristics/functions.py:481: FutureWarning: The frame.append method is deprecated and will be removed from pandas in a future version. Use pandas.concat instead.\n",
      "  df = df.append(row_dict, ignore_index=True)\n"
     ]
    },
    {
     "name": "stdout",
     "output_type": "stream",
     "text": [
      "No files available\n",
      "No files available\n",
      "Model:  FGOALS-f3-L\n",
      "Variable:  psl\n",
      "Path:  /badc/cmip6/data/CMIP6/CMIP/*/FGOALS-f3-L/historical/*r*i*p*f*/6hr/psl/g?/files/d*/\n",
      "No files available\n",
      "Path:  /badc/cmip6/data/CMIP6/CMIP/*/FGOALS-f3-L/historical/*r*i*p*f*/6hr/psl/g?/files/d*/\n",
      "No files available\n",
      "No files available\n",
      "Variable:  tas\n",
      "Path:  /badc/cmip6/data/CMIP6/CMIP/*/FGOALS-f3-L/historical/*r*i*p*f*/6hr/tas/g?/files/d*/\n",
      "No files available\n",
      "Path:  /badc/cmip6/data/CMIP6/CMIP/*/FGOALS-f3-L/historical/*r*i*p*f*/6hr/tas/g?/files/d*/\n",
      "No files available\n",
      "No files available\n",
      "Variable:  tos\n",
      "Path:  /badc/cmip6/data/CMIP6/CMIP/*/FGOALS-f3-L/historical/*r*i*p*f*/6hr/tos/g?/files/d*/\n",
      "No files available\n",
      "Path:  /badc/cmip6/data/CMIP6/CMIP/*/FGOALS-f3-L/historical/*r*i*p*f*/6hr/tos/g?/files/d*/\n",
      "No files available\n",
      "No files available\n",
      "Variable:  rsds\n",
      "Path:  /badc/cmip6/data/CMIP6/CMIP/*/FGOALS-f3-L/historical/*r*i*p*f*/6hr/rsds/g?/files/d*/\n",
      "No files available\n",
      "Path:  /badc/cmip6/data/CMIP6/CMIP/*/FGOALS-f3-L/historical/*r*i*p*f*/6hr/rsds/g?/files/d*/\n",
      "No files available\n",
      "No files available\n",
      "Variable:  sfcWind\n"
     ]
    },
    {
     "name": "stderr",
     "output_type": "stream",
     "text": [
      "/home/users/benhutch/model-characteristics/functions.py:481: FutureWarning: The frame.append method is deprecated and will be removed from pandas in a future version. Use pandas.concat instead.\n",
      "  df = df.append(row_dict, ignore_index=True)\n",
      "/home/users/benhutch/model-characteristics/functions.py:481: FutureWarning: The frame.append method is deprecated and will be removed from pandas in a future version. Use pandas.concat instead.\n",
      "  df = df.append(row_dict, ignore_index=True)\n",
      "/home/users/benhutch/model-characteristics/functions.py:481: FutureWarning: The frame.append method is deprecated and will be removed from pandas in a future version. Use pandas.concat instead.\n",
      "  df = df.append(row_dict, ignore_index=True)\n",
      "/home/users/benhutch/model-characteristics/functions.py:481: FutureWarning: The frame.append method is deprecated and will be removed from pandas in a future version. Use pandas.concat instead.\n",
      "  df = df.append(row_dict, ignore_index=True)\n",
      "/home/users/benhutch/model-characteristics/functions.py:481: FutureWarning: The frame.append method is deprecated and will be removed from pandas in a future version. Use pandas.concat instead.\n",
      "  df = df.append(row_dict, ignore_index=True)\n"
     ]
    },
    {
     "name": "stdout",
     "output_type": "stream",
     "text": [
      "Path:  /badc/cmip6/data/CMIP6/CMIP/*/FGOALS-f3-L/historical/*r*i*p*f*/6hr/sfcWind/g?/files/d*/\n",
      "No files available\n",
      "Path:  /badc/cmip6/data/CMIP6/CMIP/*/FGOALS-f3-L/historical/*r*i*p*f*/6hr/sfcWind/g?/files/d*/\n",
      "No files available\n",
      "No files available\n",
      "Model:  MIROC6\n",
      "Variable:  psl\n",
      "Path:  /badc/cmip6/data/CMIP6/CMIP/*/MIROC6/historical/*r*i*p*f*/6hr/psl/g?/files/d*/\n",
      "No files available\n",
      "Path:  /badc/cmip6/data/CMIP6/CMIP/*/MIROC6/historical/*r*i*p*f*/6hr/psl/g?/files/d*/\n",
      "No files available\n",
      "No files available\n",
      "Variable:  tas\n",
      "Path:  /badc/cmip6/data/CMIP6/CMIP/*/MIROC6/historical/*r*i*p*f*/6hr/tas/g?/files/d*/\n",
      "No files available\n",
      "Path:  /badc/cmip6/data/CMIP6/CMIP/*/MIROC6/historical/*r*i*p*f*/6hr/tas/g?/files/d*/\n",
      "No files available\n",
      "No files available\n",
      "Variable:  tos\n",
      "Path:  /badc/cmip6/data/CMIP6/CMIP/*/MIROC6/historical/*r*i*p*f*/6hr/tos/g?/files/d*/\n",
      "No files available\n",
      "Path:  /badc/cmip6/data/CMIP6/CMIP/*/MIROC6/historical/*r*i*p*f*/6hr/tos/g?/files/d*/\n",
      "No files available\n",
      "No files available\n",
      "Variable:  rsds\n",
      "Path:  /badc/cmip6/data/CMIP6/CMIP/*/MIROC6/historical/*r*i*p*f*/6hr/rsds/g?/files/d*/\n",
      "No files available\n",
      "Path:  /badc/cmip6/data/CMIP6/CMIP/*/MIROC6/historical/*r*i*p*f*/6hr/rsds/g?/files/d*/\n",
      "No files available\n",
      "No files available\n",
      "Variable:  sfcWind\n"
     ]
    },
    {
     "name": "stderr",
     "output_type": "stream",
     "text": [
      "/home/users/benhutch/model-characteristics/functions.py:481: FutureWarning: The frame.append method is deprecated and will be removed from pandas in a future version. Use pandas.concat instead.\n",
      "  df = df.append(row_dict, ignore_index=True)\n",
      "/home/users/benhutch/model-characteristics/functions.py:481: FutureWarning: The frame.append method is deprecated and will be removed from pandas in a future version. Use pandas.concat instead.\n",
      "  df = df.append(row_dict, ignore_index=True)\n",
      "/home/users/benhutch/model-characteristics/functions.py:481: FutureWarning: The frame.append method is deprecated and will be removed from pandas in a future version. Use pandas.concat instead.\n",
      "  df = df.append(row_dict, ignore_index=True)\n",
      "/home/users/benhutch/model-characteristics/functions.py:481: FutureWarning: The frame.append method is deprecated and will be removed from pandas in a future version. Use pandas.concat instead.\n",
      "  df = df.append(row_dict, ignore_index=True)\n"
     ]
    },
    {
     "name": "stdout",
     "output_type": "stream",
     "text": [
      "Path:  /badc/cmip6/data/CMIP6/CMIP/*/MIROC6/historical/*r*i*p*f*/6hr/sfcWind/g?/files/d*/\n",
      "No files available\n",
      "Path:  /badc/cmip6/data/CMIP6/CMIP/*/MIROC6/historical/*r*i*p*f*/6hr/sfcWind/g?/files/d*/\n",
      "No files available\n",
      "No files available\n",
      "Model:  IPSL-CM6A-LR\n",
      "Variable:  psl\n",
      "Path:  /badc/cmip6/data/CMIP6/CMIP/*/IPSL-CM6A-LR/historical/*r*i*p*f*/6hr/psl/g?/files/d*/\n",
      "No files available\n",
      "Path:  /badc/cmip6/data/CMIP6/CMIP/*/IPSL-CM6A-LR/historical/*r*i*p*f*/6hr/psl/g?/files/d*/\n",
      "No files available\n",
      "No files available\n",
      "Variable:  tas\n",
      "Path:  /badc/cmip6/data/CMIP6/CMIP/*/IPSL-CM6A-LR/historical/*r*i*p*f*/6hr/tas/g?/files/d*/\n",
      "No files available\n",
      "Path:  /badc/cmip6/data/CMIP6/CMIP/*/IPSL-CM6A-LR/historical/*r*i*p*f*/6hr/tas/g?/files/d*/\n",
      "No files available\n",
      "No files available\n",
      "Variable:  tos\n"
     ]
    },
    {
     "name": "stderr",
     "output_type": "stream",
     "text": [
      "/home/users/benhutch/model-characteristics/functions.py:481: FutureWarning: The frame.append method is deprecated and will be removed from pandas in a future version. Use pandas.concat instead.\n",
      "  df = df.append(row_dict, ignore_index=True)\n",
      "/home/users/benhutch/model-characteristics/functions.py:481: FutureWarning: The frame.append method is deprecated and will be removed from pandas in a future version. Use pandas.concat instead.\n",
      "  df = df.append(row_dict, ignore_index=True)\n",
      "/home/users/benhutch/model-characteristics/functions.py:481: FutureWarning: The frame.append method is deprecated and will be removed from pandas in a future version. Use pandas.concat instead.\n",
      "  df = df.append(row_dict, ignore_index=True)\n"
     ]
    },
    {
     "name": "stdout",
     "output_type": "stream",
     "text": [
      "Path:  /badc/cmip6/data/CMIP6/CMIP/*/IPSL-CM6A-LR/historical/*r*i*p*f*/6hr/tos/g?/files/d*/\n",
      "No files available\n",
      "Path:  /badc/cmip6/data/CMIP6/CMIP/*/IPSL-CM6A-LR/historical/*r*i*p*f*/6hr/tos/g?/files/d*/\n",
      "No files available\n",
      "No files available\n",
      "Variable:  rsds\n",
      "Path:  /badc/cmip6/data/CMIP6/CMIP/*/IPSL-CM6A-LR/historical/*r*i*p*f*/6hr/rsds/g?/files/d*/\n",
      "No files available\n",
      "Path:  /badc/cmip6/data/CMIP6/CMIP/*/IPSL-CM6A-LR/historical/*r*i*p*f*/6hr/rsds/g?/files/d*/\n",
      "No files available\n",
      "No files available\n",
      "Variable:  sfcWind\n",
      "Path:  /badc/cmip6/data/CMIP6/CMIP/*/IPSL-CM6A-LR/historical/*r*i*p*f*/6hr/sfcWind/g?/files/d*/\n",
      "No files available\n",
      "Path:  /badc/cmip6/data/CMIP6/CMIP/*/IPSL-CM6A-LR/historical/*r*i*p*f*/6hr/sfcWind/g?/files/d*/\n",
      "No files available\n",
      "No files available\n",
      "Model:  CESM1-1-CAM5-CMIP5\n",
      "Variable:  psl\n",
      "Model not available\n",
      "Path:  /badc/cmip6/data/CMIP6/CMIP/*/CESM1-1-CAM5-CMIP5/historical/*r*i*p*f*/6hr/psl/g?/files/d*/\n",
      "No files available\n",
      "Path:  /badc/cmip6/data/CMIP6/CMIP/*/CESM1-1-CAM5-CMIP5/historical/*r*i*p*f*/6hr/psl/g?/files/d*/\n",
      "No files available\n",
      "No files available\n",
      "Variable:  tas\n",
      "Model not available\n"
     ]
    },
    {
     "name": "stderr",
     "output_type": "stream",
     "text": [
      "/home/users/benhutch/model-characteristics/functions.py:481: FutureWarning: The frame.append method is deprecated and will be removed from pandas in a future version. Use pandas.concat instead.\n",
      "  df = df.append(row_dict, ignore_index=True)\n",
      "/home/users/benhutch/model-characteristics/functions.py:481: FutureWarning: The frame.append method is deprecated and will be removed from pandas in a future version. Use pandas.concat instead.\n",
      "  df = df.append(row_dict, ignore_index=True)\n",
      "/home/users/benhutch/model-characteristics/functions.py:481: FutureWarning: The frame.append method is deprecated and will be removed from pandas in a future version. Use pandas.concat instead.\n",
      "  df = df.append(row_dict, ignore_index=True)\n",
      "/home/users/benhutch/model-characteristics/functions.py:481: FutureWarning: The frame.append method is deprecated and will be removed from pandas in a future version. Use pandas.concat instead.\n",
      "  df = df.append(row_dict, ignore_index=True)\n"
     ]
    },
    {
     "name": "stdout",
     "output_type": "stream",
     "text": [
      "Path:  /badc/cmip6/data/CMIP6/CMIP/*/CESM1-1-CAM5-CMIP5/historical/*r*i*p*f*/6hr/tas/g?/files/d*/\n",
      "No files available\n",
      "Path:  /badc/cmip6/data/CMIP6/CMIP/*/CESM1-1-CAM5-CMIP5/historical/*r*i*p*f*/6hr/tas/g?/files/d*/\n",
      "No files available\n",
      "No files available\n",
      "Variable:  tos\n",
      "Model not available\n",
      "Path:  /badc/cmip6/data/CMIP6/CMIP/*/CESM1-1-CAM5-CMIP5/historical/*r*i*p*f*/6hr/tos/g?/files/d*/\n",
      "No files available\n",
      "Path:  /badc/cmip6/data/CMIP6/CMIP/*/CESM1-1-CAM5-CMIP5/historical/*r*i*p*f*/6hr/tos/g?/files/d*/\n",
      "No files available\n",
      "No files available\n",
      "Variable:  rsds\n",
      "Model not available\n",
      "Path:  /badc/cmip6/data/CMIP6/CMIP/*/CESM1-1-CAM5-CMIP5/historical/*r*i*p*f*/6hr/rsds/g?/files/d*/\n",
      "No files available\n",
      "Path:  /badc/cmip6/data/CMIP6/CMIP/*/CESM1-1-CAM5-CMIP5/historical/*r*i*p*f*/6hr/rsds/g?/files/d*/\n",
      "No files available\n",
      "No files available\n",
      "Variable:  sfcWind\n",
      "Model not available\n",
      "Path:  /badc/cmip6/data/CMIP6/CMIP/*/CESM1-1-CAM5-CMIP5/historical/*r*i*p*f*/6hr/sfcWind/g?/files/d*/\n",
      "No files available\n",
      "Path:  /badc/cmip6/data/CMIP6/CMIP/*/CESM1-1-CAM5-CMIP5/historical/*r*i*p*f*/6hr/sfcWind/g?/files/d*/\n",
      "No files available\n",
      "No files available\n",
      "Model:  NorCPM1\n",
      "Variable:  psl\n",
      "Path:  /badc/cmip6/data/CMIP6/CMIP/*/NorCPM1/historical/*r*i*p*f*/6hr/psl/g?/files/d*/\n",
      "No files available\n",
      "Path:  /badc/cmip6/data/CMIP6/CMIP/*/NorCPM1/historical/*r*i*p*f*/6hr/psl/g?/files/d*/\n",
      "No files available\n",
      "No files available\n",
      "Variable:  tas\n"
     ]
    },
    {
     "name": "stderr",
     "output_type": "stream",
     "text": [
      "/home/users/benhutch/model-characteristics/functions.py:481: FutureWarning: The frame.append method is deprecated and will be removed from pandas in a future version. Use pandas.concat instead.\n",
      "  df = df.append(row_dict, ignore_index=True)\n",
      "/home/users/benhutch/model-characteristics/functions.py:481: FutureWarning: The frame.append method is deprecated and will be removed from pandas in a future version. Use pandas.concat instead.\n",
      "  df = df.append(row_dict, ignore_index=True)\n",
      "/home/users/benhutch/model-characteristics/functions.py:481: FutureWarning: The frame.append method is deprecated and will be removed from pandas in a future version. Use pandas.concat instead.\n",
      "  df = df.append(row_dict, ignore_index=True)\n",
      "/home/users/benhutch/model-characteristics/functions.py:481: FutureWarning: The frame.append method is deprecated and will be removed from pandas in a future version. Use pandas.concat instead.\n",
      "  df = df.append(row_dict, ignore_index=True)\n",
      "/home/users/benhutch/model-characteristics/functions.py:481: FutureWarning: The frame.append method is deprecated and will be removed from pandas in a future version. Use pandas.concat instead.\n",
      "  df = df.append(row_dict, ignore_index=True)\n"
     ]
    },
    {
     "name": "stdout",
     "output_type": "stream",
     "text": [
      "Path:  /badc/cmip6/data/CMIP6/CMIP/*/NorCPM1/historical/*r*i*p*f*/6hr/tas/g?/files/d*/\n",
      "No files available\n",
      "Path:  /badc/cmip6/data/CMIP6/CMIP/*/NorCPM1/historical/*r*i*p*f*/6hr/tas/g?/files/d*/\n",
      "No files available\n",
      "No files available\n",
      "Variable:  tos\n",
      "Path:  /badc/cmip6/data/CMIP6/CMIP/*/NorCPM1/historical/*r*i*p*f*/6hr/tos/g?/files/d*/\n",
      "No files available\n",
      "Path:  /badc/cmip6/data/CMIP6/CMIP/*/NorCPM1/historical/*r*i*p*f*/6hr/tos/g?/files/d*/\n",
      "No files available\n",
      "No files available\n",
      "Variable:  rsds\n",
      "Path:  /badc/cmip6/data/CMIP6/CMIP/*/NorCPM1/historical/*r*i*p*f*/6hr/rsds/g?/files/d*/\n",
      "No files available\n",
      "Path:  /badc/cmip6/data/CMIP6/CMIP/*/NorCPM1/historical/*r*i*p*f*/6hr/rsds/g?/files/d*/\n",
      "No files available\n",
      "No files available\n",
      "Variable:  sfcWind\n",
      "Path:  /badc/cmip6/data/CMIP6/CMIP/*/NorCPM1/historical/*r*i*p*f*/6hr/sfcWind/g?/files/d*/\n",
      "No files available\n",
      "Path:  /badc/cmip6/data/CMIP6/CMIP/*/NorCPM1/historical/*r*i*p*f*/6hr/sfcWind/g?/files/d*/\n",
      "No files available\n",
      "No files available\n",
      "Experiment:  dcppA-hindcast\n",
      "Model:  BCC-CSM2-MR\n",
      "Variable:  psl\n"
     ]
    },
    {
     "name": "stderr",
     "output_type": "stream",
     "text": [
      "/home/users/benhutch/model-characteristics/functions.py:481: FutureWarning: The frame.append method is deprecated and will be removed from pandas in a future version. Use pandas.concat instead.\n",
      "  df = df.append(row_dict, ignore_index=True)\n",
      "/home/users/benhutch/model-characteristics/functions.py:481: FutureWarning: The frame.append method is deprecated and will be removed from pandas in a future version. Use pandas.concat instead.\n",
      "  df = df.append(row_dict, ignore_index=True)\n",
      "/home/users/benhutch/model-characteristics/functions.py:481: FutureWarning: The frame.append method is deprecated and will be removed from pandas in a future version. Use pandas.concat instead.\n",
      "  df = df.append(row_dict, ignore_index=True)\n",
      "/home/users/benhutch/model-characteristics/functions.py:481: FutureWarning: The frame.append method is deprecated and will be removed from pandas in a future version. Use pandas.concat instead.\n",
      "  df = df.append(row_dict, ignore_index=True)\n"
     ]
    },
    {
     "name": "stdout",
     "output_type": "stream",
     "text": [
      "Path:  /badc/cmip6/data/CMIP6/DCPP/*/BCC-CSM2-MR/dcppA-hindcast/*r*i*p*f*/6hr/psl/g?/files/d*/\n",
      "No files available\n",
      "No files available\n",
      "Variable:  tas\n"
     ]
    },
    {
     "name": "stderr",
     "output_type": "stream",
     "text": [
      "/home/users/benhutch/model-characteristics/functions.py:481: FutureWarning: The frame.append method is deprecated and will be removed from pandas in a future version. Use pandas.concat instead.\n",
      "  df = df.append(row_dict, ignore_index=True)\n"
     ]
    },
    {
     "name": "stdout",
     "output_type": "stream",
     "text": [
      "Path:  /badc/cmip6/data/CMIP6/DCPP/*/BCC-CSM2-MR/dcppA-hindcast/*r*i*p*f*/6hr/tas/g?/files/d*/\n",
      "No files available\n",
      "No files available\n",
      "Variable:  tos\n"
     ]
    },
    {
     "name": "stderr",
     "output_type": "stream",
     "text": [
      "/home/users/benhutch/model-characteristics/functions.py:481: FutureWarning: The frame.append method is deprecated and will be removed from pandas in a future version. Use pandas.concat instead.\n",
      "  df = df.append(row_dict, ignore_index=True)\n"
     ]
    },
    {
     "name": "stdout",
     "output_type": "stream",
     "text": [
      "Path:  /badc/cmip6/data/CMIP6/DCPP/*/BCC-CSM2-MR/dcppA-hindcast/*r*i*p*f*/6hr/tos/g?/files/d*/\n",
      "No files available\n",
      "No files available\n",
      "Variable:  rsds\n"
     ]
    },
    {
     "name": "stderr",
     "output_type": "stream",
     "text": [
      "/home/users/benhutch/model-characteristics/functions.py:481: FutureWarning: The frame.append method is deprecated and will be removed from pandas in a future version. Use pandas.concat instead.\n",
      "  df = df.append(row_dict, ignore_index=True)\n"
     ]
    },
    {
     "name": "stdout",
     "output_type": "stream",
     "text": [
      "Path:  /badc/cmip6/data/CMIP6/DCPP/*/BCC-CSM2-MR/dcppA-hindcast/*r*i*p*f*/6hr/rsds/g?/files/d*/\n",
      "No files available\n",
      "No files available\n",
      "Variable:  sfcWind\n"
     ]
    },
    {
     "name": "stderr",
     "output_type": "stream",
     "text": [
      "/home/users/benhutch/model-characteristics/functions.py:481: FutureWarning: The frame.append method is deprecated and will be removed from pandas in a future version. Use pandas.concat instead.\n",
      "  df = df.append(row_dict, ignore_index=True)\n"
     ]
    },
    {
     "name": "stdout",
     "output_type": "stream",
     "text": [
      "Path:  /badc/cmip6/data/CMIP6/DCPP/*/BCC-CSM2-MR/dcppA-hindcast/*r*i*p*f*/6hr/sfcWind/g?/files/d*/\n",
      "No files available\n",
      "No files available\n",
      "Model:  MPI-ESM1-2-HR\n",
      "Variable:  psl\n"
     ]
    },
    {
     "name": "stderr",
     "output_type": "stream",
     "text": [
      "/home/users/benhutch/model-characteristics/functions.py:481: FutureWarning: The frame.append method is deprecated and will be removed from pandas in a future version. Use pandas.concat instead.\n",
      "  df = df.append(row_dict, ignore_index=True)\n"
     ]
    },
    {
     "name": "stdout",
     "output_type": "stream",
     "text": [
      "Path:  /badc/cmip6/data/CMIP6/DCPP/*/MPI-ESM1-2-HR/dcppA-hindcast/*r*i*p*f*/6hr/psl/g?/files/d*/\n",
      "No files available\n",
      "No files available\n",
      "Variable:  tas\n"
     ]
    },
    {
     "name": "stderr",
     "output_type": "stream",
     "text": [
      "/home/users/benhutch/model-characteristics/functions.py:481: FutureWarning: The frame.append method is deprecated and will be removed from pandas in a future version. Use pandas.concat instead.\n",
      "  df = df.append(row_dict, ignore_index=True)\n"
     ]
    },
    {
     "name": "stdout",
     "output_type": "stream",
     "text": [
      "Path:  /badc/cmip6/data/CMIP6/DCPP/*/MPI-ESM1-2-HR/dcppA-hindcast/*r*i*p*f*/6hr/tas/g?/files/d*/\n",
      "No files available\n",
      "No files available\n",
      "Variable:  tos\n"
     ]
    },
    {
     "name": "stderr",
     "output_type": "stream",
     "text": [
      "/home/users/benhutch/model-characteristics/functions.py:481: FutureWarning: The frame.append method is deprecated and will be removed from pandas in a future version. Use pandas.concat instead.\n",
      "  df = df.append(row_dict, ignore_index=True)\n"
     ]
    },
    {
     "name": "stdout",
     "output_type": "stream",
     "text": [
      "Path:  /badc/cmip6/data/CMIP6/DCPP/*/MPI-ESM1-2-HR/dcppA-hindcast/*r*i*p*f*/6hr/tos/g?/files/d*/\n",
      "No files available\n",
      "No files available\n",
      "Variable:  rsds\n"
     ]
    },
    {
     "name": "stderr",
     "output_type": "stream",
     "text": [
      "/home/users/benhutch/model-characteristics/functions.py:481: FutureWarning: The frame.append method is deprecated and will be removed from pandas in a future version. Use pandas.concat instead.\n",
      "  df = df.append(row_dict, ignore_index=True)\n"
     ]
    },
    {
     "name": "stdout",
     "output_type": "stream",
     "text": [
      "Path:  /badc/cmip6/data/CMIP6/DCPP/*/MPI-ESM1-2-HR/dcppA-hindcast/*r*i*p*f*/6hr/rsds/g?/files/d*/\n",
      "No files available\n",
      "No files available\n",
      "Variable:  sfcWind\n"
     ]
    },
    {
     "name": "stderr",
     "output_type": "stream",
     "text": [
      "/home/users/benhutch/model-characteristics/functions.py:481: FutureWarning: The frame.append method is deprecated and will be removed from pandas in a future version. Use pandas.concat instead.\n",
      "  df = df.append(row_dict, ignore_index=True)\n"
     ]
    },
    {
     "name": "stdout",
     "output_type": "stream",
     "text": [
      "Path:  /badc/cmip6/data/CMIP6/DCPP/*/MPI-ESM1-2-HR/dcppA-hindcast/*r*i*p*f*/6hr/sfcWind/g?/files/d*/\n",
      "No files available\n",
      "No files available\n",
      "Model:  CanESM5\n",
      "Variable:  psl\n"
     ]
    },
    {
     "name": "stderr",
     "output_type": "stream",
     "text": [
      "/home/users/benhutch/model-characteristics/functions.py:481: FutureWarning: The frame.append method is deprecated and will be removed from pandas in a future version. Use pandas.concat instead.\n",
      "  df = df.append(row_dict, ignore_index=True)\n"
     ]
    },
    {
     "name": "stdout",
     "output_type": "stream",
     "text": [
      "Path:  /badc/cmip6/data/CMIP6/DCPP/*/CanESM5/dcppA-hindcast/*r*i*p*f*/6hr/psl/g?/files/d*/\n",
      "No files available\n",
      "No files available\n",
      "Variable:  tas\n"
     ]
    },
    {
     "name": "stderr",
     "output_type": "stream",
     "text": [
      "/home/users/benhutch/model-characteristics/functions.py:481: FutureWarning: The frame.append method is deprecated and will be removed from pandas in a future version. Use pandas.concat instead.\n",
      "  df = df.append(row_dict, ignore_index=True)\n"
     ]
    },
    {
     "name": "stdout",
     "output_type": "stream",
     "text": [
      "Path:  /badc/cmip6/data/CMIP6/DCPP/*/CanESM5/dcppA-hindcast/*r*i*p*f*/6hr/tas/g?/files/d*/\n",
      "No files available\n",
      "No files available\n",
      "Variable:  tos\n"
     ]
    },
    {
     "name": "stderr",
     "output_type": "stream",
     "text": [
      "/home/users/benhutch/model-characteristics/functions.py:481: FutureWarning: The frame.append method is deprecated and will be removed from pandas in a future version. Use pandas.concat instead.\n",
      "  df = df.append(row_dict, ignore_index=True)\n"
     ]
    },
    {
     "name": "stdout",
     "output_type": "stream",
     "text": [
      "Path:  /badc/cmip6/data/CMIP6/DCPP/*/CanESM5/dcppA-hindcast/*r*i*p*f*/6hr/tos/g?/files/d*/\n",
      "No files available\n",
      "No files available\n",
      "Variable:  rsds\n"
     ]
    },
    {
     "name": "stderr",
     "output_type": "stream",
     "text": [
      "/home/users/benhutch/model-characteristics/functions.py:481: FutureWarning: The frame.append method is deprecated and will be removed from pandas in a future version. Use pandas.concat instead.\n",
      "  df = df.append(row_dict, ignore_index=True)\n"
     ]
    },
    {
     "name": "stdout",
     "output_type": "stream",
     "text": [
      "Path:  /badc/cmip6/data/CMIP6/DCPP/*/CanESM5/dcppA-hindcast/*r*i*p*f*/6hr/rsds/g?/files/d*/\n",
      "No files available\n",
      "No files available\n",
      "Variable:  sfcWind\n"
     ]
    },
    {
     "name": "stderr",
     "output_type": "stream",
     "text": [
      "/home/users/benhutch/model-characteristics/functions.py:481: FutureWarning: The frame.append method is deprecated and will be removed from pandas in a future version. Use pandas.concat instead.\n",
      "  df = df.append(row_dict, ignore_index=True)\n"
     ]
    },
    {
     "name": "stdout",
     "output_type": "stream",
     "text": [
      "Path:  /badc/cmip6/data/CMIP6/DCPP/*/CanESM5/dcppA-hindcast/*r*i*p*f*/6hr/sfcWind/g?/files/d*/\n",
      "No files available\n",
      "No files available\n",
      "Model:  CMCC-CM2-SR5\n",
      "Variable:  psl\n"
     ]
    },
    {
     "name": "stderr",
     "output_type": "stream",
     "text": [
      "/home/users/benhutch/model-characteristics/functions.py:481: FutureWarning: The frame.append method is deprecated and will be removed from pandas in a future version. Use pandas.concat instead.\n",
      "  df = df.append(row_dict, ignore_index=True)\n"
     ]
    },
    {
     "name": "stdout",
     "output_type": "stream",
     "text": [
      "Path:  /badc/cmip6/data/CMIP6/DCPP/*/CMCC-CM2-SR5/dcppA-hindcast/*r*i*p*f*/6hr/psl/g?/files/d*/\n",
      "No files available\n",
      "No files available\n",
      "Variable:  tas\n"
     ]
    },
    {
     "name": "stderr",
     "output_type": "stream",
     "text": [
      "/home/users/benhutch/model-characteristics/functions.py:481: FutureWarning: The frame.append method is deprecated and will be removed from pandas in a future version. Use pandas.concat instead.\n",
      "  df = df.append(row_dict, ignore_index=True)\n"
     ]
    },
    {
     "name": "stdout",
     "output_type": "stream",
     "text": [
      "Path:  /badc/cmip6/data/CMIP6/DCPP/*/CMCC-CM2-SR5/dcppA-hindcast/*r*i*p*f*/6hr/tas/g?/files/d*/\n",
      "No files available\n",
      "No files available\n",
      "Variable:  tos\n"
     ]
    },
    {
     "name": "stderr",
     "output_type": "stream",
     "text": [
      "/home/users/benhutch/model-characteristics/functions.py:481: FutureWarning: The frame.append method is deprecated and will be removed from pandas in a future version. Use pandas.concat instead.\n",
      "  df = df.append(row_dict, ignore_index=True)\n"
     ]
    },
    {
     "name": "stdout",
     "output_type": "stream",
     "text": [
      "Path:  /badc/cmip6/data/CMIP6/DCPP/*/CMCC-CM2-SR5/dcppA-hindcast/*r*i*p*f*/6hr/tos/g?/files/d*/\n",
      "No files available\n",
      "No files available\n",
      "Variable:  rsds\n"
     ]
    },
    {
     "name": "stderr",
     "output_type": "stream",
     "text": [
      "/home/users/benhutch/model-characteristics/functions.py:481: FutureWarning: The frame.append method is deprecated and will be removed from pandas in a future version. Use pandas.concat instead.\n",
      "  df = df.append(row_dict, ignore_index=True)\n"
     ]
    },
    {
     "name": "stdout",
     "output_type": "stream",
     "text": [
      "Path:  /badc/cmip6/data/CMIP6/DCPP/*/CMCC-CM2-SR5/dcppA-hindcast/*r*i*p*f*/6hr/rsds/g?/files/d*/\n",
      "No files available\n",
      "No files available\n",
      "Variable:  sfcWind\n"
     ]
    },
    {
     "name": "stderr",
     "output_type": "stream",
     "text": [
      "/home/users/benhutch/model-characteristics/functions.py:481: FutureWarning: The frame.append method is deprecated and will be removed from pandas in a future version. Use pandas.concat instead.\n",
      "  df = df.append(row_dict, ignore_index=True)\n"
     ]
    },
    {
     "name": "stdout",
     "output_type": "stream",
     "text": [
      "Path:  /badc/cmip6/data/CMIP6/DCPP/*/CMCC-CM2-SR5/dcppA-hindcast/*r*i*p*f*/6hr/sfcWind/g?/files/d*/\n",
      "No files available\n",
      "No files available\n",
      "Model:  HadGEM3-GC31-MM\n",
      "Variable:  psl\n"
     ]
    },
    {
     "name": "stderr",
     "output_type": "stream",
     "text": [
      "/home/users/benhutch/model-characteristics/functions.py:481: FutureWarning: The frame.append method is deprecated and will be removed from pandas in a future version. Use pandas.concat instead.\n",
      "  df = df.append(row_dict, ignore_index=True)\n"
     ]
    },
    {
     "name": "stdout",
     "output_type": "stream",
     "text": [
      "Path:  /badc/cmip6/data/CMIP6/DCPP/*/HadGEM3-GC31-MM/dcppA-hindcast/*r*i*p*f*/6hr/psl/g?/files/d*/\n",
      "No files available\n",
      "No files available\n",
      "Variable:  tas\n"
     ]
    },
    {
     "name": "stderr",
     "output_type": "stream",
     "text": [
      "/home/users/benhutch/model-characteristics/functions.py:481: FutureWarning: The frame.append method is deprecated and will be removed from pandas in a future version. Use pandas.concat instead.\n",
      "  df = df.append(row_dict, ignore_index=True)\n"
     ]
    },
    {
     "name": "stdout",
     "output_type": "stream",
     "text": [
      "Path:  /badc/cmip6/data/CMIP6/DCPP/*/HadGEM3-GC31-MM/dcppA-hindcast/*r*i*p*f*/6hr/tas/g?/files/d*/\n",
      "No files available\n",
      "No files available\n",
      "Variable:  tos\n"
     ]
    },
    {
     "name": "stderr",
     "output_type": "stream",
     "text": [
      "/home/users/benhutch/model-characteristics/functions.py:481: FutureWarning: The frame.append method is deprecated and will be removed from pandas in a future version. Use pandas.concat instead.\n",
      "  df = df.append(row_dict, ignore_index=True)\n"
     ]
    },
    {
     "name": "stdout",
     "output_type": "stream",
     "text": [
      "Path:  /badc/cmip6/data/CMIP6/DCPP/*/HadGEM3-GC31-MM/dcppA-hindcast/*r*i*p*f*/6hr/tos/g?/files/d*/\n",
      "No files available\n",
      "No files available\n",
      "Variable:  rsds\n"
     ]
    },
    {
     "name": "stderr",
     "output_type": "stream",
     "text": [
      "/home/users/benhutch/model-characteristics/functions.py:481: FutureWarning: The frame.append method is deprecated and will be removed from pandas in a future version. Use pandas.concat instead.\n",
      "  df = df.append(row_dict, ignore_index=True)\n"
     ]
    },
    {
     "name": "stdout",
     "output_type": "stream",
     "text": [
      "Path:  /badc/cmip6/data/CMIP6/DCPP/*/HadGEM3-GC31-MM/dcppA-hindcast/*r*i*p*f*/6hr/rsds/g?/files/d*/\n",
      "No files available\n",
      "No files available\n",
      "Variable:  sfcWind\n"
     ]
    },
    {
     "name": "stderr",
     "output_type": "stream",
     "text": [
      "/home/users/benhutch/model-characteristics/functions.py:481: FutureWarning: The frame.append method is deprecated and will be removed from pandas in a future version. Use pandas.concat instead.\n",
      "  df = df.append(row_dict, ignore_index=True)\n"
     ]
    },
    {
     "name": "stdout",
     "output_type": "stream",
     "text": [
      "Path:  /badc/cmip6/data/CMIP6/DCPP/*/HadGEM3-GC31-MM/dcppA-hindcast/*r*i*p*f*/6hr/sfcWind/g?/files/d*/\n",
      "No files available\n",
      "No files available\n",
      "Model:  EC-Earth3\n",
      "Variable:  psl\n"
     ]
    },
    {
     "name": "stderr",
     "output_type": "stream",
     "text": [
      "/home/users/benhutch/model-characteristics/functions.py:481: FutureWarning: The frame.append method is deprecated and will be removed from pandas in a future version. Use pandas.concat instead.\n",
      "  df = df.append(row_dict, ignore_index=True)\n"
     ]
    },
    {
     "name": "stdout",
     "output_type": "stream",
     "text": [
      "Path:  /badc/cmip6/data/CMIP6/DCPP/*/EC-Earth3/dcppA-hindcast/*r*i*p*f*/6hr/psl/g?/files/d*/\n",
      "No files available\n",
      "No files available\n",
      "Variable:  tas\n"
     ]
    },
    {
     "name": "stderr",
     "output_type": "stream",
     "text": [
      "/home/users/benhutch/model-characteristics/functions.py:481: FutureWarning: The frame.append method is deprecated and will be removed from pandas in a future version. Use pandas.concat instead.\n",
      "  df = df.append(row_dict, ignore_index=True)\n"
     ]
    },
    {
     "name": "stdout",
     "output_type": "stream",
     "text": [
      "Path:  /badc/cmip6/data/CMIP6/DCPP/*/EC-Earth3/dcppA-hindcast/*r*i*p*f*/6hr/tas/g?/files/d*/\n",
      "No files available\n",
      "No files available\n",
      "Variable:  tos\n"
     ]
    },
    {
     "name": "stderr",
     "output_type": "stream",
     "text": [
      "/home/users/benhutch/model-characteristics/functions.py:481: FutureWarning: The frame.append method is deprecated and will be removed from pandas in a future version. Use pandas.concat instead.\n",
      "  df = df.append(row_dict, ignore_index=True)\n"
     ]
    },
    {
     "name": "stdout",
     "output_type": "stream",
     "text": [
      "Path:  /badc/cmip6/data/CMIP6/DCPP/*/EC-Earth3/dcppA-hindcast/*r*i*p*f*/6hr/tos/g?/files/d*/\n",
      "No files available\n",
      "No files available\n",
      "Variable:  rsds\n"
     ]
    },
    {
     "name": "stderr",
     "output_type": "stream",
     "text": [
      "/home/users/benhutch/model-characteristics/functions.py:481: FutureWarning: The frame.append method is deprecated and will be removed from pandas in a future version. Use pandas.concat instead.\n",
      "  df = df.append(row_dict, ignore_index=True)\n"
     ]
    },
    {
     "name": "stdout",
     "output_type": "stream",
     "text": [
      "Path:  /badc/cmip6/data/CMIP6/DCPP/*/EC-Earth3/dcppA-hindcast/*r*i*p*f*/6hr/rsds/g?/files/d*/\n",
      "No files available\n",
      "No files available\n",
      "Variable:  sfcWind\n"
     ]
    },
    {
     "name": "stderr",
     "output_type": "stream",
     "text": [
      "/home/users/benhutch/model-characteristics/functions.py:481: FutureWarning: The frame.append method is deprecated and will be removed from pandas in a future version. Use pandas.concat instead.\n",
      "  df = df.append(row_dict, ignore_index=True)\n"
     ]
    },
    {
     "name": "stdout",
     "output_type": "stream",
     "text": [
      "Path:  /badc/cmip6/data/CMIP6/DCPP/*/EC-Earth3/dcppA-hindcast/*r*i*p*f*/6hr/sfcWind/g?/files/d*/\n",
      "No files available\n",
      "No files available\n",
      "Model:  MPI-ESM1-2-LR\n",
      "Variable:  psl\n",
      "Model not available\n",
      "Path:  /badc/cmip6/data/CMIP6/DCPP/*/MPI-ESM1-2-LR/dcppA-hindcast/*r*i*p*f*/6hr/psl/g?/files/d*/\n",
      "No files available\n",
      "No files available\n",
      "Variable:  tas\n"
     ]
    },
    {
     "name": "stderr",
     "output_type": "stream",
     "text": [
      "/home/users/benhutch/model-characteristics/functions.py:481: FutureWarning: The frame.append method is deprecated and will be removed from pandas in a future version. Use pandas.concat instead.\n",
      "  df = df.append(row_dict, ignore_index=True)\n",
      "/home/users/benhutch/model-characteristics/functions.py:481: FutureWarning: The frame.append method is deprecated and will be removed from pandas in a future version. Use pandas.concat instead.\n",
      "  df = df.append(row_dict, ignore_index=True)\n",
      "/home/users/benhutch/model-characteristics/functions.py:481: FutureWarning: The frame.append method is deprecated and will be removed from pandas in a future version. Use pandas.concat instead.\n",
      "  df = df.append(row_dict, ignore_index=True)\n",
      "/home/users/benhutch/model-characteristics/functions.py:481: FutureWarning: The frame.append method is deprecated and will be removed from pandas in a future version. Use pandas.concat instead.\n",
      "  df = df.append(row_dict, ignore_index=True)\n",
      "/home/users/benhutch/model-characteristics/functions.py:481: FutureWarning: The frame.append method is deprecated and will be removed from pandas in a future version. Use pandas.concat instead.\n",
      "  df = df.append(row_dict, ignore_index=True)\n",
      "/home/users/benhutch/model-characteristics/functions.py:481: FutureWarning: The frame.append method is deprecated and will be removed from pandas in a future version. Use pandas.concat instead.\n",
      "  df = df.append(row_dict, ignore_index=True)\n",
      "/home/users/benhutch/model-characteristics/functions.py:481: FutureWarning: The frame.append method is deprecated and will be removed from pandas in a future version. Use pandas.concat instead.\n",
      "  df = df.append(row_dict, ignore_index=True)\n",
      "/home/users/benhutch/model-characteristics/functions.py:481: FutureWarning: The frame.append method is deprecated and will be removed from pandas in a future version. Use pandas.concat instead.\n",
      "  df = df.append(row_dict, ignore_index=True)\n",
      "/home/users/benhutch/model-characteristics/functions.py:481: FutureWarning: The frame.append method is deprecated and will be removed from pandas in a future version. Use pandas.concat instead.\n",
      "  df = df.append(row_dict, ignore_index=True)\n",
      "/home/users/benhutch/model-characteristics/functions.py:481: FutureWarning: The frame.append method is deprecated and will be removed from pandas in a future version. Use pandas.concat instead.\n",
      "  df = df.append(row_dict, ignore_index=True)\n",
      "/home/users/benhutch/model-characteristics/functions.py:481: FutureWarning: The frame.append method is deprecated and will be removed from pandas in a future version. Use pandas.concat instead.\n",
      "  df = df.append(row_dict, ignore_index=True)\n"
     ]
    },
    {
     "name": "stdout",
     "output_type": "stream",
     "text": [
      "Model not available\n",
      "Path:  /badc/cmip6/data/CMIP6/DCPP/*/MPI-ESM1-2-LR/dcppA-hindcast/*r*i*p*f*/6hr/tas/g?/files/d*/\n",
      "No files available\n",
      "No files available\n",
      "Variable:  tos\n",
      "Model not available\n",
      "Path:  /badc/cmip6/data/CMIP6/DCPP/*/MPI-ESM1-2-LR/dcppA-hindcast/*r*i*p*f*/6hr/tos/g?/files/d*/\n",
      "No files available\n",
      "No files available\n",
      "Variable:  rsds\n",
      "Model not available\n",
      "Path:  /badc/cmip6/data/CMIP6/DCPP/*/MPI-ESM1-2-LR/dcppA-hindcast/*r*i*p*f*/6hr/rsds/g?/files/d*/\n",
      "No files available\n",
      "No files available\n",
      "Variable:  sfcWind\n",
      "Model not available\n",
      "Path:  /badc/cmip6/data/CMIP6/DCPP/*/MPI-ESM1-2-LR/dcppA-hindcast/*r*i*p*f*/6hr/sfcWind/g?/files/d*/\n",
      "No files available\n",
      "No files available\n",
      "Model:  FGOALS-f3-L\n",
      "Variable:  psl\n",
      "Model not available\n",
      "Path:  /badc/cmip6/data/CMIP6/DCPP/*/FGOALS-f3-L/dcppA-hindcast/*r*i*p*f*/6hr/psl/g?/files/d*/\n",
      "No files available\n",
      "No files available\n",
      "Variable:  tas\n",
      "Model not available\n",
      "Path:  /badc/cmip6/data/CMIP6/DCPP/*/FGOALS-f3-L/dcppA-hindcast/*r*i*p*f*/6hr/tas/g?/files/d*/\n",
      "No files available\n",
      "No files available\n",
      "Variable:  tos\n",
      "Model not available\n",
      "Path:  /badc/cmip6/data/CMIP6/DCPP/*/FGOALS-f3-L/dcppA-hindcast/*r*i*p*f*/6hr/tos/g?/files/d*/\n",
      "No files available\n",
      "No files available\n",
      "Variable:  rsds\n",
      "Model not available\n",
      "Path:  /badc/cmip6/data/CMIP6/DCPP/*/FGOALS-f3-L/dcppA-hindcast/*r*i*p*f*/6hr/rsds/g?/files/d*/\n",
      "No files available\n",
      "No files available\n",
      "Variable:  sfcWind\n",
      "Model not available\n",
      "Path:  /badc/cmip6/data/CMIP6/DCPP/*/FGOALS-f3-L/dcppA-hindcast/*r*i*p*f*/6hr/sfcWind/g?/files/d*/\n",
      "No files available\n",
      "No files available\n",
      "Model:  MIROC6\n",
      "Variable:  psl\n",
      "Path:  /badc/cmip6/data/CMIP6/DCPP/*/MIROC6/dcppA-hindcast/*r*i*p*f*/6hr/psl/g?/files/d*/\n",
      "No files available\n",
      "No files available\n",
      "Variable:  tas\n"
     ]
    },
    {
     "name": "stderr",
     "output_type": "stream",
     "text": [
      "/home/users/benhutch/model-characteristics/functions.py:481: FutureWarning: The frame.append method is deprecated and will be removed from pandas in a future version. Use pandas.concat instead.\n",
      "  df = df.append(row_dict, ignore_index=True)\n"
     ]
    },
    {
     "name": "stdout",
     "output_type": "stream",
     "text": [
      "Path:  /badc/cmip6/data/CMIP6/DCPP/*/MIROC6/dcppA-hindcast/*r*i*p*f*/6hr/tas/g?/files/d*/\n",
      "No files available\n",
      "No files available\n",
      "Variable:  tos\n"
     ]
    },
    {
     "name": "stderr",
     "output_type": "stream",
     "text": [
      "/home/users/benhutch/model-characteristics/functions.py:481: FutureWarning: The frame.append method is deprecated and will be removed from pandas in a future version. Use pandas.concat instead.\n",
      "  df = df.append(row_dict, ignore_index=True)\n"
     ]
    },
    {
     "name": "stdout",
     "output_type": "stream",
     "text": [
      "Path:  /badc/cmip6/data/CMIP6/DCPP/*/MIROC6/dcppA-hindcast/*r*i*p*f*/6hr/tos/g?/files/d*/\n",
      "No files available\n",
      "No files available\n",
      "Variable:  rsds\n"
     ]
    },
    {
     "name": "stderr",
     "output_type": "stream",
     "text": [
      "/home/users/benhutch/model-characteristics/functions.py:481: FutureWarning: The frame.append method is deprecated and will be removed from pandas in a future version. Use pandas.concat instead.\n",
      "  df = df.append(row_dict, ignore_index=True)\n"
     ]
    },
    {
     "name": "stdout",
     "output_type": "stream",
     "text": [
      "Path:  /badc/cmip6/data/CMIP6/DCPP/*/MIROC6/dcppA-hindcast/*r*i*p*f*/6hr/rsds/g?/files/d*/\n",
      "No files available\n",
      "No files available\n",
      "Variable:  sfcWind\n"
     ]
    },
    {
     "name": "stderr",
     "output_type": "stream",
     "text": [
      "/home/users/benhutch/model-characteristics/functions.py:481: FutureWarning: The frame.append method is deprecated and will be removed from pandas in a future version. Use pandas.concat instead.\n",
      "  df = df.append(row_dict, ignore_index=True)\n"
     ]
    },
    {
     "name": "stdout",
     "output_type": "stream",
     "text": [
      "Path:  /badc/cmip6/data/CMIP6/DCPP/*/MIROC6/dcppA-hindcast/*r*i*p*f*/6hr/sfcWind/g?/files/d*/\n",
      "No files available\n",
      "No files available\n",
      "Model:  IPSL-CM6A-LR\n",
      "Variable:  psl\n"
     ]
    },
    {
     "name": "stderr",
     "output_type": "stream",
     "text": [
      "/home/users/benhutch/model-characteristics/functions.py:481: FutureWarning: The frame.append method is deprecated and will be removed from pandas in a future version. Use pandas.concat instead.\n",
      "  df = df.append(row_dict, ignore_index=True)\n"
     ]
    },
    {
     "name": "stdout",
     "output_type": "stream",
     "text": [
      "Path:  /badc/cmip6/data/CMIP6/DCPP/*/IPSL-CM6A-LR/dcppA-hindcast/*r*i*p*f*/6hr/psl/g?/files/d*/\n",
      "No files available\n",
      "No files available\n",
      "Variable:  tas\n"
     ]
    },
    {
     "name": "stderr",
     "output_type": "stream",
     "text": [
      "/home/users/benhutch/model-characteristics/functions.py:481: FutureWarning: The frame.append method is deprecated and will be removed from pandas in a future version. Use pandas.concat instead.\n",
      "  df = df.append(row_dict, ignore_index=True)\n"
     ]
    },
    {
     "name": "stdout",
     "output_type": "stream",
     "text": [
      "Path:  /badc/cmip6/data/CMIP6/DCPP/*/IPSL-CM6A-LR/dcppA-hindcast/*r*i*p*f*/6hr/tas/g?/files/d*/\n",
      "No files available\n",
      "No files available\n",
      "Variable:  tos\n"
     ]
    },
    {
     "name": "stderr",
     "output_type": "stream",
     "text": [
      "/home/users/benhutch/model-characteristics/functions.py:481: FutureWarning: The frame.append method is deprecated and will be removed from pandas in a future version. Use pandas.concat instead.\n",
      "  df = df.append(row_dict, ignore_index=True)\n"
     ]
    },
    {
     "name": "stdout",
     "output_type": "stream",
     "text": [
      "Path:  /badc/cmip6/data/CMIP6/DCPP/*/IPSL-CM6A-LR/dcppA-hindcast/*r*i*p*f*/6hr/tos/g?/files/d*/\n",
      "No files available\n",
      "No files available\n",
      "Variable:  rsds\n"
     ]
    },
    {
     "name": "stderr",
     "output_type": "stream",
     "text": [
      "/home/users/benhutch/model-characteristics/functions.py:481: FutureWarning: The frame.append method is deprecated and will be removed from pandas in a future version. Use pandas.concat instead.\n",
      "  df = df.append(row_dict, ignore_index=True)\n"
     ]
    },
    {
     "name": "stdout",
     "output_type": "stream",
     "text": [
      "Path:  /badc/cmip6/data/CMIP6/DCPP/*/IPSL-CM6A-LR/dcppA-hindcast/*r*i*p*f*/6hr/rsds/g?/files/d*/\n",
      "No files available\n",
      "No files available\n",
      "Variable:  sfcWind\n"
     ]
    },
    {
     "name": "stderr",
     "output_type": "stream",
     "text": [
      "/home/users/benhutch/model-characteristics/functions.py:481: FutureWarning: The frame.append method is deprecated and will be removed from pandas in a future version. Use pandas.concat instead.\n",
      "  df = df.append(row_dict, ignore_index=True)\n"
     ]
    },
    {
     "name": "stdout",
     "output_type": "stream",
     "text": [
      "Path:  /badc/cmip6/data/CMIP6/DCPP/*/IPSL-CM6A-LR/dcppA-hindcast/*r*i*p*f*/6hr/sfcWind/g?/files/d*/\n",
      "No files available\n",
      "No files available\n",
      "Model:  CESM1-1-CAM5-CMIP5\n",
      "Variable:  psl\n",
      "Model not available\n",
      "Path:  /badc/cmip6/data/CMIP6/DCPP/*/CESM1-1-CAM5-CMIP5/dcppA-hindcast/*r*i*p*f*/6hr/psl/g?/files/d*/\n",
      "No files available\n",
      "No files available\n",
      "Variable:  tas\n",
      "Model not available\n",
      "Path:  /badc/cmip6/data/CMIP6/DCPP/*/CESM1-1-CAM5-CMIP5/dcppA-hindcast/*r*i*p*f*/6hr/tas/g?/files/d*/\n",
      "No files available\n",
      "No files available\n",
      "Variable:  tos\n",
      "Model not available\n",
      "Path:  /badc/cmip6/data/CMIP6/DCPP/*/CESM1-1-CAM5-CMIP5/dcppA-hindcast/*r*i*p*f*/6hr/tos/g?/files/d*/\n",
      "No files available\n",
      "No files available\n",
      "Variable:  rsds\n",
      "Model not available\n",
      "Path:  /badc/cmip6/data/CMIP6/DCPP/*/CESM1-1-CAM5-CMIP5/dcppA-hindcast/*r*i*p*f*/6hr/rsds/g?/files/d*/\n",
      "No files available\n",
      "No files available\n",
      "Variable:  sfcWind\n",
      "Model not available\n",
      "Path:  /badc/cmip6/data/CMIP6/DCPP/*/CESM1-1-CAM5-CMIP5/dcppA-hindcast/*r*i*p*f*/6hr/sfcWind/g?/files/d*/\n",
      "No files available\n",
      "No files available\n",
      "Model:  NorCPM1\n",
      "Variable:  psl\n"
     ]
    },
    {
     "name": "stderr",
     "output_type": "stream",
     "text": [
      "/home/users/benhutch/model-characteristics/functions.py:481: FutureWarning: The frame.append method is deprecated and will be removed from pandas in a future version. Use pandas.concat instead.\n",
      "  df = df.append(row_dict, ignore_index=True)\n",
      "/home/users/benhutch/model-characteristics/functions.py:481: FutureWarning: The frame.append method is deprecated and will be removed from pandas in a future version. Use pandas.concat instead.\n",
      "  df = df.append(row_dict, ignore_index=True)\n",
      "/home/users/benhutch/model-characteristics/functions.py:481: FutureWarning: The frame.append method is deprecated and will be removed from pandas in a future version. Use pandas.concat instead.\n",
      "  df = df.append(row_dict, ignore_index=True)\n",
      "/home/users/benhutch/model-characteristics/functions.py:481: FutureWarning: The frame.append method is deprecated and will be removed from pandas in a future version. Use pandas.concat instead.\n",
      "  df = df.append(row_dict, ignore_index=True)\n",
      "/home/users/benhutch/model-characteristics/functions.py:481: FutureWarning: The frame.append method is deprecated and will be removed from pandas in a future version. Use pandas.concat instead.\n",
      "  df = df.append(row_dict, ignore_index=True)\n",
      "/home/users/benhutch/model-characteristics/functions.py:481: FutureWarning: The frame.append method is deprecated and will be removed from pandas in a future version. Use pandas.concat instead.\n",
      "  df = df.append(row_dict, ignore_index=True)\n"
     ]
    },
    {
     "name": "stdout",
     "output_type": "stream",
     "text": [
      "Path:  /badc/cmip6/data/CMIP6/DCPP/*/NorCPM1/dcppA-hindcast/*r*i*p*f*/6hr/psl/g?/files/d*/\n",
      "No files available\n",
      "No files available\n",
      "Variable:  tas\n"
     ]
    },
    {
     "name": "stderr",
     "output_type": "stream",
     "text": [
      "/home/users/benhutch/model-characteristics/functions.py:481: FutureWarning: The frame.append method is deprecated and will be removed from pandas in a future version. Use pandas.concat instead.\n",
      "  df = df.append(row_dict, ignore_index=True)\n"
     ]
    },
    {
     "name": "stdout",
     "output_type": "stream",
     "text": [
      "Path:  /badc/cmip6/data/CMIP6/DCPP/*/NorCPM1/dcppA-hindcast/*r*i*p*f*/6hr/tas/g?/files/d*/\n",
      "No files available\n",
      "No files available\n",
      "Variable:  tos\n"
     ]
    },
    {
     "name": "stderr",
     "output_type": "stream",
     "text": [
      "/home/users/benhutch/model-characteristics/functions.py:481: FutureWarning: The frame.append method is deprecated and will be removed from pandas in a future version. Use pandas.concat instead.\n",
      "  df = df.append(row_dict, ignore_index=True)\n"
     ]
    },
    {
     "name": "stdout",
     "output_type": "stream",
     "text": [
      "Path:  /badc/cmip6/data/CMIP6/DCPP/*/NorCPM1/dcppA-hindcast/*r*i*p*f*/6hr/tos/g?/files/d*/\n",
      "No files available\n",
      "No files available\n",
      "Variable:  rsds\n"
     ]
    },
    {
     "name": "stderr",
     "output_type": "stream",
     "text": [
      "/home/users/benhutch/model-characteristics/functions.py:481: FutureWarning: The frame.append method is deprecated and will be removed from pandas in a future version. Use pandas.concat instead.\n",
      "  df = df.append(row_dict, ignore_index=True)\n"
     ]
    },
    {
     "name": "stdout",
     "output_type": "stream",
     "text": [
      "Path:  /badc/cmip6/data/CMIP6/DCPP/*/NorCPM1/dcppA-hindcast/*r*i*p*f*/6hr/rsds/g?/files/d*/\n",
      "No files available\n",
      "No files available\n",
      "Variable:  sfcWind\n"
     ]
    },
    {
     "name": "stderr",
     "output_type": "stream",
     "text": [
      "/home/users/benhutch/model-characteristics/functions.py:481: FutureWarning: The frame.append method is deprecated and will be removed from pandas in a future version. Use pandas.concat instead.\n",
      "  df = df.append(row_dict, ignore_index=True)\n"
     ]
    },
    {
     "name": "stdout",
     "output_type": "stream",
     "text": [
      "Path:  /badc/cmip6/data/CMIP6/DCPP/*/NorCPM1/dcppA-hindcast/*r*i*p*f*/6hr/sfcWind/g?/files/d*/\n",
      "No files available\n",
      "No files available\n"
     ]
    },
    {
     "name": "stderr",
     "output_type": "stream",
     "text": [
      "/home/users/benhutch/model-characteristics/functions.py:481: FutureWarning: The frame.append method is deprecated and will be removed from pandas in a future version. Use pandas.concat instead.\n",
      "  df = df.append(row_dict, ignore_index=True)\n"
     ]
    },
    {
     "data": {
      "text/html": [
       "<div>\n",
       "<style scoped>\n",
       "    .dataframe tbody tr th:only-of-type {\n",
       "        vertical-align: middle;\n",
       "    }\n",
       "\n",
       "    .dataframe tbody tr th {\n",
       "        vertical-align: top;\n",
       "    }\n",
       "\n",
       "    .dataframe thead th {\n",
       "        text-align: right;\n",
       "    }\n",
       "</style>\n",
       "<table border=\"1\" class=\"dataframe\">\n",
       "  <thead>\n",
       "    <tr style=\"text-align: right;\">\n",
       "      <th></th>\n",
       "      <th>institution</th>\n",
       "      <th>source</th>\n",
       "      <th>experiment</th>\n",
       "      <th>runs</th>\n",
       "      <th>inits</th>\n",
       "      <th>physics</th>\n",
       "      <th>forcing</th>\n",
       "      <th>total ensemble members</th>\n",
       "      <th>no_members</th>\n",
       "      <th>members_list</th>\n",
       "      <th>variable</th>\n",
       "      <th>model</th>\n",
       "      <th>files_list</th>\n",
       "      <th>years_range</th>\n",
       "    </tr>\n",
       "  </thead>\n",
       "  <tbody>\n",
       "    <tr>\n",
       "      <th>0</th>\n",
       "      <td>BCC</td>\n",
       "      <td>BCC-CSM2-MR</td>\n",
       "      <td>historical</td>\n",
       "      <td>3</td>\n",
       "      <td>1</td>\n",
       "      <td>1</td>\n",
       "      <td>1</td>\n",
       "      <td>3</td>\n",
       "      <td>3</td>\n",
       "      <td>[r1i1p1f1, r2i1p1f1, r3i1p1f1]</td>\n",
       "      <td>psl</td>\n",
       "      <td>BCC-CSM2-MR</td>\n",
       "      <td>[psl_Amon_BCC-CSM2-MR_historical_r1i1p1f1_gn_1...</td>\n",
       "      <td>1850-2014</td>\n",
       "    </tr>\n",
       "    <tr>\n",
       "      <th>1</th>\n",
       "      <td>BCC</td>\n",
       "      <td>BCC-CSM2-MR</td>\n",
       "      <td>historical</td>\n",
       "      <td>3</td>\n",
       "      <td>1</td>\n",
       "      <td>1</td>\n",
       "      <td>1</td>\n",
       "      <td>3</td>\n",
       "      <td>3</td>\n",
       "      <td>[r1i1p1f1, r2i1p1f1, r3i1p1f1]</td>\n",
       "      <td>tas</td>\n",
       "      <td>BCC-CSM2-MR</td>\n",
       "      <td>[tas_Amon_BCC-CSM2-MR_historical_r1i1p1f1_gn_1...</td>\n",
       "      <td>1850-2014</td>\n",
       "    </tr>\n",
       "    <tr>\n",
       "      <th>2</th>\n",
       "      <td>BCC</td>\n",
       "      <td>BCC-CSM2-MR</td>\n",
       "      <td>historical</td>\n",
       "      <td>3</td>\n",
       "      <td>1</td>\n",
       "      <td>1</td>\n",
       "      <td>1</td>\n",
       "      <td>3</td>\n",
       "      <td>0</td>\n",
       "      <td>[]</td>\n",
       "      <td>tos</td>\n",
       "      <td>BCC-CSM2-MR</td>\n",
       "      <td>[]</td>\n",
       "      <td>No files</td>\n",
       "    </tr>\n",
       "    <tr>\n",
       "      <th>3</th>\n",
       "      <td>BCC</td>\n",
       "      <td>BCC-CSM2-MR</td>\n",
       "      <td>historical</td>\n",
       "      <td>3</td>\n",
       "      <td>1</td>\n",
       "      <td>1</td>\n",
       "      <td>1</td>\n",
       "      <td>3</td>\n",
       "      <td>3</td>\n",
       "      <td>[r1i1p1f1, r2i1p1f1, r3i1p1f1]</td>\n",
       "      <td>rsds</td>\n",
       "      <td>BCC-CSM2-MR</td>\n",
       "      <td>[rsds_Amon_BCC-CSM2-MR_historical_r1i1p1f1_gn_...</td>\n",
       "      <td>1850-2014</td>\n",
       "    </tr>\n",
       "    <tr>\n",
       "      <th>4</th>\n",
       "      <td>BCC</td>\n",
       "      <td>BCC-CSM2-MR</td>\n",
       "      <td>historical</td>\n",
       "      <td>3</td>\n",
       "      <td>1</td>\n",
       "      <td>1</td>\n",
       "      <td>1</td>\n",
       "      <td>3</td>\n",
       "      <td>3</td>\n",
       "      <td>[r1i1p1f1, r2i1p1f1, r3i1p1f1]</td>\n",
       "      <td>sfcWind</td>\n",
       "      <td>BCC-CSM2-MR</td>\n",
       "      <td>[sfcWind_Amon_BCC-CSM2-MR_historical_r1i1p1f1_...</td>\n",
       "      <td>1850-2014</td>\n",
       "    </tr>\n",
       "    <tr>\n",
       "      <th>...</th>\n",
       "      <td>...</td>\n",
       "      <td>...</td>\n",
       "      <td>...</td>\n",
       "      <td>...</td>\n",
       "      <td>...</td>\n",
       "      <td>...</td>\n",
       "      <td>...</td>\n",
       "      <td>...</td>\n",
       "      <td>...</td>\n",
       "      <td>...</td>\n",
       "      <td>...</td>\n",
       "      <td>...</td>\n",
       "      <td>...</td>\n",
       "      <td>...</td>\n",
       "    </tr>\n",
       "    <tr>\n",
       "      <th>355</th>\n",
       "      <td>NCC</td>\n",
       "      <td>NorCPM1</td>\n",
       "      <td>dcppA-hindcast</td>\n",
       "      <td>10</td>\n",
       "      <td>2</td>\n",
       "      <td>1</td>\n",
       "      <td>1</td>\n",
       "      <td>1180</td>\n",
       "      <td>0</td>\n",
       "      <td>[]</td>\n",
       "      <td>psl</td>\n",
       "      <td>NorCPM1</td>\n",
       "      <td>[]</td>\n",
       "      <td>None</td>\n",
       "    </tr>\n",
       "    <tr>\n",
       "      <th>356</th>\n",
       "      <td>NCC</td>\n",
       "      <td>NorCPM1</td>\n",
       "      <td>dcppA-hindcast</td>\n",
       "      <td>10</td>\n",
       "      <td>2</td>\n",
       "      <td>1</td>\n",
       "      <td>1</td>\n",
       "      <td>1180</td>\n",
       "      <td>0</td>\n",
       "      <td>[]</td>\n",
       "      <td>tas</td>\n",
       "      <td>NorCPM1</td>\n",
       "      <td>[]</td>\n",
       "      <td>None</td>\n",
       "    </tr>\n",
       "    <tr>\n",
       "      <th>357</th>\n",
       "      <td>NCC</td>\n",
       "      <td>NorCPM1</td>\n",
       "      <td>dcppA-hindcast</td>\n",
       "      <td>10</td>\n",
       "      <td>2</td>\n",
       "      <td>1</td>\n",
       "      <td>1</td>\n",
       "      <td>1180</td>\n",
       "      <td>0</td>\n",
       "      <td>[]</td>\n",
       "      <td>tos</td>\n",
       "      <td>NorCPM1</td>\n",
       "      <td>[]</td>\n",
       "      <td>None</td>\n",
       "    </tr>\n",
       "    <tr>\n",
       "      <th>358</th>\n",
       "      <td>NCC</td>\n",
       "      <td>NorCPM1</td>\n",
       "      <td>dcppA-hindcast</td>\n",
       "      <td>10</td>\n",
       "      <td>2</td>\n",
       "      <td>1</td>\n",
       "      <td>1</td>\n",
       "      <td>1180</td>\n",
       "      <td>0</td>\n",
       "      <td>[]</td>\n",
       "      <td>rsds</td>\n",
       "      <td>NorCPM1</td>\n",
       "      <td>[]</td>\n",
       "      <td>None</td>\n",
       "    </tr>\n",
       "    <tr>\n",
       "      <th>359</th>\n",
       "      <td>NCC</td>\n",
       "      <td>NorCPM1</td>\n",
       "      <td>dcppA-hindcast</td>\n",
       "      <td>10</td>\n",
       "      <td>2</td>\n",
       "      <td>1</td>\n",
       "      <td>1</td>\n",
       "      <td>1180</td>\n",
       "      <td>0</td>\n",
       "      <td>[]</td>\n",
       "      <td>sfcWind</td>\n",
       "      <td>NorCPM1</td>\n",
       "      <td>[]</td>\n",
       "      <td>None</td>\n",
       "    </tr>\n",
       "  </tbody>\n",
       "</table>\n",
       "<p>360 rows × 14 columns</p>\n",
       "</div>"
      ],
      "text/plain": [
       "    institution       source      experiment runs inits physics forcing  \\\n",
       "0           BCC  BCC-CSM2-MR      historical    3     1       1       1   \n",
       "1           BCC  BCC-CSM2-MR      historical    3     1       1       1   \n",
       "2           BCC  BCC-CSM2-MR      historical    3     1       1       1   \n",
       "3           BCC  BCC-CSM2-MR      historical    3     1       1       1   \n",
       "4           BCC  BCC-CSM2-MR      historical    3     1       1       1   \n",
       "..          ...          ...             ...  ...   ...     ...     ...   \n",
       "355         NCC      NorCPM1  dcppA-hindcast   10     2       1       1   \n",
       "356         NCC      NorCPM1  dcppA-hindcast   10     2       1       1   \n",
       "357         NCC      NorCPM1  dcppA-hindcast   10     2       1       1   \n",
       "358         NCC      NorCPM1  dcppA-hindcast   10     2       1       1   \n",
       "359         NCC      NorCPM1  dcppA-hindcast   10     2       1       1   \n",
       "\n",
       "    total ensemble members no_members                    members_list  \\\n",
       "0                        3          3  [r1i1p1f1, r2i1p1f1, r3i1p1f1]   \n",
       "1                        3          3  [r1i1p1f1, r2i1p1f1, r3i1p1f1]   \n",
       "2                        3          0                              []   \n",
       "3                        3          3  [r1i1p1f1, r2i1p1f1, r3i1p1f1]   \n",
       "4                        3          3  [r1i1p1f1, r2i1p1f1, r3i1p1f1]   \n",
       "..                     ...        ...                             ...   \n",
       "355                   1180          0                              []   \n",
       "356                   1180          0                              []   \n",
       "357                   1180          0                              []   \n",
       "358                   1180          0                              []   \n",
       "359                   1180          0                              []   \n",
       "\n",
       "    variable        model                                         files_list  \\\n",
       "0        psl  BCC-CSM2-MR  [psl_Amon_BCC-CSM2-MR_historical_r1i1p1f1_gn_1...   \n",
       "1        tas  BCC-CSM2-MR  [tas_Amon_BCC-CSM2-MR_historical_r1i1p1f1_gn_1...   \n",
       "2        tos  BCC-CSM2-MR                                                 []   \n",
       "3       rsds  BCC-CSM2-MR  [rsds_Amon_BCC-CSM2-MR_historical_r1i1p1f1_gn_...   \n",
       "4    sfcWind  BCC-CSM2-MR  [sfcWind_Amon_BCC-CSM2-MR_historical_r1i1p1f1_...   \n",
       "..       ...          ...                                                ...   \n",
       "355      psl      NorCPM1                                                 []   \n",
       "356      tas      NorCPM1                                                 []   \n",
       "357      tos      NorCPM1                                                 []   \n",
       "358     rsds      NorCPM1                                                 []   \n",
       "359  sfcWind      NorCPM1                                                 []   \n",
       "\n",
       "    years_range  \n",
       "0     1850-2014  \n",
       "1     1850-2014  \n",
       "2      No files  \n",
       "3     1850-2014  \n",
       "4     1850-2014  \n",
       "..          ...  \n",
       "355        None  \n",
       "356        None  \n",
       "357        None  \n",
       "358        None  \n",
       "359        None  \n",
       "\n",
       "[360 rows x 14 columns]"
      ]
     },
     "execution_count": 15,
     "metadata": {},
     "output_type": "execute_result"
    }
   ],
   "source": [
    "# test the updated fill dataframe function\n",
    "df = fnc.fill_dataframe(dic.models, dic.variables, dic.columns, dic.experiments, dic.table_ids)\n",
    "df"
   ]
  },
  {
   "cell_type": "code",
   "execution_count": 16,
   "metadata": {},
   "outputs": [
    {
     "data": {
      "text/html": [
       "<div>\n",
       "<style scoped>\n",
       "    .dataframe tbody tr th:only-of-type {\n",
       "        vertical-align: middle;\n",
       "    }\n",
       "\n",
       "    .dataframe tbody tr th {\n",
       "        vertical-align: top;\n",
       "    }\n",
       "\n",
       "    .dataframe thead th {\n",
       "        text-align: right;\n",
       "    }\n",
       "</style>\n",
       "<table border=\"1\" class=\"dataframe\">\n",
       "  <thead>\n",
       "    <tr style=\"text-align: right;\">\n",
       "      <th></th>\n",
       "      <th>institution</th>\n",
       "      <th>source</th>\n",
       "      <th>experiment</th>\n",
       "      <th>runs</th>\n",
       "      <th>inits</th>\n",
       "      <th>physics</th>\n",
       "      <th>forcing</th>\n",
       "      <th>total ensemble members</th>\n",
       "      <th>no_members</th>\n",
       "      <th>members_list</th>\n",
       "      <th>variable</th>\n",
       "      <th>model</th>\n",
       "      <th>files_list</th>\n",
       "      <th>years_range</th>\n",
       "    </tr>\n",
       "  </thead>\n",
       "  <tbody>\n",
       "    <tr>\n",
       "      <th>0</th>\n",
       "      <td>BCC</td>\n",
       "      <td>BCC-CSM2-MR</td>\n",
       "      <td>historical</td>\n",
       "      <td>3</td>\n",
       "      <td>1</td>\n",
       "      <td>1</td>\n",
       "      <td>1</td>\n",
       "      <td>3</td>\n",
       "      <td>3</td>\n",
       "      <td>[r1i1p1f1, r2i1p1f1, r3i1p1f1]</td>\n",
       "      <td>psl</td>\n",
       "      <td>BCC-CSM2-MR</td>\n",
       "      <td>[psl_Amon_BCC-CSM2-MR_historical_r1i1p1f1_gn_1...</td>\n",
       "      <td>1850-2014</td>\n",
       "    </tr>\n",
       "    <tr>\n",
       "      <th>1</th>\n",
       "      <td>BCC</td>\n",
       "      <td>BCC-CSM2-MR</td>\n",
       "      <td>historical</td>\n",
       "      <td>3</td>\n",
       "      <td>1</td>\n",
       "      <td>1</td>\n",
       "      <td>1</td>\n",
       "      <td>3</td>\n",
       "      <td>3</td>\n",
       "      <td>[r1i1p1f1, r2i1p1f1, r3i1p1f1]</td>\n",
       "      <td>tas</td>\n",
       "      <td>BCC-CSM2-MR</td>\n",
       "      <td>[tas_Amon_BCC-CSM2-MR_historical_r1i1p1f1_gn_1...</td>\n",
       "      <td>1850-2014</td>\n",
       "    </tr>\n",
       "    <tr>\n",
       "      <th>2</th>\n",
       "      <td>BCC</td>\n",
       "      <td>BCC-CSM2-MR</td>\n",
       "      <td>historical</td>\n",
       "      <td>3</td>\n",
       "      <td>1</td>\n",
       "      <td>1</td>\n",
       "      <td>1</td>\n",
       "      <td>3</td>\n",
       "      <td>0</td>\n",
       "      <td>[]</td>\n",
       "      <td>tos</td>\n",
       "      <td>BCC-CSM2-MR</td>\n",
       "      <td>[]</td>\n",
       "      <td>No files</td>\n",
       "    </tr>\n",
       "    <tr>\n",
       "      <th>3</th>\n",
       "      <td>BCC</td>\n",
       "      <td>BCC-CSM2-MR</td>\n",
       "      <td>historical</td>\n",
       "      <td>3</td>\n",
       "      <td>1</td>\n",
       "      <td>1</td>\n",
       "      <td>1</td>\n",
       "      <td>3</td>\n",
       "      <td>3</td>\n",
       "      <td>[r1i1p1f1, r2i1p1f1, r3i1p1f1]</td>\n",
       "      <td>rsds</td>\n",
       "      <td>BCC-CSM2-MR</td>\n",
       "      <td>[rsds_Amon_BCC-CSM2-MR_historical_r1i1p1f1_gn_...</td>\n",
       "      <td>1850-2014</td>\n",
       "    </tr>\n",
       "    <tr>\n",
       "      <th>4</th>\n",
       "      <td>BCC</td>\n",
       "      <td>BCC-CSM2-MR</td>\n",
       "      <td>historical</td>\n",
       "      <td>3</td>\n",
       "      <td>1</td>\n",
       "      <td>1</td>\n",
       "      <td>1</td>\n",
       "      <td>3</td>\n",
       "      <td>3</td>\n",
       "      <td>[r1i1p1f1, r2i1p1f1, r3i1p1f1]</td>\n",
       "      <td>sfcWind</td>\n",
       "      <td>BCC-CSM2-MR</td>\n",
       "      <td>[sfcWind_Amon_BCC-CSM2-MR_historical_r1i1p1f1_...</td>\n",
       "      <td>1850-2014</td>\n",
       "    </tr>\n",
       "    <tr>\n",
       "      <th>...</th>\n",
       "      <td>...</td>\n",
       "      <td>...</td>\n",
       "      <td>...</td>\n",
       "      <td>...</td>\n",
       "      <td>...</td>\n",
       "      <td>...</td>\n",
       "      <td>...</td>\n",
       "      <td>...</td>\n",
       "      <td>...</td>\n",
       "      <td>...</td>\n",
       "      <td>...</td>\n",
       "      <td>...</td>\n",
       "      <td>...</td>\n",
       "      <td>...</td>\n",
       "    </tr>\n",
       "    <tr>\n",
       "      <th>355</th>\n",
       "      <td>NCC</td>\n",
       "      <td>NorCPM1</td>\n",
       "      <td>dcppA-hindcast</td>\n",
       "      <td>10</td>\n",
       "      <td>2</td>\n",
       "      <td>1</td>\n",
       "      <td>1</td>\n",
       "      <td>1180</td>\n",
       "      <td>0</td>\n",
       "      <td>[]</td>\n",
       "      <td>psl</td>\n",
       "      <td>NorCPM1</td>\n",
       "      <td>[]</td>\n",
       "      <td>None</td>\n",
       "    </tr>\n",
       "    <tr>\n",
       "      <th>356</th>\n",
       "      <td>NCC</td>\n",
       "      <td>NorCPM1</td>\n",
       "      <td>dcppA-hindcast</td>\n",
       "      <td>10</td>\n",
       "      <td>2</td>\n",
       "      <td>1</td>\n",
       "      <td>1</td>\n",
       "      <td>1180</td>\n",
       "      <td>0</td>\n",
       "      <td>[]</td>\n",
       "      <td>tas</td>\n",
       "      <td>NorCPM1</td>\n",
       "      <td>[]</td>\n",
       "      <td>None</td>\n",
       "    </tr>\n",
       "    <tr>\n",
       "      <th>357</th>\n",
       "      <td>NCC</td>\n",
       "      <td>NorCPM1</td>\n",
       "      <td>dcppA-hindcast</td>\n",
       "      <td>10</td>\n",
       "      <td>2</td>\n",
       "      <td>1</td>\n",
       "      <td>1</td>\n",
       "      <td>1180</td>\n",
       "      <td>0</td>\n",
       "      <td>[]</td>\n",
       "      <td>tos</td>\n",
       "      <td>NorCPM1</td>\n",
       "      <td>[]</td>\n",
       "      <td>None</td>\n",
       "    </tr>\n",
       "    <tr>\n",
       "      <th>358</th>\n",
       "      <td>NCC</td>\n",
       "      <td>NorCPM1</td>\n",
       "      <td>dcppA-hindcast</td>\n",
       "      <td>10</td>\n",
       "      <td>2</td>\n",
       "      <td>1</td>\n",
       "      <td>1</td>\n",
       "      <td>1180</td>\n",
       "      <td>0</td>\n",
       "      <td>[]</td>\n",
       "      <td>rsds</td>\n",
       "      <td>NorCPM1</td>\n",
       "      <td>[]</td>\n",
       "      <td>None</td>\n",
       "    </tr>\n",
       "    <tr>\n",
       "      <th>359</th>\n",
       "      <td>NCC</td>\n",
       "      <td>NorCPM1</td>\n",
       "      <td>dcppA-hindcast</td>\n",
       "      <td>10</td>\n",
       "      <td>2</td>\n",
       "      <td>1</td>\n",
       "      <td>1</td>\n",
       "      <td>1180</td>\n",
       "      <td>0</td>\n",
       "      <td>[]</td>\n",
       "      <td>sfcWind</td>\n",
       "      <td>NorCPM1</td>\n",
       "      <td>[]</td>\n",
       "      <td>None</td>\n",
       "    </tr>\n",
       "  </tbody>\n",
       "</table>\n",
       "<p>360 rows × 14 columns</p>\n",
       "</div>"
      ],
      "text/plain": [
       "    institution       source      experiment runs inits physics forcing  \\\n",
       "0           BCC  BCC-CSM2-MR      historical    3     1       1       1   \n",
       "1           BCC  BCC-CSM2-MR      historical    3     1       1       1   \n",
       "2           BCC  BCC-CSM2-MR      historical    3     1       1       1   \n",
       "3           BCC  BCC-CSM2-MR      historical    3     1       1       1   \n",
       "4           BCC  BCC-CSM2-MR      historical    3     1       1       1   \n",
       "..          ...          ...             ...  ...   ...     ...     ...   \n",
       "355         NCC      NorCPM1  dcppA-hindcast   10     2       1       1   \n",
       "356         NCC      NorCPM1  dcppA-hindcast   10     2       1       1   \n",
       "357         NCC      NorCPM1  dcppA-hindcast   10     2       1       1   \n",
       "358         NCC      NorCPM1  dcppA-hindcast   10     2       1       1   \n",
       "359         NCC      NorCPM1  dcppA-hindcast   10     2       1       1   \n",
       "\n",
       "    total ensemble members no_members                    members_list  \\\n",
       "0                        3          3  [r1i1p1f1, r2i1p1f1, r3i1p1f1]   \n",
       "1                        3          3  [r1i1p1f1, r2i1p1f1, r3i1p1f1]   \n",
       "2                        3          0                              []   \n",
       "3                        3          3  [r1i1p1f1, r2i1p1f1, r3i1p1f1]   \n",
       "4                        3          3  [r1i1p1f1, r2i1p1f1, r3i1p1f1]   \n",
       "..                     ...        ...                             ...   \n",
       "355                   1180          0                              []   \n",
       "356                   1180          0                              []   \n",
       "357                   1180          0                              []   \n",
       "358                   1180          0                              []   \n",
       "359                   1180          0                              []   \n",
       "\n",
       "    variable        model                                         files_list  \\\n",
       "0        psl  BCC-CSM2-MR  [psl_Amon_BCC-CSM2-MR_historical_r1i1p1f1_gn_1...   \n",
       "1        tas  BCC-CSM2-MR  [tas_Amon_BCC-CSM2-MR_historical_r1i1p1f1_gn_1...   \n",
       "2        tos  BCC-CSM2-MR                                                 []   \n",
       "3       rsds  BCC-CSM2-MR  [rsds_Amon_BCC-CSM2-MR_historical_r1i1p1f1_gn_...   \n",
       "4    sfcWind  BCC-CSM2-MR  [sfcWind_Amon_BCC-CSM2-MR_historical_r1i1p1f1_...   \n",
       "..       ...          ...                                                ...   \n",
       "355      psl      NorCPM1                                                 []   \n",
       "356      tas      NorCPM1                                                 []   \n",
       "357      tos      NorCPM1                                                 []   \n",
       "358     rsds      NorCPM1                                                 []   \n",
       "359  sfcWind      NorCPM1                                                 []   \n",
       "\n",
       "    years_range  \n",
       "0     1850-2014  \n",
       "1     1850-2014  \n",
       "2      No files  \n",
       "3     1850-2014  \n",
       "4     1850-2014  \n",
       "..          ...  \n",
       "355        None  \n",
       "356        None  \n",
       "357        None  \n",
       "358        None  \n",
       "359        None  \n",
       "\n",
       "[360 rows x 14 columns]"
      ]
     },
     "execution_count": 16,
     "metadata": {},
     "output_type": "execute_result"
    }
   ],
   "source": [
    "df"
   ]
  },
  {
   "cell_type": "code",
   "execution_count": 17,
   "metadata": {},
   "outputs": [
    {
     "data": {
      "text/html": [
       "<div>\n",
       "<style scoped>\n",
       "    .dataframe tbody tr th:only-of-type {\n",
       "        vertical-align: middle;\n",
       "    }\n",
       "\n",
       "    .dataframe tbody tr th {\n",
       "        vertical-align: top;\n",
       "    }\n",
       "\n",
       "    .dataframe thead th {\n",
       "        text-align: right;\n",
       "    }\n",
       "</style>\n",
       "<table border=\"1\" class=\"dataframe\">\n",
       "  <thead>\n",
       "    <tr style=\"text-align: right;\">\n",
       "      <th></th>\n",
       "      <th>institution</th>\n",
       "      <th>source</th>\n",
       "      <th>experiment</th>\n",
       "      <th>runs</th>\n",
       "      <th>inits</th>\n",
       "      <th>physics</th>\n",
       "      <th>forcing</th>\n",
       "      <th>total ensemble members</th>\n",
       "      <th>no_members</th>\n",
       "      <th>members_list</th>\n",
       "      <th>variable</th>\n",
       "      <th>model</th>\n",
       "      <th>files_list</th>\n",
       "      <th>years_range</th>\n",
       "    </tr>\n",
       "  </thead>\n",
       "  <tbody>\n",
       "    <tr>\n",
       "      <th>0</th>\n",
       "      <td>BCC</td>\n",
       "      <td>BCC-CSM2-MR</td>\n",
       "      <td>historical</td>\n",
       "      <td>3</td>\n",
       "      <td>1</td>\n",
       "      <td>1</td>\n",
       "      <td>1</td>\n",
       "      <td>3</td>\n",
       "      <td>3</td>\n",
       "      <td>[r1i1p1f1, r2i1p1f1, r3i1p1f1]</td>\n",
       "      <td>psl</td>\n",
       "      <td>BCC-CSM2-MR</td>\n",
       "      <td>[psl_Amon_BCC-CSM2-MR_historical_r1i1p1f1_gn_1...</td>\n",
       "      <td>1850-2014</td>\n",
       "    </tr>\n",
       "    <tr>\n",
       "      <th>5</th>\n",
       "      <td>MPI-M</td>\n",
       "      <td>MPI-ESM1-2-HR</td>\n",
       "      <td>historical</td>\n",
       "      <td>10</td>\n",
       "      <td>1</td>\n",
       "      <td>1</td>\n",
       "      <td>1</td>\n",
       "      <td>10</td>\n",
       "      <td>1</td>\n",
       "      <td>[r1i1p1f1]</td>\n",
       "      <td>psl</td>\n",
       "      <td>MPI-ESM1-2-HR</td>\n",
       "      <td>[psl_Amon_MPI-ESM1-2-HR_historical_r1i1p1f1_gn...</td>\n",
       "      <td>1850-1854</td>\n",
       "    </tr>\n",
       "    <tr>\n",
       "      <th>10</th>\n",
       "      <td>CCCma</td>\n",
       "      <td>CanESM5</td>\n",
       "      <td>historical</td>\n",
       "      <td>40</td>\n",
       "      <td>1</td>\n",
       "      <td>2</td>\n",
       "      <td>1</td>\n",
       "      <td>65</td>\n",
       "      <td>35</td>\n",
       "      <td>[r10i1p1f1, r10i1p2f1, r11i1p1f1, r12i1p1f1, r...</td>\n",
       "      <td>psl</td>\n",
       "      <td>CanESM5</td>\n",
       "      <td>[psl_Amon_CanESM5_historical_r10i1p1f1_gn_1850...</td>\n",
       "      <td>1850-2014</td>\n",
       "    </tr>\n",
       "    <tr>\n",
       "      <th>15</th>\n",
       "      <td>CMCC</td>\n",
       "      <td>CMCC-CM2-SR5</td>\n",
       "      <td>historical</td>\n",
       "      <td>1</td>\n",
       "      <td>1</td>\n",
       "      <td>1</td>\n",
       "      <td>1</td>\n",
       "      <td>1</td>\n",
       "      <td>1</td>\n",
       "      <td>[r1i1p1f1]</td>\n",
       "      <td>psl</td>\n",
       "      <td>CMCC-CM2-SR5</td>\n",
       "      <td>[psl_Amon_CMCC-CM2-SR5_historical_r1i1p1f1_gn_...</td>\n",
       "      <td>1850-2014</td>\n",
       "    </tr>\n",
       "    <tr>\n",
       "      <th>20</th>\n",
       "      <td>MOHC</td>\n",
       "      <td>HadGEM3-GC31-MM</td>\n",
       "      <td>historical</td>\n",
       "      <td>4</td>\n",
       "      <td>1</td>\n",
       "      <td>1</td>\n",
       "      <td>1</td>\n",
       "      <td>4</td>\n",
       "      <td>4</td>\n",
       "      <td>[r1i1p1f3, r2i1p1f3, r3i1p1f3, r4i1p1f3]</td>\n",
       "      <td>psl</td>\n",
       "      <td>HadGEM3-GC31-MM</td>\n",
       "      <td>[psl_Amon_HadGEM3-GC31-MM_historical_r1i1p1f3_...</td>\n",
       "      <td>1850-1869</td>\n",
       "    </tr>\n",
       "    <tr>\n",
       "      <th>...</th>\n",
       "      <td>...</td>\n",
       "      <td>...</td>\n",
       "      <td>...</td>\n",
       "      <td>...</td>\n",
       "      <td>...</td>\n",
       "      <td>...</td>\n",
       "      <td>...</td>\n",
       "      <td>...</td>\n",
       "      <td>...</td>\n",
       "      <td>...</td>\n",
       "      <td>...</td>\n",
       "      <td>...</td>\n",
       "      <td>...</td>\n",
       "      <td>...</td>\n",
       "    </tr>\n",
       "    <tr>\n",
       "      <th>335</th>\n",
       "      <td>None</td>\n",
       "      <td>FGOALS-f3-L</td>\n",
       "      <td>dcppA-hindcast</td>\n",
       "      <td>0</td>\n",
       "      <td>0</td>\n",
       "      <td>0</td>\n",
       "      <td>0</td>\n",
       "      <td>0</td>\n",
       "      <td>0</td>\n",
       "      <td>[]</td>\n",
       "      <td>psl</td>\n",
       "      <td>FGOALS-f3-L</td>\n",
       "      <td>[]</td>\n",
       "      <td>None</td>\n",
       "    </tr>\n",
       "    <tr>\n",
       "      <th>340</th>\n",
       "      <td>MIROC</td>\n",
       "      <td>MIROC6</td>\n",
       "      <td>dcppA-hindcast</td>\n",
       "      <td>10</td>\n",
       "      <td>1</td>\n",
       "      <td>1</td>\n",
       "      <td>1</td>\n",
       "      <td>620</td>\n",
       "      <td>0</td>\n",
       "      <td>[]</td>\n",
       "      <td>psl</td>\n",
       "      <td>MIROC6</td>\n",
       "      <td>[]</td>\n",
       "      <td>None</td>\n",
       "    </tr>\n",
       "    <tr>\n",
       "      <th>345</th>\n",
       "      <td>IPSL</td>\n",
       "      <td>IPSL-CM6A-LR</td>\n",
       "      <td>dcppA-hindcast</td>\n",
       "      <td>10</td>\n",
       "      <td>1</td>\n",
       "      <td>1</td>\n",
       "      <td>1</td>\n",
       "      <td>570</td>\n",
       "      <td>0</td>\n",
       "      <td>[]</td>\n",
       "      <td>psl</td>\n",
       "      <td>IPSL-CM6A-LR</td>\n",
       "      <td>[]</td>\n",
       "      <td>None</td>\n",
       "    </tr>\n",
       "    <tr>\n",
       "      <th>350</th>\n",
       "      <td>None</td>\n",
       "      <td>CESM1-1-CAM5-CMIP5</td>\n",
       "      <td>dcppA-hindcast</td>\n",
       "      <td>0</td>\n",
       "      <td>0</td>\n",
       "      <td>0</td>\n",
       "      <td>0</td>\n",
       "      <td>0</td>\n",
       "      <td>0</td>\n",
       "      <td>[]</td>\n",
       "      <td>psl</td>\n",
       "      <td>CESM1-1-CAM5-CMIP5</td>\n",
       "      <td>[]</td>\n",
       "      <td>None</td>\n",
       "    </tr>\n",
       "    <tr>\n",
       "      <th>355</th>\n",
       "      <td>NCC</td>\n",
       "      <td>NorCPM1</td>\n",
       "      <td>dcppA-hindcast</td>\n",
       "      <td>10</td>\n",
       "      <td>2</td>\n",
       "      <td>1</td>\n",
       "      <td>1</td>\n",
       "      <td>1180</td>\n",
       "      <td>0</td>\n",
       "      <td>[]</td>\n",
       "      <td>psl</td>\n",
       "      <td>NorCPM1</td>\n",
       "      <td>[]</td>\n",
       "      <td>None</td>\n",
       "    </tr>\n",
       "  </tbody>\n",
       "</table>\n",
       "<p>72 rows × 14 columns</p>\n",
       "</div>"
      ],
      "text/plain": [
       "    institution              source      experiment runs inits physics  \\\n",
       "0           BCC         BCC-CSM2-MR      historical    3     1       1   \n",
       "5         MPI-M       MPI-ESM1-2-HR      historical   10     1       1   \n",
       "10        CCCma             CanESM5      historical   40     1       2   \n",
       "15         CMCC        CMCC-CM2-SR5      historical    1     1       1   \n",
       "20         MOHC     HadGEM3-GC31-MM      historical    4     1       1   \n",
       "..          ...                 ...             ...  ...   ...     ...   \n",
       "335        None         FGOALS-f3-L  dcppA-hindcast    0     0       0   \n",
       "340       MIROC              MIROC6  dcppA-hindcast   10     1       1   \n",
       "345        IPSL        IPSL-CM6A-LR  dcppA-hindcast   10     1       1   \n",
       "350        None  CESM1-1-CAM5-CMIP5  dcppA-hindcast    0     0       0   \n",
       "355         NCC             NorCPM1  dcppA-hindcast   10     2       1   \n",
       "\n",
       "    forcing total ensemble members no_members  \\\n",
       "0         1                      3          3   \n",
       "5         1                     10          1   \n",
       "10        1                     65         35   \n",
       "15        1                      1          1   \n",
       "20        1                      4          4   \n",
       "..      ...                    ...        ...   \n",
       "335       0                      0          0   \n",
       "340       1                    620          0   \n",
       "345       1                    570          0   \n",
       "350       0                      0          0   \n",
       "355       1                   1180          0   \n",
       "\n",
       "                                          members_list variable  \\\n",
       "0                       [r1i1p1f1, r2i1p1f1, r3i1p1f1]      psl   \n",
       "5                                           [r1i1p1f1]      psl   \n",
       "10   [r10i1p1f1, r10i1p2f1, r11i1p1f1, r12i1p1f1, r...      psl   \n",
       "15                                          [r1i1p1f1]      psl   \n",
       "20            [r1i1p1f3, r2i1p1f3, r3i1p1f3, r4i1p1f3]      psl   \n",
       "..                                                 ...      ...   \n",
       "335                                                 []      psl   \n",
       "340                                                 []      psl   \n",
       "345                                                 []      psl   \n",
       "350                                                 []      psl   \n",
       "355                                                 []      psl   \n",
       "\n",
       "                  model                                         files_list  \\\n",
       "0           BCC-CSM2-MR  [psl_Amon_BCC-CSM2-MR_historical_r1i1p1f1_gn_1...   \n",
       "5         MPI-ESM1-2-HR  [psl_Amon_MPI-ESM1-2-HR_historical_r1i1p1f1_gn...   \n",
       "10              CanESM5  [psl_Amon_CanESM5_historical_r10i1p1f1_gn_1850...   \n",
       "15         CMCC-CM2-SR5  [psl_Amon_CMCC-CM2-SR5_historical_r1i1p1f1_gn_...   \n",
       "20      HadGEM3-GC31-MM  [psl_Amon_HadGEM3-GC31-MM_historical_r1i1p1f3_...   \n",
       "..                  ...                                                ...   \n",
       "335         FGOALS-f3-L                                                 []   \n",
       "340              MIROC6                                                 []   \n",
       "345        IPSL-CM6A-LR                                                 []   \n",
       "350  CESM1-1-CAM5-CMIP5                                                 []   \n",
       "355             NorCPM1                                                 []   \n",
       "\n",
       "    years_range  \n",
       "0     1850-2014  \n",
       "5     1850-1854  \n",
       "10    1850-2014  \n",
       "15    1850-2014  \n",
       "20    1850-1869  \n",
       "..          ...  \n",
       "335        None  \n",
       "340        None  \n",
       "345        None  \n",
       "350        None  \n",
       "355        None  \n",
       "\n",
       "[72 rows x 14 columns]"
      ]
     },
     "execution_count": 17,
     "metadata": {},
     "output_type": "execute_result"
    }
   ],
   "source": [
    "# get df psl\n",
    "df_psl = df.loc[df['variable'] == 'psl']\n",
    "df_psl"
   ]
  }
 ],
 "metadata": {
  "kernelspec": {
   "display_name": "bens-python-environment",
   "language": "python",
   "name": "bens-python-environment"
  },
  "language_info": {
   "codemirror_mode": {
    "name": "ipython",
    "version": 3
   },
   "file_extension": ".py",
   "mimetype": "text/x-python",
   "name": "python",
   "nbconvert_exporter": "python",
   "pygments_lexer": "ipython3",
   "version": "3.10.5"
  }
 },
 "nbformat": 4,
 "nbformat_minor": 4
}
