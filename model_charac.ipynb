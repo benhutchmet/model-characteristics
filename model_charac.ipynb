{
 "cells": [
  {
   "cell_type": "code",
   "execution_count": 1,
   "metadata": {},
   "outputs": [],
   "source": [
    "# Import local modules\n",
    "import sys\n",
    "import os\n",
    "import glob\n",
    "\n",
    "# Import third-party modules\n",
    "import numpy as np\n",
    "import pandas as pd\n",
    "import matplotlib.pyplot as plt\n",
    "import seaborn as sns\n",
    "import scipy.stats as stats\n",
    "import xarray as xr"
   ]
  },
  {
   "cell_type": "code",
   "execution_count": 2,
   "metadata": {},
   "outputs": [],
   "source": [
    "# sys append path for dictionaries and functions\n",
    "sys.path.append(\"/home/users/benhutch/model-characteristics\")\n",
    "\n",
    "# Import dictionaries and functions\n",
    "import dictionaries as dic\n",
    "import functions as fnc"
   ]
  },
  {
   "cell_type": "code",
   "execution_count": 3,
   "metadata": {},
   "outputs": [
    {
     "name": "stdout",
     "output_type": "stream",
     "text": [
      "Institution:  NCC\n"
     ]
    }
   ],
   "source": [
    "# Test the get institution function\n",
    "institution = fnc.get_institution(dic.models[11], dic.base_JASMIN_dir, dic.test_variable)"
   ]
  },
  {
   "cell_type": "code",
   "execution_count": 4,
   "metadata": {},
   "outputs": [
    {
     "name": "stdout",
     "output_type": "stream",
     "text": [
      "Experiment:  historical\n"
     ]
    }
   ],
   "source": [
    "# Check whether the experiment exists for a given model\n",
    "# in this case, the experiment is 'historical'\n",
    "experiment = fnc.check_experiment(dic.models[11], dic.base_JASMIN_dir, experiment=\"historical\")"
   ]
  },
  {
   "cell_type": "code",
   "execution_count": 5,
   "metadata": {},
   "outputs": [
    {
     "name": "stdout",
     "output_type": "stream",
     "text": [
      "Directory:  ['/badc/cmip6/data/CMIP6/CMIP/NCC/NorCPM1/historical/r10i1p1f1', '/badc/cmip6/data/CMIP6/CMIP/NCC/NorCPM1/historical/r11i1p1f1', '/badc/cmip6/data/CMIP6/CMIP/NCC/NorCPM1/historical/r12i1p1f1', '/badc/cmip6/data/CMIP6/CMIP/NCC/NorCPM1/historical/r13i1p1f1', '/badc/cmip6/data/CMIP6/CMIP/NCC/NorCPM1/historical/r14i1p1f1', '/badc/cmip6/data/CMIP6/CMIP/NCC/NorCPM1/historical/r15i1p1f1', '/badc/cmip6/data/CMIP6/CMIP/NCC/NorCPM1/historical/r16i1p1f1', '/badc/cmip6/data/CMIP6/CMIP/NCC/NorCPM1/historical/r17i1p1f1', '/badc/cmip6/data/CMIP6/CMIP/NCC/NorCPM1/historical/r18i1p1f1', '/badc/cmip6/data/CMIP6/CMIP/NCC/NorCPM1/historical/r19i1p1f1', '/badc/cmip6/data/CMIP6/CMIP/NCC/NorCPM1/historical/r1i1p1f1', '/badc/cmip6/data/CMIP6/CMIP/NCC/NorCPM1/historical/r20i1p1f1', '/badc/cmip6/data/CMIP6/CMIP/NCC/NorCPM1/historical/r21i1p1f1', '/badc/cmip6/data/CMIP6/CMIP/NCC/NorCPM1/historical/r22i1p1f1', '/badc/cmip6/data/CMIP6/CMIP/NCC/NorCPM1/historical/r23i1p1f1', '/badc/cmip6/data/CMIP6/CMIP/NCC/NorCPM1/historical/r24i1p1f1', '/badc/cmip6/data/CMIP6/CMIP/NCC/NorCPM1/historical/r25i1p1f1', '/badc/cmip6/data/CMIP6/CMIP/NCC/NorCPM1/historical/r26i1p1f1', '/badc/cmip6/data/CMIP6/CMIP/NCC/NorCPM1/historical/r27i1p1f1', '/badc/cmip6/data/CMIP6/CMIP/NCC/NorCPM1/historical/r28i1p1f1', '/badc/cmip6/data/CMIP6/CMIP/NCC/NorCPM1/historical/r29i1p1f1', '/badc/cmip6/data/CMIP6/CMIP/NCC/NorCPM1/historical/r2i1p1f1', '/badc/cmip6/data/CMIP6/CMIP/NCC/NorCPM1/historical/r30i1p1f1', '/badc/cmip6/data/CMIP6/CMIP/NCC/NorCPM1/historical/r3i1p1f1', '/badc/cmip6/data/CMIP6/CMIP/NCC/NorCPM1/historical/r4i1p1f1', '/badc/cmip6/data/CMIP6/CMIP/NCC/NorCPM1/historical/r5i1p1f1', '/badc/cmip6/data/CMIP6/CMIP/NCC/NorCPM1/historical/r6i1p1f1', '/badc/cmip6/data/CMIP6/CMIP/NCC/NorCPM1/historical/r7i1p1f1', '/badc/cmip6/data/CMIP6/CMIP/NCC/NorCPM1/historical/r8i1p1f1', '/badc/cmip6/data/CMIP6/CMIP/NCC/NorCPM1/historical/r9i1p1f1']\n",
      "Final directories:  ['r10i1p1f1', 'r11i1p1f1', 'r12i1p1f1', 'r13i1p1f1', 'r14i1p1f1', 'r15i1p1f1', 'r16i1p1f1', 'r17i1p1f1', 'r18i1p1f1', 'r19i1p1f1', 'r1i1p1f1', 'r20i1p1f1', 'r21i1p1f1', 'r22i1p1f1', 'r23i1p1f1', 'r24i1p1f1', 'r25i1p1f1', 'r26i1p1f1', 'r27i1p1f1', 'r28i1p1f1', 'r29i1p1f1', 'r2i1p1f1', 'r30i1p1f1', 'r3i1p1f1', 'r4i1p1f1', 'r5i1p1f1', 'r6i1p1f1', 'r7i1p1f1', 'r8i1p1f1', 'r9i1p1f1']\n",
      "Number of runs:  30\n"
     ]
    }
   ],
   "source": [
    "# Test the runs function\n",
    "runs = fnc.get_runs(dic.models[11], dic.base_JASMIN_dir, experiment=\"historical\")"
   ]
  },
  {
   "cell_type": "code",
   "execution_count": 6,
   "metadata": {},
   "outputs": [
    {
     "name": "stdout",
     "output_type": "stream",
     "text": [
      "Directories:  ['/badc/cmip6/data/CMIP6/CMIP/NCC/NorCPM1/historical/r10i1p1f1', '/badc/cmip6/data/CMIP6/CMIP/NCC/NorCPM1/historical/r11i1p1f1', '/badc/cmip6/data/CMIP6/CMIP/NCC/NorCPM1/historical/r12i1p1f1', '/badc/cmip6/data/CMIP6/CMIP/NCC/NorCPM1/historical/r13i1p1f1', '/badc/cmip6/data/CMIP6/CMIP/NCC/NorCPM1/historical/r14i1p1f1', '/badc/cmip6/data/CMIP6/CMIP/NCC/NorCPM1/historical/r15i1p1f1', '/badc/cmip6/data/CMIP6/CMIP/NCC/NorCPM1/historical/r16i1p1f1', '/badc/cmip6/data/CMIP6/CMIP/NCC/NorCPM1/historical/r17i1p1f1', '/badc/cmip6/data/CMIP6/CMIP/NCC/NorCPM1/historical/r18i1p1f1', '/badc/cmip6/data/CMIP6/CMIP/NCC/NorCPM1/historical/r19i1p1f1', '/badc/cmip6/data/CMIP6/CMIP/NCC/NorCPM1/historical/r1i1p1f1', '/badc/cmip6/data/CMIP6/CMIP/NCC/NorCPM1/historical/r20i1p1f1', '/badc/cmip6/data/CMIP6/CMIP/NCC/NorCPM1/historical/r21i1p1f1', '/badc/cmip6/data/CMIP6/CMIP/NCC/NorCPM1/historical/r22i1p1f1', '/badc/cmip6/data/CMIP6/CMIP/NCC/NorCPM1/historical/r23i1p1f1', '/badc/cmip6/data/CMIP6/CMIP/NCC/NorCPM1/historical/r24i1p1f1', '/badc/cmip6/data/CMIP6/CMIP/NCC/NorCPM1/historical/r25i1p1f1', '/badc/cmip6/data/CMIP6/CMIP/NCC/NorCPM1/historical/r26i1p1f1', '/badc/cmip6/data/CMIP6/CMIP/NCC/NorCPM1/historical/r27i1p1f1', '/badc/cmip6/data/CMIP6/CMIP/NCC/NorCPM1/historical/r28i1p1f1', '/badc/cmip6/data/CMIP6/CMIP/NCC/NorCPM1/historical/r29i1p1f1', '/badc/cmip6/data/CMIP6/CMIP/NCC/NorCPM1/historical/r2i1p1f1', '/badc/cmip6/data/CMIP6/CMIP/NCC/NorCPM1/historical/r30i1p1f1', '/badc/cmip6/data/CMIP6/CMIP/NCC/NorCPM1/historical/r3i1p1f1', '/badc/cmip6/data/CMIP6/CMIP/NCC/NorCPM1/historical/r4i1p1f1', '/badc/cmip6/data/CMIP6/CMIP/NCC/NorCPM1/historical/r5i1p1f1', '/badc/cmip6/data/CMIP6/CMIP/NCC/NorCPM1/historical/r6i1p1f1', '/badc/cmip6/data/CMIP6/CMIP/NCC/NorCPM1/historical/r7i1p1f1', '/badc/cmip6/data/CMIP6/CMIP/NCC/NorCPM1/historical/r8i1p1f1', '/badc/cmip6/data/CMIP6/CMIP/NCC/NorCPM1/historical/r9i1p1f1']\n",
      "Final directories:  ['r10i1p1f1', 'r11i1p1f1', 'r12i1p1f1', 'r13i1p1f1', 'r14i1p1f1', 'r15i1p1f1', 'r16i1p1f1', 'r17i1p1f1', 'r18i1p1f1', 'r19i1p1f1', 'r1i1p1f1', 'r20i1p1f1', 'r21i1p1f1', 'r22i1p1f1', 'r23i1p1f1', 'r24i1p1f1', 'r25i1p1f1', 'r26i1p1f1', 'r27i1p1f1', 'r28i1p1f1', 'r29i1p1f1', 'r2i1p1f1', 'r30i1p1f1', 'r3i1p1f1', 'r4i1p1f1', 'r5i1p1f1', 'r6i1p1f1', 'r7i1p1f1', 'r8i1p1f1', 'r9i1p1f1']\n",
      "Number of ensemble members:  30\n"
     ]
    }
   ],
   "source": [
    "# Test the total ensemble members function\n",
    "no_members = fnc.get_total_ensemble_members(dic.models[11], dic.base_JASMIN_dir, experiment=\"historical\")"
   ]
  },
  {
   "cell_type": "code",
   "execution_count": 7,
   "metadata": {},
   "outputs": [
    {
     "name": "stdout",
     "output_type": "stream",
     "text": [
      "12\n",
      "First directory:  ['/badc/cmip6/data/CMIP6/CMIP/NCC/NorCPM1/historical/r10i1p1f1/Amon', '/badc/cmip6/data/CMIP6/CMIP/NCC/NorCPM1/historical/r11i1p1f1/Amon', '/badc/cmip6/data/CMIP6/CMIP/NCC/NorCPM1/historical/r12i1p1f1/Amon', '/badc/cmip6/data/CMIP6/CMIP/NCC/NorCPM1/historical/r13i1p1f1/Amon', '/badc/cmip6/data/CMIP6/CMIP/NCC/NorCPM1/historical/r14i1p1f1/Amon', '/badc/cmip6/data/CMIP6/CMIP/NCC/NorCPM1/historical/r15i1p1f1/Amon', '/badc/cmip6/data/CMIP6/CMIP/NCC/NorCPM1/historical/r16i1p1f1/Amon', '/badc/cmip6/data/CMIP6/CMIP/NCC/NorCPM1/historical/r17i1p1f1/Amon', '/badc/cmip6/data/CMIP6/CMIP/NCC/NorCPM1/historical/r18i1p1f1/Amon', '/badc/cmip6/data/CMIP6/CMIP/NCC/NorCPM1/historical/r19i1p1f1/Amon', '/badc/cmip6/data/CMIP6/CMIP/NCC/NorCPM1/historical/r1i1p1f1/Amon', '/badc/cmip6/data/CMIP6/CMIP/NCC/NorCPM1/historical/r20i1p1f1/Amon', '/badc/cmip6/data/CMIP6/CMIP/NCC/NorCPM1/historical/r21i1p1f1/Amon', '/badc/cmip6/data/CMIP6/CMIP/NCC/NorCPM1/historical/r22i1p1f1/Amon', '/badc/cmip6/data/CMIP6/CMIP/NCC/NorCPM1/historical/r23i1p1f1/Amon', '/badc/cmip6/data/CMIP6/CMIP/NCC/NorCPM1/historical/r24i1p1f1/Amon', '/badc/cmip6/data/CMIP6/CMIP/NCC/NorCPM1/historical/r25i1p1f1/Amon', '/badc/cmip6/data/CMIP6/CMIP/NCC/NorCPM1/historical/r26i1p1f1/Amon', '/badc/cmip6/data/CMIP6/CMIP/NCC/NorCPM1/historical/r27i1p1f1/Amon', '/badc/cmip6/data/CMIP6/CMIP/NCC/NorCPM1/historical/r28i1p1f1/Amon', '/badc/cmip6/data/CMIP6/CMIP/NCC/NorCPM1/historical/r29i1p1f1/Amon', '/badc/cmip6/data/CMIP6/CMIP/NCC/NorCPM1/historical/r2i1p1f1/Amon', '/badc/cmip6/data/CMIP6/CMIP/NCC/NorCPM1/historical/r30i1p1f1/Amon', '/badc/cmip6/data/CMIP6/CMIP/NCC/NorCPM1/historical/r3i1p1f1/Amon', '/badc/cmip6/data/CMIP6/CMIP/NCC/NorCPM1/historical/r4i1p1f1/Amon', '/badc/cmip6/data/CMIP6/CMIP/NCC/NorCPM1/historical/r5i1p1f1/Amon', '/badc/cmip6/data/CMIP6/CMIP/NCC/NorCPM1/historical/r6i1p1f1/Amon', '/badc/cmip6/data/CMIP6/CMIP/NCC/NorCPM1/historical/r7i1p1f1/Amon', '/badc/cmip6/data/CMIP6/CMIP/NCC/NorCPM1/historical/r8i1p1f1/Amon', '/badc/cmip6/data/CMIP6/CMIP/NCC/NorCPM1/historical/r9i1p1f1/Amon']\n",
      "no of directories:  30\n",
      "First table_id:  Amon\n",
      "Table_id:  Amon\n"
     ]
    }
   ],
   "source": [
    "# table id\n",
    "\n",
    "print(len(dic.models))\n",
    "table_id  = fnc.get_table_id(dic.models[11], dic.base_JASMIN_dir, dic.experiment, dic.table_id)"
   ]
  },
  {
   "cell_type": "code",
   "execution_count": 8,
   "metadata": {},
   "outputs": [
    {
     "name": "stdout",
     "output_type": "stream",
     "text": [
      "Directories:  ['/badc/cmip6/data/CMIP6/CMIP/NCC/NorCPM1/historical/r1i1p1f1/Amon/psl']\n",
      "Number of members:  1\n",
      "Members list:  ['r1i1p1f1']\n",
      "First variable:  psl\n",
      "Not all runs are available for the variable\n",
      "Number of runs available for the runs directory:  30\n",
      "Number of runs available for the variable:  1\n",
      "Variable:  psl\n"
     ]
    }
   ],
   "source": [
    "# test the varaible functions\n",
    "index = len(dic.models) - 1\n",
    "\n",
    "variable, no_members, members_list = fnc.get_variable(dic.models[11], dic.base_JASMIN_dir, dic.experiment, dic.table_id, dic.test_variable)"
   ]
  },
  {
   "cell_type": "code",
   "execution_count": 9,
   "metadata": {},
   "outputs": [
    {
     "name": "stdout",
     "output_type": "stream",
     "text": [
      "Institution:  BCC\n",
      "Directory:  ['/badc/cmip6/data/CMIP6/CMIP/BCC/BCC-CSM2-MR/historical/r1i1p1f1', '/badc/cmip6/data/CMIP6/CMIP/BCC/BCC-CSM2-MR/historical/r2i1p1f1', '/badc/cmip6/data/CMIP6/CMIP/BCC/BCC-CSM2-MR/historical/r3i1p1f1']\n",
      "Final directories:  ['r1i1p1f1', 'r2i1p1f1', 'r3i1p1f1']\n",
      "Number of runs:  3\n",
      "Directories:  ['/badc/cmip6/data/CMIP6/CMIP/BCC/BCC-CSM2-MR/historical/r1i1p1f1', '/badc/cmip6/data/CMIP6/CMIP/BCC/BCC-CSM2-MR/historical/r2i1p1f1', '/badc/cmip6/data/CMIP6/CMIP/BCC/BCC-CSM2-MR/historical/r3i1p1f1']\n",
      "Final directories:  ['r1i1p1f1', 'r2i1p1f1', 'r3i1p1f1']\n",
      "Number of initializations:  1\n",
      "Directories:  ['/badc/cmip6/data/CMIP6/CMIP/BCC/BCC-CSM2-MR/historical/r1i1p1f1', '/badc/cmip6/data/CMIP6/CMIP/BCC/BCC-CSM2-MR/historical/r2i1p1f1', '/badc/cmip6/data/CMIP6/CMIP/BCC/BCC-CSM2-MR/historical/r3i1p1f1']\n",
      "Final directories:  ['r1i1p1f1', 'r2i1p1f1', 'r3i1p1f1']\n",
      "Number of physics forcings:  1\n",
      "Directories:  ['/badc/cmip6/data/CMIP6/CMIP/BCC/BCC-CSM2-MR/historical/r1i1p1f1', '/badc/cmip6/data/CMIP6/CMIP/BCC/BCC-CSM2-MR/historical/r2i1p1f1', '/badc/cmip6/data/CMIP6/CMIP/BCC/BCC-CSM2-MR/historical/r3i1p1f1']\n",
      "Final directories:  ['r1i1p1f1', 'r2i1p1f1', 'r3i1p1f1']\n",
      "Number of forcing scenarios:  1\n",
      "Directories:  ['/badc/cmip6/data/CMIP6/CMIP/BCC/BCC-CSM2-MR/historical/r1i1p1f1', '/badc/cmip6/data/CMIP6/CMIP/BCC/BCC-CSM2-MR/historical/r2i1p1f1', '/badc/cmip6/data/CMIP6/CMIP/BCC/BCC-CSM2-MR/historical/r3i1p1f1']\n",
      "Final directories:  ['r1i1p1f1', 'r2i1p1f1', 'r3i1p1f1']\n",
      "Number of ensemble members:  3\n",
      "Directories:  ['/badc/cmip6/data/CMIP6/CMIP/BCC/BCC-CSM2-MR/historical/r1i1p1f1/Amon/psl', '/badc/cmip6/data/CMIP6/CMIP/BCC/BCC-CSM2-MR/historical/r2i1p1f1/Amon/psl', '/badc/cmip6/data/CMIP6/CMIP/BCC/BCC-CSM2-MR/historical/r3i1p1f1/Amon/psl']\n",
      "Number of members:  3\n",
      "Members list:  ['r1i1p1f1', 'r2i1p1f1', 'r3i1p1f1']\n",
      "First variable:  psl\n",
      "Variable:  psl\n",
      "Directories:  ['/badc/cmip6/data/CMIP6/CMIP/BCC/BCC-CSM2-MR/historical/r1i1p1f1/Amon/psl', '/badc/cmip6/data/CMIP6/CMIP/BCC/BCC-CSM2-MR/historical/r2i1p1f1/Amon/psl', '/badc/cmip6/data/CMIP6/CMIP/BCC/BCC-CSM2-MR/historical/r3i1p1f1/Amon/psl']\n",
      "Number of members:  3\n",
      "Members list:  ['r1i1p1f1', 'r2i1p1f1', 'r3i1p1f1']\n",
      "First variable:  psl\n",
      "Variable:  psl\n",
      "Institution:  BCC\n",
      "Directory:  ['/badc/cmip6/data/CMIP6/CMIP/BCC/BCC-CSM2-MR/historical/r1i1p1f1', '/badc/cmip6/data/CMIP6/CMIP/BCC/BCC-CSM2-MR/historical/r2i1p1f1', '/badc/cmip6/data/CMIP6/CMIP/BCC/BCC-CSM2-MR/historical/r3i1p1f1']\n",
      "Final directories:  ['r1i1p1f1', 'r2i1p1f1', 'r3i1p1f1']\n",
      "Number of runs:  3\n",
      "Directories:  ['/badc/cmip6/data/CMIP6/CMIP/BCC/BCC-CSM2-MR/historical/r1i1p1f1', '/badc/cmip6/data/CMIP6/CMIP/BCC/BCC-CSM2-MR/historical/r2i1p1f1', '/badc/cmip6/data/CMIP6/CMIP/BCC/BCC-CSM2-MR/historical/r3i1p1f1']\n",
      "Final directories:  ['r1i1p1f1', 'r2i1p1f1', 'r3i1p1f1']\n",
      "Number of initializations:  1\n",
      "Directories:  ['/badc/cmip6/data/CMIP6/CMIP/BCC/BCC-CSM2-MR/historical/r1i1p1f1', '/badc/cmip6/data/CMIP6/CMIP/BCC/BCC-CSM2-MR/historical/r2i1p1f1', '/badc/cmip6/data/CMIP6/CMIP/BCC/BCC-CSM2-MR/historical/r3i1p1f1']\n",
      "Final directories:  ['r1i1p1f1', 'r2i1p1f1', 'r3i1p1f1']\n",
      "Number of physics forcings:  1\n",
      "Directories:  ['/badc/cmip6/data/CMIP6/CMIP/BCC/BCC-CSM2-MR/historical/r1i1p1f1', '/badc/cmip6/data/CMIP6/CMIP/BCC/BCC-CSM2-MR/historical/r2i1p1f1', '/badc/cmip6/data/CMIP6/CMIP/BCC/BCC-CSM2-MR/historical/r3i1p1f1']\n",
      "Final directories:  ['r1i1p1f1', 'r2i1p1f1', 'r3i1p1f1']\n",
      "Number of forcing scenarios:  1\n",
      "Directories:  ['/badc/cmip6/data/CMIP6/CMIP/BCC/BCC-CSM2-MR/historical/r1i1p1f1', '/badc/cmip6/data/CMIP6/CMIP/BCC/BCC-CSM2-MR/historical/r2i1p1f1', '/badc/cmip6/data/CMIP6/CMIP/BCC/BCC-CSM2-MR/historical/r3i1p1f1']\n",
      "Final directories:  ['r1i1p1f1', 'r2i1p1f1', 'r3i1p1f1']\n",
      "Number of ensemble members:  3\n",
      "Directories:  ['/badc/cmip6/data/CMIP6/CMIP/BCC/BCC-CSM2-MR/historical/r1i1p1f1/Amon/tas', '/badc/cmip6/data/CMIP6/CMIP/BCC/BCC-CSM2-MR/historical/r2i1p1f1/Amon/tas', '/badc/cmip6/data/CMIP6/CMIP/BCC/BCC-CSM2-MR/historical/r3i1p1f1/Amon/tas']\n",
      "Number of members:  3\n",
      "Members list:  ['r1i1p1f1', 'r2i1p1f1', 'r3i1p1f1']\n",
      "First variable:  tas\n",
      "Variable:  tas\n",
      "Directories:  ['/badc/cmip6/data/CMIP6/CMIP/BCC/BCC-CSM2-MR/historical/r1i1p1f1/Amon/tas', '/badc/cmip6/data/CMIP6/CMIP/BCC/BCC-CSM2-MR/historical/r2i1p1f1/Amon/tas', '/badc/cmip6/data/CMIP6/CMIP/BCC/BCC-CSM2-MR/historical/r3i1p1f1/Amon/tas']\n",
      "Number of members:  3\n",
      "Members list:  ['r1i1p1f1', 'r2i1p1f1', 'r3i1p1f1']\n",
      "First variable:  tas\n",
      "Variable:  tas\n",
      "Institution:  BCC\n",
      "Directory:  ['/badc/cmip6/data/CMIP6/CMIP/BCC/BCC-CSM2-MR/historical/r1i1p1f1', '/badc/cmip6/data/CMIP6/CMIP/BCC/BCC-CSM2-MR/historical/r2i1p1f1', '/badc/cmip6/data/CMIP6/CMIP/BCC/BCC-CSM2-MR/historical/r3i1p1f1']\n",
      "Final directories:  ['r1i1p1f1', 'r2i1p1f1', 'r3i1p1f1']\n",
      "Number of runs:  3\n",
      "Directories:  ['/badc/cmip6/data/CMIP6/CMIP/BCC/BCC-CSM2-MR/historical/r1i1p1f1', '/badc/cmip6/data/CMIP6/CMIP/BCC/BCC-CSM2-MR/historical/r2i1p1f1', '/badc/cmip6/data/CMIP6/CMIP/BCC/BCC-CSM2-MR/historical/r3i1p1f1']\n",
      "Final directories:  ['r1i1p1f1', 'r2i1p1f1', 'r3i1p1f1']\n",
      "Number of initializations:  1\n",
      "Directories:  ['/badc/cmip6/data/CMIP6/CMIP/BCC/BCC-CSM2-MR/historical/r1i1p1f1', '/badc/cmip6/data/CMIP6/CMIP/BCC/BCC-CSM2-MR/historical/r2i1p1f1', '/badc/cmip6/data/CMIP6/CMIP/BCC/BCC-CSM2-MR/historical/r3i1p1f1']\n",
      "Final directories:  ['r1i1p1f1', 'r2i1p1f1', 'r3i1p1f1']\n",
      "Number of physics forcings:  1\n",
      "Directories:  ['/badc/cmip6/data/CMIP6/CMIP/BCC/BCC-CSM2-MR/historical/r1i1p1f1', '/badc/cmip6/data/CMIP6/CMIP/BCC/BCC-CSM2-MR/historical/r2i1p1f1', '/badc/cmip6/data/CMIP6/CMIP/BCC/BCC-CSM2-MR/historical/r3i1p1f1']\n",
      "Final directories:  ['r1i1p1f1', 'r2i1p1f1', 'r3i1p1f1']\n",
      "Number of forcing scenarios:  1\n",
      "Directories:  ['/badc/cmip6/data/CMIP6/CMIP/BCC/BCC-CSM2-MR/historical/r1i1p1f1', '/badc/cmip6/data/CMIP6/CMIP/BCC/BCC-CSM2-MR/historical/r2i1p1f1', '/badc/cmip6/data/CMIP6/CMIP/BCC/BCC-CSM2-MR/historical/r3i1p1f1']\n",
      "Final directories:  ['r1i1p1f1', 'r2i1p1f1', 'r3i1p1f1']\n",
      "Number of ensemble members:  3\n",
      "Directories:  []\n",
      "Number of members:  0\n",
      "Members list:  []\n"
     ]
    },
    {
     "name": "stderr",
     "output_type": "stream",
     "text": [
      "/home/users/benhutch/model-characteristics/functions.py:321: FutureWarning: The frame.append method is deprecated and will be removed from pandas in a future version. Use pandas.concat instead.\n",
      "  df = df.append({\"Model\": model, \"Variable\": variable, column: value}, ignore_index=True)\n",
      "/home/users/benhutch/model-characteristics/functions.py:321: FutureWarning: The frame.append method is deprecated and will be removed from pandas in a future version. Use pandas.concat instead.\n",
      "  df = df.append({\"Model\": model, \"Variable\": variable, column: value}, ignore_index=True)\n",
      "/home/users/benhutch/model-characteristics/functions.py:321: FutureWarning: The frame.append method is deprecated and will be removed from pandas in a future version. Use pandas.concat instead.\n",
      "  df = df.append({\"Model\": model, \"Variable\": variable, column: value}, ignore_index=True)\n",
      "/home/users/benhutch/model-characteristics/functions.py:321: FutureWarning: The frame.append method is deprecated and will be removed from pandas in a future version. Use pandas.concat instead.\n",
      "  df = df.append({\"Model\": model, \"Variable\": variable, column: value}, ignore_index=True)\n",
      "/home/users/benhutch/model-characteristics/functions.py:321: FutureWarning: The frame.append method is deprecated and will be removed from pandas in a future version. Use pandas.concat instead.\n",
      "  df = df.append({\"Model\": model, \"Variable\": variable, column: value}, ignore_index=True)\n",
      "/home/users/benhutch/model-characteristics/functions.py:321: FutureWarning: The frame.append method is deprecated and will be removed from pandas in a future version. Use pandas.concat instead.\n",
      "  df = df.append({\"Model\": model, \"Variable\": variable, column: value}, ignore_index=True)\n",
      "/home/users/benhutch/model-characteristics/functions.py:321: FutureWarning: The frame.append method is deprecated and will be removed from pandas in a future version. Use pandas.concat instead.\n",
      "  df = df.append({\"Model\": model, \"Variable\": variable, column: value}, ignore_index=True)\n",
      "/home/users/benhutch/model-characteristics/functions.py:321: FutureWarning: The frame.append method is deprecated and will be removed from pandas in a future version. Use pandas.concat instead.\n",
      "  df = df.append({\"Model\": model, \"Variable\": variable, column: value}, ignore_index=True)\n",
      "/home/users/benhutch/model-characteristics/functions.py:321: FutureWarning: The frame.append method is deprecated and will be removed from pandas in a future version. Use pandas.concat instead.\n",
      "  df = df.append({\"Model\": model, \"Variable\": variable, column: value}, ignore_index=True)\n",
      "/home/users/benhutch/model-characteristics/functions.py:321: FutureWarning: The frame.append method is deprecated and will be removed from pandas in a future version. Use pandas.concat instead.\n",
      "  df = df.append({\"Model\": model, \"Variable\": variable, column: value}, ignore_index=True)\n",
      "/home/users/benhutch/model-characteristics/functions.py:321: FutureWarning: The frame.append method is deprecated and will be removed from pandas in a future version. Use pandas.concat instead.\n",
      "  df = df.append({\"Model\": model, \"Variable\": variable, column: value}, ignore_index=True)\n",
      "/home/users/benhutch/model-characteristics/functions.py:321: FutureWarning: The frame.append method is deprecated and will be removed from pandas in a future version. Use pandas.concat instead.\n",
      "  df = df.append({\"Model\": model, \"Variable\": variable, column: value}, ignore_index=True)\n",
      "/home/users/benhutch/model-characteristics/functions.py:321: FutureWarning: The frame.append method is deprecated and will be removed from pandas in a future version. Use pandas.concat instead.\n",
      "  df = df.append({\"Model\": model, \"Variable\": variable, column: value}, ignore_index=True)\n",
      "/home/users/benhutch/model-characteristics/functions.py:321: FutureWarning: The frame.append method is deprecated and will be removed from pandas in a future version. Use pandas.concat instead.\n",
      "  df = df.append({\"Model\": model, \"Variable\": variable, column: value}, ignore_index=True)\n",
      "/home/users/benhutch/model-characteristics/functions.py:321: FutureWarning: The frame.append method is deprecated and will be removed from pandas in a future version. Use pandas.concat instead.\n",
      "  df = df.append({\"Model\": model, \"Variable\": variable, column: value}, ignore_index=True)\n",
      "/home/users/benhutch/model-characteristics/functions.py:321: FutureWarning: The frame.append method is deprecated and will be removed from pandas in a future version. Use pandas.concat instead.\n",
      "  df = df.append({\"Model\": model, \"Variable\": variable, column: value}, ignore_index=True)\n",
      "/home/users/benhutch/model-characteristics/functions.py:321: FutureWarning: The frame.append method is deprecated and will be removed from pandas in a future version. Use pandas.concat instead.\n",
      "  df = df.append({\"Model\": model, \"Variable\": variable, column: value}, ignore_index=True)\n",
      "/home/users/benhutch/model-characteristics/functions.py:321: FutureWarning: The frame.append method is deprecated and will be removed from pandas in a future version. Use pandas.concat instead.\n",
      "  df = df.append({\"Model\": model, \"Variable\": variable, column: value}, ignore_index=True)\n",
      "/home/users/benhutch/model-characteristics/functions.py:321: FutureWarning: The frame.append method is deprecated and will be removed from pandas in a future version. Use pandas.concat instead.\n",
      "  df = df.append({\"Model\": model, \"Variable\": variable, column: value}, ignore_index=True)\n",
      "/home/users/benhutch/model-characteristics/functions.py:321: FutureWarning: The frame.append method is deprecated and will be removed from pandas in a future version. Use pandas.concat instead.\n",
      "  df = df.append({\"Model\": model, \"Variable\": variable, column: value}, ignore_index=True)\n",
      "/home/users/benhutch/model-characteristics/functions.py:321: FutureWarning: The frame.append method is deprecated and will be removed from pandas in a future version. Use pandas.concat instead.\n",
      "  df = df.append({\"Model\": model, \"Variable\": variable, column: value}, ignore_index=True)\n",
      "/home/users/benhutch/model-characteristics/functions.py:321: FutureWarning: The frame.append method is deprecated and will be removed from pandas in a future version. Use pandas.concat instead.\n",
      "  df = df.append({\"Model\": model, \"Variable\": variable, column: value}, ignore_index=True)\n",
      "/home/users/benhutch/model-characteristics/functions.py:321: FutureWarning: The frame.append method is deprecated and will be removed from pandas in a future version. Use pandas.concat instead.\n",
      "  df = df.append({\"Model\": model, \"Variable\": variable, column: value}, ignore_index=True)\n",
      "/home/users/benhutch/model-characteristics/functions.py:321: FutureWarning: The frame.append method is deprecated and will be removed from pandas in a future version. Use pandas.concat instead.\n",
      "  df = df.append({\"Model\": model, \"Variable\": variable, column: value}, ignore_index=True)\n",
      "/home/users/benhutch/model-characteristics/functions.py:321: FutureWarning: The frame.append method is deprecated and will be removed from pandas in a future version. Use pandas.concat instead.\n",
      "  df = df.append({\"Model\": model, \"Variable\": variable, column: value}, ignore_index=True)\n",
      "/home/users/benhutch/model-characteristics/functions.py:321: FutureWarning: The frame.append method is deprecated and will be removed from pandas in a future version. Use pandas.concat instead.\n",
      "  df = df.append({\"Model\": model, \"Variable\": variable, column: value}, ignore_index=True)\n",
      "/home/users/benhutch/model-characteristics/functions.py:321: FutureWarning: The frame.append method is deprecated and will be removed from pandas in a future version. Use pandas.concat instead.\n",
      "  df = df.append({\"Model\": model, \"Variable\": variable, column: value}, ignore_index=True)\n",
      "/home/users/benhutch/model-characteristics/functions.py:321: FutureWarning: The frame.append method is deprecated and will be removed from pandas in a future version. Use pandas.concat instead.\n",
      "  df = df.append({\"Model\": model, \"Variable\": variable, column: value}, ignore_index=True)\n"
     ]
    },
    {
     "ename": "IndexError",
     "evalue": "list index out of range",
     "output_type": "error",
     "traceback": [
      "\u001b[0;31m---------------------------------------------------------------------------\u001b[0m",
      "\u001b[0;31mIndexError\u001b[0m                                Traceback (most recent call last)",
      "Input \u001b[0;32mIn [9]\u001b[0m, in \u001b[0;36m<cell line: 3>\u001b[0;34m()\u001b[0m\n\u001b[1;32m      1\u001b[0m \u001b[38;5;66;03m# fill in the dataframes with the model characteristics\u001b[39;00m\n\u001b[1;32m      2\u001b[0m \u001b[38;5;66;03m# using the fill_dataframe function from functions.py\u001b[39;00m\n\u001b[0;32m----> 3\u001b[0m df \u001b[38;5;241m=\u001b[39m \u001b[43mfnc\u001b[49m\u001b[38;5;241;43m.\u001b[39;49m\u001b[43mfill_dataframe\u001b[49m\u001b[43m(\u001b[49m\u001b[43mdic\u001b[49m\u001b[38;5;241;43m.\u001b[39;49m\u001b[43mhistorical_models\u001b[49m\u001b[43m,\u001b[49m\u001b[43m \u001b[49m\u001b[43mdic\u001b[49m\u001b[38;5;241;43m.\u001b[39;49m\u001b[43mbase_JASMIN_dir\u001b[49m\u001b[43m,\u001b[49m\u001b[43m \u001b[49m\u001b[43mdic\u001b[49m\u001b[38;5;241;43m.\u001b[39;49m\u001b[43mvariables\u001b[49m\u001b[43m,\u001b[49m\u001b[43m \u001b[49m\u001b[43mdic\u001b[49m\u001b[38;5;241;43m.\u001b[39;49m\u001b[43mcolumns\u001b[49m\u001b[43m,\u001b[49m\u001b[43m \u001b[49m\u001b[43mdic\u001b[49m\u001b[38;5;241;43m.\u001b[39;49m\u001b[43mexperiment\u001b[49m\u001b[43m,\u001b[49m\u001b[43m \u001b[49m\u001b[43mdic\u001b[49m\u001b[38;5;241;43m.\u001b[39;49m\u001b[43mtable_id\u001b[49m\u001b[43m)\u001b[49m\n\u001b[1;32m      4\u001b[0m df\n",
      "File \u001b[0;32m~/model-characteristics/functions.py:318\u001b[0m, in \u001b[0;36mfill_dataframe\u001b[0;34m(models, base_path, variables, columns, experiment, table_id)\u001b[0m\n\u001b[1;32m    315\u001b[0m column_function \u001b[38;5;241m=\u001b[39m column_functions[column]\n\u001b[1;32m    317\u001b[0m \u001b[38;5;66;03m# call the function to get the value for the current model, variable, and column\u001b[39;00m\n\u001b[0;32m--> 318\u001b[0m value \u001b[38;5;241m=\u001b[39m \u001b[43mcolumn_function\u001b[49m\u001b[43m(\u001b[49m\u001b[43mmodel\u001b[49m\u001b[43m,\u001b[49m\u001b[43m \u001b[49m\u001b[43mbase_path\u001b[49m\u001b[43m,\u001b[49m\u001b[43m \u001b[49m\u001b[43mvariable\u001b[49m\u001b[43m)\u001b[49m\n\u001b[1;32m    320\u001b[0m \u001b[38;5;66;03m# add a row to the dataframe with the model, variable, and column value\u001b[39;00m\n\u001b[1;32m    321\u001b[0m df \u001b[38;5;241m=\u001b[39m df\u001b[38;5;241m.\u001b[39mappend({\u001b[38;5;124m\"\u001b[39m\u001b[38;5;124mModel\u001b[39m\u001b[38;5;124m\"\u001b[39m: model, \u001b[38;5;124m\"\u001b[39m\u001b[38;5;124mVariable\u001b[39m\u001b[38;5;124m\"\u001b[39m: variable, column: value}, ignore_index\u001b[38;5;241m=\u001b[39m\u001b[38;5;28;01mTrue\u001b[39;00m)\n",
      "File \u001b[0;32m~/model-characteristics/functions.py:306\u001b[0m, in \u001b[0;36mfill_dataframe.<locals>.<lambda>\u001b[0;34m(model, base_path, variable)\u001b[0m\n\u001b[1;32m    294\u001b[0m df \u001b[38;5;241m=\u001b[39m pd\u001b[38;5;241m.\u001b[39mDataFrame(columns\u001b[38;5;241m=\u001b[39mcolumns)\n\u001b[1;32m    296\u001b[0m \u001b[38;5;66;03m# create a dictionary to map column names to functions\u001b[39;00m\n\u001b[1;32m    297\u001b[0m column_functions \u001b[38;5;241m=\u001b[39m {\n\u001b[1;32m    298\u001b[0m     \u001b[38;5;124m\"\u001b[39m\u001b[38;5;124minstitution\u001b[39m\u001b[38;5;124m\"\u001b[39m: \u001b[38;5;28;01mlambda\u001b[39;00m model, base_path, variable: get_institution(model, base_path, variable),\n\u001b[1;32m    299\u001b[0m     \u001b[38;5;124m\"\u001b[39m\u001b[38;5;124msource\u001b[39m\u001b[38;5;124m\"\u001b[39m: \u001b[38;5;28;01mlambda\u001b[39;00m model, base_path, variable: model,\n\u001b[1;32m    300\u001b[0m     \u001b[38;5;124m\"\u001b[39m\u001b[38;5;124mexperiment\u001b[39m\u001b[38;5;124m\"\u001b[39m: \u001b[38;5;28;01mlambda\u001b[39;00m model, base_path, variable: experiment,\n\u001b[1;32m    301\u001b[0m     \u001b[38;5;124m\"\u001b[39m\u001b[38;5;124mruns\u001b[39m\u001b[38;5;124m\"\u001b[39m: \u001b[38;5;28;01mlambda\u001b[39;00m model, base_path, variable: get_runs(model, base_path, experiment\u001b[38;5;241m=\u001b[39mexperiment),\n\u001b[1;32m    302\u001b[0m     \u001b[38;5;124m\"\u001b[39m\u001b[38;5;124minits\u001b[39m\u001b[38;5;124m\"\u001b[39m: \u001b[38;5;28;01mlambda\u001b[39;00m model, base_path, variable: get_inits(model, base_path, experiment\u001b[38;5;241m=\u001b[39mexperiment),\n\u001b[1;32m    303\u001b[0m     \u001b[38;5;124m\"\u001b[39m\u001b[38;5;124mphysics\u001b[39m\u001b[38;5;124m\"\u001b[39m: \u001b[38;5;28;01mlambda\u001b[39;00m model, base_path, variable: get_physics(model, base_path, experiment\u001b[38;5;241m=\u001b[39mexperiment),\n\u001b[1;32m    304\u001b[0m     \u001b[38;5;124m\"\u001b[39m\u001b[38;5;124mforcing\u001b[39m\u001b[38;5;124m\"\u001b[39m: \u001b[38;5;28;01mlambda\u001b[39;00m model, base_path, variable: get_forcing(model, base_path, experiment\u001b[38;5;241m=\u001b[39mexperiment),\n\u001b[1;32m    305\u001b[0m     \u001b[38;5;124m\"\u001b[39m\u001b[38;5;124mtotal ensemble members\u001b[39m\u001b[38;5;124m\"\u001b[39m: \u001b[38;5;28;01mlambda\u001b[39;00m model, base_path, variable: get_total_ensemble_members(model, base_path, experiment\u001b[38;5;241m=\u001b[39mexperiment),\n\u001b[0;32m--> 306\u001b[0m     \u001b[38;5;124m\"\u001b[39m\u001b[38;5;124mno_members\u001b[39m\u001b[38;5;124m\"\u001b[39m: \u001b[38;5;28;01mlambda\u001b[39;00m model, base_path, variable: \u001b[43mget_variable\u001b[49m\u001b[43m(\u001b[49m\u001b[43mmodel\u001b[49m\u001b[43m,\u001b[49m\u001b[43m \u001b[49m\u001b[43mbase_path\u001b[49m\u001b[43m,\u001b[49m\u001b[43m \u001b[49m\u001b[43mexperiment\u001b[49m\u001b[38;5;241;43m=\u001b[39;49m\u001b[43mexperiment\u001b[49m\u001b[43m,\u001b[49m\u001b[43m \u001b[49m\u001b[43mtable_id\u001b[49m\u001b[38;5;241;43m=\u001b[39;49m\u001b[43mtable_id\u001b[49m\u001b[43m,\u001b[49m\u001b[43m \u001b[49m\u001b[43mvariable\u001b[49m\u001b[38;5;241;43m=\u001b[39;49m\u001b[43mvariable\u001b[49m\u001b[43m)\u001b[49m[\u001b[38;5;241m1\u001b[39m],\n\u001b[1;32m    307\u001b[0m     \u001b[38;5;124m\"\u001b[39m\u001b[38;5;124mmembers_list\u001b[39m\u001b[38;5;124m\"\u001b[39m: \u001b[38;5;28;01mlambda\u001b[39;00m model, base_path, variable: get_variable(model, base_path, experiment\u001b[38;5;241m=\u001b[39mexperiment, table_id\u001b[38;5;241m=\u001b[39mtable_id, variable\u001b[38;5;241m=\u001b[39mvariable)[\u001b[38;5;241m2\u001b[39m]\n\u001b[1;32m    308\u001b[0m }\n\u001b[1;32m    310\u001b[0m \u001b[38;5;66;03m# iterate over the models, variables, and columns\u001b[39;00m\n\u001b[1;32m    311\u001b[0m \u001b[38;5;28;01mfor\u001b[39;00m model \u001b[38;5;129;01min\u001b[39;00m models:\n",
      "File \u001b[0;32m~/model-characteristics/functions.py:270\u001b[0m, in \u001b[0;36mget_variable\u001b[0;34m(model, base_path, experiment, table_id, variable)\u001b[0m\n\u001b[1;32m    267\u001b[0m \u001b[38;5;28mprint\u001b[39m(\u001b[38;5;124m\"\u001b[39m\u001b[38;5;124mMembers list: \u001b[39m\u001b[38;5;124m\"\u001b[39m, members_list)\n\u001b[1;32m    269\u001b[0m \u001b[38;5;66;03m# Get the variable name from the first directory\u001b[39;00m\n\u001b[0;32m--> 270\u001b[0m first_variable \u001b[38;5;241m=\u001b[39m \u001b[43mdirs\u001b[49m\u001b[43m[\u001b[49m\u001b[38;5;241;43m0\u001b[39;49m\u001b[43m]\u001b[49m\u001b[38;5;241m.\u001b[39msplit(\u001b[38;5;124m\"\u001b[39m\u001b[38;5;124m/\u001b[39m\u001b[38;5;124m\"\u001b[39m)[\u001b[38;5;241m-\u001b[39m\u001b[38;5;241m1\u001b[39m]\n\u001b[1;32m    272\u001b[0m \u001b[38;5;66;03m# print the first variable\u001b[39;00m\n\u001b[1;32m    273\u001b[0m \u001b[38;5;28mprint\u001b[39m(\u001b[38;5;124m\"\u001b[39m\u001b[38;5;124mFirst variable: \u001b[39m\u001b[38;5;124m\"\u001b[39m, first_variable)\n",
      "\u001b[0;31mIndexError\u001b[0m: list index out of range"
     ]
    }
   ],
   "source": [
    "# fill in the dataframes with the model characteristics\n",
    "# using the fill_dataframe function from functions.py\n",
    "df = fnc.fill_dataframe(dic.historical_models, dic.base_JASMIN_dir, dic.variables, dic.columns, dic.experiment, dic.table_id)\n",
    "df"
   ]
  }
 ],
 "metadata": {
  "kernelspec": {
   "display_name": "bens-python-environment",
   "language": "python",
   "name": "bens-python-environment"
  },
  "language_info": {
   "codemirror_mode": {
    "name": "ipython",
    "version": 3
   },
   "file_extension": ".py",
   "mimetype": "text/x-python",
   "name": "python",
   "nbconvert_exporter": "python",
   "pygments_lexer": "ipython3",
   "version": "3.10.5"
  }
 },
 "nbformat": 4,
 "nbformat_minor": 4
}
